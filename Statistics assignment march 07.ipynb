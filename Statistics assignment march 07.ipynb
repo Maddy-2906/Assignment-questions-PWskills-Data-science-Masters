{
 "cells": [
  {
   "cell_type": "markdown",
   "id": "6cbe9b40-06f4-442a-bb98-74f043579f4e",
   "metadata": {
    "tags": []
   },
   "source": [
    "#### Q1. What are the three measures of central tendency?\n",
    "\n",
    "#### Ans:-The three measures of central tendency are:\n",
    "\n",
    "#### Mean: The arithmetic average of a set of data. It is calculated by summing up all the values in the dataset and dividing by the total number of values.\n",
    "\n",
    "#### Median: The middle value of a set of data when the values are arranged in order of magnitude. If there are an even number of values, the median is the average of the two middle values.\n",
    "\n",
    "#### Mode: The value that occurs most frequently in a set of data. A set of data can have more than one mode if there are multiple values that occur with the same frequency."
   ]
  },
  {
   "cell_type": "markdown",
   "id": "24858211-1e71-4fba-97ae-3284c52153ee",
   "metadata": {},
   "source": [
    "#### Q2. What is the difference between the mean, median, and mode? How are they used to measure the central tendency of a dataset?\n",
    "\n",
    "#### Ans:- The mean, median, and mode are all measures of central tendency used to describe the typical or central value of a dataset.\n",
    "\n",
    "#### Mean: The mean is the sum of all the values in a dataset divided by the total number of values. It is sensitive to outliers and can be affected by extreme values in the dataset.\n",
    "\n",
    "#### Median: The median is the middle value in a dataset when it is arranged in ascending or descending order. It is less sensitive to outliers and extreme values than the mean.\n",
    "\n",
    "#### Mode: The mode is the value that occurs most frequently in a dataset. It is used when the dataset has a prominent peak or clustering of values.\n",
    "\n",
    "The choice of measure of central tendency depends on the type and distribution of the dataset. For normally distributed datasets, the mean is often used as the central measure. For skewed datasets, the median may be a better choice. The mode is used in datasets with a prominent peak or cluster of values."
   ]
  },
  {
   "cell_type": "markdown",
   "id": "d07b2be2-db2f-4e3c-86ba-d5b69b322185",
   "metadata": {},
   "source": [
    "#### Q3. Measure the three measures of central tendency for the given height data:\n",
    "[178,177,176,177,178.2,178,175,179,180,175,178.9,176.2,177,172.5,178,176.5]\n",
    "\n",
    "\n",
    "#### Ans:- Mean = (sum of all values) / (number of values)\n",
    "#### Median = middle value when the data is arranged in ascending or descending order\n",
    "#### Mode = value that appears most frequently in the data\n",
    "\n",
    "First, let's arrange the given data in ascending order:\n",
    "[172.5, 175, 175, 176, 176.2, 176.5, 177, 177, 178, 178, 178, 178.2, 178.9, 179, 180]\n",
    "\n",
    "Mean = (172.5 + 175 + 175 + 176 + 176.2 + 176.5 + 177 + 177 + 178 + 178 + 178 + 178.2 + 178.9 + 179 + 180) / 15\n",
    "\n",
    "Mean = 176.8\n",
    "\n",
    "Median = 177\n",
    "\n",
    "Mode = 178\n",
    "\n",
    "Therefore, the mean height is 176.8, the median height is 177, and the mode height is 178.\n"
   ]
  },
  {
   "cell_type": "markdown",
   "id": "8192499a-95b3-424f-8ac3-ab06f9c028d3",
   "metadata": {},
   "source": [
    "#### Q4. Find the standard deviation for the given data:\n",
    "[178,177,176,177,178.2,178,175,179,180,175,178.9,176.2,177,172.5,178,176.5]\n",
    "\n",
    "#### Ans:- standard deviation = sqrt(1/N * sum((xi - mean)^2))\n",
    "\n",
    "mean of the data:\n",
    "\n",
    "#### mean = (178+177+176+177+178.2+178+175+179+180+175+178.9+176.2+177+172.5+178+176.5)/16 = 176.8\n",
    "\n",
    "Next, we calculate the sum of the squared differences between each data point and the mean:\n",
    "\n",
    "#### sum((xi - mean)^2) = (178-176.8)^2 + (177-176.8)^2 + (176-176.8)^2 + (177-176.8)^2 + (178.2-176.8)^2 + (178-176.8)^2 + (175-176.8)^2 + (179-176.8)^2 + (180-176.8)^2 + (175-176.8)^2 + (178.9-176.8)^2 + (176.2-176.8)^2 + (177-176.8)^2 + (172.5-176.8)^2 + (178-176.8)^2 + (176.5-176.8)^2 = 449.04\n",
    "\n",
    "Then we divide the sum of squared differences by the number of data points and take the square root:\n",
    "\n",
    "#### standard deviation = sqrt(1/16 * 449.04) = 1.78\n",
    "\n",
    "Therefore, the standard deviation of the given data is approximately 1.78."
   ]
  },
  {
   "cell_type": "markdown",
   "id": "423d1da1-7058-40d5-a935-9af5f892ba8b",
   "metadata": {},
   "source": [
    "#### Q5. How are measures of dispersion such as range, variance, and standard deviation used to describe the spread of a dataset? Provide an example.\n",
    "\n",
    "#### Ans:-Measures of dispersion such as range, variance, and standard deviation are used to describe how spread out the data is in a dataset.\n",
    "\n",
    "#### Range: It is the difference between the largest and smallest values in a dataset. It gives a rough idea of how spread out the data is, but it can be affected by outliers. For example, the range of a dataset of heights could be 170 cm to 190 cm.\n",
    "\n",
    "#### Variance: It is the average of the squared differences from the mean of a dataset. It gives an idea of how much the data varies from the mean, with larger values indicating greater variability. For example, the variance of a dataset of test scores could be 25, meaning that the data varies from the mean by an average of 25 points.\n",
    "\n",
    "#### Standard deviation: It is the square root of the variance and measures the average distance of each data point from the mean. It gives a more precise idea of how much the data varies from the mean than variance, with smaller values indicating less variability. For example, the standard deviation of a dataset of salaries could be $10,000, meaning that the data varies from the mean by an average of $10,000.\n",
    "\n",
    " a dataset of monthly expenses of a person for the last six months as follows:\n",
    "\n",
    "[2000, 1500, 1800, 2200, 1900, 2100]\n",
    "\n",
    "The range would be the difference between the largest and smallest value in the dataset, which is 700 (2200 - 1500).\n",
    "\n",
    "The variance would be the average of the squared differences from the mean of the dataset.\n",
    "\n",
    "#### mean = (2000 + 1500 + 1800 + 2200 + 1900 + 2100) / 6 = 1900\n",
    "#### variance = ((2000 - 1900)^2 + (1500 - 1900)^2 + (1800 - 1900)^2 + (2200 - 1900)^2 + (1900 - 1900)^2 + (2100 - 1900)^2) / 6 = 121666.67/6 = 20277.78\n",
    "\n",
    "The standard deviation would be the square root of the variance, which is 142.42. This tells us that the expenses vary from the mean by an average of $142.42."
   ]
  },
  {
   "cell_type": "markdown",
   "id": "384b37f7-1d17-48d4-b1cf-ba2154592e29",
   "metadata": {},
   "source": [
    "#### Q6. What is a Venn diagram?\n",
    "\n",
    "#### Ans:- A Venn diagram is a graphical representation of set theory that uses circles or other geometric shapes to depict sets, their relationships, and their logical operations such as union, intersection, and complement. In a Venn diagram, each set is represented by a circle or oval, and the circles are drawn so that they overlap, indicating the extent to which the sets have elements in common. The area of the overlap represents the intersection of the sets, while the area outside the circles represents the complement of the sets. Venn diagrams are often used in mathematics, statistics, logic, and other fields to illustrate concepts related to sets and their properties."
   ]
  },
  {
   "cell_type": "markdown",
   "id": "98bfdd1f-f344-4937-ba9f-261dd628ba88",
   "metadata": {},
   "source": [
    "#### Q7. For the two given sets A = (2,3,4,5,6,7) & B = (0,2,6,8,10). Find:\n",
    "#### (i) A ⋂ B\n",
    "#### (ii) A ⋃ B\n",
    "\n",
    "#### Ans:-(i) The intersection of two sets A and B, denoted as A ⋂ B, is the set of all elements that are in both sets A and B.\n",
    "\n",
    "To find A ⋂ B, we need to find the common elements in A and B. The common elements in A and B are 2 and 6. Therefore, A ⋂ B = {2, 6}.\n",
    "\n",
    "#### (ii) The union of two sets A and B, denoted as A ⋃ B, is the set of all elements that are in either set A or set B, or both.\n",
    "\n",
    "To find A ⋃ B, we need to combine all the elements in both sets A and B, but without duplicates. Therefore, A ⋃ B = {0, 2, 3, 4, 5, 6, 7, 8, 10}."
   ]
  },
  {
   "cell_type": "markdown",
   "id": "c4ebc02d-1ab0-4c8a-9528-c8d88b231a91",
   "metadata": {},
   "source": [
    "#### Q8. What do you understand about skewness in data?\n",
    "\n",
    "#### Ans:- Skewness is a measure of the asymmetry of a probability distribution. It tells us how lopsided the distribution is by indicating the degree to which one tail is longer or fatter than the other.\n",
    "\n",
    "Here are some important notes about skewness in data:\n",
    "\n",
    "#### A distribution is said to be symmetric if it is evenly balanced around its mean, and has a skewness of zero.\n",
    "\n",
    "#### A distribution is said to be positively skewed (or skewed to the right) if the tail on the right-hand side is longer or fatter than the tail on the left-hand side. In a positively skewed distribution, the mean is typically greater than the median and mode.\n",
    "\n",
    "#### A distribution is said to be negatively skewed (or skewed to the left) if the tail on the left-hand side is longer or fatter than the tail on the right-hand side. In a negatively skewed distribution, the mean is typically less than the median and mode.\n",
    "\n",
    "#### Skewness can affect the interpretation of descriptive statistics such as the mean and standard deviation. In the presence of skewness, the median and other robust measures of central tendency may be more appropriate.\n",
    "\n",
    "#### Skewness can also affect inferential statistics such as hypothesis testing and confidence intervals. Parametric tests assume normality, so non-normal data can lead to incorrect conclusions if not appropriately handled.\n",
    "\n",
    "#### Skewness can be visualized using a histogram, box plot, or density plot. Skewness can also be quantified using the skewness coefficient, which is a measure of the degree and direction of skewness in the data."
   ]
  },
  {
   "cell_type": "markdown",
   "id": "6eb0480e-7419-417a-a4a1-6fd96051611a",
   "metadata": {},
   "source": [
    "#### Q9. If a data is right skewed then what will be the position of median with respect to mean?\n",
    "\n",
    "#### Ans:- If the data is right skewed, the position of the median with respect to the mean will be to the left of the mean. This is because the mean is pulled in the direction of the long tail on the right-hand side of the distribution, while the median is less affected by extreme values and represents the middle value of the data.\n",
    "\n",
    "In a right-skewed distribution, the mean is greater than the median, and the tail of the distribution is longer on the right-hand side. This occurs because the few large values on the right side of the distribution can have a disproportionate impact on the mean, causing it to be pulled towards the right-hand side of the distribution.\n",
    "\n",
    "For example, if we have a dataset of salaries with a few very high earners, the mean salary will be higher than the median salary because the high earners pull the mean to the right. The median salary will be a more representative measure of the typical salary because it is not affected by the outliers on the right-hand side of the distribution."
   ]
  },
  {
   "cell_type": "markdown",
   "id": "6107351f-35e2-4aa9-839e-40e89b6cf20e",
   "metadata": {},
   "source": [
    "#### Q10. Explain the difference between covariance and correlation. How are these measures used in statistical analysis?\n",
    "\n",
    "#### Ans:-Covariance and correlation are both measures of the relationship between two variables, but they differ in their scale and interpretation.\n",
    "\n",
    "#### The main difference between covariance and correlation is that covariance measures the direction and strength of the linear relationship between two variables, whereas correlation measures the strength and direction of both linear and non-linear relationships between two variables.\n",
    "\n",
    "Here are some important points to keep in mind:\n",
    "\n",
    "#### Covariance is a measure of how much two variables change together. It can be positive (both variables increase or decrease together), negative (one variable increases while the other decreases), or zero (no relationship).\n",
    "\n",
    "#### Covariance can take any value, both positive and negative, depending on the scale of the variables. Therefore, it is not easy to interpret the magnitude of covariance.\n",
    "\n",
    "#### Correlation, on the other hand, is a standardized measure of the strength and direction of the linear relationship between two variables. It ranges from -1 (perfect negative correlation) to +1 (perfect positive correlation) with 0 indicating no correlation.\n",
    "\n",
    "#### Correlation is easier to interpret than covariance because it is standardized and independent of the scale of measurement.\n",
    "\n",
    "#### Both covariance and correlation are used to study the relationship between two variables in statistical analysis. Covariance is often used in finance and economics to measure the risk and return of assets, while correlation is commonly used in scientific research to determine the strength and direction of relationships between variables.\n",
    "\n",
    "While covariance and correlation both measure the relationship between two variables, correlation is considered to be more reliable because it is not affected by changes in the scale of measurement."
   ]
  },
  {
   "cell_type": "markdown",
   "id": "dbf79b56-e071-4915-9714-d6e70f3a2543",
   "metadata": {},
   "source": [
    "#### Q11. What is the formula for calculating the sample mean? Provide an example calculation for a dataset.\n",
    "\n",
    "#### Ans:-𝑥̄ = (𝑥₁ + 𝑥₂ + … + 𝑥𝑛) / 𝑛\n",
    "\n",
    "dataset: 3, 5, 7, 9, 11\n",
    "\n",
    "𝑥̄ = (3 + 5 + 7 + 9 + 11) / 5\n",
    "\n",
    "𝑥̄ = 35 / 5\n",
    "\n",
    "𝑥̄ = 7\n",
    "\n",
    "Therefore, the sample mean of this dataset is 7."
   ]
  },
  {
   "cell_type": "markdown",
   "id": "297ab4eb-8abb-47ab-889c-4e1c59ada83e",
   "metadata": {},
   "source": [
    "#### Q12. For a normal distribution data what is the relationship between its measure of central tendency?\n",
    "\n",
    "#### Ans:- For a normal distribution, the mean, median, and mode are all equal. This means that they have the same value and represent the central tendency of the distribution. This is because the normal distribution is symmetric around the mean, with an equal number of values on both sides of the mean.\n",
    "\n",
    "#### The mean is the most commonly used measure of central tendency for normally distributed data because it takes into account all values in the dataset and is sensitive to the distance of each value from the mean. The median and mode are less sensitive to extreme values and are more appropriate when the data is skewed or has outliers.\n",
    "\n",
    "However, in practice, data may not always follow a perfect normal distribution, and there may be slight variations in the values of the mean, median, and mode. In such cases, the choice of which measure of central tendency to use may depend on the specific context and purpose of the analysis."
   ]
  },
  {
   "cell_type": "markdown",
   "id": "d0939adf-4e1b-429d-97f6-18bc123a7244",
   "metadata": {},
   "source": [
    "#### Q13. How is covariance different from correlation?\n",
    "\n",
    "#### Ans:-Covariance and correlation both measure the relationship between two variables, but they have different scales and interpretations.\n",
    "\n",
    "#### Covariance tells us how much two variables change together. A positive covariance means that the two variables tend to move in the same direction, while a negative covariance means they tend to move in opposite directions. However, the magnitude of covariance depends on the scale of the variables, which makes it hard to compare across different datasets.\n",
    "\n",
    "#### Correlation, on the other hand, is a standardized measure that tells us about the strength and direction of the relationship between two variables. Correlation values range from -1 to 1, where 1 indicates a perfect positive relationship, -1 indicates a perfect negative relationship, and 0 indicates no relationship. Correlation makes it easier to compare the strength of the relationship between two variables across different datasets because it is not affected by the scale of the variables.\n",
    "\n",
    "covariance measures the direction and magnitude of the linear relationship between two variables, but the magnitude depends on the scale of the variables. Correlation, on the other hand, standardizes the measure of the relationship between two variables, making it easier to compare across different datasets."
   ]
  },
  {
   "cell_type": "markdown",
   "id": "fbb4c9c5-c158-44a0-ad68-3dc00a72abb7",
   "metadata": {},
   "source": [
    "#### Q14. How do outliers affect measures of central tendency and dispersion? Provide an example.\n",
    "\n",
    "#### Ans:-Outliers can significantly affect measures of central tendency and dispersion. Outliers can shift the mean towards their direction, leading to a distorted representation of the typical values in the dataset. The median is more resistant to outliers since it is not affected by extreme values. Outliers can also greatly increase the range, variance, and standard deviation, which means that the data is more spread out than it would be without the outliers. It is important to identify and handle outliers appropriately to ensure that measures of central tendency and dispersion accurately represent the data.\n",
    "\n",
    "a dataset of the heights (in inches) of 10 people:\n",
    "\n",
    "64, 68, 70, 70, 72, 74, 76, 78, 80, 84\n",
    "\n",
    "add an outlier to this dataset:\n",
    "\n",
    "64, 68, 70, 70, 72, 74, 76, 78, 80, 250\n",
    "\n",
    " mean height of the original dataset =(64+68+70+70+72+74+76+78+80+84) / 10 = 73.6 inches\n",
    " \n",
    " include the outlier, the mean becomes = (64+68+70+70+72+74+76+78+80+250) / 10 = 80.2 inches\n",
    " \n",
    " \n",
    "\n"
   ]
  },
  {
   "cell_type": "code",
   "execution_count": null,
   "id": "51a1c92f-d43c-4ef5-983b-5cad47d08544",
   "metadata": {},
   "outputs": [],
   "source": []
  }
 ],
 "metadata": {
  "kernelspec": {
   "display_name": "Python 3 (ipykernel)",
   "language": "python",
   "name": "python3"
  },
  "language_info": {
   "codemirror_mode": {
    "name": "ipython",
    "version": 3
   },
   "file_extension": ".py",
   "mimetype": "text/x-python",
   "name": "python",
   "nbconvert_exporter": "python",
   "pygments_lexer": "ipython3",
   "version": "3.10.8"
  }
 },
 "nbformat": 4,
 "nbformat_minor": 5
}
