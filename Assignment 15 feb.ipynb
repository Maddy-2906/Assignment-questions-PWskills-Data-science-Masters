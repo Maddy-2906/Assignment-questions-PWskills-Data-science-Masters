{
 "cells": [
  {
   "cell_type": "markdown",
   "id": "2befe25d-62b1-41ae-baf4-fccc46a74f2e",
   "metadata": {},
   "source": [
    "### Q1. What is multiprocessing in python? Why is it useful?\n",
    "\n",
    "Ans:Multiprocessing in Python is the process of running multiple processes simultaneously to achieve concurrency and utilize multiple CPUs or cores. It involves creating multiple processes that run independently of each other to perform a specific task, where each process runs in its own memory space and can communicate with other processes through inter-process communication (IPC) mechanisms.\n",
    "\n",
    "Multiprocessing is useful for several reasons:-\n",
    "\n",
    "Firstly, it allows you to take advantage of the processing power of multiple CPUs or cores to speed up the execution time of CPU-bound tasks. By distributing the work across multiple processes, each process can work on a separate part of the task in parallel with the others, which can significantly reduce the overall execution time.\n",
    "\n",
    "Secondly, multiprocessing allows you to isolate processes from each other. Each process runs in its own memory space and has its own system resources, so if one process fails or encounters an error, it will not affect the other processes. This makes multiprocessing a more robust and fault-tolerant approach to concurrent programming.\n",
    "\n",
    "Thirdly, multiprocessing can simplify the design of concurrent programs by allowing you to use a process-based model instead of a thread-based model. Since each process runs independently of the others, you don't need to worry about issues such as race conditions and deadlocks that can arise when multiple threads access the same memory space.\n",
    "\n",
    "multiprocessing is useful for speeding up the execution time of CPU-bound tasks, isolating processes from each other to improve robustness and fault-tolerance, and simplifying the design of concurrent programs."
   ]
  },
  {
   "cell_type": "markdown",
   "id": "ba87ef88-890f-4cf4-a8d6-a94b48c5159f",
   "metadata": {},
   "source": [
    "### Q2. What are the differences between multiprocessing and multithreading?\n",
    "\n",
    "Ans:-The main differences between multiprocessing and multithreading are as follows:\n",
    "\n",
    "1.Memory space: In multiprocessing, each process has its own memory space, while in multithreading, all threads share the same memory space.\n",
    "\n",
    "2.Communication: In multiprocessing, communication between processes is typically done through inter-process communication (IPC) mechanisms such as pipes and queues. In multithreading, communication between threads is typically done through shared memory or message passing.\n",
    "\n",
    "3.Concurrency: In multiprocessing, each process runs independently of the others, which makes it possible to achieve true parallelism on multi-core systems. In multithreading, the threads share the same CPU and take turns running on it, which makes it difficult to achieve true parallelism.\n",
    "\n",
    "4.Scalability: Multiprocessing can scale well on multi-core systems, as the number of processes can be increased to take advantage of additional CPUs. Multithreading may not scale as well, as the number of threads may be limited by the number of available cores.\n",
    "\n",
    "5.Complexity: Multiprocessing can be more complex than multithreading, as each process has its own memory space and requires more overhead to communicate and synchronize with other processes. Multithreading can be simpler and more lightweight, as all threads share the same memory space and can communicate more easily.\n",
    "\n",
    "\n",
    "multiprocessing is a technique for running multiple processes in parallel, each with its own memory space, while multithreading is a technique for running multiple threads in parallel within the same process, sharing the same memory space. The choice between multiprocessing and multithreading depends on the specific requirements of the task, as well as the characteristics of the system and hardware being used."
   ]
  },
  {
   "cell_type": "markdown",
   "id": "10d8bbd6-998a-4c71-b900-9fe4d194a5f9",
   "metadata": {},
   "source": [
    "### Q3. Write a python code to create a process using the multiprocessing module.\n",
    "\n",
    "Ans:-"
   ]
  },
  {
   "cell_type": "code",
   "execution_count": 17,
   "id": "459b84ab-605b-4158-afd4-889d6b79d691",
   "metadata": {},
   "outputs": [
    {
     "name": "stdout",
     "output_type": "stream",
     "text": [
      "Hello welcome to PWskills DSM class\n"
     ]
    }
   ],
   "source": [
    "import multiprocessing\n",
    "\n",
    "def my_class():\n",
    "    print(\"Hello welcome to PWskills DSM class\")\n",
    "\n",
    "if __name__ == '__main__':\n",
    "    p = multiprocessing.Process(target=my_class)\n",
    "    p.start()\n",
    "    p.join()"
   ]
  },
  {
   "cell_type": "markdown",
   "id": "076a9b5d-d996-4e9d-8515-70240b7b1e60",
   "metadata": {},
   "source": [
    "#### Q4. What is a multiprocessing pool in python? Why is it used?\n",
    "\n",
    "Ans:-A multiprocessing pool in Python is a collection of worker processes that can be used to execute tasks in parallel. It provides a way to distribute work across multiple processes to take advantage of the full capabilities of a multi-core CPU. The multiprocessing module in Python provides a Pool class to create a pool of worker processes.\n",
    "\n",
    "The Pool class provides methods to submit tasks to the pool and retrieve their results. The tasks are distributed among the available worker processes in the pool, and each process executes its assigned tasks independently. The Pool class takes care of managing the processes, scheduling tasks, and collecting results.\n",
    "\n",
    " multiprocessing pool is a collection of worker processes that can be used to execute tasks in parallel. It is used to distribute work across multiple processes and take advantage of the full capabilities of a multi-core CPU. The multiprocessing module in Python provides a Pool class to create and manage a pool of worker processes."
   ]
  },
  {
   "cell_type": "code",
   "execution_count": 23,
   "id": "897cfb97-0bf3-466c-8bc0-33f27ac985a9",
   "metadata": {},
   "outputs": [
    {
     "name": "stdout",
     "output_type": "stream",
     "text": [
      "[0, 1, 8, 27, 64, 125, 216, 343, 512, 729, 1000, 1331, 1728, 2197, 2744, 3375, 4096, 4913, 5832, 6859, 8000]\n"
     ]
    }
   ],
   "source": [
    "#cube\n",
    "\n",
    "import multiprocessing\n",
    "\n",
    "def cube(x):\n",
    "    return x*x*x\n",
    "\n",
    "if __name__ == '__main__':\n",
    "    with multiprocessing.Pool(processes=5) as pool:\n",
    "        result = pool.map(cube, range(21))\n",
    "    print(result)\n"
   ]
  },
  {
   "cell_type": "markdown",
   "id": "51691c87-ea77-441d-ab9e-ac876f0fbec1",
   "metadata": {},
   "source": [
    "### Q5. How can we create a pool of worker processes in python using the multiprocessing module?\n",
    "\n",
    "Ans:-we can create a pool of worker processes using the multiprocessing module. The multiprocessing.Pool class provides a convenient way to create and manage a pool of worker processes."
   ]
  },
  {
   "cell_type": "code",
   "execution_count": 33,
   "id": "77326c73-f154-4d59-9ed2-bc23eafe91d6",
   "metadata": {},
   "outputs": [
    {
     "name": "stdout",
     "output_type": "stream",
     "text": [
      "[0, 1, 4, 9, 16, 25, 36, 49, 64, 81, 100, 121, 144, 169, 196, 225, 256, 289, 324, 361, 400, 441, 484, 529, 576]\n"
     ]
    }
   ],
   "source": [
    "import multiprocessing\n",
    "\n",
    "def square(x):\n",
    "    return x*x\n",
    "\n",
    "if __name__ == '__main__':\n",
    "    with multiprocessing.Pool(processes=4) as pool:\n",
    "        results = pool.map(square, range(25))\n",
    "    print(results)"
   ]
  },
  {
   "cell_type": "markdown",
   "id": "305cc840-17e1-4be8-9d9e-ef83adb117be",
   "metadata": {},
   "source": [
    "#### Q6. Write a python program to create 4 processes, each process should print a different number using the\n",
    " multiprocessing module in python."
   ]
  },
  {
   "cell_type": "code",
   "execution_count": 60,
   "id": "1181b98b-dc73-4376-9769-a02b6196c34c",
   "metadata": {},
   "outputs": [
    {
     "name": "stdout",
     "output_type": "stream",
     "text": [
      "Process 1 : 1\n",
      "Process 2 : 2\n",
      "Process 3 : 3\n",
      "Process 4 : 4\n",
      "Process 5 : 5\n",
      "Process 6 : 6\n",
      "Process 7 : 7\n",
      "\n",
      "Process 8 : 8Process 9 : 9\n",
      "Process 10 : 10\n",
      "Process 11 : 11\n",
      "Process 12 : 12\n",
      "Process 13 : 13\n",
      "Process 14 : 14\n"
     ]
    }
   ],
   "source": [
    "import multiprocessing\n",
    "\n",
    "def print_num(num):\n",
    "    print(f\"Process {num} : {num}\")\n",
    "          \n",
    "if __name__ == '__main__':\n",
    "    processes =[]\n",
    "for i in range(1,15):\n",
    "    p=multiprocessing.Process(target=print_num,args=(i,))\n",
    "    processes.append(p)\n",
    "    p.start()\n",
    "for p in processes:\n",
    "    p.join()\n"
   ]
  },
  {
   "cell_type": "code",
   "execution_count": null,
   "id": "e52779e2-408e-4c0e-932c-b9afb528d498",
   "metadata": {},
   "outputs": [],
   "source": []
  }
 ],
 "metadata": {
  "kernelspec": {
   "display_name": "Python 3 (ipykernel)",
   "language": "python",
   "name": "python3"
  },
  "language_info": {
   "codemirror_mode": {
    "name": "ipython",
    "version": 3
   },
   "file_extension": ".py",
   "mimetype": "text/x-python",
   "name": "python",
   "nbconvert_exporter": "python",
   "pygments_lexer": "ipython3",
   "version": "3.10.8"
  }
 },
 "nbformat": 4,
 "nbformat_minor": 5
}
