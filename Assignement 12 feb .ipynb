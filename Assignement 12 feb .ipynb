{
 "cells": [
  {
   "cell_type": "markdown",
   "id": "586f8e99-9e76-40f6-9769-6ab07abec49b",
   "metadata": {},
   "source": [
    "#What is an Exception in python? Write the difference  between Exceptions and syntax errors \n",
    "\n",
    "\n",
    "Ans:-An exception in Python is an error that occurs during the execution of a program. Exceptions can be raised for various reasons, such as an invalid operation, a missing file, or a value that is out of range.\n",
    "\n",
    "When an exception is raised, the normal flow of control in the program is interrupted, and the interpreter jumps to the nearest exception handler. An exception handler is a block of code that is designed to handle a specific type of exception. If an exception is raised, and there is no matching exception handler, the program will terminate.\n",
    "\n",
    "The difference between exceptions and syntax errors is that syntax errors occur when the Python interpreter encounters an error in the syntax of the program, and exceptions occur when an error occurs during the execution of the program.\n",
    "\n",
    "Syntax errors are usually easy to spot, because they occur when the program is being compiled. For example, if you forget to close a parenthesis or forget to put a colon at the end of a line, you will get a syntax error. Syntax errors are usually the result of a typo or a mistake in the program's structure, and they prevent the program from running.\n",
    "\n",
    "On the other hand, exceptions occur when the program is running, and they are usually more difficult to diagnose than syntax errors. For example, if you try to divide a number by zero, you will get a ZeroDivisionError exception. Exceptions can be raised for many different reasons, and it's up to the programmer to handle them appropriately.\n",
    "\n",
    "In Python, you can use the try and except statements to handle exceptions. The try statement is used to enclose the code that you want to test for exceptions. The except statement is used to specify the type of exception that you want to handle. If an exception is raised, the try statement will jump to the nearest except statement that matches the type of the exception, and the code in the except block will be executed.\n",
    "\n",
    "\n",
    "\n"
   ]
  },
  {
   "cell_type": "markdown",
   "id": "02292001-5f21-4408-97e8-e18796411013",
   "metadata": {},
   "source": [
    "#Q2. What happens when an exception is not handled? Explain with an example  \n",
    "\n",
    "Ans:-When an exception is not handled, it propagates up the call stack until it reaches the top level of the program. If the exception is not caught by any exception handler along the way, the program will terminate with a traceback, which is a list of the function calls that led up to the exception. The traceback can be useful for debugging the problem that caused the exception."
   ]
  },
  {
   "cell_type": "code",
   "execution_count": 2,
   "id": "2bf7e169-7024-4718-8bd4-d1d4a54ee01c",
   "metadata": {},
   "outputs": [
    {
     "ename": "ZeroDivisionError",
     "evalue": "division by zero",
     "output_type": "error",
     "traceback": [
      "\u001b[0;31m---------------------------------------------------------------------------\u001b[0m",
      "\u001b[0;31mZeroDivisionError\u001b[0m                         Traceback (most recent call last)",
      "Cell \u001b[0;32mIn[2], line 7\u001b[0m\n\u001b[1;32m      4\u001b[0m \u001b[38;5;28;01mdef\u001b[39;00m \u001b[38;5;21mcalculate\u001b[39m(a, b):\n\u001b[1;32m      5\u001b[0m     \u001b[38;5;28;01mreturn\u001b[39;00m divide(a, b)\n\u001b[0;32m----> 7\u001b[0m \u001b[38;5;28mprint\u001b[39m(\u001b[43mcalculate\u001b[49m\u001b[43m(\u001b[49m\u001b[38;5;241;43m10\u001b[39;49m\u001b[43m,\u001b[49m\u001b[43m \u001b[49m\u001b[38;5;241;43m0\u001b[39;49m\u001b[43m)\u001b[49m)\n",
      "Cell \u001b[0;32mIn[2], line 5\u001b[0m, in \u001b[0;36mcalculate\u001b[0;34m(a, b)\u001b[0m\n\u001b[1;32m      4\u001b[0m \u001b[38;5;28;01mdef\u001b[39;00m \u001b[38;5;21mcalculate\u001b[39m(a, b):\n\u001b[0;32m----> 5\u001b[0m     \u001b[38;5;28;01mreturn\u001b[39;00m \u001b[43mdivide\u001b[49m\u001b[43m(\u001b[49m\u001b[43ma\u001b[49m\u001b[43m,\u001b[49m\u001b[43m \u001b[49m\u001b[43mb\u001b[49m\u001b[43m)\u001b[49m\n",
      "Cell \u001b[0;32mIn[2], line 2\u001b[0m, in \u001b[0;36mdivide\u001b[0;34m(a, b)\u001b[0m\n\u001b[1;32m      1\u001b[0m \u001b[38;5;28;01mdef\u001b[39;00m \u001b[38;5;21mdivide\u001b[39m(a, b):\n\u001b[0;32m----> 2\u001b[0m     \u001b[38;5;28;01mreturn\u001b[39;00m \u001b[43ma\u001b[49m\u001b[43m \u001b[49m\u001b[38;5;241;43m/\u001b[39;49m\u001b[43m \u001b[49m\u001b[43mb\u001b[49m\n",
      "\u001b[0;31mZeroDivisionError\u001b[0m: division by zero"
     ]
    }
   ],
   "source": [
    "def divide(a, b):\n",
    "    return a / b\n",
    "\n",
    "def calculate(a, b):\n",
    "    return divide(a, b)\n",
    "\n",
    "print(calculate(10, 0))\n"
   ]
  },
  {
   "cell_type": "markdown",
   "id": "1a2d5a09-d685-4b04-898d-5efca82aaf81",
   "metadata": {},
   "source": [
    "#Q3. Which Python statements are used to catch and handle exceptions? Explain with an example\n",
    "\n",
    "\n",
    "Ans:-The try and except statements are used in Python to catch and handle exceptions. The try statement is used to specify a block of code that you want to test for exceptions. The except statement is used to specify the code that should be executed if an exception is raised in the try block.\n",
    "\n",
    "Here's an example to demonstrate the use of try and except statements:"
   ]
  },
  {
   "cell_type": "code",
   "execution_count": 4,
   "id": "cdd25325-8c80-4c24-87f4-c3f7205a94e8",
   "metadata": {},
   "outputs": [
    {
     "name": "stdin",
     "output_type": "stream",
     "text": [
      "Enter a number:  10000\n",
      "Enter another number:  60\n"
     ]
    },
    {
     "name": "stdout",
     "output_type": "stream",
     "text": [
      "166.66666666666666\n"
     ]
    }
   ],
   "source": [
    "try:\n",
    "    a = int(input(\"Enter a number: \"))\n",
    "    b = int(input(\"Enter another number: \"))\n",
    "    c = a / b\n",
    "    print(c)\n",
    "except ZeroDivisionError:\n",
    "    print(\"Cannot divide by zero.\")\n",
    "except ValueError:\n",
    "    print(\"Invalid input.\")\n"
   ]
  },
  {
   "cell_type": "markdown",
   "id": "212f2933-d27d-4cfe-afe7-6baf4c54835f",
   "metadata": {},
   "source": [
    "#Q4. Explain with an example: \n",
    "   1.Try and else\n",
    "   2.finally \n",
    "   3.raise\n"
   ]
  },
  {
   "cell_type": "markdown",
   "id": "c8da77fd-3918-4591-8d26-6108de8e2863",
   "metadata": {},
   "source": [
    "# 1.try and else:\n",
    "#The else statement in a try block is executed if no exceptions are raised in the try block. The else block provides a way to specify an alternate path of execution if the code in the try block is successful. Here's an example:"
   ]
  },
  {
   "cell_type": "code",
   "execution_count": 5,
   "id": "c1381ed2-eec7-4b9d-b3f4-2efdac146de2",
   "metadata": {},
   "outputs": [
    {
     "name": "stdin",
     "output_type": "stream",
     "text": [
      "Enter a number:  250\n",
      "Enter another number:  30\n"
     ]
    },
    {
     "name": "stdout",
     "output_type": "stream",
     "text": [
      "8.333333333333334\n",
      "The division was successful.\n"
     ]
    }
   ],
   "source": [
    "try:\n",
    "    a = int(input(\"Enter a number: \"))\n",
    "    b = int(input(\"Enter another number: \"))\n",
    "    c = a / b\n",
    "    print(c)\n",
    "except ZeroDivisionError:\n",
    "    print(\"Cannot divide by zero.\")\n",
    "except ValueError:\n",
    "    print(\"Invalid input.\")\n",
    "else:\n",
    "    print(\"The division was successful.\")\n"
   ]
  },
  {
   "cell_type": "markdown",
   "id": "91f8dde7-37db-4e1c-8405-d1b40ef4cbfa",
   "metadata": {},
   "source": [
    "# 2.finally:\n",
    "\n",
    "The finally statement in a try block is executed regardless of whether an exception is raised or not. The finally \n",
    "block provides a way to specify a block of code that should always be executed, regardless of the outcome of the try block. Here's an example:"
   ]
  },
  {
   "cell_type": "code",
   "execution_count": 7,
   "id": "767bebcc-af93-46b9-b3b2-ecd6222c9e1f",
   "metadata": {},
   "outputs": [
    {
     "name": "stdin",
     "output_type": "stream",
     "text": [
      "Enter a number:  25\n",
      "Enter another number:  0\n"
     ]
    },
    {
     "name": "stdout",
     "output_type": "stream",
     "text": [
      "Cannot divide by zero.\n",
      "The program is finished.\n"
     ]
    }
   ],
   "source": [
    "try:\n",
    "    a = int(input(\"Enter a number: \"))\n",
    "    b = int(input(\"Enter another number: \"))\n",
    "    c = a / b\n",
    "    print(c)\n",
    "except ZeroDivisionError:\n",
    "    print(\"Cannot divide by zero.\")\n",
    "except ValueError:\n",
    "    print(\"Invalid input.\")\n",
    "else:\n",
    "    print(\"The division was successful.\")\n",
    "finally:\n",
    "    print(\"The program is finished.\")\n"
   ]
  },
  {
   "cell_type": "markdown",
   "id": "4bb95043-fbed-4415-8284-0719f779d11a",
   "metadata": {},
   "source": [
    "# 3.raise:\n",
    "\n",
    "The raise statement is used to raise an exception explicitly in your code. This can be useful when you want to signal an error condition, or when you want to interrupt the normal flow of control in your program. Here's an example:"
   ]
  },
  {
   "cell_type": "code",
   "execution_count": 8,
   "id": "ce969b77-577f-4cd6-9e87-dc2a6eb3601c",
   "metadata": {},
   "outputs": [
    {
     "name": "stdout",
     "output_type": "stream",
     "text": [
      "Cannot divide by zero.\n"
     ]
    }
   ],
   "source": [
    "def divide(a, b):\n",
    "    if b == 0:\n",
    "        raise ValueError(\"Cannot divide by zero.\")\n",
    "    return a / b\n",
    "\n",
    "try:\n",
    "    result = divide(10, 0)\n",
    "    print(result)\n",
    "except ValueError as e:\n",
    "    print(e)\n"
   ]
  },
  {
   "cell_type": "markdown",
   "id": "d81ef493-dec1-4b75-b5b1-d1321b688605",
   "metadata": {},
   "source": [
    "#Q5. What are Custom Exceptions in python? What do we need Custom Exceptions? Explain with an example \n",
    "\n",
    "Ans:-Custom exceptions are user-defined exceptions in Python that allow developers to create their own specific types of exceptions for error handling. These exceptions can be raised and caught using the same mechanism as built-in exceptions, but they provide a more specific and descriptive error message for a particular error.\n",
    "\n",
    "There are several reasons why we need custom exceptions in Python:\n",
    "\n",
    "To provide more descriptive error messages: Custom exceptions allow developers to provide specific error messages that are more descriptive than the default error messages provided by built-in exceptions. This makes it easier for developers to understand the cause of an error and fix it quickly.\n",
    "\n",
    "To handle specific errors: Custom exceptions can be used to handle specific errors in an application, such as an invalid input or a missing resource. This allows developers to handle errors in a more specific and controlled manner.\n",
    "\n",
    "To simplify error handling: Custom exceptions can simplify error handling by providing a consistent way of handling specific types of errors.\n",
    "\n",
    "Here is an example of a custom exception in Python:"
   ]
  },
  {
   "cell_type": "code",
   "execution_count": 20,
   "id": "07ad78df-b90c-4fef-8eb8-c3dec1de0ee4",
   "metadata": {},
   "outputs": [
    {
     "name": "stdout",
     "output_type": "stream",
     "text": [
      "Cannot divide by zero\n"
     ]
    }
   ],
   "source": [
    "#Example\n",
    "class InvalidInputError(Exception):\n",
    "    def __init__(self, message):\n",
    "        self.message = message\n",
    "\n",
    "def divide(a, b):\n",
    "    if b == 0:\n",
    "        raise InvalidInputError(\"Cannot divide by zero\")\n",
    "    return a / b\n",
    "\n",
    "try:\n",
    "    result = divide(10, 0)\n",
    "except InvalidInputError as e:\n",
    "    print(e)\n"
   ]
  },
  {
   "cell_type": "code",
   "execution_count": 18,
   "id": "c120cdcd-469b-4edb-86eb-e61122e4bc2a",
   "metadata": {},
   "outputs": [
    {
     "name": "stdout",
     "output_type": "stream",
     "text": [
      "we get multiplication\n"
     ]
    }
   ],
   "source": [
    "class wronginputerror(Exception):\n",
    "    def __init__(self,result):\n",
    "        self.result = result\n",
    "        \n",
    "def multiply(a,b):\n",
    "    if b != 0:\n",
    "        raise wronginputerror(\"we get multiplication\")\n",
    "        return a*b\n",
    "    \n",
    "try:\n",
    "    result = multiply(10,5)\n",
    "except wronginputerror as e:\n",
    "    print(e)"
   ]
  },
  {
   "cell_type": "markdown",
   "id": "caf3ef9d-783f-4308-8ad6-36e412cff2fd",
   "metadata": {},
   "source": [
    "#Q6. Create  custom exception class. Use this class to handle an exception.\n",
    "\n",
    "Ans:-In this example, we define a custom exception class CustomException that inherits from the built-in Exception class. The custom exception class takes a message as an argument, which can be accessed through the message attribute. In the try block, we raise an instance of the custom exception class, and in the except block, we handle the exception by printing the message attribute of the exception object."
   ]
  },
  {
   "cell_type": "code",
   "execution_count": 10,
   "id": "d96e1c17-699a-47c4-96b9-5ecabdd62160",
   "metadata": {},
   "outputs": [
    {
     "name": "stdout",
     "output_type": "stream",
     "text": [
      "This is a custom exception\n"
     ]
    }
   ],
   "source": [
    "class CustomException(Exception):\n",
    "    def __init__(self, message):\n",
    "        self.message = message\n",
    "\n",
    "try:\n",
    "    raise CustomException(\"This is a custom exception\")\n",
    "except CustomException as e:\n",
    "    print(e.message)\n"
   ]
  },
  {
   "cell_type": "code",
   "execution_count": 13,
   "id": "e67c40db-fa76-4053-b54e-b56f17eb683e",
   "metadata": {},
   "outputs": [
    {
     "name": "stdout",
     "output_type": "stream",
     "text": [
      "This is a custom exception class\n"
     ]
    }
   ],
   "source": [
    "class CustomExceptionClass(Exception):\n",
    "    def __init__(self,name):\n",
    "        self.name = name\n",
    "        \n",
    "try:\n",
    "    raise CustomException (\"This is a custom exception class\")\n",
    "except CustomException as e:\n",
    "    print(e.name)"
   ]
  },
  {
   "cell_type": "code",
   "execution_count": null,
   "id": "fa1b3677-943f-41bb-9699-9f33d0abbd2a",
   "metadata": {},
   "outputs": [],
   "source": []
  }
 ],
 "metadata": {
  "kernelspec": {
   "display_name": "Python 3 (ipykernel)",
   "language": "python",
   "name": "python3"
  },
  "language_info": {
   "codemirror_mode": {
    "name": "ipython",
    "version": 3
   },
   "file_extension": ".py",
   "mimetype": "text/x-python",
   "name": "python",
   "nbconvert_exporter": "python",
   "pygments_lexer": "ipython3",
   "version": "3.10.8"
  }
 },
 "nbformat": 4,
 "nbformat_minor": 5
}
