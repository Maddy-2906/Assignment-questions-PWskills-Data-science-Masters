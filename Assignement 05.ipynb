{
 "cells": [
  {
   "cell_type": "markdown",
   "id": "1dbb940e-3f84-47dd-86de-02240870a855",
   "metadata": {},
   "source": [
    "#Q1. Create a python program to sort the given list of tuples based on integer value using a\n",
    "lambda function."
   ]
  },
  {
   "cell_type": "code",
   "execution_count": 1,
   "id": "3492531b-77c3-4286-a928-0cdb5f3981f0",
   "metadata": {},
   "outputs": [
    {
     "name": "stdout",
     "output_type": "stream",
     "text": [
      "[(2, 1), (3, 2), (1, 3)]\n"
     ]
    }
   ],
   "source": [
    "def sort_list_of_tuples(lst):\n",
    "    return sorted(lst, key=lambda x: x[1])\n",
    "\n",
    "lst = [(1, 3), (3, 2), (2, 1)]\n",
    "print(sort_list_of_tuples(lst))\n"
   ]
  },
  {
   "cell_type": "code",
   "execution_count": 2,
   "id": "bf78990c-0526-48ae-9308-6ddd73cc0515",
   "metadata": {},
   "outputs": [
    {
     "name": "stdout",
     "output_type": "stream",
     "text": [
      "[('Sachin Tendulkar', 34357), ('Ricky Ponting', 27483), ('Jack Kallis', 25534), ('Virat Kohli', 24936)]\n"
     ]
    }
   ],
   "source": [
    "def sort_list_of_tuples(lst):\n",
    "    return sorted(lst, key=lambda x: x[1], reverse=True)\n",
    "\n",
    "lst = [('Sachin Tendulkar', 34357), ('Ricky Ponting', 27483), ('Jack Kallis', 25534), ('Virat Kohli', 24936)]\n",
    "print(sort_list_of_tuples(lst))\n"
   ]
  },
  {
   "cell_type": "markdown",
   "id": "75fe893d-7f07-4bf3-9dfb-0bec1568577c",
   "metadata": {},
   "source": [
    "#Q2. Write a Python Program to find the squares of all the numbers in the given list of integers using\n",
    "lambda and map functions.\n",
    "[1, 2, 3, 4, 5, 6, 7, 8, 9, 10]"
   ]
  },
  {
   "cell_type": "code",
   "execution_count": 1,
   "id": "34450ec9-ce6d-42c5-a46c-7419df6dd9c7",
   "metadata": {},
   "outputs": [
    {
     "name": "stdout",
     "output_type": "stream",
     "text": [
      "[1, 4, 9, 16, 25, 36, 49, 64, 81, 100]\n"
     ]
    }
   ],
   "source": [
    "numbers = [1, 2, 3, 4, 5, 6, 7, 8, 9, 10]\n",
    "\n",
    "squared_numbers = list(map(lambda x : x**2 , numbers))\n",
    "\n",
    "print(squared_numbers)\n"
   ]
  },
  {
   "cell_type": "markdown",
   "id": "aef4f05d-88f2-4bd8-83ab-b1b6cc9ca22b",
   "metadata": {},
   "source": [
    "#Q5. Write a python program to filter the numbers in a given list that are divisible by 2 and 3 using the\n",
    "filter function.\n",
    "[2, 3, 6, 9, 27, 60, 90, 120, 55, 46]"
   ]
  },
  {
   "cell_type": "code",
   "execution_count": 3,
   "id": "94e12cda-9aca-4285-96cd-9c5ba6750cc6",
   "metadata": {},
   "outputs": [
    {
     "data": {
      "text/plain": [
       "[2, 6, 60, 90, 120, 46]"
      ]
     },
     "execution_count": 3,
     "metadata": {},
     "output_type": "execute_result"
    }
   ],
   "source": [
    "l=[2, 3, 6, 9, 27, 60, 90, 120, 55, 46]\n",
    "list(filter(lambda x: x % 2== 0,l))"
   ]
  },
  {
   "cell_type": "markdown",
   "id": "e98c25bb-11ff-40c5-ae1e-d3b0a6138127",
   "metadata": {},
   "source": [
    "#Q3. Write a python program to convert the given list of integers into a tuple of strings. Use map and\n",
    "lambda functions\n",
    "Given String: [1, 2, 3, 4, 5, 6, 7, 8, 9, 10]\n",
    "Expected output: ('1', '2', '3', '4', '5', '6', '7', '8', '9', '10')"
   ]
  },
  {
   "cell_type": "code",
   "execution_count": 1,
   "id": "e55a9f26-ed13-4535-89ba-73b856c693d9",
   "metadata": {},
   "outputs": [
    {
     "name": "stdout",
     "output_type": "stream",
     "text": [
      "('1', '2', '3', '4', '5', '6', '7', '8', '9', '10')\n"
     ]
    }
   ],
   "source": [
    "lst = [1, 2, 3, 4, 5, 6, 7, 8, 9, 10]\n",
    "result = tuple(map(lambda x: str(x), lst))\n",
    "print(result)\n"
   ]
  },
  {
   "cell_type": "code",
   "execution_count": 2,
   "id": "9b9b13ee-341e-49d6-95d7-8642be0a9a51",
   "metadata": {},
   "outputs": [],
   "source": [
    "lst = [1, 2, 3, 4, 5, 6, 7, 8, 9, 10]"
   ]
  },
  {
   "cell_type": "code",
   "execution_count": 3,
   "id": "e692f44d-ecae-4ec7-bcb1-3542c89d8cce",
   "metadata": {},
   "outputs": [
    {
     "data": {
      "text/plain": [
       "('1', '2', '3', '4', '5', '6', '7', '8', '9', '10')"
      ]
     },
     "execution_count": 3,
     "metadata": {},
     "output_type": "execute_result"
    }
   ],
   "source": [
    "tuple(map(lambda x : str(x),lst))"
   ]
  },
  {
   "cell_type": "markdown",
   "id": "b1ccfc9a-cde1-4f49-a020-72efaa1e6030",
   "metadata": {},
   "source": [
    "#Q4. Write a python program using reduce function to compute the product of a list containing numbers\n",
    "from 1 to 25."
   ]
  },
  {
   "cell_type": "code",
   "execution_count": 4,
   "id": "07efaea1-bc0c-4d83-89fd-09e9f04b028d",
   "metadata": {},
   "outputs": [],
   "source": [
    "from functools import reduce"
   ]
  },
  {
   "cell_type": "code",
   "execution_count": 5,
   "id": "2b489f01-f484-4230-bf5c-7c0591c33b56",
   "metadata": {},
   "outputs": [],
   "source": [
    "lst=[1,2,3,4,5,6,7,8,9,10,11,12,13,14,15,16,17,18,19,20,21,22,13,24,15]"
   ]
  },
  {
   "cell_type": "code",
   "execution_count": 6,
   "id": "9253dd53-50c9-4408-94a6-016a6a125739",
   "metadata": {},
   "outputs": [
    {
     "data": {
      "text/plain": [
       "305"
      ]
     },
     "execution_count": 6,
     "metadata": {},
     "output_type": "execute_result"
    }
   ],
   "source": [
    "reduce(lambda x,y : x+y , lst)"
   ]
  },
  {
   "cell_type": "code",
   "execution_count": 11,
   "id": "31750a17-55fe-4d46-8b70-c1be49f8d61a",
   "metadata": {},
   "outputs": [
    {
     "name": "stdout",
     "output_type": "stream",
     "text": [
      "315\n"
     ]
    }
   ],
   "source": [
    "from functools import reduce\n",
    "lst=[1,2,3,4,5,6,7,8,9,10,11,12,13,14,15,16,17,18,19,20,21,22,13,24,25]\n",
    "reduce=reduce(lambda x,y : x+y , lst)\n",
    "print(reduce)\n",
    "\n"
   ]
  },
  {
   "cell_type": "code",
   "execution_count": 13,
   "id": "bc782750-1525-454b-b0b8-625e3518e6ee",
   "metadata": {},
   "outputs": [
    {
     "name": "stdout",
     "output_type": "stream",
     "text": [
      "15511210043330985984000000\n"
     ]
    }
   ],
   "source": [
    "from functools import reduce\n",
    "lst=[i for i in range(1,26)]\n",
    "reduce=reduce(lambda x,y : x*y , lst)\n",
    "print(reduce)"
   ]
  },
  {
   "cell_type": "code",
   "execution_count": 14,
   "id": "72f3e1c6-4c1c-4c3a-ac9d-ad17f068096f",
   "metadata": {},
   "outputs": [
    {
     "name": "stdout",
     "output_type": "stream",
     "text": [
      "325\n"
     ]
    }
   ],
   "source": [
    "from functools import reduce\n",
    "lst=[i for i in range(1,26)]\n",
    "reduce=reduce(lambda x,y : x+y , lst)\n",
    "print(reduce)"
   ]
  },
  {
   "cell_type": "code",
   "execution_count": 15,
   "id": "09018af0-60e9-452b-a5a6-20320953027c",
   "metadata": {},
   "outputs": [
    {
     "name": "stdout",
     "output_type": "stream",
     "text": [
      "-323\n"
     ]
    }
   ],
   "source": [
    "from functools import reduce\n",
    "lst=[i for i in range(1,26)]\n",
    "reduce=reduce(lambda x,y : x-y , lst)\n",
    "print(reduce)"
   ]
  },
  {
   "cell_type": "code",
   "execution_count": 16,
   "id": "280260e5-b2ae-4671-be3b-90aad1a33b9e",
   "metadata": {},
   "outputs": [
    {
     "name": "stdout",
     "output_type": "stream",
     "text": [
      "1\n"
     ]
    }
   ],
   "source": [
    "from functools import reduce\n",
    "lst=[i for i in range(1,26)]\n",
    "reduce=reduce(lambda x,y : x%y , lst)\n",
    "print(reduce)"
   ]
  },
  {
   "cell_type": "markdown",
   "id": "da443aea-0911-40e8-9411-3aeecaba02a1",
   "metadata": {},
   "source": [
    "#Q5. Write a python program to filter the numbers in a given list that are divisible by 2 and 3 using the\n",
    "filter function.\n",
    "[2, 3, 6, 9, 27, 60, 90, 120, 55, 46]"
   ]
  },
  {
   "cell_type": "code",
   "execution_count": 22,
   "id": "a740dec6-33d7-4561-8afa-e01fa954ba99",
   "metadata": {},
   "outputs": [
    {
     "name": "stdout",
     "output_type": "stream",
     "text": [
      "[6, 60, 90, 120]\n"
     ]
    }
   ],
   "source": [
    "lst=[2, 3, 6, 9, 27, 60, 90, 120, 55, 46]\n",
    "result=list(filter(lambda x: x%2==0 and x%3==0 , lst))\n",
    "print(result)"
   ]
  },
  {
   "cell_type": "markdown",
   "id": "1c67afc0-27e7-430e-80d4-c8d2c83f4517",
   "metadata": {},
   "source": [
    "#Q6. Write a python program to find palindromes in the given list of strings using lambda and filter\n",
    "function.\n",
    "['python', 'php', 'aba', 'radar', 'level']"
   ]
  },
  {
   "cell_type": "code",
   "execution_count": 1,
   "id": "781492a6-d685-4c33-ad51-f1c4855cfd5f",
   "metadata": {},
   "outputs": [
    {
     "name": "stdout",
     "output_type": "stream",
     "text": [
      "['php', 'aba', 'radar', 'level']\n"
     ]
    }
   ],
   "source": [
    "lst = ['python', 'php', 'aba', 'radar', 'level']\n",
    "result = list(filter(lambda x: x == x[::-1], lst))\n",
    "print(result)\n"
   ]
  },
  {
   "cell_type": "code",
   "execution_count": null,
   "id": "0986d653-d2e1-4aed-8380-c88f6935d8c7",
   "metadata": {},
   "outputs": [],
   "source": []
  }
 ],
 "metadata": {
  "kernelspec": {
   "display_name": "Python 3 (ipykernel)",
   "language": "python",
   "name": "python3"
  },
  "language_info": {
   "codemirror_mode": {
    "name": "ipython",
    "version": 3
   },
   "file_extension": ".py",
   "mimetype": "text/x-python",
   "name": "python",
   "nbconvert_exporter": "python",
   "pygments_lexer": "ipython3",
   "version": "3.10.8"
  }
 },
 "nbformat": 4,
 "nbformat_minor": 5
}
