{
 "cells": [
  {
   "cell_type": "markdown",
   "id": "a714cae1-ca8b-4b1b-8aef-060cc8361fbe",
   "metadata": {},
   "source": [
    "#### Q1. Explain GET and POST methods.\n",
    "\n",
    "#### Ans:-GET and POST are two HTTP (Hypertext Transfer Protocol) methods used for communicating between a client (such as a web browser) and a web server\n",
    "\n",
    "#### GET Method:\n",
    "The GET method is used to retrieve data or information from a web server. When a client sends a GET request to a server, it is asking the server to retrieve a resource such as a webpage, an image, or some other data. The request is sent in the form of a URL (Uniform Resource Locator) that contains a query string with any additional parameters needed by the server to return the requested resource.\n",
    "\n",
    "The GET method has several characteristics:\n",
    "\n",
    "The request can be cached by the browser or any intermediary servers, making subsequent requests for the same resource faster.\n",
    "The request can be bookmarked and easily shared with others.\n",
    "The request is limited in the amount of data that can be sent, as the data is transmitted in the URL and may be limited by the maximum URL length imposed by the browser or server.\n",
    "\n",
    "#### POST Method:\n",
    "The POST method is used to submit data or information to a web server. When a client sends a POST request to a server, it is submitting data, such as a form submission, to the server. The request is sent in the form of an HTTP message body, which can contain any type of data, including binary data or text.\n",
    "\n",
    "The POST method has several characteristics:\n",
    "\n",
    "The request cannot be cached by the browser or intermediary servers, making subsequent requests slower.\n",
    "The request cannot be bookmarked or easily shared with others.\n",
    "The request has no limit to the amount of data that can be sent, as the data is transmitted in the message body.\n",
    "\n",
    "the GET method is used to retrieve data from a server, while the POST method is used to submit data to a server."
   ]
  },
  {
   "cell_type": "markdown",
   "id": "2561dca3-2010-40a6-8009-df2712202ece",
   "metadata": {},
   "source": [
    "#### Q2. Why is request used in Flask?\n",
    "\n",
    "#### Ans:-n Flask, the request object is used to represent a client's HTTP request that was made to a Flask application. The request object contains all the data sent by the client in the request, including form data, query string arguments, cookies, and uploaded files.\n",
    "\n",
    "The request object is an essential component of Flask because it allows the Flask application to process and respond to the client's request. The Flask application can use the request object to access data from the client's request, such as the form data, query string arguments, or cookies, and use that data to generate a response.\n",
    "\n",
    "Here are some common use cases for the request object in Flask:\n",
    "\n",
    "Retrieving form data - Flask applications often receive form submissions from clients, and the request object is used to retrieve the data that was submitted.\n",
    "\n",
    "Handling query string arguments - Clients can include additional data in the URL's query string, and the request object can be used to retrieve that data.\n",
    "\n",
    "Uploading files - When a client uploads a file to the Flask application, the request object is used to retrieve the uploaded file.\n",
    "\n",
    "Retrieving cookies - Clients can send cookies along with their requests, and the request object is used to retrieve those cookies.\n",
    "\n",
    "Overall, the request object is an important part of Flask because it provides a way for Flask applications to interact with client requests and retrieve data that can be used to generate a response."
   ]
  },
  {
   "cell_type": "markdown",
   "id": "2491f186-e44d-41c1-98a4-259985e1ad51",
   "metadata": {},
   "source": [
    "#### Q3. Why is redirect() used in Flask?\n",
    "\n",
    "#### Ans:- Redirection in Flask can be done by returning a redirect response object, created by invoking the redirect() function. The same method is used for redirecting to other routes on the same application and external websites\n",
    "#### redirect() function lets you redirect the user to a different URL by sending an HTTP response with status 302. The HTTP client (browser, Axios, etc.) will then \"follow\" the redirect and send an HTTP request to the new URL"
   ]
  },
  {
   "cell_type": "markdown",
   "id": "e11cf3a8-a4e1-4709-80f6-6513f911dd89",
   "metadata": {},
   "source": [
    "#### Q4. What are templates in Flask? Why is the render_template() function used?\n",
    "\n",
    "#### Ans:-Flask is a lightweight Python web framework that provides useful tools and features for creating web applications in the Python Language.\n",
    "\n",
    "#### Templates are files that contain static data as well as placeholders for dynamic data. A template is rendered with specific data to produce a final document. Flask uses the Jinja template library to render templates. In your application, you will use templates to render HTML which will display in the user's browser.\n",
    "\n",
    "#### Flask provides us the render_template() function which can be used to render the external HTML file to be returned as the response from the view function."
   ]
  },
  {
   "cell_type": "markdown",
   "id": "c5042591-3ff3-48a2-8cb2-eb6d91aa3a30",
   "metadata": {},
   "source": [
    "#### Q5. Create a simple API. Use Postman to test it. Attach the screenshot of the output in the Jupyter Notebook.\n",
    "\n"
   ]
  },
  {
   "cell_type": "markdown",
   "id": "31807469-dfdc-4158-adcc-433d9ef27a84",
   "metadata": {},
   "source": [
    "\n",
    "from flask import Flask,request ,render_template , jsonify\n",
    "\n",
    "app = Flask(__name__)\n",
    "\n",
    "\n",
    "@app.route('/')\n",
    "def home_page():\n",
    "    return render_template('index.html')\n",
    "\n",
    "\n",
    "@app.route('/math',methods=['POST'])\n",
    "def math_ops():\n",
    "    if(request.method == 'POST'):\n",
    "        ops = request.form['operation']\n",
    "        num1 = int(request.form['num1'])\n",
    "        num2 = int(request.form['num2'])\n",
    "        if ops == 'add':\n",
    "            r = num1+num2\n",
    "            result = \"The sum of \" + str(num1) + 'and ' + str(num2) + \"is \" + str(r)\n",
    "        if ops == 'subtract':\n",
    "            r = num1-num2\n",
    "            result = \"The subtract of \" + str(num1) + 'and ' + str(num2) + \"is \" + str(r)\n",
    "        if ops == 'multiply':\n",
    "            r = num1*num2\n",
    "            result = \"The multiply of \" + str(num1) + 'and ' + str(num2) + \"is \" + str(r)\n",
    "        if ops == 'divide':\n",
    "            r = num1/num2\n",
    "            result = \"The divide of \" + str(num1) + 'and ' + str(num2) + \"is \" + str(r)\n",
    "            \n",
    "        return render_template('results.html' , result = result)\n",
    "\n",
    "\n",
    "\n",
    "\n",
    "@app.route('/postman_action',methods=['POST'])\n",
    "def math_ops1():\n",
    "    if(request.method == 'POST'):\n",
    "        ops = request.json['operation']\n",
    "        num1 = int(request.json['num1'])\n",
    "        num2 = int(request.json['num2'])\n",
    "        if ops == 'add':\n",
    "            r = num1+num2\n",
    "            result = \"The sum of \" + str(num1) + 'and ' + str(num2) + \"is \" + str(r)\n",
    "        if ops == 'subtract':\n",
    "            r = num1-num2\n",
    "            result = \"The subtract of \" + str(num1) + 'and ' + str(num2) + \"is \" + str(r)\n",
    "        if ops == 'multiply':\n",
    "            r = num1*num2\n",
    "            result = \"The multiply of \" + str(num1) + 'and ' + str(num2) + \"is \" + str(r)\n",
    "        if ops == 'divide':\n",
    "            r = num1/num2\n",
    "            result = \"The divide of \" + str(num1) + 'and ' + str(num2) + \"is \" + str(r)\n",
    "            \n",
    "        return jsonify(result)\n",
    "\n",
    "if __name__==\"__main__\":\n",
    "    app.run(host=\"0.0.0.0\")\n",
    "\n"
   ]
  },
  {
   "cell_type": "markdown",
   "id": "41e28786-5fc0-46c8-8ca7-e71daa111a66",
   "metadata": {},
   "source": []
  }
 ],
 "metadata": {
  "kernelspec": {
   "display_name": "Python 3 (ipykernel)",
   "language": "python",
   "name": "python3"
  },
  "language_info": {
   "codemirror_mode": {
    "name": "ipython",
    "version": 3
   },
   "file_extension": ".py",
   "mimetype": "text/x-python",
   "name": "python",
   "nbconvert_exporter": "python",
   "pygments_lexer": "ipython3",
   "version": "3.10.8"
  }
 },
 "nbformat": 4,
 "nbformat_minor": 5
}
