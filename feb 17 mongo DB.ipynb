{
 "cells": [
  {
   "cell_type": "markdown",
   "id": "b65b186a-6618-4ae3-91de-7516b1e5f1c9",
   "metadata": {},
   "source": [
    "#### Q1. What is MongoDB? Explain non-relational databases in short. In which scenarios it is preferred to use\n",
    "     MongoDB over SQL databases?\n",
    "     \n",
    "     \n",
    "#### Ans:-MongoDB is a document-oriented, NoSQL database that uses a JSON-like format to store and manipulate data. It is designed to be highly scalable, flexible, and fast, making it a popular choice for modern, data-intensive applications.\n",
    "\n",
    "#### Non-relational databases, or NoSQL databases, are a type of database that don't use the traditional relational data model used by SQL databases. Instead, they use a variety of different data models, such as document-based, key-value, column-family, and graph. This allows for more flexibility in how data is stored and queried, and can be especially useful for applications that require high scalability or handle unstructured data.\n",
    "\n",
    "MongoDB is often preferred over SQL databases in scenarios where:\n",
    "\n",
    "There is a need to handle large volumes of unstructured or semi-structured data, as it allows for more flexible data modeling.\n",
    "There is a need for high scalability, as it can easily scale horizontally across multiple nodes.\n",
    "There is a need for high availability and fault tolerance, as it supports automatic failover and replication.\n",
    "There is a need for rapid application development, as it allows for easy integration with many modern programming languages and frameworks.\n",
    "Overall, MongoDB is a popular choice for modern web applications that require flexibility, scalability, and performance. However, it may not be the best choice for all scenarios, and should be evaluated on a case-by-case basis.\n",
    "\n",
    "\n",
    "\n"
   ]
  },
  {
   "cell_type": "markdown",
   "id": "5b6972b8-fc6f-442d-99e6-0b9bf964480f",
   "metadata": {},
   "source": [
    "#### Q2. State and Explain the features of MongoDB.\n",
    "\n",
    "#### Ans:-MongoDB is a popular NoSQL database that offers many powerful features that make it a flexible and scalable solution for modern data-driven applications. Some of the key features of MongoDB are:\n",
    "\n",
    "#### 1.Document-based data model: MongoDB uses a flexible document-based data model that allows for easy storage and retrieval of data in a JSON-like format. This makes it easy to represent complex relationships and hierarchical data structures.\n",
    "\n",
    "#### 2.Scalability: MongoDB is designed to scale horizontally across multiple nodes, which allows it to handle very large volumes of data and high levels of traffic. It also supports automatic sharding, which makes it easy to distribute data across multiple servers.\n",
    "\n",
    "#### 3.High availability: MongoDB supports automatic failover and replication, which ensures that data remains available even in the event of hardware failures or other disruptions.\n",
    "\n",
    "#### 4.Flexible querying: MongoDB offers a powerful query language that allows for complex searches, aggregation, and manipulation of data. It also supports indexing, which can greatly improve the performance of queries.\n",
    "\n",
    "#### 5.ACID transactions: MongoDB supports ACID transactions, which ensure that data is consistent and accurate even in the event of concurrent updates.\n",
    "\n",
    "#### 6.Integration with popular programming languages: MongoDB offers easy integration with many popular programming languages and frameworks, including Python, Java, Node.js, and Ruby on Rails.\n",
    "\n",
    "#### 7.Rich ecosystem: MongoDB has a large and active community, as well as a rich ecosystem of tools, libraries, and services that make it easy to work with and extend.\n",
    "\n",
    "Overall, MongoDB offers a powerful and flexible solution for modern data-driven applications that require scalability, high availability, and flexible data modeling. Its rich set of features, combined with its ease of use and wide support, make it a popular choice for many developers and organizations."
   ]
  },
  {
   "cell_type": "markdown",
   "id": "cd392b0d-8498-4593-8b42-ba94adab984c",
   "metadata": {},
   "source": [
    "#### Q3. Write a code to connect MongoDB to Python. Also, create a database and a collection in MongoDB.\n",
    "\n",
    "#### Ans:-To connect to MongoDB from Python, you'll need to use a MongoDB driver for Python. The most popular driver is pymongo, which you can install using pip."
   ]
  },
  {
   "cell_type": "code",
   "execution_count": 26,
   "id": "07a9e7b0-01a6-4d16-854e-26b7db248b06",
   "metadata": {},
   "outputs": [],
   "source": [
    "client = pymongo.MongoClient(\"mongodb+srv://PwSkillsDSM:<password>@cluster0.nas4low.mongodb.net/?retryWrites=true&w=majority\")\n",
    "db = client.test"
   ]
  },
  {
   "cell_type": "code",
   "execution_count": 2,
   "id": "c2db615e-5798-447f-b45c-0a870980cef2",
   "metadata": {},
   "outputs": [
    {
     "name": "stdout",
     "output_type": "stream",
     "text": [
      "Collecting pymongo\n",
      "  Downloading pymongo-4.3.3-cp310-cp310-manylinux_2_17_x86_64.manylinux2014_x86_64.whl (492 kB)\n",
      "\u001b[2K     \u001b[90m━━━━━━━━━━━━━━━━━━━━━━━━━━━━━━━━━━━━━━━\u001b[0m \u001b[32m492.9/492.9 kB\u001b[0m \u001b[31m6.3 MB/s\u001b[0m eta \u001b[36m0:00:00\u001b[0ma \u001b[36m0:00:01\u001b[0m\n",
      "\u001b[?25hCollecting dnspython<3.0.0,>=1.16.0\n",
      "  Downloading dnspython-2.3.0-py3-none-any.whl (283 kB)\n",
      "\u001b[2K     \u001b[90m━━━━━━━━━━━━━━━━━━━━━━━━━━━━━━━━━━━━━━\u001b[0m \u001b[32m283.7/283.7 kB\u001b[0m \u001b[31m36.1 MB/s\u001b[0m eta \u001b[36m0:00:00\u001b[0m\n",
      "\u001b[?25hInstalling collected packages: dnspython, pymongo\n",
      "Successfully installed dnspython-2.3.0 pymongo-4.3.3\n",
      "Note: you may need to restart the kernel to use updated packages.\n"
     ]
    }
   ],
   "source": [
    "pip install pymongo"
   ]
  },
  {
   "cell_type": "code",
   "execution_count": 28,
   "id": "5bb5e4ac-ba8e-4ab6-9368-38161f99c1bb",
   "metadata": {},
   "outputs": [
    {
     "data": {
      "text/plain": [
       "MongoClient(host=['ac-fbtbsro-shard-00-02.nas4low.mongodb.net:27017', 'ac-fbtbsro-shard-00-01.nas4low.mongodb.net:27017', 'ac-fbtbsro-shard-00-00.nas4low.mongodb.net:27017'], document_class=dict, tz_aware=False, connect=True, retrywrites=True, w='majority', authsource='admin', replicaset='atlas-gjwf75-shard-0', tls=True)"
      ]
     },
     "execution_count": 28,
     "metadata": {},
     "output_type": "execute_result"
    }
   ],
   "source": [
    "client"
   ]
  },
  {
   "cell_type": "code",
   "execution_count": 36,
   "id": "764d3756-0c8b-4786-8e52-caad2572a832",
   "metadata": {},
   "outputs": [],
   "source": [
    "client = pymongo.MongoClient(\"mongodb+srv://PwSkillsDSM:<password>@cluster0.nas4low.mongodb.net/?retryWrites=true&w=majority\")"
   ]
  },
  {
   "cell_type": "code",
   "execution_count": 37,
   "id": "ff68c6a8-1385-4c30-b27c-c275a41b3a1f",
   "metadata": {},
   "outputs": [],
   "source": [
    "mydb = client[\"PwSkillsDSM\"]"
   ]
  },
  {
   "cell_type": "code",
   "execution_count": 30,
   "id": "28872eb8-6c7d-4748-9f88-7ebf6c42ce94",
   "metadata": {},
   "outputs": [],
   "source": [
    "coll_create = db[\"my_record\"]"
   ]
  },
  {
   "cell_type": "code",
   "execution_count": null,
   "id": "db36f719-6082-4b63-9d3b-0c25eb40deed",
   "metadata": {},
   "outputs": [],
   "source": []
  },
  {
   "cell_type": "code",
   "execution_count": 12,
   "id": "2e0ef45c-6641-485a-a249-79fe57f4ef37",
   "metadata": {},
   "outputs": [],
   "source": [
    "import pymongo\n",
    "\n",
    "# Create a client instance of pymongo with the connection URL to your MongoDB server\n",
    "client = client = pymongo.MongoClient(\"mongodb+srv://PwSkillsDSM:<password>@cluster0.nas4low.mongodb.net/?retryWrites=true&w=majority\")\n",
    "\n",
    "\n",
    "# Create a database named 'mydatabase'\n",
    "mydb = client[\"mydatabase\"]\n",
    "\n",
    "# Create a collection named 'mycollection'\n",
    "mycol = mydb[\"mycollection\"]\n"
   ]
  },
  {
   "cell_type": "markdown",
   "id": "56bdd202-f02c-46a8-8a50-f7a704e136ad",
   "metadata": {},
   "source": [
    "#### Q4. Using the database and the collection created in question number 3, write a code to insert one record,\n",
    "and insert many records. Use the find() and find_one() methods to print the inserted record.\n",
    "\n",
    "#### Ans:-"
   ]
  },
  {
   "cell_type": "code",
   "execution_count": null,
   "id": "0f6fbbcd-ba88-4b91-8370-24c46f971d40",
   "metadata": {},
   "outputs": [],
   "source": [
    "import pymongo\n",
    "\n",
    "# Create a client instance of pymongo with the connection URL to your MongoDB server\n",
    "client = client = pymongo.MongoClient(\"mongodb+srv://PwSkillsDSM:<password>@cluster0.nas4low.mongodb.net/?retryWrites=true&w=majority\")\n",
    "\n",
    "\n",
    "# Create a database named 'mydatabase'\n",
    "mydb = client[\"mydatabase\"]\n",
    "\n",
    "# Create a collection named 'mycollection'\n",
    "mycol = mydb[\"mycollection\"]\n",
    "\n",
    "# Insert one record\n",
    "record = {\"name\": \"John\", \"age\": 35, \"city\": \"New York\"}\n",
    "result = mycol.insert_one(record)\n",
    "print(\"Inserted one record: \", result.inserted_id)\n",
    "\n",
    "# Insert many records\n",
    "records = [\n",
    "    {\"name\": \"Alice\", \"age\": 25, \"city\": \"London\"},\n",
    "    {\"name\": \"Bob\", \"age\": 30, \"city\": \"Paris\"},\n",
    "    {\"name\": \"Charlie\", \"age\": 40, \"city\": \"Tokyo\"}\n",
    "]\n",
    "result = mycol.insert_many(records)\n",
    "print(\"Inserted many records: \", result.inserted_ids)\n",
    "\n",
    "# Find one record\n",
    "one_record = mycol.find_one({\"name\": \"John\"})\n",
    "print(\"Found one record: \", one_record)\n",
    "\n",
    "# Find all records\n",
    "all_records = mycol.find()\n",
    "for record in all_records:\n",
    "    print(record)"
   ]
  },
  {
   "cell_type": "markdown",
   "id": "0b4f53b8-e62f-4da1-8c38-5ae53bd20e8e",
   "metadata": {},
   "source": [
    "#### Q5. Explain how you can use the find() method to query the MongoDB database. Write a simple code to\n",
    "demonstrate this.\n",
    "\n",
    "#### Ans:-The find() method is used to query a MongoDB collection for documents that match a specified filter criteria. The method takes a dictionary object as a parameter, representing the query filter."
   ]
  },
  {
   "cell_type": "code",
   "execution_count": null,
   "id": "dce7d51a-6d70-4d4b-b474-7ff294393929",
   "metadata": {},
   "outputs": [],
   "source": [
    "import pymongo\n",
    "\n",
    "# Create a client instance of pymongo with the connection URL to your MongoDB server\n",
    "client = pymongo.MongoClient(\"mongodb://localhost:27017/\")\n",
    "\n",
    "# Create a database named 'mydatabase'\n",
    "mydb = client[\"mydatabase\"]\n",
    "\n",
    "# Create a collection named 'mycollection'\n",
    "mycol = mydb[\"mycollection\"]\n",
    "\n",
    "# Define a filter criteria\n",
    "filter = {\"city\": \"London\"}\n",
    "\n",
    "# Find all documents in the collection that match the filter criteria\n",
    "result = mycol.find(filter)\n",
    "\n",
    "# Print the result\n",
    "for document in result:\n",
    "    print(document)\n"
   ]
  },
  {
   "cell_type": "markdown",
   "id": "77b83710-bc1c-4cd1-a623-e4797c842876",
   "metadata": {},
   "source": [
    "#### Q6. Explain the sort() method. Give an example to demonstrate sorting in MongoDB.\n",
    "\n",
    "#### Ans:-The sort() method in MongoDB is used to sort the results of a query in ascending or descending order based on one or more fields. The method takes one or more fields as arguments, and a value of 1 or -1 to indicate the order of sorting."
   ]
  },
  {
   "cell_type": "code",
   "execution_count": null,
   "id": "8ee2ab96-1c09-4b79-89e6-74f7f565387b",
   "metadata": {},
   "outputs": [],
   "source": [
    "import pymongo\n",
    "\n",
    "# Create a client instance of pymongo with the connection URL to your MongoDB server\n",
    "client = pymongo.MongoClient(\"mongodb://localhost:27017/\")\n",
    "\n",
    "# Create a database named 'mydatabase'\n",
    "mydb = client[\"mydatabase\"]\n",
    "\n",
    "# Create a collection named 'mycollection'\n",
    "mycol = mydb[\"mycollection\"]\n",
    "\n",
    "# Insert some sample records\n",
    "records = [\n",
    "    {\"name\": \"John\", \"age\": 35, \"city\": \"New York\"},\n",
    "    {\"name\": \"Alice\", \"age\": 25, \"city\": \"London\"},\n",
    "    {\"name\": \"Bob\", \"age\": 30, \"city\": \"Paris\"},\n",
    "    {\"name\": \"Charlie\", \"age\": 40, \"city\": \"Tokyo\"}\n",
    "]\n",
    "mycol.insert_many(records)\n",
    "\n",
    "# Sort the records in ascending order by age\n",
    "result = mycol.find().sort(\"age\", 1)\n",
    "for document in result:\n",
    "    print(document)\n",
    "\n",
    "# Sort the records in descending order by age\n",
    "result = mycol.find().sort(\"age\", -1)\n",
    "for document in result:\n",
    "    print(document)\n"
   ]
  },
  {
   "cell_type": "markdown",
   "id": "6fe63e26-946f-46e4-b85d-abeb7b07edfe",
   "metadata": {},
   "source": [
    "#### Q7. Explain why delete_one(), delete_many(), and drop() is used.\n",
    "\n",
    "#### Ans:-In MongoDB, the delete_one(), delete_many(), and drop() methods are used to remove data from a collection or remove the entire collection itself.\n",
    "\n",
    "The delete_one() method is used to delete a single document that matches a given filter criteria. For example, you might use delete_one() to delete a document with a specific ID. The syntax for delete_one() is\n"
   ]
  },
  {
   "cell_type": "code",
   "execution_count": null,
   "id": "24cd08a1-d421-4dfc-9db0-7fa3aa7cf1b9",
   "metadata": {},
   "outputs": [],
   "source": [
    "collection.delete_one(filter)\n"
   ]
  },
  {
   "cell_type": "markdown",
   "id": "c6ccea9a-3cf5-4940-abe3-1f484f69e86e",
   "metadata": {},
   "source": [
    "#### The delete_many() method is used to delete multiple documents that match a given filter criteria. For example, you might use delete_many() to delete all documents where a certain field has a specific value. The syntax for delete_many() is:"
   ]
  },
  {
   "cell_type": "code",
   "execution_count": null,
   "id": "949b634c-23f5-4efb-a745-259df8e3d372",
   "metadata": {},
   "outputs": [],
   "source": [
    "collection.delete_many(filter)\n"
   ]
  },
  {
   "cell_type": "markdown",
   "id": "fa9c644d-710c-448c-bd5d-5b20dcd4fa3e",
   "metadata": {},
   "source": [
    "#### The drop() method is used to remove an entire collection from the database. This method permanently deletes all the documents in the collection and the collection itself. The syntax for drop() is:"
   ]
  },
  {
   "cell_type": "code",
   "execution_count": null,
   "id": "1ab8423e-a4df-4c22-95a1-4e2d1fa5e19b",
   "metadata": {},
   "outputs": [],
   "source": [
    "collection.drop()\n"
   ]
  },
  {
   "cell_type": "code",
   "execution_count": null,
   "id": "b2c7b8a2-1e02-4dfa-84cc-47f8c66dfb0d",
   "metadata": {},
   "outputs": [],
   "source": []
  }
 ],
 "metadata": {
  "kernelspec": {
   "display_name": "Python 3 (ipykernel)",
   "language": "python",
   "name": "python3"
  },
  "language_info": {
   "codemirror_mode": {
    "name": "ipython",
    "version": 3
   },
   "file_extension": ".py",
   "mimetype": "text/x-python",
   "name": "python",
   "nbconvert_exporter": "python",
   "pygments_lexer": "ipython3",
   "version": "3.10.8"
  }
 },
 "nbformat": 4,
 "nbformat_minor": 5
}
