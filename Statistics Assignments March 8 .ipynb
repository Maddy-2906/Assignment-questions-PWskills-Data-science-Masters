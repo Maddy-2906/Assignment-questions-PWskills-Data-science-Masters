{
 "cells": [
  {
   "cell_type": "markdown",
   "id": "2e049907-2f0f-491c-a5e9-7058852ce01c",
   "metadata": {},
   "source": [
    "#### Q1. What is the Probability density function?\n",
    "\n",
    "#### Ans:- The Probability Density Function (PDF) is a function used to describe the probability distribution of a continuous random variable. It provides the relative likelihood of the random variable taking on a particular value or range of values.\n",
    "\n",
    "The PDF of a continuous random variable f(x) satisfies the following conditions:\n",
    "\n",
    "#### f(x) is non-negative for all values of x.\n",
    "#### The area under the curve of f(x) is equal to 1 over the entire range of x.\n",
    "#### The probability of observing a particular value of x is equal to the area under the curve of f(x) between x and x + dx.\n",
    "\n",
    "The PDF is often used to find the probability of a continuous random variable taking on a specific value or range of values. This is done by integrating the PDF over the desired range of values.\n",
    "\n",
    "For example, suppose we have a continuous random variable X that is normally distributed with mean µ = 10 and standard deviation σ = 2. We can find the probability of X taking on a value between 8 and 12 using the PDF of the normal distribution, which is given by:\n",
    "\n",
    "#### f(x) = (1 / (sqrt(2 * pi) * sigma)) * e^((-1/2) * ((x - µ) / sigma)^2)\n",
    "\n",
    "By integrating this function between 8 and 12, we can find the probability of X taking on a value between these two values."
   ]
  },
  {
   "cell_type": "markdown",
   "id": "3a4bd6c9-a5bd-4eeb-b4c9-bc447e5d7433",
   "metadata": {},
   "source": [
    "#### Q2. What are the types of Probability distribution?\n",
    "\n",
    "#### Ans:- Bernoulli Distribution: A discrete distribution that describes the probability of a binary outcome, such as success or failure.\n",
    "\n",
    "#### Binomial Distribution: A discrete distribution that describes the probability of a certain number of successes in a fixed number of independent trials.\n",
    "\n",
    "#### Poisson Distribution: A discrete distribution that describes the probability of a certain number of events occurring within a fixed interval of time or space.\n",
    "\n",
    "#### Geometric Distribution: A discrete distribution that describes the probability of the number of trials required to achieve the first success.\n",
    "\n",
    "#### Uniform Distribution: A continuous distribution where all values within a given range have an equal probability of occurring.\n",
    "\n",
    "#### Normal Distribution: A continuous distribution that describes the probability of a random variable taking on a value within a range of values.\n",
    "\n",
    "#### Exponential Distribution: A continuous distribution that describes the probability of the time between events in a Poisson process.\n",
    "\n",
    "#### Gamma Distribution: A continuous distribution that describes the probability of the sum of a number of exponentially distributed random variables.\n",
    "\n",
    "#### Beta Distribution: A continuous distribution that describes the probability of a random variable taking on a value between 0 and 1."
   ]
  },
  {
   "cell_type": "markdown",
   "id": "2a240d45-04e7-4ad9-ab97-d331bb17e3a7",
   "metadata": {},
   "source": [
    "#### Q3. Write a Python function to calculate the probability density function of a normal distribution with given mean and standard deviation at a given point.\n",
    "\n"
   ]
  },
  {
   "cell_type": "code",
   "execution_count": 2,
   "id": "5dcb1c9e-091b-4c34-b1b8-4254d2a6ed5e",
   "metadata": {},
   "outputs": [
    {
     "name": "stdout",
     "output_type": "stream",
     "text": [
      "0.01752830049356854\n"
     ]
    }
   ],
   "source": [
    "import math\n",
    "\n",
    "def normal_pdf(x, mean, std_dev):\n",
    "    \"\"\"\n",
    "    Calculates the probability density function of a normal distribution\n",
    "    with a given mean and standard deviation at a given point x.\n",
    "    \"\"\"\n",
    "    variance = std_dev**2\n",
    "    exp_term = math.exp(-(x-mean)**2 / (2*variance))\n",
    "    coef = 1 / (math.sqrt(2*math.pi*variance))\n",
    "    return coef * exp_term\n",
    "pdf_value = normal_pdf(2.5, 0, 1)\n",
    "print(pdf_value)\n",
    "\n"
   ]
  },
  {
   "cell_type": "markdown",
   "id": "f0408198-653a-4835-a266-3bcfd8b1186d",
   "metadata": {},
   "source": [
    "#### Q4. What are the properties of Binomial distribution? Give two examples of events where binomial distribution can be applied.\n",
    "\n",
    "#### Ans:- The properties of the binomial distribution are:\n",
    "\n",
    "#### The number of trials n is fixed.\n",
    "#### Each trial is independent.\n",
    "#### Each trial has only two outcomes: success or failure.\n",
    "#### The probability of success p is constant for each trial.\n",
    "#### The trials are identical.\n",
    "\n",
    "Two examples of events where the binomial distribution can be applied are:\n",
    "\n",
    "#### Flipping a coin: When flipping a fair coin, the probability of getting heads is 0.5 and the probability of getting tails is also 0.5. If we flip the coin n times, we can model the number of heads we get as a binomial distribution with parameters n and p=0.5.\n",
    "\n",
    "#### Quality control in manufacturing: A company is testing a batch of 1000 products to check how many of them are defective. If the probability of a product being defective is p=0.05, we can model the number of defective products as a binomial distribution with parameters n=1000 and p=0.05. This can help the company determine if their manufacturing process is producing an acceptable level of defective products."
   ]
  },
  {
   "cell_type": "markdown",
   "id": "09735a18-b740-4d7c-8604-e38d4b09d182",
   "metadata": {},
   "source": [
    "#### Q5. Generate a random sample of size 1000 from a binomial distribution with probability of success 0.4 and plot a histogram of the results using matplotlib.\n",
    "\n"
   ]
  },
  {
   "cell_type": "code",
   "execution_count": 3,
   "id": "26edd20a-da91-422a-9056-f01fdb60ebdd",
   "metadata": {},
   "outputs": [
    {
     "data": {
      "image/png": "[encoded data removed]",
      "text/plain": [
       "<Figure size 640x480 with 1 Axes>"
      ]
     },
     "metadata": {},
     "output_type": "display_data"
    }
   ],
   "source": [
    "import numpy as np\n",
    "import matplotlib.pyplot as plt\n",
    "\n",
    "# Generate random sample from binomial distribution\n",
    "n = 1000 # sample size\n",
    "p = 0.4 # probability of success\n",
    "sample = np.random.binomial(n, p, size=n)\n",
    "\n",
    "# Plot histogram\n",
    "plt.hist(sample, bins=20, density=True, alpha=0.5)\n",
    "plt.xlabel('Number of successes')\n",
    "plt.ylabel('Probability density')\n",
    "plt.title('Binomial distribution with n=1000 and p=0.4')\n",
    "plt.show()\n"
   ]
  },
  {
   "cell_type": "markdown",
   "id": "50112095-64cf-4850-b89f-d6dd262e6123",
   "metadata": {},
   "source": [
    "#### Q6. Write a Python function to calculate the cumulative distribution function of a Poisson distribution with given mean at a given point."
   ]
  },
  {
   "cell_type": "code",
   "execution_count": 5,
   "id": "b9b00df3-a2cd-4bc2-b4f3-cac50b1da63e",
   "metadata": {},
   "outputs": [
    {
     "name": "stdout",
     "output_type": "stream",
     "text": [
      "0.3208471988621341\n"
     ]
    }
   ],
   "source": [
    "import math\n",
    "\n",
    "def poisson_cdf(mu, k):\n",
    "    cdf = 0\n",
    "    for i in range(k+1):\n",
    "        cdf += math.exp(-mu) * mu**i / math.factorial(i)\n",
    "    return cdf\n",
    "\n",
    "# Example usage:\n",
    "mu = 3.5\n",
    "k = 2\n",
    "cdf = poisson_cdf(mu, k)\n",
    "print(cdf)\n"
   ]
  },
  {
   "cell_type": "markdown",
   "id": "5373cbc3-8e99-4c51-9c78-1c27969931fb",
   "metadata": {},
   "source": [
    "#### Q7. How Binomial distribution different from Poisson distribution?\n",
    "\n",
    "#### Ans:-Binomial and Poisson distributions are both discrete probability distributions, but they are used to model different types of events.\n",
    "\n",
    "#### Binomial distribution is used to model the number of successes in a fixed number of independent trials, where the probability of success is the same for each trial. The trials are considered independent because the outcome of each trial does not affect the outcome of the others. The parameters of the binomial distribution are the number of trials and the probability of success.\n",
    "\n",
    "#### Poisson distribution, on the other hand, is used to model the number of occurrences of an event in a fixed interval of time or space, where the occurrences are rare and random. Poisson distribution assumes that the events occur independently of each other, and the probability of occurrence is constant over time or space. The parameter of the Poisson distribution is the rate of occurrence of the events.\n",
    "\n",
    "the binomial distribution is bell-shaped and symmetric when the number of trials is large and the probability of success is not too close to 0 or 1. The Poisson distribution is also bell-shaped, but it is skewed to the right when the rate of occurrence is small and to the left when the rate is large.\n",
    "\n",
    "In summary, the main difference between binomial and Poisson distributions is the type of event they model and the parameters they use to do so."
   ]
  },
  {
   "cell_type": "markdown",
   "id": "79aed271-e6ff-49e6-b8d7-ae1189e89b16",
   "metadata": {},
   "source": [
    "#### Q8. Generate a random sample of size 1000 from a Poisson distribution with mean 5 and calculate the sample mean and variance.\n",
    "\n"
   ]
  },
  {
   "cell_type": "code",
   "execution_count": 9,
   "id": "9e8e482b-057f-463f-87eb-859b1f68cdf0",
   "metadata": {},
   "outputs": [
    {
     "name": "stdout",
     "output_type": "stream",
     "text": [
      "Sample Mean: 5.028\n",
      "Sample Variance: 5.697216\n"
     ]
    }
   ],
   "source": [
    "import numpy as np\n",
    "\n",
    "sample = np.random.poisson(5, 1000)\n",
    "sample_mean = np.mean(sample)\n",
    "sample_variance = np.var(sample)\n",
    "\n",
    "print(\"Sample Mean:\", sample_mean)\n",
    "print(\"Sample Variance:\", sample_variance)\n"
   ]
  },
  {
   "cell_type": "markdown",
   "id": "e6916c65-f105-43fc-af2b-bb092c81ba2a",
   "metadata": {},
   "source": [
    "#### Q9. How mean and variance are related in Binomial distribution and Poisson distribution?\n",
    "\n",
    "#### Ans:-binomial distribution, the mean (μ) is equal to the product of the number of trials (n) and the probability of success (p), i.e. μ = np. The variance (σ^2) is equal to the product of the number of trials, the probability of success, and the probability of failure (q = 1-p), i.e. σ^2 = npq.\n",
    "\n",
    "In a Poisson distribution, the mean (μ) and variance (σ^2) are both equal to the parameter λ, i.e. μ = λ and σ^2 = λ.\n",
    "\n",
    "So in both distributions, the mean and variance are related by a fixed constant. In the case of the binomial distribution, the variance is equal to the mean multiplied by the probability of failure. In the case of the Poisson distribution, the mean and variance are equal to each other."
   ]
  },
  {
   "cell_type": "markdown",
   "id": "8bfbac34-5393-4570-ab15-6cd7cd864517",
   "metadata": {},
   "source": [
    "#### Q10. In normal distribution with respect to mean position, where does the least frequent data appear?\n",
    "\n",
    "#### Ans:-normal distribution, the least frequent data appears in the tails of the distribution, which are the regions furthest away from the mean. Specifically, the data that falls beyond two standard deviations from the mean in either direction is considered to be infrequent, as it represents less than 5% of the total data under the curve."
   ]
  },
  {
   "cell_type": "code",
   "execution_count": null,
   "id": "3c942e12-0404-4d34-8180-67aa42aecd11",
   "metadata": {},
   "outputs": [],
   "source": []
  }
 ],
 "metadata": {
  "kernelspec": {
   "display_name": "Python 3 (ipykernel)",
   "language": "python",
   "name": "python3"
  },
  "language_info": {
   "codemirror_mode": {
    "name": "ipython",
    "version": 3
   },
   "file_extension": ".py",
   "mimetype": "text/x-python",
   "name": "python",
   "nbconvert_exporter": "python",
   "pygments_lexer": "ipython3",
   "version": "3.10.8"
  }
 },
 "nbformat": 4,
 "nbformat_minor": 5
}
