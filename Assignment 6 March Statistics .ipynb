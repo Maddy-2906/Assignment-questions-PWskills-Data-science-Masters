{
 "cells": [
  {
   "cell_type": "markdown",
   "id": "09341ef5-228e-4685-b018-64d52c4203ec",
   "metadata": {},
   "source": [
    "#### Q1. What is Statistics?\n",
    "\n",
    "#### Ans:-Statistics is a branch of mathematics that involves the collection, analysis, interpretation, presentation, and organization of data. It is a discipline that uses quantitative methods to extract meaningful information from data and draw conclusions based on that information. Statistics is used in a wide range of fields, including science, engineering, economics, social sciences, medicine, and business, to help make decisions, predictions, and estimations. \n",
    "\n",
    "#### Statistical inference\n",
    "#### Hypothesis testing\n",
    "#### Regression analysis\n",
    "#### Data visualization. \n",
    "\n",
    "#### Statistics plays a crucial role in research and decision-making processes, as it provides a systematic approach to dealing with uncertainty and variability in data"
   ]
  },
  {
   "cell_type": "markdown",
   "id": "a66ea2ea-9274-48d2-a6db-132ed50d4e4b",
   "metadata": {},
   "source": [
    "#### Q2. Define the different types of statistics and give an example of when each type might be used.\n",
    "\n",
    "#### Ans:-There are two main types of statistics: descriptive statistics and inferential statistics.\n",
    "\n",
    "#### Descriptive Statistics: Descriptive statistics involves the collection, analysis, and presentation of data in order to provide a summary of its main characteristics. This type of statistics is used to describe and summarize data in a meaningful way, such as calculating measures of central tendency (mean, median, mode) and measures of variability (standard deviation, range, interquartile range).\n",
    "\n",
    "#### For example, \n",
    "#### in a survey of the ages of a group of people, descriptive statistics could be used to calculate the average age, the range of ages, and the proportion of people in different age groups.\n",
    "\n",
    "#### Inferential Statistics: Inferential statistics involves the use of sample data to make predictions or inferences about a larger population. This type of statistics is used to draw conclusions about a population based on a sample, while accounting for the variability and uncertainty that exists in the data. Inferential statistics is used to test hypotheses and make decisions based on the results. \n",
    "\n",
    "#### For example, \n",
    "##### in a medical study, inferential statistics could be used to determine if a new treatment is effective by comparing the outcomes of a treatment group to a control group.\n",
    "\n",
    "#### Both types of statistics are important and complement each other in data analysis. Descriptive statistics provides a summary of the data, while inferential statistics allows us to make predictions and draw conclusions about a population based on sample data."
   ]
  },
  {
   "cell_type": "markdown",
   "id": "1daf4dde-0d72-4355-add9-162f8341f828",
   "metadata": {},
   "source": [
    "#### Q3. What are the different types of data and how do they differ from each other? Provide an example of each type of data.\n",
    "\n",
    "#### Ans:- There are four main types of data: nominal, ordinal, interval, and ratio.\n",
    "\n",
    "#### Nominal Data: Nominal data is a categorical data type that represents data in categories or groups that do not have any inherent order or ranking. Nominal data can be represented using words or numbers, and the categories are mutually exclusive. Examples of nominal data include gender, race, and marital status.\n",
    "\n",
    "#### Ordinal Data: Ordinal data is a categorical data type that represents data in categories or groups that have a specific order or ranking. The categories can be ranked from lowest to highest or vice versa, but the differences between the categories are not necessarily equal. Examples of ordinal data include rating scales, such as movie ratings, and educational levels, such as high school diploma, bachelor's degree, and master's degree.\n",
    "\n",
    "#### Interval Data: Interval data is a numerical data type that represents data on a scale where the differences between values are equal, but there is no true zero point. The zero point represents an arbitrary value rather than an absence of the variable being measured. Examples of interval data include temperature measured in Celsius or Fahrenheit and dates on a calendar.\n",
    "\n",
    "#### Ratio Data: Ratio data is a numerical data type that represents data on a scale where the differences between values are equal, and there is a true zero point. The zero point represents the complete absence of the variable being measured. Examples of ratio data include weight, height, and distance.\n",
    "\n",
    "##### Each type of data differs in terms of its measurement scale and the type of operations that can be performed on it. Nominal data and ordinal data are considered categorical data types, while interval data and ratio data are considered quantitative data types. Quantitative data types can be further divided into discrete and continuous data types based on whether the values are countable or measured on a continuous scale. Understanding the type of data being analyzed is important for selecting appropriate statistical methods and drawing accurate conclusions from the data."
   ]
  },
  {
   "cell_type": "markdown",
   "id": "16f621a5-6609-4e81-8421-903371c9b43d",
   "metadata": {},
   "source": [
    "#### Q4. Categorise the following datasets with respect to quantitative and qualitative data types:\n",
    "#### (i) Grading in exam: A+, A, B+, B, C+, C, D, E\n",
    "#### (ii) Colour of mangoes: yellow, green, orange, red\n",
    "#### (iii) Height data of a class: [178.9, 179, 179.5, 176, 177.2, 178.3, 175.8,...]\n",
    "#### (iv) Number of mangoes exported by a farm: [500, 600, 478, 672, ...]\n",
    "\n",
    "\n",
    "#### Ans:-(i) Grading in exam: A+, A, B+, B, C+, C, D, E is a Data type: Qualitative, specifically ordinal\n",
    "\n",
    "#### (ii) Colour of mangoes: yellow, green, orange, red is a Data type: Qualitative, specifically nominal\n",
    "#### (iii) Height data of a class: [178.9, 179, 179.5, 176, 177.2, 178.3, 175.8,...] is a Data type: Quantitative, specifically continuous\n",
    "#### (iv) Number of mangoes exported by a farm: [500, 600, 478, 672, ...] is a Data type: Quantitative, specifically discrete\n",
    "\n",
    "\n",
    "#### qualitative data is non-numeric and represents attributes or characteristics, while quantitative data is numeric and represents measurements or quantities. Qualitative data can be further divided into nominal and ordinal data types, while quantitative data can be further divided into discrete and continuous data types."
   ]
  },
  {
   "cell_type": "markdown",
   "id": "f0454406-af31-486d-b275-2cd72539493b",
   "metadata": {},
   "source": [
    "#### Q5. Explain the concept of levels of measurement and give an example of a variable for each level.\n",
    "\n",
    "#### Ans:- Nominal Level: The nominal level of measurement is the most basic level of measurement and is used to categorize data into mutually exclusive categories. Data at this level can only be named, not ordered or measured. Examples of nominal level variables include gender (male/female), political party affiliation (Democrat/Republican), and eye color (brown/blue/green).\n",
    "\n",
    "####  Ordinal Level: The ordinal level of measurement involves data that can be placed in order, but the differences between the values cannot be determined. This level of measurement is used to categorize data that can be ranked or ordered, but there is no meaningful way to compare the difference between two data points. Examples of ordinal level variables include education level (high school diploma, associate's degree, bachelor's degree, master's degree, etc.), letter grades (A, B, C, D, F), and survey responses on a Likert scale (strongly agree, agree, neutral, disagree, strongly disagree).\n",
    "\n",
    "####  Interval Level: The interval level of measurement involves data that can be ordered and measured, but there is no true zero point. Data at this level can be added, subtracted, and averaged, but multiplication and division are not meaningful. Examples of interval level variables include temperature measured in Celsius or Fahrenheit and dates on a calendar.\n",
    "\n",
    "####  Ratio Level: The ratio level of measurement involves data that can be ordered and measured, and there is a true zero point. Data at this level can be added, subtracted, multiplied, and divided, and meaningful ratios can be calculated. Examples of ratio level variables include height, weight, time, and distance.\n",
    "\n",
    "####  Understanding the level of measurement of a variable is important in determining the appropriate statistical methods that can be used to analyze the data. It also helps to ensure that appropriate conclusions are drawn from the data and that meaningful inferences can be made."
   ]
  },
  {
   "cell_type": "markdown",
   "id": "db33412e-4a75-4d0d-8b2f-f1e807e286f6",
   "metadata": {},
   "source": [
    "#### Q6. Why is it important to understand the level of measurement when analyzing data? Provide an example to illustrate your answer.\n",
    "\n",
    "#### It is important to understand the level of measurement when analyzing data because different statistical techniques are appropriate for different types of data. Understanding the level of measurement can help determine which statistical tests are appropriate to use, how to summarize and interpret the data, and which types of graphs or charts are most appropriate for visualizing the data\n",
    "\n",
    "Suppose a company wants to evaluate the job satisfaction of its employees. To do this, they create a survey with questions such as \"Are you satisfied with your salary?\" and \"Do you feel respected by your colleagues?\". The employees are asked to answer on a 5-point Likert scale, with 1 indicating \"strongly disagree\" and 5 indicating \"strongly agree\".\n",
    "\n",
    "If the company analyzes the data without considering the level of measurement, they may draw inaccurate conclusions. For example, if they treat the data as nominal data, they can only report the frequency of responses in each category. They would not be able to determine if employees who responded \"strongly agree\" are more satisfied than those who responded \"agree\". They would only know that more employees fall into the \"agree\" category than in the \"disagree\" category.\n",
    "\n",
    "If the company treats the data as ordinal data, they can calculate the median score for each question and make comparisons between questions. However, they would not be able to assume that the differences between each point on the scale are equal. They would only know that the median response for the question \"Are you satisfied with your salary?\" is higher than for the question \"Do you feel respected by your colleagues?\".\n",
    "\n",
    "If the company treats the data as interval or ratio data, they can calculate the mean score for each question and make more precise comparisons. They would know that the average response for the question \"Are you satisfied with your salary?\" is higher than for the question \"Do you feel respected by your colleagues?\", and the magnitude of the difference between the two questions.\n",
    "\n",
    "Therefore, understanding the level of measurement of the survey questions is crucial in determining the appropriate statistical methods to use and interpreting the results accurately."
   ]
  },
  {
   "cell_type": "markdown",
   "id": "24e91fa5-e82f-4b14-a821-61f0c4c5c7dc",
   "metadata": {},
   "source": [
    "#### Q7. How nominal data type is different from ordinal data type.\n",
    "\n",
    "#### Ans:-Nominal and ordinal data types are two distinct levels of measurement used in statistics\n",
    "\n",
    "#### Nominal data refers to data that can be categorized or named but cannot be ranked or ordered. Examples of nominal data include the color of cars, the brand of smartphones, and the gender of individuals. Nominal data can only be analyzed using frequency counts or proportions.\n",
    "\n",
    "#### Ordinal data, on the other hand, refers to data that can be ranked or ordered but the distance between the values is not meaningful. Examples of ordinal data include the ranking of athletes in a race, the level of education attained by individuals (e.g. elementary school, high school, bachelor's degree, master's degree, Ph.D.), and the severity of a disease (e.g. mild, moderate, severe). Ordinal data can be analyzed using non-parametric statistical methods that compare the rankings or orders of the data.\n",
    "\n",
    "#### The key difference between nominal and ordinal data is that nominal data can only be categorized or named, whereas ordinal data can be ranked or ordered. However, ordinal data cannot be used to make meaningful comparisons of the distance between the values, while interval or ratio data can."
   ]
  },
  {
   "cell_type": "markdown",
   "id": "26039e4a-4f7f-425b-941c-0cc58ec369ca",
   "metadata": {},
   "source": [
    "#### Q8. Which type of plot can be used to display data in terms of range?\n",
    "\n",
    "#### Ans:-A range is a measure of the spread of data and is defined as the difference between the largest and smallest values in a dataset. To display data in terms of range, a box plot or a range plot can be used\n",
    "#### A box plot, also known as a box-and-whisker plot, is a graph that displays the distribution of a dataset based on five summary statistics: the minimum value, the first quartile (Q1), the median, the third quartile (Q3), and the maximum value. The box in the plot represents the interquartile range (IQR), which is the distance between the first and third quartiles. The whiskers extend from the box to the minimum and maximum values, excluding outliers. A box plot can be used to identify the range of the dataset and to visualize the spread of the data, as well as the skewness and the presence of outliers.\n",
    "\n",
    "#### A range plot, also known as a high-low plot, is a graph that displays the range of a dataset using vertical lines or bars. The bottom and top of each bar represent the minimum and maximum values, respectively, and a dot or a horizontal line is used to indicate the mean or median value. A range plot is useful for displaying changes in the range of the data over time or for comparing the ranges of different datasets\n",
    "\n",
    "#### both box plots and range plots are effective ways to display data in terms of range, and the choice between them will depend on the specific goals of the analysis and the characteristics of the dataset."
   ]
  },
  {
   "cell_type": "markdown",
   "id": "a58dd448-8b0e-43e0-b4d4-e9b156bb1c89",
   "metadata": {},
   "source": [
    "#### Q9. Describe the difference between descriptive and inferential statistics. Give an example of each type of statistics and explain how they are used.\n",
    "\n",
    "#### Ans:-Descriptive statistics refers to the analysis and summarization of data using numerical measures and graphical representations. The primary goal of descriptive statistics is to describe and summarize the main features of a dataset, such as its central tendency, variability, and distribution. Descriptive statistics can be used to answer questions such as \"What is the average salary of employees in this company?\" or \"How many students received an A grade in this class?\"\n",
    "\n",
    "#### Examples of descriptive statistics include measures such as mean, median, mode, standard deviation, variance, and frequency distributions. Descriptive statistics are useful for providing a quick and concise summary of a dataset and for identifying patterns and trends in the data.\n",
    "\n",
    "#### Inferential statistics, on the other hand, refers to the analysis and interpretation of data to make generalizations or inferences about a larger population based on a sample of the population. The primary goal of inferential statistics is to test hypotheses and to make predictions or estimates about the population based on the sample data. Inferential statistics are used to answer questions such as \"Is there a significant difference in the mean salary between male and female employees in this company?\" or \"What is the probability that the next student who takes this class will receive an A grade?\" \n",
    "\n",
    "#### Examples of inferential statistics include hypothesis testing, confidence intervals, and regression analysis. Inferential statistics are useful for making predictions and drawing conclusions about the population based on the sample data\n",
    "\n",
    "#### To illustrate the difference between descriptive and inferential statistics, consider a study that measures the heights of a sample of 1000 adults in a particular city. Descriptive statistics can be used to summarize the heights of the sample, such as calculating the mean height, the standard deviation, and creating a histogram or a box plot to visualize the distribution. Inferential statistics, on the other hand, can be used to make predictions or inferences about the heights of the entire population of adults in the city, such as calculating a confidence interval or testing a hypothesis about the average height of the population."
   ]
  },
  {
   "cell_type": "markdown",
   "id": "c8734165-7cca-4524-846b-0bda2f52e11b",
   "metadata": {},
   "source": [
    "#### Q10. What are some common measures of central tendency and variability used in statistics? Explain how each measure can be used to describe a dataset.\n",
    "\n",
    "#### Ans:-Measures of central tendency and variability are commonly used in statistics to describe the characteristics of a dataset.\n",
    "\n",
    "#### Measures of central tendency provide information about the typical or central value of a dataset. The three most common measures of central tendency are:\n",
    "\n",
    "#### Mean: The mean is the arithmetic average of a dataset and is calculated by summing all the values in the dataset and dividing by the total number of values. The mean is useful for describing datasets that are normally distributed or symmetrical. However, the mean can be influenced by outliers, which can skew the results.\n",
    "\n",
    "#### Median: The median is the middle value in a dataset when the values are arranged in ascending or descending order. The median is useful for describing datasets that are skewed or have outliers, as it is less sensitive to extreme values than the mean.\n",
    "\n",
    "#### Mode: The mode is the most frequently occurring value in a dataset. The mode is useful for describing datasets that have a clear peak or multiple peaks, such as bimodal distributions.\n",
    "\n",
    "#### Measures of variability provide information about the spread or dispersion of a dataset. The three most common measures of variability are:\n",
    "\n",
    "#### Range: The range is the difference between the largest and smallest values in a dataset. The range provides a quick and simple measure of variability, but it is influenced by outliers and does not provide information about the distribution of values.\n",
    "\n",
    "#### Variance: The variance is a measure of how spread out the values in a dataset are. It is calculated by finding the average squared deviation of each value from the mean. The variance provides a more precise measure of variability than the range, but it is sensitive to outliers.\n",
    "\n",
    "#### Standard deviation: The standard deviation is the square root of the variance and provides a measure of how much the values in a dataset deviate from the mean. The standard deviation is useful for describing datasets that are normally distributed or symmetrical, and it is less sensitive to outliers than the variance.\n",
    "\n",
    "\n",
    "#### These measures of central tendency and variability can be used together to provide a more complete description of a dataset. For example, the mean and standard deviation can be used to describe a dataset that is normally distributed, while the median and range might be more appropriate for a dataset that is skewed or has outliers."
   ]
  },
  {
   "cell_type": "code",
   "execution_count": null,
   "id": "d8bc76ed-f3cf-4929-b29c-8a6c7da9b137",
   "metadata": {},
   "outputs": [],
   "source": []
  }
 ],
 "metadata": {
  "kernelspec": {
   "display_name": "Python 3 (ipykernel)",
   "language": "python",
   "name": "python3"
  },
  "language_info": {
   "codemirror_mode": {
    "name": "ipython",
    "version": 3
   },
   "file_extension": ".py",
   "mimetype": "text/x-python",
   "name": "python",
   "nbconvert_exporter": "python",
   "pygments_lexer": "ipython3",
   "version": "3.10.8"
  }
 },
 "nbformat": 4,
 "nbformat_minor": 5
}
