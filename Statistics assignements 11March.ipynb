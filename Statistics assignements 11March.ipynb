{
 "cells": [
  {
   "cell_type": "markdown",
   "id": "8225e9e3-3b30-42fe-8e23-3ae5a74246f6",
   "metadata": {},
   "source": [
    "#### Q1: What is the difference between a t-test and a z-test? Provide an example scenario where you would use each type of test."
   ]
  },
  {
   "cell_type": "markdown",
   "id": "89d6ed2c-869f-4f74-a6ab-c8b6caa84f5c",
   "metadata": {},
   "source": [
    "#### Ans:-A t-test and a z-test are both statistical tests used for making inferences about a population based on sample data. The main difference between them is that a z-test assumes that the population standard deviation is known, or the sample size is large enough to estimate it accurately, while a t-test assumes that the population standard deviation is unknown and the sample size is small.\n",
    "\n",
    "An example scenario where you would use a t-test is when you want to compare the means of two small samples, such as comparing the exam scores of students in two different classes. In contrast, a z-test is appropriate when the sample size is large, and you want to test a hypothesis about the population mean, such as testing the effectiveness of a new drug on a large patient population."
   ]
  },
  {
   "cell_type": "markdown",
   "id": "d8b0e263-ce5d-4fae-9d53-176670d91927",
   "metadata": {},
   "source": [
    "#### Q2: Differentiate between one-tailed and two-tailed tests."
   ]
  },
  {
   "cell_type": "markdown",
   "id": "4a1f7809-d6e3-4211-a29c-b39f696626f5",
   "metadata": {},
   "source": [
    "#### Ans:-In hypothesis testing, a one-tailed test and a two-tailed test refer to the directionality of the alternative hypothesis.\n",
    "\n",
    "#### In a one-tailed test, the alternative hypothesis states that the population parameter is either greater than or less than the null hypothesis value. The null hypothesis represents the status quo or the default assumption, while the alternative hypothesis represents the researcher's hypothesis or research question.\n",
    "\n",
    "#### One-tailed tests allow for the possibility of an effect in one direction. Two-tailed tests test for the possibility of an effect in two directions—positive and negative. "
   ]
  },
  {
   "cell_type": "markdown",
   "id": "63b1f387-76cd-43fa-9184-51465d235cbf",
   "metadata": {},
   "source": [
    "#### Q3: Explain the concept of Type 1 and Type 2 errors in hypothesis testing. Provide an example scenario foreach type of error."
   ]
  },
  {
   "cell_type": "markdown",
   "id": "6694548a-c552-4882-9e6a-91de9e797ee2",
   "metadata": {},
   "source": [
    "#### Ans:-Type 1 error is also known as a false positive, and it occurs when a researcher rejects a null hypothesis that is actually true. In other words, the researcher concludes that there is a significant difference between the sample data and the null hypothesis, even though the difference is due to chance. The probability of committing a Type 1 error is denoted by the symbol alpha (α), and it is set by the researcher before conducting the hypothesis test.\n",
    "\n",
    "Example scenario of Type 1 error: A pharmaceutical company is testing a new drug's effectiveness against a placebo. A Type 1 error occurs if the researchers conclude that the new drug is effective (reject the null hypothesis) when it is actually not effective (null hypothesis is true).\n",
    "\n",
    "#### Type 2 error is also known as a false negative, and it occurs when a researcher fails to reject a null hypothesis that is actually false. In other words, the researcher concludes that there is no significant difference between the sample data and the null hypothesis, even though there is a difference in reality. The probability of committing a Type 2 error is denoted by the symbol beta (β), and it is influenced by factors such as the sample size, effect size, and the level of significance (alpha).\n",
    "\n",
    "Example scenario of Type 2 error: A medical researcher is testing a new cancer treatment to see if it increases the survival rate of patients. A Type 2 error occurs if the researcher fails to reject the null hypothesis (concludes the treatment is not effective) when it is actually effective (alternative hypothesis is true).\n",
    "\n",
    "#### Type 1 error is rejecting a true null hypothesis, and Type 2 error is failing to reject a false null hypothesis. Both errors can have significant consequences, and it is important to consider the trade-offs between the two when setting the level of significance for a hypothesis test."
   ]
  },
  {
   "cell_type": "markdown",
   "id": "76cc5922-ebb9-4c6c-bf96-9f7c0721b624",
   "metadata": {},
   "source": [
    "#### Q4: Explain Bayes's theorem with an example."
   ]
  },
  {
   "cell_type": "markdown",
   "id": "a06805cc-d38c-43a7-b5b4-95f20550d3ec",
   "metadata": {},
   "source": [
    "#### Ans:-Bayes's theorem is a fundamental concept in probability theory that describes how to update the probability of an event occurring based on new information or evidence. The theorem is named after Thomas Bayes, an 18th-century English mathematician.\n",
    "\n",
    "#### P(A|B) = P(B|A) * P(A) / P(B)\n",
    "\n",
    " example:- 1.we have a medical test that is 95% accurate in detecting a certain disease. However, the disease is very rare, affecting only 1% of the population. If a person tests positive for the disease, what is the probability that they actually have the disease?\n",
    "solution:- \n",
    " #### P(Disease|Positive) = P(Positive|Disease) * P(Disease) / P(Positive)\n",
    " \n",
    "####  P(Disease|Positive) is the probability of having the disease given a positive test result.\n",
    "#### P(Positive|Disease) is the probability of testing positive given the disease, which is 0.95 according to the test's accuracy.\n",
    "#### P(Disease) is the prior probability of having the disease, which is 0.01 or 1%.\n",
    "#### P(Positive) is the overall probability of testing positive, which can be calculated using the law of total probability:\n",
    " \n",
    "####  P(Positive) = P(Positive|Disease) * P(Disease) + P(Positive|No Disease) * P(No Disease)\n",
    "#### = 0.95 * 0.01 + 0.05 * 0.99\n",
    "#### = 0.0585\n",
    "\n",
    "\n",
    "\n",
    "#### P(Disease|Positive) = 0.95 * 0.01 / 0.0585\n",
    "#### = 0.1624 or 16.24%\n",
    "\n",
    "So, even with a positive test result, the probability of actually having the disease is only 16.24%, highlighting the importance of considering the base rate or prior probability when interpreting test results."
   ]
  },
  {
   "cell_type": "markdown",
   "id": "3c847d7b-c0fc-4275-b066-e103b2a635db",
   "metadata": {},
   "source": [
    "#### Q5: What is a confidence interval? How to calculate the confidence interval, explain with an example."
   ]
  },
  {
   "cell_type": "markdown",
   "id": "fbc60b92-ca84-4a28-bc4d-8203407b83f5",
   "metadata": {},
   "source": [
    "#### Ans:-A confidence interval is a statistical measure used to estimate the range of values within which a population parameter, such as the mean or proportion, is likely to lie with a certain level of confidence. It is commonly used in inferential statistics to indicate the precision or uncertainty of an estimate.\n",
    "\n",
    "#### CI = X ± Z * (σ / √n)\n",
    "\n",
    "calculation of a confidence interval, let's consider an example. Suppose a random sample of 50 students from a university has a mean height of 170 cm and a standard deviation of 10 cm. We want to calculate a 95% confidence interval for the population mean height.\n",
    "\n",
    "n=50, x=170,std deviation=10,\n",
    "\n",
    "#### CI = 170 ± 1.96 * (10 / √50)\n",
    "#### = 170 ± 2.78\n",
    "#### = (167.22, 172.78)\n",
    "\n",
    "the 95% confidence interval for the population mean height is (167.22, 172.78) cm, indicating that we can be 95% confident that the true mean height of the university population lies within this range based on the sample data."
   ]
  },
  {
   "cell_type": "markdown",
   "id": "9792fa24-297c-4f28-ab6e-c362a5749797",
   "metadata": {},
   "source": [
    "#### Q6. Use Bayes' Theorem to calculate the probability of an event occurring given prior knowledge of the event's probability and new evidence. Provide a sample problem and solution."
   ]
  },
  {
   "cell_type": "markdown",
   "id": "1be00824-ea31-47cf-a122-01063d717414",
   "metadata": {},
   "source": [
    "#### Ans:- example A company manufactures light bulbs in two factories, Factory A and Factory B. Factory A produces 60% of the bulbs, while Factory B produces the remaining 40%. The quality control data shows that 5% of the bulbs from Factory A are defective, while 10% of the bulbs from Factory B are defective. A customer buys a light bulb from the company and finds it defective. What is the probability that the bulb came from Factory A? To solve this problem using Bayes' theorem, we can define the following events:\n",
    "#### A: The bulb came from Factory A.\n",
    "#### B: The bulb is defective.\n",
    "\n",
    "#### Solution :- P(A|B) = P(B|A) * P(A) / P(B)\n",
    "#### P(B|A) is the probability that the bulb is defective given that it came from Factory A, which is 0.05 according to the quality control data.\n",
    "#### P(A) is the prior probability that the bulb came from Factory A, which is 0.6 based on the proportion of bulbs produced by each factory.\n",
    "#### P(B) is the overall probability that the bulb is defective, which can be calculated using the law of total probability:\n",
    "\n",
    "#### P(B) = P(B|A) * P(A) + P(B|not A) * P(not A)\n",
    "#### = 0.05 * 0.6 + 0.1 * 0.4\n",
    "#### = 0.07\n",
    "\n",
    "#### P(not A) = 1 - P(A) = 0.4\n",
    "\n",
    "#### P(A|B) = 0.05 * 0.6 / 0.07\n",
    "#### = 0.429 or 42.9%\n",
    "\n",
    " the probability that the defective bulb came from Factory A is 42.9%, given the prior knowledge of the proportion of bulbs produced by each factory and the quality control data.\n"
   ]
  },
  {
   "cell_type": "markdown",
   "id": "8ff1a559-e10d-4288-949f-2e15a65c6565",
   "metadata": {},
   "source": [
    "#### Q7. Calculate the 95% confidence interval for a sample of data with a mean of 50 and a standard deviation of 5. Interpret the results."
   ]
  },
  {
   "cell_type": "markdown",
   "id": "977b3524-b56d-4748-bfb0-bda6f120e714",
   "metadata": {},
   "source": [
    "#### Ans:- CI = X ± Z*(σ/√n)\n",
    "Assuming a normal distribution of the data and a desired level of confidence of 95%, we can find the critical value Z from a standard normal distribution table as 1.96.\n",
    "#### CI = 50 ± 1.96*(5/√n)\n",
    "We don't have a specific sample size given in the problem, so we can't calculate the exact confidence interval. However, we can calculate the range of possible values for different sample sizes. For example, if we assume a sample size of 100, we get:\n",
    "#### CI = 50 ± 1.96*(5/√100)\n",
    "#### = 50 ± 0.98\n",
    "#### = (49.02, 50.98\n",
    "\n",
    "he true population mean lies within the range of (49.02, 50.98) based on the given sample data. "
   ]
  },
  {
   "cell_type": "markdown",
   "id": "386fe592-2729-4801-859e-4bcd84669185",
   "metadata": {},
   "source": [
    "#### Q8. What is the margin of error in a confidence interval? How does sample size affect the margin of error? Provide an example of a scenario where a larger sample size would result in a smaller margin of error."
   ]
  },
  {
   "cell_type": "markdown",
   "id": "1972bb05-ef37-4693-bd6d-8e8000274989",
   "metadata": {},
   "source": [
    "#### Ans:-The margin of error is the range of values that we expect the true population parameter to fall within, given a certain level of confidence, based on the sample data. It is a measure of the uncertainty in our estimate of the population parameter.\n",
    "\n",
    "##### The margin of error is affected by several factors, including the sample size, the level of confidence, and the variability of the population. As the sample size increases, the margin of error decreases, because larger samples provide more information about the population and reduce the uncertainty in the estimate.\n",
    "\n",
    "the margin of error is an important concept in statistics that helps us understand the uncertainty in our estimates of population parameters based on sample data. It is affected by various factors, but sample size is one of the most important determinants of the margin of error. As sample size increases, the margin of error decreases, providing a more precise estimate of the population parameter.\n",
    "\n",
    "Example a polling company wants to estimate the proportion of voters who support a certain candidate in an upcoming election. The company takes a sample of 500 voters and finds that 60% of them support the candidate.\n",
    "\n",
    "#### Confidence interval = Sample proportion ± Margin of error\n",
    "#### Margin of error = Z-score * Square root [(Sample proportion * (1 - Sample proportion)) / Sample size]\n",
    "95% confidence level, the Z-score is approximately 1.96.\n",
    "\n",
    "#### Margin of error = 1.96 * Square root [(0.60 * 0.40) / 500] ≈ 0.04\n",
    "\n",
    "#### Confidence interval = 0.60 ± 0.04 = [0.56, 0.64]\n",
    "\n",
    "This means that the polling company can be 95% confident that the true proportion of all voters who support the candidate lies within the range of 0.56 to 0.64. The margin of error is 0.04, or 4 percentage points.\n",
    "\n",
    "Now suppose the polling company takes a larger sample of 2000 voters and finds that 60% of them support the candidate. Using the same formulas, the polling company can calculate a new 95% confidence interval as follows:\n",
    "\n",
    "#### Margin of error = 1.96 * Square root [(0.60 * 0.40) / 2000] ≈ 0.02\n",
    "\n",
    "#### Confidence interval = 0.60 ± 0.02 = [0.58, 0.62]\n",
    "\n",
    "This means that the polling company can be 95% confident that the true proportion of all voters who support the candidate lies within the narrower range of 0.58 to 0.62. The margin of error is smaller in this case because the larger sample size provides more information about the population, which reduces the uncertainty in the estimate of the population proportion."
   ]
  },
  {
   "cell_type": "markdown",
   "id": "cbdf985e-90c4-4484-bd55-412cfea0ce03",
   "metadata": {},
   "source": [
    "#### Q9. Calculate the z-score for a data point with a value of 75, a population mean of 70, and a population standard deviation of 5. Interpret the results."
   ]
  },
  {
   "cell_type": "markdown",
   "id": "547d94fb-01d7-452f-b946-c39d976178f9",
   "metadata": {},
   "source": [
    "#### Ans:- the z-score for a data point with a value of 75, a population mean of 70, and a population standard deviation of 5\n",
    "\n",
    "#### z = (x - μ) / σ\n",
    "\n",
    "#### z = (75 - 70) / 5 = 1\n",
    "\n",
    "Interpreting the results, a z-score of 1 means that the data point of 75 is one standard deviation above the population mean of 70. This indicates that the data point is relatively high compared to the rest of the population."
   ]
  },
  {
   "cell_type": "markdown",
   "id": "63eebe50-62f7-4e27-98fc-8b3e8be52406",
   "metadata": {},
   "source": [
    "#### Q10. In a study of the effectiveness of a new weight loss drug, a sample of 50 participants lost an average of 6 pounds with a standard deviation of 2.5 pounds. Conduct a hypothesis test to determine if the drug is significantly effective at a 95% confidence level using a t-test."
   ]
  },
  {
   "cell_type": "markdown",
   "id": "c09e7dc5-fd32-49c7-abe3-b70a7fe6434a",
   "metadata": {},
   "source": [
    "#### Ans:-Step 1: State the null and alternative hypotheses.\n",
    "The null hypothesis (H0) is that the drug is not significantly effective, and the alternative hypothesis (Ha) is that the drug is significantly effective.\n",
    "#### H0: μ <= 0 (the population mean weight loss is less than or equal to zero)\n",
    "#### H1: μ > 0 (the population mean weight loss is greater than zero)\n",
    "\n",
    "#### Step 2: Set the level of significance and determine the critical value.\n",
    "conducting a two-tailed test at a 95% confidence level, the level of significance (α) is 0.05, and the critical value is determined by the t-distribution with degrees of freedom (df) equal to n-1 = 49. From a t-table, the critical value is 1.677.\n",
    "\n",
    "#### Step 3: Calculate the test statistic.\n",
    "#### t = (x̄ - μ) / (s / sqrt(n))\n",
    "#### t = (6 - 0) / (2.5 / sqrt(50)) = 10.39\n",
    "#### Step 4: Compare the test statistic to the critical value and make a decision.\n",
    "\n",
    "the test statistic (10.39) is greater than the critical value (1.677), we reject the null hypothesis and conclude that the weight loss drug is significantly effective at a 95% confidence level. This means that the sample evidence provides strong support for the claim that the population mean weight loss is greater than zero."
   ]
  },
  {
   "cell_type": "markdown",
   "id": "3c53ce16-7d45-4b8e-b7c6-0d445beda85a",
   "metadata": {},
   "source": [
    "#### Q11. In a survey of 500 people, 65% reported being satisfied with their current job. Calculate the 95% confidence interval for the true proportion of people who are satisfied with their job."
   ]
  },
  {
   "cell_type": "markdown",
   "id": "ff0eb115-be4e-43ec-b7c9-50226d5168ee",
   "metadata": {},
   "source": [
    "#### Ans:-Step 1: Define the level of significance and determine the critical value.\n",
    "\n",
    "calculating a two-tailed 95% confidence interval, the level of significance (α) is 0.05/2 = 0.025. The critical values can be obtained from a standard normal distribution table, which gives us a value of 1.96.\n",
    "\n",
    "#### Step 2: Calculate the point estimate.\n",
    "\n",
    "The point estimate of the proportion of people who are satisfied with their job is the sample proportion, which is 0.65.\n",
    "\n",
    "#### Step 3: Calculate the standard error.\n",
    "#### SE = sqrt((p_hat * (1 - p_hat)) / n)\n",
    "#### SE = sqrt((0.65 * 0.35) / 500) = 0.029\n",
    "\n",
    "#### Step 4: Calculate the confidence interval.\n",
    "#### CI = p_hat ± z*(SE)\n",
    "#### CI = 0.65 ± 1.96*(0.029) = (0.593, 0.707)\n",
    "\n",
    "Therefore, we can be 95% confident that the true proportion of people who are satisfied with their job is between 59.3% and 70.7%. This means that if we were to repeat this survey multiple times, we would expect the proportion of people who are satisfied with their job to fall within this interval in about 95% of the surveys."
   ]
  },
  {
   "cell_type": "markdown",
   "id": "e4e96abd-0f83-4f2c-9bf7-3850e3a7fa8e",
   "metadata": {},
   "source": [
    "#### Q12. A researcher is testing the effectiveness of two different teaching methods on student performance. Sample A has a mean score of 85 with a standard deviation of 6, while sample B has a mean score of 82 with a standard deviation of 5. Conduct a hypothesis test to determine if the two teaching methods have a significant difference in student performance using a t-test with a significance level of 0.01."
   ]
  },
  {
   "cell_type": "markdown",
   "id": "25ac7817-9318-4a6c-b2a1-f345d638b4de",
   "metadata": {},
   "source": [
    "#### Ans:-Step 1: State the null and alternative hypotheses.\n",
    "The null hypothesis is that there is no significant difference in student performance between the two teaching methods. The alternative hypothesis is that there is a significant difference in student performance between the two teaching methods.\n",
    "#### H0: μA - μB = 0\n",
    "#### H1: μA - μB ≠ 0\n",
    "\n",
    "#### Step 2: Determine the level of significance and the degrees of freedom.\n",
    "The significance level (α) is 0.01, which means that we are willing to reject the null hypothesis with a probability of 0.01.\n",
    "lets assume sample A has a size of 10 and sample B has a size of 9\n",
    "#### df = (nA + nB - 2)\n",
    "#### df = (nA + nB - 2) = (sample size of A - 1 + sample size of B - 1) = (10 + 9) = 19\n",
    "\n",
    "#### Step 3: Calculate the test statistic.\n",
    "\n",
    "#### t = (x̄A - x̄B) / sqrt((s^2A / nA) + (s^2B / nB))\n",
    "#### t = (85 - 82) / sqrt((6^2 / 10) + (5^2 / 9)) = 1.96\n",
    "\n",
    "#### Step 4: Determine the critical value and the p-value\n",
    "Since this is a two-tailed test with a significance level of 0.01 and 19 degrees of freedom, the critical values can be obtained from a t-distribution table, which gives us a value of ±2.861.\n",
    "\n",
    "The p-value for this test can also be obtained from a t-distribution table. Since our calculated t-value of 1.96 falls within the range of -2.861 to +2.861, the p-value is greater than 0.01.\n",
    "\n",
    "#### Step 5: Make a decision and interpret the results.\n",
    "t-value of 1.96 falls within the range of -2.861 to +2.861, we fail to reject the null hypothesis. This means that there is not enough evidence to suggest that there is a significant difference in student performance between the two teaching methods at a 0.01 level of significance.\n",
    "\n",
    "In conclusion, based on the data provided, we cannot say with 99% confidence that one teaching method is significantly better than the other in terms of student performance."
   ]
  },
  {
   "cell_type": "markdown",
   "id": "820dbb6d-f1fb-47a1-812d-b956a9aa2f99",
   "metadata": {},
   "source": [
    "#### Q13. A population has a mean of 60 and a standard deviation of 8. A sample of 50 observations has a mean of 65. Calculate the 90% confidence interval for the true population mean."
   ]
  },
  {
   "cell_type": "markdown",
   "id": "e48562a0-43a8-46f6-afcc-9f008b9f74b7",
   "metadata": {},
   "source": [
    "#### Ans:-CI = X̄ ± Zα/2 * σ/√n\n",
    "Where:\n",
    "#### X̄ = sample mean\n",
    "#### Zα/2 = z-score corresponding to the desired level of confidence (α/2 is the level of significance, so for a 90% confidence interval, α/2 = 0.05 and the corresponding z-score is 1.645)\n",
    "#### σ = population standard deviation\n",
    "#### n = sample size\n",
    "#### CI = 65 ± 1.645 * 8/√50\n",
    "#### CI = 65 ± 2.326\n",
    " the 90% confidence interval for the true population mean is (62.674, 67.326).\n",
    " \n",
    "#### Interpretation: We are 90% confident that the true population mean falls between 62.674 and 67.326 based on our sample data."
   ]
  },
  {
   "cell_type": "markdown",
   "id": "aec9de85-9090-43a6-8711-e16358228257",
   "metadata": {},
   "source": [
    "#### Q14. In a study of the effects of caffeine on reaction time, a sample of 30 participants had an average reaction time of 0.25 seconds with a standard deviation of 0.05 seconds. Conduct a hypothesis test to determine if the caffeine has a significant effect on reaction time at a 90% confidence level using a t-test."
   ]
  },
  {
   "cell_type": "markdown",
   "id": "fc8826fc-c10a-4588-9f97-abfd3c17f636",
   "metadata": {},
   "source": [
    "#### Ans:-Step 1: State the null and alternative hypotheses\n",
    "The null hypothesis (H0) is that there is no significant difference in reaction time between participants who consumed caffeine and those who did not consume caffeine. The alternative hypothesis (Ha) is that there is a significant difference in reaction time between the two groups.\n",
    "\n",
    "#### H0: μ1 = μ2 (there is no significant difference in reaction time)\n",
    "#### Ha: μ1 ≠ μ2 (there is a significant difference in reaction time)\n",
    "\n",
    "#### Step 2: Determine the level of significance and select a test statistic\n",
    "We are given a confidence level of 90%, which means the level of significance (α) is 0.1. Since the sample size is less than 30, we will use a t-test to compare the means of the two groups.\n",
    "\n",
    "#### Step 3: Calculate the test statistic\n",
    "#### t = (x1 - x2) / (s / sqrt(n))\n",
    "#### s = sqrt(((n1 - 1) * s1^2 + (n2 - 1) * s2^2) / (n1 + n2 - 2))\n",
    "\n",
    "#### x1 = 0.25\n",
    "#### x2 = ? (not given)\n",
    "#### s1 = 0.05\n",
    "#### s2 = ? (not given)\n",
    "#### n1 = n2 = 30\n",
    "\n",
    "#### s2 = s1 = 0.05\n",
    "\n",
    "#### s = sqrt(((30 - 1) * 0.05^2 + (30 - 1) * 0.05^2) / (30 + 30 - 2)) = 0.050\n",
    "\n",
    "#### t = (0.25 - x2) / (0.050 / sqrt(30))\n",
    "\n",
    "#### Step 4: Calculate the p-value\n",
    "Using a t-distribution table with 58 degrees of freedom (n1 + n2 - 2), we find the critical values for a two-tailed test at a level of significance of 0.1 to be ±1.67. We can calculate the p-value as follows:\n",
    "\n",
    "#### p-value = P(|t| > |t_observed|) = P(t < -t_observed) + P(t > t_observed)\n",
    "\n",
    "\n",
    "\n",
    "#### p-value = P(t < -4.37) + P(t > 4.37) = 2 * P(t > 4.37)\n",
    "\n",
    "Using a t-distribution table with 58 degrees of freedom, we find the probability of t > 4.37 to be very close to 0. Therefore, the"
   ]
  },
  {
   "cell_type": "code",
   "execution_count": null,
   "id": "66eec8a1-0c56-48d8-873d-067294ec6958",
   "metadata": {},
   "outputs": [],
   "source": []
  }
 ],
 "metadata": {
  "kernelspec": {
   "display_name": "Python 3 (ipykernel)",
   "language": "python",
   "name": "python3"
  },
  "language_info": {
   "codemirror_mode": {
    "name": "ipython",
    "version": 3
   },
   "file_extension": ".py",
   "mimetype": "text/x-python",
   "name": "python",
   "nbconvert_exporter": "python",
   "pygments_lexer": "ipython3",
   "version": "3.10.8"
  }
 },
 "nbformat": 4,
 "nbformat_minor": 5
}
