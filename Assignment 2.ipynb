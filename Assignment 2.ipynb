{
 "cells": [
  {
   "cell_type": "code",
   "execution_count": 1,
   "id": "ce23647e",
   "metadata": {},
   "outputs": [
    {
     "name": "stdout",
     "output_type": "stream",
     "text": [
      "Enter your percentage: 90\n",
      "Grade: B\n",
      "Tax: 10 %\n"
     ]
    }
   ],
   "source": [
    "percentage = float(input(\"Enter your percentage: \"))\n",
    "\n",
    "if percentage > 90:\n",
    "    grade = \"A\"\n",
    "    tax = 15\n",
    "elif percentage >= 80:\n",
    "    grade = \"B\"\n",
    "    tax = 10\n",
    "elif percentage >= 60:\n",
    "    grade = \"C\"\n",
    "    tax = 5\n",
    "else:\n",
    "    grade = \"D\"\n",
    "    tax = 0\n",
    "\n",
    "print(\"Grade:\", grade)\n",
    "print(\"Tax:\", tax, \"%\")"
   ]
  },
  {
   "cell_type": "code",
   "execution_count": 2,
   "id": "56374e9d",
   "metadata": {},
   "outputs": [
    {
     "name": "stdout",
     "output_type": "stream",
     "text": [
      "Enter the cost price of the bike (in Rs): 24000\n",
      "Enter the city name: delhi\n",
      "Road tax: 1000 Rs\n"
     ]
    }
   ],
   "source": [
    "cost_price = float(input(\"Enter the cost price of the bike (in Rs): \"))\n",
    "city = input(\"Enter the city name: \")\n",
    "\n",
    "if city.lower() == \"delhi\":\n",
    "    if cost_price > 100000:\n",
    "        tax = 5000\n",
    "    elif cost_price > 50000:\n",
    "        tax = 2500\n",
    "    else:\n",
    "        tax = 1000\n",
    "else:\n",
    "    tax = 0\n",
    "\n",
    "print(\"Road tax:\", tax, \"Rs\")"
   ]
  },
  {
   "cell_type": "code",
   "execution_count": 3,
   "id": "206a0fc3",
   "metadata": {},
   "outputs": [
    {
     "name": "stdout",
     "output_type": "stream",
     "text": [
      "Enter a city name: agra\n",
      "Taj Mahal\n"
     ]
    }
   ],
   "source": [
    "city = input(\"Enter a city name: \")\n",
    "\n",
    "if city.lower() == \"delhi\":\n",
    "    print(\"Red Fort\")\n",
    "elif city.lower() == \"agra\":\n",
    "    print(\"Taj Mahal\")\n",
    "elif city.lower() == \"jaipur\":\n",
    "    print(\"Jal Mahal\")\n",
    "else:\n",
    "    print(\"No monuments found for the given city.\")\n"
   ]
  },
  {
   "cell_type": "code",
   "execution_count": 6,
   "id": "9a2841fb",
   "metadata": {},
   "outputs": [
    {
     "name": "stdout",
     "output_type": "stream",
     "text": [
      "Enter a number: 9\n",
      "The number was divided by 3 0 times.\n"
     ]
    }
   ],
   "source": [
    "number = int(input(\"Enter a number: \"))\n",
    "\n",
    "counter = 0\n",
    "while number > 10:\n",
    "    number = number / 3\n",
    "    counter += 1\n",
    "\n",
    "print(\"The number was divided by 3\", counter, \"times.\")\n"
   ]
  },
  {
   "cell_type": "code",
   "execution_count": 8,
   "id": "15753cd0",
   "metadata": {},
   "outputs": [
    {
     "name": "stdout",
     "output_type": "stream",
     "text": [
      "Maddy # 1\n",
      "Maddy # 2\n",
      "Maddy # 3\n",
      "Maddy # 4\n",
      "Maddy # 5\n"
     ]
    }
   ],
   "source": [
    "count = 1\n",
    "while count <= 5:\n",
    "    print(\"Maddy #\", count)\n",
    "    count += 1"
   ]
  },
  {
   "cell_type": "code",
   "execution_count": 9,
   "id": "b56be793",
   "metadata": {},
   "outputs": [
    {
     "name": "stdout",
     "output_type": "stream",
     "text": [
      "* \n",
      "\n",
      "* * \n",
      "\n",
      "* * * \n",
      "\n",
      "* * * * \n",
      "\n",
      "* * * * * \n",
      "\n"
     ]
    }
   ],
   "source": [
    "i = 1\n",
    "while i <= 5:\n",
    "    j = 1\n",
    "    while j <= i:\n",
    "        print(\"*\", end=\" \")\n",
    "        j += 1\n",
    "    print(\"\\n\")\n",
    "    i += 1"
   ]
  },
  {
   "cell_type": "code",
   "execution_count": 14,
   "id": "22b64a76",
   "metadata": {},
   "outputs": [
    {
     "name": "stdout",
     "output_type": "stream",
     "text": [
      "1 1 1 1 1 \n",
      "\n",
      "1 1 1 1 \n",
      "\n",
      "1 1 1 \n",
      "\n",
      "1 1 \n",
      "\n",
      "1 \n",
      "\n"
     ]
    }
   ],
   "source": [
    "i = 5\n",
    "while i >= 1:\n",
    "    j = 1\n",
    "    while j <= i:\n",
    "        print(\"1\", end=\" \")\n",
    "        j += 1\n",
    "    print(\"\\n\")\n",
    "    i -= 1"
   ]
  },
  {
   "cell_type": "code",
   "execution_count": 15,
   "id": "7c809f39",
   "metadata": {},
   "outputs": [
    {
     "name": "stdout",
     "output_type": "stream",
     "text": [
      "    *\n",
      "   ***\n",
      "  *****\n",
      " *******\n",
      "*********\n",
      " *******\n",
      "  *****\n",
      "   ***\n",
      "    *\n"
     ]
    }
   ],
   "source": [
    "n = 5\n",
    "for i in range(1, n*2):\n",
    "    for j in range(abs(n-i)):\n",
    "        print(\" \", end=\"\")\n",
    "    for j in range((i if i<=n else 2*n-i)*2-1):\n",
    "        print(\"*\", end=\"\")\n",
    "    print(\"\")"
   ]
  },
  {
   "cell_type": "code",
   "execution_count": 25,
   "id": "d4a23ce0",
   "metadata": {},
   "outputs": [
    {
     "name": "stdout",
     "output_type": "stream",
     "text": [
      "10\n",
      "9\n",
      "8\n",
      "7\n",
      "6\n",
      "5\n",
      "4\n",
      "3\n",
      "2\n",
      "1\n"
     ]
    }
   ],
   "source": [
    "num = 10\n",
    "\n",
    "while num >= 1:\n",
    "    print(num)\n",
    "    num -= 1\n"
   ]
  },
  {
   "cell_type": "code",
   "execution_count": null,
   "id": "1b6cac15",
   "metadata": {},
   "outputs": [],
   "source": []
  }
 ],
 "metadata": {
  "kernelspec": {
   "display_name": "Python 3 (ipykernel)",
   "language": "python",
   "name": "python3"
  },
  "language_info": {
   "codemirror_mode": {
    "name": "ipython",
    "version": 3
   },
   "file_extension": ".py",
   "mimetype": "text/x-python",
   "name": "python",
   "nbconvert_exporter": "python",
   "pygments_lexer": "ipython3",
   "version": "3.9.13"
  }
 },
 "nbformat": 4,
 "nbformat_minor": 5
}
