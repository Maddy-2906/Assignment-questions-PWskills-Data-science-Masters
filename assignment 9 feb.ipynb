{
 "cells": [
  {
   "cell_type": "markdown",
   "id": "30e4ed95-00d6-42d1-876c-0f5390be89a8",
   "metadata": {},
   "source": [
    "#Q1, Create a vehicle class with an init method having instance variables as name_of_vehicle, max_speed\n",
    "and average_of_vehicle."
   ]
  },
  {
   "cell_type": "code",
   "execution_count": 3,
   "id": "dac0dfe7-46d2-455c-949f-f74ed3cb75c8",
   "metadata": {},
   "outputs": [],
   "source": [
    "class Vehicle:\n",
    "    def __init__(self, name_of_vehicle, max_speed, average_of_vehicle):\n",
    "        self.name_of_vehicle = name_of_vehicle\n",
    "        self.max_speed = max_speed\n",
    "        self.average_of_vehicle = average_of_vehicle\n",
    "        \n",
    "    def set_speed(self , speed) :\n",
    "        self.__speed = 0 if speed <0 else speed\n",
    "    def get_speed(self):\n",
    "        return self.__speed\n"
   ]
  },
  {
   "cell_type": "code",
   "execution_count": 10,
   "id": "7e48114d-c49d-45b9-9c6d-63e09c762ad6",
   "metadata": {},
   "outputs": [],
   "source": [
    "obj_Vehicle=Vehicle(\"Maruti\",160,22)"
   ]
  },
  {
   "cell_type": "code",
   "execution_count": 27,
   "id": "4ae9bd7c-77ff-4f94-bde4-ae577cffde93",
   "metadata": {},
   "outputs": [
    {
     "data": {
      "text/plain": [
       "'Maruti'"
      ]
     },
     "execution_count": 27,
     "metadata": {},
     "output_type": "execute_result"
    }
   ],
   "source": [
    "obj_Vehicle.name_of_vehicle"
   ]
  },
  {
   "cell_type": "code",
   "execution_count": 11,
   "id": "66dbf474-0e45-4fb9-b9c9-adb0261d1568",
   "metadata": {},
   "outputs": [
    {
     "data": {
      "text/plain": [
       "22"
      ]
     },
     "execution_count": 11,
     "metadata": {},
     "output_type": "execute_result"
    }
   ],
   "source": [
    "obj_Vehicle.average_of_vehicle"
   ]
  },
  {
   "cell_type": "code",
   "execution_count": 12,
   "id": "34cb0b24-800f-4132-a3b9-d3bd39689c2b",
   "metadata": {},
   "outputs": [
    {
     "data": {
      "text/plain": [
       "'Maruti'"
      ]
     },
     "execution_count": 12,
     "metadata": {},
     "output_type": "execute_result"
    }
   ],
   "source": [
    "obj_Vehicle.name_of_vehicle"
   ]
  },
  {
   "cell_type": "code",
   "execution_count": 15,
   "id": "6035bb8c-ec0a-4fc6-9764-0dc31b4ca64b",
   "metadata": {},
   "outputs": [
    {
     "data": {
      "text/plain": [
       "160"
      ]
     },
     "execution_count": 15,
     "metadata": {},
     "output_type": "execute_result"
    }
   ],
   "source": [
    "obj_Vehicle.max_speed"
   ]
  },
  {
   "cell_type": "code",
   "execution_count": 17,
   "id": "9ee5e82f-11db-4938-a2d4-bc76cf0365e4",
   "metadata": {},
   "outputs": [],
   "source": [
    "obj_Vehicle.set_speed(225)"
   ]
  },
  {
   "cell_type": "code",
   "execution_count": 19,
   "id": "d79ab27c-51e8-437c-8bb8-5f99f36d0e50",
   "metadata": {},
   "outputs": [
    {
     "data": {
      "text/plain": [
       "160"
      ]
     },
     "execution_count": 19,
     "metadata": {},
     "output_type": "execute_result"
    }
   ],
   "source": [
    "obj_Vehicle.max_speed"
   ]
  },
  {
   "cell_type": "code",
   "execution_count": 16,
   "id": "2e1db2a6-90cf-4ebf-bc81-a3a3b608c907",
   "metadata": {},
   "outputs": [],
   "source": []
  },
  {
   "cell_type": "markdown",
   "id": "da5f8391-2155-47b9-966c-4120ee8f3fe5",
   "metadata": {},
   "source": [
    "#Q2. Create a child class car from the vehicle class created in Que 1, which will inherit the vehicle class.\n",
    "Create a method named seating_capacity which takes capacity as an argument and returns the name of\n",
    "the vehicle and its seating capacity."
   ]
  },
  {
   "cell_type": "code",
   "execution_count": 31,
   "id": "12ee4090-3b61-4a13-82c8-0d8e034ff7c4",
   "metadata": {},
   "outputs": [
    {
     "name": "stdout",
     "output_type": "stream",
     "text": [
      "Sedan can seat 5 people.\n"
     ]
    }
   ],
   "source": [
    "class Vehicle:\n",
    "    def __init__(self, name, engine):\n",
    "        self.name = name\n",
    "        self.engine = engine\n",
    "\n",
    "    def start_engine(self):\n",
    "        print(f\"{self.name}'s engine started\")\n",
    "\n",
    "class Car(Vehicle):\n",
    "    def __init__(self, name, engine, capacity):\n",
    "        super().__init__(name, engine)\n",
    "        self.capacity = capacity\n",
    "\n",
    "    def seating_capacity(self, capacity):\n",
    "        return f\"{self.name} can seat {capacity} people.\"\n",
    "\n",
    "car = Car(\"Sedan\", \"V6\", 5)\n",
    "print(car.seating_capacity(5))\n",
    "\n"
   ]
  },
  {
   "cell_type": "markdown",
   "id": "00f88fcb-fac4-442d-929c-b6be93d11715",
   "metadata": {},
   "source": [
    "#Q3. What is multiple inheritance? Write a python code to demonstrate multiple inheritance."
   ]
  },
  {
   "cell_type": "code",
   "execution_count": 79,
   "id": "32784619-e34a-426c-b9f2-6845cd84ce9b",
   "metadata": {},
   "outputs": [
    {
     "name": "stdout",
     "output_type": "stream",
     "text": [
      "Method 1 from Parent 1\n",
      "Method 2 from Parent 2\n"
     ]
    }
   ],
   "source": [
    "class Parent1:\n",
    "    def method1(self):\n",
    "        print(\"Method 1 from Parent 1\")\n",
    "\n",
    "class Parent2:\n",
    "    def method2(self):\n",
    "        print(\"Method 2 from Parent 2\")\n",
    "\n",
    "class Child(Parent1, Parent2):\n",
    "    pass\n",
    "\n",
    "c = Child()\n",
    "c.method1() # Output: Method 1 from Parent 1\n",
    "c.method2() # Output: Method 2 from Parent 2\n"
   ]
  },
  {
   "cell_type": "markdown",
   "id": "c18e65ec-c10a-46d6-ad23-59c5e79c4c99",
   "metadata": {},
   "source": [
    "#Q4. What are getter and setter in python? Create a class and create a getter and a setter method in this\n",
    "class."
   ]
  },
  {
   "cell_type": "code",
   "execution_count": null,
   "id": "8a56433c-2b33-4789-b278-b60e7c518480",
   "metadata": {},
   "outputs": [],
   "source": [
    "class Person:\n",
    "    def __init__(self, name, age):\n",
    "        self._name = name\n",
    "        self._age = age\n",
    "\n",
    "    def get_name(self):\n",
    "        return self._name\n",
    "\n",
    "    def set_name(self, name):\n",
    "        self._name = name\n",
    "\n",
    "    def get_age(self):\n",
    "        return self._age\n",
    "\n",
    "    def set_age(self, age):\n",
    "        self._age = age\n"
   ]
  },
  {
   "cell_type": "code",
   "execution_count": 21,
   "id": "2d767ca9-13c4-40ed-9795-176d581e06aa",
   "metadata": {},
   "outputs": [],
   "source": [
    "obj_Person = Person(\"Maddy\",27)"
   ]
  },
  {
   "cell_type": "code",
   "execution_count": 22,
   "id": "475e4f32-f46f-4f6c-a66c-07e079fc0e31",
   "metadata": {},
   "outputs": [
    {
     "data": {
      "text/plain": [
       "27"
      ]
     },
     "execution_count": 22,
     "metadata": {},
     "output_type": "execute_result"
    }
   ],
   "source": [
    "obj_Person.get_age()"
   ]
  },
  {
   "cell_type": "code",
   "execution_count": 23,
   "id": "31dd4f16-b69d-43e6-9a09-2704d1d88a1f",
   "metadata": {},
   "outputs": [
    {
     "data": {
      "text/plain": [
       "'Maddy'"
      ]
     },
     "execution_count": 23,
     "metadata": {},
     "output_type": "execute_result"
    }
   ],
   "source": [
    "obj_Person.get_name()"
   ]
  },
  {
   "cell_type": "code",
   "execution_count": 24,
   "id": "ee80c264-4e58-4186-8172-3d5f7e7bff29",
   "metadata": {},
   "outputs": [],
   "source": [
    "obj_Person.set_age(25)"
   ]
  },
  {
   "cell_type": "code",
   "execution_count": 25,
   "id": "1cd134b5-24cf-4fb4-b32e-f001a6dfe4a2",
   "metadata": {},
   "outputs": [
    {
     "data": {
      "text/plain": [
       "25"
      ]
     },
     "execution_count": 25,
     "metadata": {},
     "output_type": "execute_result"
    }
   ],
   "source": [
    "obj_Person.get_age()"
   ]
  },
  {
   "cell_type": "code",
   "execution_count": 26,
   "id": "bf044ce0-9180-4706-9aab-298e9c986ab5",
   "metadata": {},
   "outputs": [],
   "source": [
    "obj_Person.set_name(\"Sonali\")"
   ]
  },
  {
   "cell_type": "code",
   "execution_count": 27,
   "id": "07901438-c5d0-4385-98e2-a491051453bb",
   "metadata": {},
   "outputs": [
    {
     "data": {
      "text/plain": [
       "'Sonali'"
      ]
     },
     "execution_count": 27,
     "metadata": {},
     "output_type": "execute_result"
    }
   ],
   "source": [
    "obj_Person.get_name()"
   ]
  },
  {
   "cell_type": "code",
   "execution_count": 37,
   "id": "f5512009-04a5-4c8a-b0c1-3e4fd2d61060",
   "metadata": {},
   "outputs": [
    {
     "name": "stdout",
     "output_type": "stream",
     "text": [
      "Samy\n",
      "25\n",
      "Addy\n",
      "28\n"
     ]
    }
   ],
   "source": [
    "person = Person(\"Samy\", 25)\n",
    "print(person.get_name()) # Output: John\n",
    "print(person.get_age()) # Output: 30\n",
    "\n",
    "person.set_name(\"Addy\")\n",
    "person.set_age(28)\n",
    "\n",
    "print(person.get_name()) # Output: Jane\n",
    "print(person.get_age()) # Output: 35\n"
   ]
  },
  {
   "cell_type": "code",
   "execution_count": 36,
   "id": "19e2131c-d647-460f-94fd-a2490442c354",
   "metadata": {},
   "outputs": [],
   "source": [
    "obj_Person = Person(\"John\",30)"
   ]
  },
  {
   "cell_type": "markdown",
   "id": "30e21e78-39ec-4fb6-b3ac-3b63e7ea5402",
   "metadata": {},
   "source": [
    "#Q5.What is method overriding in python? Write a python code to demonstrate method overriding.\n",
    "\n",
    "\n",
    "Ans:-Method overriding in Python is a technique in object-oriented programming where a subclass provides a new implementation for a method that is already defined in its superclass. This new implementation is said to override the original method in the superclass.\n",
    "\n",
    "The main idea behind method overriding is to allow subclasses to customize or extend the behavior of the parent class in a way that is specific to the subclass. By doing so, subclasses can inherit the common behavior of the parent class but also provide their own unique behavior."
   ]
  },
  {
   "cell_type": "code",
   "execution_count": 78,
   "id": "ee892ee4-6aac-493e-aa5b-2f75e55bb4d0",
   "metadata": {},
   "outputs": [
    {
     "name": "stdout",
     "output_type": "stream",
     "text": [
      "The dog barks.\n",
      "The cat meows.\n",
      "The cow  moo.\n",
      "The horse Neigh\n"
     ]
    }
   ],
   "source": [
    "class Animal:\n",
    "    def make_sound(self):\n",
    "        print(\"The animal makes a sound.\")\n",
    "\n",
    "class Dog(Animal):\n",
    "    def make_sound(self):\n",
    "        print(\"The dog barks.\")\n",
    "\n",
    "class Cat(Animal):\n",
    "    def make_sound(self):\n",
    "        print(\"The cat meows.\")\n",
    "        \n",
    "class Cow(Animal):\n",
    "    def make_sound(self):\n",
    "        print(\"The cow  moo.\")\n",
    "        \n",
    "class Horse(Animal):\n",
    "    def make_sound(self):\n",
    "        print(\"The horse Neigh\")\n",
    "\n",
    "dog = Dog()\n",
    "dog.make_sound() # Output: The dog barks.\n",
    "\n",
    "cat = Cat()\n",
    "cat.make_sound() # Output: The cat meows.\n",
    "\n",
    "Cow = Cow()\n",
    "Cow.make_sound()\n",
    "\n",
    "Horse = Horse()\n",
    "Horse.make_sound()\n"
   ]
  },
  {
   "cell_type": "code",
   "execution_count": 18,
   "id": "895edefb-ce6a-4274-a26d-4f2a593466b8",
   "metadata": {},
   "outputs": [],
   "source": [
    "class Vehicle:\n",
    "    def __init__(self, name_of_vehicle, max_speed, average_of_vehicle):\n",
    "        self.name_of_vehicle = name_of_vehicle\n",
    "        self.max_speed = max_speed\n",
    "        self.average_of_vehicle = average_of_vehicle\n"
   ]
  },
  {
   "cell_type": "code",
   "execution_count": 19,
   "id": "be4bcabe-84dd-4ba0-9ffa-89880fa08767",
   "metadata": {},
   "outputs": [],
   "source": [
    "obj_Vehicle=Vehicle(\"toyoto\",225,20)"
   ]
  },
  {
   "cell_type": "code",
   "execution_count": 21,
   "id": "fd0987f1-094d-48cd-b198-0ca9476c31a4",
   "metadata": {},
   "outputs": [
    {
     "ename": "AttributeError",
     "evalue": "'tuple' object has no attribute 'name_of_vehicle'",
     "output_type": "error",
     "traceback": [
      "\u001b[0;31m---------------------------------------------------------------------------\u001b[0m",
      "\u001b[0;31mAttributeError\u001b[0m                            Traceback (most recent call last)",
      "Cell \u001b[0;32mIn[21], line 1\u001b[0m\n\u001b[0;32m----> 1\u001b[0m \u001b[43mobj_vehicle\u001b[49m\u001b[38;5;241;43m.\u001b[39;49m\u001b[43mname_of_vehicle\u001b[49m\n",
      "\u001b[0;31mAttributeError\u001b[0m: 'tuple' object has no attribute 'name_of_vehicle'"
     ]
    }
   ],
   "source": [
    "obj_vehicle.name_of_vehicle"
   ]
  },
  {
   "cell_type": "code",
   "execution_count": null,
   "id": "0b9ac765-b3aa-47af-94b6-2458111eaee9",
   "metadata": {},
   "outputs": [],
   "source": []
  }
 ],
 "metadata": {
  "kernelspec": {
   "display_name": "Python 3 (ipykernel)",
   "language": "python",
   "name": "python3"
  },
  "language_info": {
   "codemirror_mode": {
    "name": "ipython",
    "version": 3
   },
   "file_extension": ".py",
   "mimetype": "text/x-python",
   "name": "python",
   "nbconvert_exporter": "python",
   "pygments_lexer": "ipython3",
   "version": "3.10.8"
  }
 },
 "nbformat": 4,
 "nbformat_minor": 5
}
