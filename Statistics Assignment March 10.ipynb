{
 "cells": [
  {
   "cell_type": "markdown",
   "id": "f278dc37-5ac6-442f-9f9d-fc1a9870d4cc",
   "metadata": {},
   "source": [
    "#### Q1: What is Estimation Statistics? Explain point estimate and interval estimate."
   ]
  },
  {
   "cell_type": "markdown",
   "id": "5cef85af-7397-4057-bfcb-99393a23d782",
   "metadata": {},
   "source": [
    "#### Ans:-Estimation statistics is a branch of inferential statistics that involves using sample data to make inferences about population parameters. The goal is to estimate the true value of a population parameter based on information from a sample of that population.\n",
    "\n",
    "There are two main types of estimation in statistics: point estimation and interval estimation.\n",
    "\n",
    "#### Point Estimate: A point estimate is a single value that is used to estimate an unknown population parameter. This value is usually calculated from a sample of data and is intended to be a reasonable guess or approximation of the true value of the population parameter. For example, the sample mean is a point estimate of the population mean, and the sample proportion is a point estimate of the population proportion.\n",
    "\n",
    "#### Interval Estimate: An interval estimate is a range of values that is used to estimate an unknown population parameter. This range is calculated from a sample of data and is intended to provide a sense of how much uncertainty there is in the estimate. Interval estimates are often reported with a level of confidence, which represents the percentage of times that the true population parameter would be expected to fall within the range. For example, a 95% confidence interval for the population mean would indicate that if we were to repeat the sampling process many times, we would expect the true population mean to fall within the interval 95% of the time."
   ]
  },
  {
   "cell_type": "markdown",
   "id": "85319244-0009-4354-9ea6-51f35023cc03",
   "metadata": {},
   "source": [
    "#### Q2. Write a Python function to estimate the population mean using a sample mean and standard deviation."
   ]
  },
  {
   "cell_type": "code",
   "execution_count": 1,
   "id": "494c7fa5-560c-40b1-9739-cb02080c8cd2",
   "metadata": {},
   "outputs": [
    {
     "name": "stdout",
     "output_type": "stream",
     "text": [
      "Estimated population mean: 10.5\n",
      "95% Confidence interval: (10.01, 10.99)\n"
     ]
    }
   ],
   "source": [
    "def estimate_pop_mean(sample_mean, sample_std, sample_size):\n",
    "    import math\n",
    "    # Calculate the standard error\n",
    "    std_error = sample_std / math.sqrt(sample_size)\n",
    "    # Calculate the margin of error (assuming a 95% confidence level)\n",
    "    margin_error = 1.96 * std_error\n",
    "    # Calculate the lower and upper bounds of the confidence interval\n",
    "    lower_bound = sample_mean - margin_error\n",
    "    upper_bound = sample_mean + margin_error\n",
    "    # Return the estimated population mean and confidence interval\n",
    "    return sample_mean, lower_bound, upper_bound\n",
    "sample_mean = 10.5\n",
    "sample_std = 2.5\n",
    "sample_size = 100\n",
    "estimated_mean, lower_bound, upper_bound = estimate_pop_mean(sample_mean, sample_std, sample_size)\n",
    "print(f\"Estimated population mean: {estimated_mean}\")\n",
    "print(f\"95% Confidence interval: ({lower_bound}, {upper_bound})\")\n"
   ]
  },
  {
   "cell_type": "markdown",
   "id": "9783357e-6bfd-42a1-ba8d-8c781728aa1a",
   "metadata": {},
   "source": [
    "#### Q3: What is Hypothesis testing? Why is it used? State the importance of Hypothesis testing. "
   ]
  },
  {
   "cell_type": "markdown",
   "id": "316ca5c9-59d4-435c-8006-3163f8cc413b",
   "metadata": {},
   "source": [
    "#### Hypothesis testing is a statistical method used to test a hypothesis or claim about a population parameter based on sample data. It involves making an assumption about a population parameter, collecting sample data, and using statistical methods to determine whether the data provides enough evidence to reject or fail to reject the assumption.\n",
    "\n",
    "Hypothesis testing is used to evaluate the plausibility of a hypothesis or claim about a population based on sample data. It is often used in scientific research, quality control, market research, and other areas where it is important to make decisions based on data.\n",
    "\n",
    "The importance of hypothesis testing lies in its ability to help us make informed decisions based on data, rather than relying on intuition or guesswork. By testing a hypothesis or claim, we can determine whether our assumptions about a population parameter are supported by the data, or whether we need to revise our assumptions.\n",
    "\n",
    "Hypothesis testing involves several steps, including:\n",
    "\n",
    "#### Formulating a null hypothesis and an alternative hypothesis\n",
    "#### Collecting sample data\n",
    "#### Calculating a test statistic based on the sample data\n",
    "#### Determining the probability of obtaining the test statistic if the null hypothesis is true\n",
    "#### Comparing the probability to a pre-determined level of significance (e.g., 0.05)\n",
    "#### Drawing a conclusion based on the comparison, either rejecting the null hypothesis or failing to reject it.\n",
    "\n",
    "\n",
    "In summary, hypothesis testing is a powerful tool that helps us make informed decisions based on data. It allows us to evaluate the plausibility of a hypothesis or claim about a population parameter and make decisions based on the evidence provided by the data.\n"
   ]
  },
  {
   "cell_type": "markdown",
   "id": "e09afbee-412a-4924-99fb-987257087a12",
   "metadata": {},
   "source": [
    "#### Q4. Create a hypothesis that states whether the average weight of male college students is greater than the average weight of female college students."
   ]
  },
  {
   "cell_type": "markdown",
   "id": "00bbb364-6ac1-4a2c-a43d-1466930aff16",
   "metadata": {},
   "source": [
    "#### Ans:- Null Hypothesis: The average weight of male college students is not significantly greater than the average weight of female college students.\n",
    "\n",
    "#### H0: μM ≤ μF\n",
    "\n",
    "#### Alternative Hypothesis: The average weight of male college students is significantly greater than the average weight of female college students.\n",
    "\n",
    "#### H1: μM > μF"
   ]
  },
  {
   "cell_type": "markdown",
   "id": "0a2914d9-d820-404a-9b76-8c3f0e631c4e",
   "metadata": {},
   "source": [
    "#### Q5. Write a Python script to conduct a hypothesis test on the difference between two population means, given a sample from each population."
   ]
  },
  {
   "cell_type": "code",
   "execution_count": 2,
   "id": "500b9bd4-f936-44b8-8c5b-2e284cd5815d",
   "metadata": {},
   "outputs": [
    {
     "name": "stdout",
     "output_type": "stream",
     "text": [
      "We reject the null hypothesis.\n"
     ]
    }
   ],
   "source": [
    "import numpy as np\n",
    "from scipy.stats import t\n",
    "\n",
    "# Set the significance level\n",
    "alpha = 0.05\n",
    "\n",
    "# Define the samples\n",
    "sample1 = np.array([87, 92, 91, 85, 90, 85, 89, 93, 87, 84])\n",
    "sample2 = np.array([79, 81, 77, 83, 80, 82, 85, 79, 84, 81])\n",
    "\n",
    "# Calculate the sample means and standard deviations\n",
    "sample1_mean = np.mean(sample1)\n",
    "sample2_mean = np.mean(sample2)\n",
    "sample1_std = np.std(sample1, ddof=1)\n",
    "sample2_std = np.std(sample2, ddof=1)\n",
    "\n",
    "# Calculate the degrees of freedom\n",
    "n1 = len(sample1)\n",
    "n2 = len(sample2)\n",
    "df = n1 + n2 - 2\n",
    "\n",
    "# Calculate the pooled standard deviation\n",
    "s_pool = np.sqrt(((n1-1)*(sample1_std**2) + (n2-1)*(sample2_std**2)) / df)\n",
    "\n",
    "# Calculate the t-statistic\n",
    "t_stat = (sample1_mean - sample2_mean) / (s_pool * np.sqrt((1/n1) + (1/n2)))\n",
    "\n",
    "# Calculate the p-value\n",
    "p_value = 2 * t.sf(abs(t_stat), df)\n",
    "\n",
    "# Determine whether to reject the null hypothesis\n",
    "if p_value < alpha:\n",
    "    print(\"We reject the null hypothesis.\")\n",
    "else:\n",
    "    print(\"We fail to reject the null hypothesis.\")\n"
   ]
  },
  {
   "cell_type": "markdown",
   "id": "4c4d1b32-c55e-4413-848c-a953e470e1c4",
   "metadata": {},
   "source": [
    "#### Set the significance level (alpha) to 0.05.\n",
    "#### Define the two samples as numpy arrays.\n",
    "#### Calculate the sample means and standard deviations for each sample.\n",
    "#### Calculate the degrees of freedom (df) for the t-test.\n",
    "#### Calculate the pooled standard deviation (s_pool) for the two samples.\n",
    "#### Calculate the t-statistic using the formula (sample1_mean - sample2_mean) / (s_pool * sqrt((1/n1) + (1/n2))), where n1 and n2 are the sample sizes.\n",
    "#### Calculate the p-value by finding the area under the t-distribution curve that is more extreme than the absolute value of the t-statistic, using the cumulative distribution function t.sf and multiplying by 2 for a two-tailed test.\n",
    "#### Determine whether to reject the null hypothesis by comparing the p-value to the significance level.\n"
   ]
  },
  {
   "cell_type": "markdown",
   "id": "560117db-a374-4459-b916-6a4ebe4a755f",
   "metadata": {},
   "source": [
    "#### Q6: What is a null and alternative hypothesis? Give some examples."
   ]
  },
  {
   "cell_type": "markdown",
   "id": "45d22bf7-5ed1-41a7-b020-c465411cc3b0",
   "metadata": {},
   "source": [
    "#### Ans:- A null hypothesis is a statement that there is no significant difference between two or more variables or that there is no effect of a particular treatment or intervention. It is typically denoted by H0 and is assumed to be true until proven false.\n",
    "\n",
    "#### An alternative hypothesis, is a statement that contradicts the null hypothesis and suggests that there is a significant difference or effect. It is typically denoted by H1.\n",
    "\n",
    "#### Null hypothesis: There is no significant difference in test scores between students who study alone and those who study in groups. Alternative hypothesis: Students who study in groups perform better on tests than those who study alone.\n",
    "\n",
    "#### Null hypothesis: There is no significant difference in customer satisfaction between two different brands of smartphones. Alternative hypothesis: Customers are more satisfied with one brand of smartphone over the other.\n",
    "\n",
    "#### Null hypothesis: A new drug has no effect on reducing blood pressure in patients. Alternative hypothesis: The new drug significantly reduces blood pressure in patients.\n",
    "\n",
    "#### Null hypothesis: There is no relationship between exercise and weight loss. Alternative hypothesis: Exercise is positively related to weight loss in individuals."
   ]
  },
  {
   "cell_type": "markdown",
   "id": "26def8ca-c7cd-4a52-bdb2-3f42eaec0758",
   "metadata": {},
   "source": [
    "#### Q7: Write down the steps involved in hypothesis testing."
   ]
  },
  {
   "cell_type": "markdown",
   "id": "f29dddba-0ffb-423b-b22b-07261b89aa05",
   "metadata": {},
   "source": [
    "#### Ans:-The following are the general steps involved in hypothesis testing:\n",
    "\n",
    "#### State the null and alternative hypotheses.\n",
    "#### Determine the level of significance (alpha) and select an appropriate statistical test.\n",
    "#### Collect and analyze the data.\n",
    "#### Calculate the test statistic and determine the p-value.\n",
    "#### Make a decision based on the p-value and the level of significance.\n",
    "#### Interpret the results and draw conclusions.\n",
    "#### Communicate the results."
   ]
  },
  {
   "cell_type": "markdown",
   "id": "81d7a3e2-4e09-4261-8794-75a481c677e3",
   "metadata": {},
   "source": [
    "#### Q8. Define p-value and explain its significance in hypothesis testing."
   ]
  },
  {
   "cell_type": "markdown",
   "id": "6ddc24f1-fb87-4ecc-af69-f58db730f33f",
   "metadata": {},
   "source": [
    "#### Ans:-The p value is a number, calculated from a statistical test, that describes how likely you are to have found a particular set of observations if the null hypothesis were true. P values are used in hypothesis testing to help decide whether to reject the null hypothesis\n",
    "\n",
    "The significance of the p-value in hypothesis testing is that it helps to determine the probability of obtaining a sample result if the null hypothesis is true. A small p-value (less than the level of significance) indicates strong evidence against the null hypothesis, which means that the observed effect is unlikely due to chance. Conversely, a large p-value suggests that the observed effect is likely due to chance, and there is not enough evidence to reject the null hypothesis.\n",
    "\n",
    "Overall, the p-value is an important tool in hypothesis testing as it provides a way to quantify the strength of evidence against the null hypothesis and make decisions based on statistical significance."
   ]
  },
  {
   "cell_type": "markdown",
   "id": "b583e4fc-6cbf-4cee-8cb3-cc5d4fb15547",
   "metadata": {},
   "source": [
    "#### Q9. Generate a Student's t-distribution plot using Python's matplotlib library, with the degrees of freedom parameter set to 10."
   ]
  },
  {
   "cell_type": "code",
   "execution_count": 2,
   "id": "071d0e40-4a21-4b0f-8b48-538d09480f4f",
   "metadata": {},
   "outputs": [
    {
     "data": {
      "image/png": "[encoded data removed]",
      "text/plain": [
       "<Figure size 640x480 with 1 Axes>"
      ]
     },
     "metadata": {},
     "output_type": "display_data"
    }
   ],
   "source": [
    "import numpy as np\n",
    "import matplotlib.pyplot as plt\n",
    "from scipy import stats\n",
    "\n",
    "# Generate x values for the plot\n",
    "x = np.linspace(-5, 5, 1000)\n",
    "\n",
    "# Calculate the y values using the Student's t-distribution probability density function\n",
    "df = 10 # degrees of freedom\n",
    "y = stats.t.pdf(x, df)\n",
    "\n",
    "# Plot the distribution\n",
    "plt.plot(x, y)\n",
    "\n",
    "# Set plot title and labels\n",
    "plt.title(\"Student's t-Distribution (df=10)\")\n",
    "plt.xlabel(\"x\")\n",
    "plt.ylabel(\"Probability Density\")\n",
    "\n",
    "# Show the plot\n",
    "plt.show()\n"
   ]
  },
  {
   "cell_type": "markdown",
   "id": "bb865355-2dde-4b66-a605-2eff7c8bb306",
   "metadata": {},
   "source": [
    "#### Q10. Write a Python program to calculate the two-sample t-test for independent samples, given two random samples of equal size and a null hypothesis that the population means are equal."
   ]
  },
  {
   "cell_type": "code",
   "execution_count": 3,
   "id": "d76ee265-3108-4771-8001-6d3d3c19861e",
   "metadata": {},
   "outputs": [
    {
     "name": "stdout",
     "output_type": "stream",
     "text": [
      "t-statistic: -2.216667226318375\n",
      "p-value: 0.028958113967530646\n"
     ]
    }
   ],
   "source": [
    "import numpy as np\n",
    "from scipy.stats import ttest_ind\n",
    "\n",
    "# generate two random samples of equal size\n",
    "sample1 = np.random.normal(loc=50, scale=10, size=50)\n",
    "sample2 = np.random.normal(loc=55, scale=10, size=50)\n",
    "\n",
    "# calculate the t-statistic and p-value using scipy.stats.ttest_ind\n",
    "t_statistic, p_value = ttest_ind(sample1, sample2)\n",
    "\n",
    "# print the results\n",
    "print(\"t-statistic:\", t_statistic)\n",
    "print(\"p-value:\", p_value)\n"
   ]
  },
  {
   "cell_type": "markdown",
   "id": "591a9140-06e2-43ac-9054-6b0da2014121",
   "metadata": {},
   "source": [
    "#### Q11: What is Student’s t distribution? When to use the t-Distribution."
   ]
  },
  {
   "cell_type": "markdown",
   "id": "b8bfc150-32c0-4d98-89b4-06631893fe57",
   "metadata": {},
   "source": [
    "#### Ans:-tudent's t-distribution is a probability distribution used in statistical hypothesis testing when the sample size is small, and the population standard deviation is unknown. It is a bell-shaped distribution similar to the standard normal distribution, but with heavier tails, which means it has more probability in the tails than the standard normal distribution.\n",
    "\n",
    "The t-distribution is used when we are dealing with a small sample size, and we don't know the population standard deviation\n",
    "\n",
    "t-distribution allows us to estimate the population mean based on the sample mean, which helps us make inferences about the population.\n",
    "\n",
    "The t-distribution is commonly used in hypothesis testing, where we want to test the significance of the difference between two sample means, or between a sample mean and a population mean\n",
    "\n",
    "t-distribution to calculate the p-value, which tells us the probability of observing the test statistic or more extreme results, assuming that the null hypothesis is true.\n",
    "\n",
    " the t-distribution is a useful tool in statistical analysis when dealing with small sample sizes and unknown population standard deviations."
   ]
  },
  {
   "cell_type": "markdown",
   "id": "afa816ac-be2e-40e3-8f41-a7f4acefbbb0",
   "metadata": {},
   "source": [
    "#### Q12: What is t-statistic? State the formula for t-statistic."
   ]
  },
  {
   "cell_type": "markdown",
   "id": "aa87407a-477e-4adf-a7c3-d8b5e9efc73b",
   "metadata": {},
   "source": [
    "#### Ans:-t-statistic is a test statistic used to determine the significance of the difference between the means of two groups, given their sample sizes, means, and standard deviations. It is used when the population standard deviation is not known and the sample size is small.\n",
    "\n",
    "#### t = (x1 - x2) / [ s^2p / (n1 + n2) ]^(1/2)\n",
    "\n",
    "Where:\n",
    "\n",
    "#### x1 and x2 are the sample means of the two groups being compared\n",
    "#### s^2p is the pooled variance of the two groups\n",
    "#### n1 and n2 are the sample sizes of the two groups\n",
    "\n",
    "The t-statistic is calculated by taking the difference between the two sample means and dividing it by the standard error of the difference between the means. The resulting t-value is then compared to a t-distribution table with degrees of freedom equal to the sum of the sample sizes minus 2 to determine the p-value and test for significance."
   ]
  },
  {
   "cell_type": "markdown",
   "id": "661c278e-cb7b-4aaa-a770-7bf85c63458c",
   "metadata": {},
   "source": [
    "#### Q13. A coffee shop owner wants to estimate the average daily revenue for their shop. They take a random sample of 50 days and find the sample mean revenue to be $500 with a standard deviation of $50.Estimate the population mean revenue with a 95% confidence interval."
   ]
  },
  {
   "cell_type": "markdown",
   "id": "9ae92387-e79f-40e1-a35b-d0336b8a9358",
   "metadata": {},
   "source": [
    "#### Ans:- Confidence interval = sample mean +/- (t-value x standard error)\n",
    "#### Confidence Interval = X̄ ± z*(σ/√n)\n",
    "#### X̄ = sample mean revenue = $500\n",
    "#### σ = standard deviation = $50\n",
    "#### n = sample size = 50\n",
    "#### z = z-score for 95% confidence level = 1.96\n",
    "\n",
    "#### CI = 500 ± 2.009*(50/√50)\n",
    "#### CI = $500 ± $14.14\n",
    "\n",
    "Therefore, we can say with 95% confidence that the population mean revenue for the coffee shop is between $485.86 and $514.14."
   ]
  },
  {
   "cell_type": "markdown",
   "id": "5d9a44e7-dbc3-409c-b1f6-373ac42f108c",
   "metadata": {},
   "source": [
    "#### Q14. A researcher hypothesizes that a new drug will decrease blood pressure by 10 mmHg. They conduct a clinical trial with 100 patients and find that the sample mean decrease in blood pressure is 8 mmHg with a standard deviation of 3 mmHg. Test the hypothesis with a significance level of 0.05."
   ]
  },
  {
   "cell_type": "markdown",
   "id": "2bd2a880-8d63-404d-9721-1c863a1d4397",
   "metadata": {},
   "source": [
    "#### Ans:-The null hypothesis (H0) is that the drug does not decrease blood pressure by 10 mmHg. \n",
    "####  The alternative hypothesis (H1) is that the drug does decrease blood pressure by 10 mmHg.\n",
    "\n",
    "#### t = (x̄ - μ) / (s / √n)\n",
    "\n",
    "Where:\n",
    "\n",
    "#### x̄ = sample mean decrease in blood pressure = 8 mmHg\n",
    "#### μ = hypothesized population mean decrease in blood pressure = 10 mmHg\n",
    "#### s = sample standard deviation = 3 mmHg\n",
    "#### n = sample size = 100\n",
    "\n",
    "#### t = (8 - 10) / (3 / √100) = -2.82\n",
    "\n",
    "The degrees of freedom for the t-distribution is n-1, which is 99 in this case.\n",
    "\n",
    "Using a t-distribution table or calculator with a significance level of 0.05 and 99 degrees of freedom, we find that the critical t-value is ±1.984.\n",
    "\n",
    "Since the calculated t-value (-2.82) is less than the critical t-value (-1.984), we reject the null hypothesis and conclude that there is evidence to support the alternative hypothesis that the new drug decreases blood pressure by 10 mmHg at a significance level of 0.05."
   ]
  },
  {
   "cell_type": "markdown",
   "id": "6363342b-bd56-4880-8773-c5e2a5edcae7",
   "metadata": {},
   "source": [
    "#### Q15. An electronics company produces a certain type of product with a mean weight of 5 pounds and a standard deviation of 0.5 pounds. A random sample of 25 products is taken, and the sample mean weight is found to be 4.8 pounds. Test the hypothesis that the true mean weight of the products is less than 5 pounds with a significance level of 0.01."
   ]
  },
  {
   "cell_type": "markdown",
   "id": "f043d1a3-ae63-4e1e-9789-898f3be57d67",
   "metadata": {},
   "source": [
    "#### Ans:- The null hypothesis (H0) is that the true mean weight of the products is equal to 5 pounds. \n",
    "#### The alternative hypothesis (Ha) is that the true mean weight of the products is less than 5 pounds.\n",
    "#### t = (x̄ - μ) / (s / √n)\n",
    "\n",
    "Where:\n",
    "\n",
    "#### x̄ = sample mean weight = 4.8 pounds\n",
    "#### μ = hypothesized population mean weight = 5 pounds\n",
    "#### s = population standard deviation = 0.5 pounds\n",
    "#### n = sample size = 25\n",
    "\n",
    "Plugging in the values, we get:\n",
    "\n",
    "#### t = (4.8 - 5) / (0.5 / √25) = -2\n",
    "\n",
    "The degrees of freedom for the t-distribution is n-1, which is 24 in this case.\n",
    "\n",
    "Using a t-distribution table or calculator with a significance level of 0.01 and 24 degrees of freedom, we find that the critical t-value is -2.492.\n",
    "Since the calculated t-value (-2) is greater than the critical t-value (-2.492), we fail to reject the null hypothesis and conclude that there is not enough evidence to support the claim that the true mean weight of the products is less than 5 pounds at a significance level of 0.01. In other words, we cannot conclude that the sample mean weight of 4.8 pounds is significantly different from the hypothesized population mean weight of 5 pounds."
   ]
  },
  {
   "cell_type": "markdown",
   "id": "233e1972-6189-4522-a639-8d53e10ed44c",
   "metadata": {},
   "source": [
    "#### Q16. Two groups of students are given different study materials to prepare for a test. The first group (n1=30) has a mean score of 80 with a standard deviation of 10, and the second group (n2 = 40) has a mean score of 75 with a standard deviation of 8. Test the hypothesis that the population means for the two groups are equal with a significance level of 0.01."
   ]
  },
  {
   "cell_type": "markdown",
   "id": "4ef44e00-1fc6-400a-b27b-0da01daacebb",
   "metadata": {},
   "source": [
    "#### Ans:- To test the hypothesis, we need to perform a two-sample t-test. The null hypothesis (H0) is that the population means for the two groups are equal. The alternative hypothesis (Ha) is that the population means for the two groups are not equal.\n",
    "\n",
    "The test statistic can be calculated using the formula:\n",
    "\n",
    "#### t = (x̄1 - x̄2) / (sqrt(s1^2/n1 + s2^2/n2))\n",
    "\n",
    "where:\n",
    "\n",
    "#### x̄1 = sample mean score of first group = 80\n",
    "#### x̄2 = sample mean score of second group = 75\n",
    "#### s1 = standard deviation of first group = 10\n",
    "#### s2 = standard deviation of second group = 8\n",
    "#### n1 = sample size of first group = 30\n",
    "#### n2 = sample size of second group = 40\n",
    "\n",
    "Plugging in the values, we get:\n",
    "\n",
    "#### t = (80 - 75) / (sqrt(10^2/30 + 8^2/40)) = 2.19\n",
    "\n",
    "The degrees of freedom for the t-distribution is calculated as:\n",
    "\n",
    "#### df = (s1^2/n1 + s2^2/n2)^2 / ((s1^2/n1)^2/(n1-1) + (s2^2/n2)^2/(n2-1))\n",
    "\n",
    "\n",
    "\n",
    "#### df = ((10^2/30 + 8^2/40)^2) / ((10^2/30)^2/29 + (8^2/40)^2/39) = 65.68\n",
    "\n",
    "Using a t-distribution table or calculator with a significance level of 0.01 and 65 degrees of freedom, we find that the critical t-value is ±2.624.\n",
    "\n",
    "Since the calculated t-value (2.19) is less than the critical t-value (±2.624), we fail to reject the null hypothesis and conclude that there is not enough evidence to support the claim that the population means for the two groups are not equal at a significance level of 0.01. In other words, we cannot conclude that the two groups have significantly different population means."
   ]
  },
  {
   "cell_type": "markdown",
   "id": "55e8a87e-18fc-428e-ada0-1c13007b3b9f",
   "metadata": {},
   "source": [
    "#### Q17. A marketing company wants to estimate the average number of ads watched by viewers during a TV program. They take a random sample of 50 viewers and find that the sample mean is 4 with a standard deviation of 1.5. Estimate the population mean with a 99% confidence interval."
   ]
  },
  {
   "cell_type": "markdown",
   "id": "65041030-dc9d-4f1d-ab90-f8bcc77010be",
   "metadata": {},
   "source": [
    "#### Ans:- CI = x̄ ± z*(s/√n)\n",
    "\n",
    "where:\n",
    "\n",
    "#### x̄ = sample mean = 4\n",
    "#### s = sample standard deviation = 1.5\n",
    "n = sample size = 50\n",
    "z = the critical value from the standard normal distribution for a 99% confidence level. From the z-table, we find that the value is 2.576.\n",
    "\n",
    "Plugging in the values, we get:\n",
    "\n",
    "CI = 4 ± 2.576*(1.5/√50)\n",
    "\n",
    "Simplifying, we get:\n",
    "\n",
    "CI = 4 ± 0.653\n",
    "\n",
    "Therefore, the 99% confidence interval for the population mean of the number of ads watched by viewers during a TV program is (3.347, 4.653). We can interpret this as, if we were to repeat this sampling process multiple times and construct a confidence interval for each sample, approximately 99% of the intervals would contain the true population mean."
   ]
  }
 ],
 "metadata": {
  "kernelspec": {
   "display_name": "Python 3 (ipykernel)",
   "language": "python",
   "name": "python3"
  },
  "language_info": {
   "codemirror_mode": {
    "name": "ipython",
    "version": 3
   },
   "file_extension": ".py",
   "mimetype": "text/x-python",
   "name": "python",
   "nbconvert_exporter": "python",
   "pygments_lexer": "ipython3",
   "version": "3.10.8"
  }
 },
 "nbformat": 4,
 "nbformat_minor": 5
}
