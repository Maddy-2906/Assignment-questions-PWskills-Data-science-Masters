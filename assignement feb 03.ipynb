{
 "cells": [
  {
   "cell_type": "code",
   "execution_count": 1,
   "id": "3a05f94b-d3b5-4c7a-b836-6d8fdf1ea4ff",
   "metadata": {},
   "outputs": [],
   "source": [
    "list=[1,2,3,4,5,6,7,8,9,10,11,12,13,14,15,16,17,18,19,20,21,22,23,24,25]"
   ]
  },
  {
   "cell_type": "markdown",
   "id": "05b5d387-337e-4517-bc94-120f8d7da367",
   "metadata": {},
   "source": [
    "#### Q1. Which keyword is used to create a function? Create a function to return a list of odd numbers in the\n",
    "range of 1 to 25."
   ]
  },
  {
   "cell_type": "code",
   "execution_count": 15,
   "id": "284397cd-b3eb-4004-b162-0b93c22bfc5e",
   "metadata": {},
   "outputs": [
    {
     "name": "stdout",
     "output_type": "stream",
     "text": [
      "[1, 3, 5, 7, 9, 11, 13, 15, 17, 19, 21, 23, 25]\n"
     ]
    }
   ],
   "source": [
    "def odd_numbers():\n",
    "    odds = [i for i in range(1, 26) if i % 2 != 0]\n",
    "    return odds\n",
    "\n",
    "print(odd_numbers())\n"
   ]
  },
  {
   "cell_type": "code",
   "execution_count": 20,
   "id": "bc516caa-a0a7-4234-8ff2-67d8b0107b23",
   "metadata": {},
   "outputs": [
    {
     "name": "stdout",
     "output_type": "stream",
     "text": [
      "[1, 3, 5, 7, 9, 11, 13, 15, 17, 19, 21, 23, 25]\n"
     ]
    }
   ],
   "source": [
    "def odd_numbers():\n",
    "    odd_numbers= [ i for i in range(1, 26) if i%2!=0]\n",
    "    return odd_numbers\n",
    "\n",
    "\n",
    "print(odd_numbers())"
   ]
  },
  {
   "cell_type": "markdown",
   "id": "283aed56-32f4-4ff6-9dc9-0d70676ed6cb",
   "metadata": {},
   "source": [
    "####- Q2. Why *args and **kwargs is used in some functions? Create a function each for *args and **kwargs to\n",
    "demonstrate their use.\n",
    "\n",
    "Ans:-*args and **kwargs are used in Python to allow a function to accept an arbitrary number of positional or keyword arguments, respectively. They are a way of passing a variable number of arguments to a function."
   ]
  },
  {
   "cell_type": "code",
   "execution_count": 30,
   "id": "fc2a217c-82bf-4077-895f-0ea2b27f00be",
   "metadata": {},
   "outputs": [
    {
     "name": "stdout",
     "output_type": "stream",
     "text": [
      "(1, 2, 3, 'Hello', 'world')\n",
      "(1, 2, 3, 'Hello', 'world')\n",
      "(1, 2, 3, 'Hello', 'world')\n",
      "(1, 2, 3, 'Hello', 'world')\n",
      "(1, 2, 3, 'Hello', 'world')\n"
     ]
    }
   ],
   "source": [
    "def print_args(*args):\n",
    "    for arg in args:\n",
    "        print(args)\n",
    "    \n",
    "print_args(1,2,3, \"Hello\",\"world\")\n"
   ]
  },
  {
   "cell_type": "code",
   "execution_count": 42,
   "id": "1b825009-7eee-4d35-a945-7afc6693fe03",
   "metadata": {},
   "outputs": [
    {
     "name": "stdout",
     "output_type": "stream",
     "text": [
      "1\n",
      "2\n",
      "3\n",
      "Hello\n",
      "World\n"
     ]
    }
   ],
   "source": [
    "def print_args(*args):\n",
    "  for arg in args:\n",
    "    print(arg)\n",
    "\n",
    "print_args(1, 2, 3, \"Hello\", \"World\")"
   ]
  },
  {
   "cell_type": "code",
   "execution_count": 34,
   "id": "15bb0bd2-6c52-4e7a-894b-10ccf6983cc7",
   "metadata": {},
   "outputs": [
    {
     "name": "stdout",
     "output_type": "stream",
     "text": [
      "1\n",
      "2\n",
      "3\n",
      "Hello\n",
      "world\n"
     ]
    }
   ],
   "source": [
    "def print_args(*args):\n",
    " for arg in args:\n",
    "    print(arg)\n",
    "print_args(1,2,3, \"Hello\",\"world\")"
   ]
  },
  {
   "cell_type": "code",
   "execution_count": 37,
   "id": "760c6313-c54c-4abe-aeda-7f3acf042b10",
   "metadata": {},
   "outputs": [
    {
     "name": "stdout",
     "output_type": "stream",
     "text": [
      "4\n",
      "9\n",
      "16\n",
      "25\n",
      "Welcome\n",
      "Python\n",
      "World\n"
     ]
    }
   ],
   "source": [
    "def print_kwargs(*kwargs):\n",
    "    for kwarg in kwargs:\n",
    "        print(kwarg)\n",
    "print_kwargs(4,9,16,25, \"Welcome\" , \"Python\", \"World\")"
   ]
  },
  {
   "cell_type": "code",
   "execution_count": 39,
   "id": "6562de45-197b-44ba-bb50-b98d1f974a34",
   "metadata": {},
   "outputs": [
    {
     "name": "stdout",
     "output_type": "stream",
     "text": [
      "(4, 9, 16, 25, 'Welcome', 'Python', 'World')\n",
      "(4, 9, 16, 25, 'Welcome', 'Python', 'World')\n",
      "(4, 9, 16, 25, 'Welcome', 'Python', 'World')\n",
      "(4, 9, 16, 25, 'Welcome', 'Python', 'World')\n",
      "(4, 9, 16, 25, 'Welcome', 'Python', 'World')\n",
      "(4, 9, 16, 25, 'Welcome', 'Python', 'World')\n",
      "(4, 9, 16, 25, 'Welcome', 'Python', 'World')\n"
     ]
    }
   ],
   "source": [
    "def print_kwargs(*kwargs):\n",
    "    for kwarg in kwargs:\n",
    "        print(kwargs)\n",
    "print_kwargs(4,9,16,25, \"Welcome\" , \"Python\", \"World\")"
   ]
  },
  {
   "cell_type": "code",
   "execution_count": 43,
   "id": "481cf773-b8a2-422a-ae96-208e14c12d1e",
   "metadata": {},
   "outputs": [
    {
     "name": "stdout",
     "output_type": "stream",
     "text": [
      "a: 1\n",
      "b: 2\n",
      "c: Hello\n",
      "d: World\n"
     ]
    }
   ],
   "source": [
    "def print_kwargs(**kwargs):\n",
    "  for key, value in kwargs.items():\n",
    "    print(f\"{key}: {value}\")\n",
    "\n",
    "print_kwargs(a=1, b=2, c=\"Hello\", d=\"World\")"
   ]
  },
  {
   "cell_type": "markdown",
   "id": "2a3061db-40c1-43d0-8e52-487a2560cf48",
   "metadata": {},
   "source": [
    "#### Q3. What is an iterator in python? Name the method used to initialise the iterator object and the method\n",
    "used for iteration. Use these methods to print the first five elements of the given list [2, 4, 6, 8, 10, 12, 14, 16,\n",
    "18, 20].\n",
    "\n",
    "Ans:-An iterator in Python is an object that implements the iterator protocol, which consists of two methods: __iter__ and __next__. The __iter__ method is used to initialize the iterator object and the __next__ method is used to get the next element in the sequence. When there are no more elements to retrieve, the __next__ method raises a StopIteration exception."
   ]
  },
  {
   "cell_type": "markdown",
   "id": "9839b90b-1946-49d4-937c-1e02a2ec40b4",
   "metadata": {},
   "source": [
    "lst = [2, 4, 6, 8, 10, 12, 14, 16, 18, 20]\n",
    "it = iter(lst)\n",
    "\n",
    "for i in range(5):\n",
    "  print(next(it))"
   ]
  },
  {
   "cell_type": "code",
   "execution_count": 46,
   "id": "f628fbda-cb5c-4374-a918-dc302fe1879b",
   "metadata": {},
   "outputs": [
    {
     "name": "stdout",
     "output_type": "stream",
     "text": [
      "2\n",
      "4\n",
      "6\n",
      "8\n",
      "10\n"
     ]
    }
   ],
   "source": [
    "lst = [2, 4, 6, 8, 10, 12, 14, 16, 18, 20]\n",
    "it = iter(lst)\n",
    "\n",
    "for i in range(5):\n",
    "  print(next(it))\n"
   ]
  },
  {
   "cell_type": "markdown",
   "id": "a68d2f0c-03bf-4b54-b4a4-133180a3166b",
   "metadata": {},
   "source": [
    "#### Q.5A generator function in Python is a special kind of function that allows you to generate a series of values over time, instead of computing them all at once and returning a single value. The yield keyword is used in a generator function to return a value and pause the function's execution, so that the next time the generator is called, it picks up where it left off.\n",
    "\n",
    "Ans:-A generator function in Python is a special kind of function that allows you to generate a series of values over time, instead of computing them all at once and returning a single value. The yield keyword is used in a generator function to return a value and pause the function's execution, so that the next time the generator is called, it picks up where it left off."
   ]
  },
  {
   "cell_type": "code",
   "execution_count": 60,
   "id": "58f96f4c-e681-418b-8438-072becafbd25",
   "metadata": {},
   "outputs": [
    {
     "name": "stdout",
     "output_type": "stream",
     "text": [
      "0\n",
      "1\n",
      "1\n",
      "2\n"
     ]
    }
   ],
   "source": [
    "def fibonacci():\n",
    "    a, b = 0, 1\n",
    "    while True:\n",
    "        yield a\n",
    "        a, b = b, a + b\n",
    "\n",
    "# To use the generator, call the function and store the result in a variable\n",
    "fib = fibonacci()\n",
    "\n",
    "# Use the next() function to get the next value from the generator\n",
    "print(next(fib)) # 0\n",
    "print(next(fib)) # 1\n",
    "print(next(fib)) # 1\n",
    "print(next(fib)) # 2\n",
    "\n",
    "    "
   ]
  },
  {
   "cell_type": "code",
   "execution_count": 67,
   "id": "39a155e4-4acb-4eae-9836-7285bb3c6aef",
   "metadata": {},
   "outputs": [
    {
     "name": "stdout",
     "output_type": "stream",
     "text": [
      "0\n",
      "1\n",
      "1\n",
      "2\n"
     ]
    }
   ],
   "source": [
    "def fibonacci():\n",
    "    a, b = 0 , 1\n",
    "    while True:\n",
    "        yield a\n",
    "        a, b = b , a + b\n",
    "fib = fibonacci()\n",
    "print(next(fib))\n",
    "print(next(fib))\n",
    "print(next(fib))\n",
    "print(next(fib))"
   ]
  },
  {
   "cell_type": "markdown",
   "id": "af402b46-1971-4bf3-9ae2-828400b25ee1",
   "metadata": {},
   "source": [
    "#### Q5. Create a generator function for prime numbers less than 1000. Use the next() method to print the\n",
    "first 20 prime numbers."
   ]
  },
  {
   "cell_type": "code",
   "execution_count": 68,
   "id": "9626799f-9211-49f5-ad9b-ddb9b48df07b",
   "metadata": {},
   "outputs": [
    {
     "name": "stdout",
     "output_type": "stream",
     "text": [
      "2\n",
      "3\n",
      "5\n",
      "7\n",
      "11\n",
      "13\n",
      "17\n",
      "19\n",
      "23\n",
      "29\n",
      "31\n",
      "37\n",
      "41\n",
      "43\n",
      "47\n",
      "53\n",
      "59\n",
      "61\n",
      "67\n",
      "71\n"
     ]
    }
   ],
   "source": [
    "def prime_numbers():\n",
    "    yield 2\n",
    "    primes = [2]\n",
    "    for i in range(3, 1000):\n",
    "        is_prime = True\n",
    "        for j in primes:\n",
    "            if j*j > i:\n",
    "                break\n",
    "            if i % j == 0:\n",
    "                is_prime = False\n",
    "                break\n",
    "        if is_prime:\n",
    "            primes.append(i)\n",
    "            yield i\n",
    "\n",
    "# To use the generator, call the function and store the result in a variable\n",
    "primes = prime_numbers()\n",
    "\n",
    "# Use the next() function to get the next value from the generator\n",
    "for i in range(20):\n",
    "    print(next(primes))\n"
   ]
  },
  {
   "cell_type": "code",
   "execution_count": 71,
   "id": "5f646330-1bb4-4d30-a557-4f8c93b4b372",
   "metadata": {},
   "outputs": [
    {
     "name": "stdout",
     "output_type": "stream",
     "text": [
      "2\n",
      "3\n",
      "5\n",
      "7\n",
      "11\n",
      "13\n",
      "17\n",
      "19\n",
      "23\n",
      "29\n",
      "31\n",
      "37\n",
      "41\n",
      "43\n",
      "47\n",
      "53\n",
      "59\n",
      "61\n",
      "67\n",
      "71\n"
     ]
    }
   ],
   "source": [
    "def is_prime(n):\n",
    "    if n <= 1:\n",
    "        return False\n",
    "    for i in range(2, int(n**0.5)+1):\n",
    "        if n % i == 0:\n",
    "            return False\n",
    "    return True\n",
    "\n",
    "prime_count = 0\n",
    "for i in range(2, 1000):\n",
    "    if is_prime(i):\n",
    "        prime_count += 1\n",
    "        print(i)\n",
    "    if prime_count == 20:\n",
    "        break\n"
   ]
  },
  {
   "cell_type": "code",
   "execution_count": 88,
   "id": "84ca25d4-d1a6-4213-9e24-394c165e1729",
   "metadata": {},
   "outputs": [
    {
     "name": "stdout",
     "output_type": "stream",
     "text": [
      "2\n",
      "3\n",
      "5\n",
      "7\n",
      "11\n",
      "13\n",
      "17\n",
      "19\n",
      "23\n",
      "29\n",
      "31\n",
      "37\n",
      "41\n",
      "43\n",
      "47\n",
      "53\n",
      "59\n",
      "61\n",
      "67\n",
      "71\n"
     ]
    }
   ],
   "source": [
    "def is_prime(n):\n",
    "    if n <= 1:\n",
    "        return False\n",
    "    for i in range(2, int(n**0.5)+1):\n",
    "        if n % i == 0:\n",
    "            return False\n",
    "    return True\n",
    "\n",
    "prime_count = 0\n",
    "for i in range(2, 1000):\n",
    "    if is_prime(i):\n",
    "        prime_count += 1\n",
    "        print(i)\n",
    "    if prime_count == 20:\n",
    "         break\n",
    "            "
   ]
  },
  {
   "cell_type": "code",
   "execution_count": 76,
   "id": "3932c889-e942-42fc-a459-427a3c298399",
   "metadata": {},
   "outputs": [
    {
     "name": "stdout",
     "output_type": "stream",
     "text": [
      "2\n",
      "3\n",
      "5\n",
      "7\n",
      "11\n",
      "13\n",
      "17\n",
      "19\n",
      "23\n",
      "29\n",
      "31\n",
      "37\n",
      "41\n",
      "43\n",
      "47\n",
      "53\n",
      "59\n",
      "61\n",
      "67\n",
      "71\n"
     ]
    }
   ],
   "source": [
    "def is_prime(n):\n",
    "    if n <= 1:\n",
    "        return False\n",
    "    for i in range(2, int(n**0.5)+1):\n",
    "        if n % i == 0:\n",
    "            return False\n",
    "    return True\n",
    "\n",
    "prime_count = 0\n",
    "for i in range(2, 1000):\n",
    "    if is_prime(i):\n",
    "        prime_count += 1\n",
    "        print(i)\n",
    "    if prime_count == 20:\n",
    "        break\n"
   ]
  },
  {
   "cell_type": "code",
   "execution_count": null,
   "id": "dbcdefa1-bd04-4e37-bf34-06eba4b1d62f",
   "metadata": {},
   "outputs": [],
   "source": []
  }
 ],
 "metadata": {
  "kernelspec": {
   "display_name": "Python 3 (ipykernel)",
   "language": "python",
   "name": "python3"
  },
  "language_info": {
   "codemirror_mode": {
    "name": "ipython",
    "version": 3
   },
   "file_extension": ".py",
   "mimetype": "text/x-python",
   "name": "python",
   "nbconvert_exporter": "python",
   "pygments_lexer": "ipython3",
   "version": "3.10.8"
  }
 },
 "nbformat": 4,
 "nbformat_minor": 5
}
