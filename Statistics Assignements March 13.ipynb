{
 "cells": [
  {
   "cell_type": "markdown",
   "id": "b0cae720-de26-4276-b1c0-f9799dd1b251",
   "metadata": {},
   "source": [
    "#### Q1. Explain the assumptions required to use ANOVA and provide examples of violations that could impact the validity of the results."
   ]
  },
  {
   "cell_type": "markdown",
   "id": "e00f39b3-45fc-42f4-8cd6-a1031fea7bb2",
   "metadata": {},
   "source": [
    "#### Ans:- ANOVA (Analysis of Variance) is a statistical method used to compare the means of three or more groups\n",
    "#### Normality: The data within each group should follow a normal distribution.\n",
    "\n",
    "#### Homogeneity of variance: The variance within each group should be approximately equal.\n",
    "\n",
    "#### Independence: The observations within each group must be independent of each other.\n",
    "\n",
    "If any of these assumptions are violated, the results of ANOVA may not be valid or reliable. \n",
    "#### Non-normality: If the data within each group is not normally distributed, the ANOVA results may not be valid. For example, if the data is heavily skewed or has extreme outliers, the assumption of normality may be violated.\n",
    "\n",
    "#### Non-homogeneity of variance: If the variance within each group is not approximately equal, the ANOVA results may not be reliable. For example, if the variance in one group is much larger than the others, it could indicate that the groups are not comparable.\n",
    "\n",
    "#### Lack of independence: If the observations within each group are not independent of each other, the ANOVA results may not be valid. For example, if a group of students takes a test multiple times and the scores are averaged, the observations within the group are not independent.\n",
    "\n",
    "#### Interaction between factors: If there is an interaction between the factors being tested, the ANOVA results may not be reliable. For example, if a drug has different effects on different genders or age groups, this interaction may not be captured by ANOVA."
   ]
  },
  {
   "cell_type": "markdown",
   "id": "bd9fba22-2d77-4d5c-9b8e-24dfba1b19ea",
   "metadata": {},
   "source": [
    "#### Q2. What are the three types of ANOVA, and in what situations would each be used?"
   ]
  },
  {
   "cell_type": "markdown",
   "id": "7c07488a-aba9-4dfc-9dc3-ba024bef5b6b",
   "metadata": {},
   "source": [
    "#### Ans:-ANOVA is a statistical method used to compare the means of three or more groups.\n",
    "#### There are three types of ANOVA: one-way ANOVA, two-way ANOVA, and repeated measures ANOVA.\n",
    "#### One-way ANOVA is used for one independent variable with three or more levels, while two-way ANOVA is used for two independent variables and repeated measures ANOVA is used for within-subjects designs.\n",
    "#### ANOVA has three assumptions that must be met: normality, homogeneity of variance, and independence.\n",
    "#### Violations of these assumptions can lead to invalid or unreliable results.\n",
    "#### Before using ANOVA, it is important to check for violations of these assumptions and consider alternative methods if necessary."
   ]
  },
  {
   "cell_type": "markdown",
   "id": "03e4b23c-3c67-447c-87d2-eccc6b551902",
   "metadata": {},
   "source": [
    "#### Q3. What is the partitioning of variance in ANOVA, and why is it important to understand this concept?"
   ]
  },
  {
   "cell_type": "markdown",
   "id": "818dc701-ce10-4e6b-a628-eca19c5a1730",
   "metadata": {},
   "source": [
    "#### Ans:-The partitioning of variance in ANOVA refers to the breakdown of the total variation in the data into different sources of variation. ANOVA uses this concept to partition the total variance in the dependent variable into different components that are associated with the independent variables and error.\n",
    "\n",
    "#### The between-group variation (SSB): This represents the variation in the dependent variable that is due to differences between the groups defined by the independent variable.\n",
    "\n",
    "#### The within-group variation (SSW): This represents the variation in the dependent variable that is due to individual differences within each group.\n",
    "\n",
    "#### The residual variation (SSE): This represents the unexplained variation in the dependent variable that is not accounted for by the independent variable or error.\n",
    "\n",
    "The partitioning of variance in ANOVA is important because it helps researchers to identify the sources of variation in their data and to determine the relative importance of each source. This information can help researchers to interpret their results and to make informed decisions about their research questions. Additionally, understanding the partitioning of variance can help researchers to choose appropriate statistical techniques for their data analysis and to avoid misinterpretations of their results."
   ]
  },
  {
   "cell_type": "markdown",
   "id": "8adf5d26-da37-467e-9c35-b84b9a8f9772",
   "metadata": {},
   "source": [
    "#### Q4. How would you calculate the total sum of squares (SST), explained sum of squares (SSE), and residual sum of squares (SSR) in a one-way ANOVA using Python?"
   ]
  },
  {
   "cell_type": "code",
   "execution_count": 5,
   "id": "67eab5d1-e3b1-45ac-8ad1-cb316df48d31",
   "metadata": {},
   "outputs": [],
   "source": [
    "df = pd.read_csv(\"https://raw.githubusercontent.com/datasciencedojo/datasets/master/titanic.csv\")"
   ]
  },
  {
   "cell_type": "code",
   "execution_count": 6,
   "id": "45150903-41ea-425d-9b17-cae801a27fed",
   "metadata": {},
   "outputs": [
    {
     "data": {
      "text/html": [
       "<div>\n",
       "<style scoped>\n",
       "    .dataframe tbody tr th:only-of-type {\n",
       "        vertical-align: middle;\n",
       "    }\n",
       "\n",
       "    .dataframe tbody tr th {\n",
       "        vertical-align: top;\n",
       "    }\n",
       "\n",
       "    .dataframe thead th {\n",
       "        text-align: right;\n",
       "    }\n",
       "</style>\n",
       "<table border=\"1\" class=\"dataframe\">\n",
       "  <thead>\n",
       "    <tr style=\"text-align: right;\">\n",
       "      <th></th>\n",
       "      <th>PassengerId</th>\n",
       "      <th>Survived</th>\n",
       "      <th>Pclass</th>\n",
       "      <th>Name</th>\n",
       "      <th>Sex</th>\n",
       "      <th>Age</th>\n",
       "      <th>SibSp</th>\n",
       "      <th>Parch</th>\n",
       "      <th>Ticket</th>\n",
       "      <th>Fare</th>\n",
       "      <th>Cabin</th>\n",
       "      <th>Embarked</th>\n",
       "    </tr>\n",
       "  </thead>\n",
       "  <tbody>\n",
       "    <tr>\n",
       "      <th>0</th>\n",
       "      <td>1</td>\n",
       "      <td>0</td>\n",
       "      <td>3</td>\n",
       "      <td>Braund, Mr. Owen Harris</td>\n",
       "      <td>male</td>\n",
       "      <td>22.0</td>\n",
       "      <td>1</td>\n",
       "      <td>0</td>\n",
       "      <td>A/5 21171</td>\n",
       "      <td>7.2500</td>\n",
       "      <td>NaN</td>\n",
       "      <td>S</td>\n",
       "    </tr>\n",
       "    <tr>\n",
       "      <th>1</th>\n",
       "      <td>2</td>\n",
       "      <td>1</td>\n",
       "      <td>1</td>\n",
       "      <td>Cumings, Mrs. John Bradley (Florence Briggs Th...</td>\n",
       "      <td>female</td>\n",
       "      <td>38.0</td>\n",
       "      <td>1</td>\n",
       "      <td>0</td>\n",
       "      <td>PC 17599</td>\n",
       "      <td>71.2833</td>\n",
       "      <td>C85</td>\n",
       "      <td>C</td>\n",
       "    </tr>\n",
       "    <tr>\n",
       "      <th>2</th>\n",
       "      <td>3</td>\n",
       "      <td>1</td>\n",
       "      <td>3</td>\n",
       "      <td>Heikkinen, Miss. Laina</td>\n",
       "      <td>female</td>\n",
       "      <td>26.0</td>\n",
       "      <td>0</td>\n",
       "      <td>0</td>\n",
       "      <td>STON/O2. 3101282</td>\n",
       "      <td>7.9250</td>\n",
       "      <td>NaN</td>\n",
       "      <td>S</td>\n",
       "    </tr>\n",
       "    <tr>\n",
       "      <th>3</th>\n",
       "      <td>4</td>\n",
       "      <td>1</td>\n",
       "      <td>1</td>\n",
       "      <td>Futrelle, Mrs. Jacques Heath (Lily May Peel)</td>\n",
       "      <td>female</td>\n",
       "      <td>35.0</td>\n",
       "      <td>1</td>\n",
       "      <td>0</td>\n",
       "      <td>113803</td>\n",
       "      <td>53.1000</td>\n",
       "      <td>C123</td>\n",
       "      <td>S</td>\n",
       "    </tr>\n",
       "    <tr>\n",
       "      <th>4</th>\n",
       "      <td>5</td>\n",
       "      <td>0</td>\n",
       "      <td>3</td>\n",
       "      <td>Allen, Mr. William Henry</td>\n",
       "      <td>male</td>\n",
       "      <td>35.0</td>\n",
       "      <td>0</td>\n",
       "      <td>0</td>\n",
       "      <td>373450</td>\n",
       "      <td>8.0500</td>\n",
       "      <td>NaN</td>\n",
       "      <td>S</td>\n",
       "    </tr>\n",
       "    <tr>\n",
       "      <th>...</th>\n",
       "      <td>...</td>\n",
       "      <td>...</td>\n",
       "      <td>...</td>\n",
       "      <td>...</td>\n",
       "      <td>...</td>\n",
       "      <td>...</td>\n",
       "      <td>...</td>\n",
       "      <td>...</td>\n",
       "      <td>...</td>\n",
       "      <td>...</td>\n",
       "      <td>...</td>\n",
       "      <td>...</td>\n",
       "    </tr>\n",
       "    <tr>\n",
       "      <th>886</th>\n",
       "      <td>887</td>\n",
       "      <td>0</td>\n",
       "      <td>2</td>\n",
       "      <td>Montvila, Rev. Juozas</td>\n",
       "      <td>male</td>\n",
       "      <td>27.0</td>\n",
       "      <td>0</td>\n",
       "      <td>0</td>\n",
       "      <td>211536</td>\n",
       "      <td>13.0000</td>\n",
       "      <td>NaN</td>\n",
       "      <td>S</td>\n",
       "    </tr>\n",
       "    <tr>\n",
       "      <th>887</th>\n",
       "      <td>888</td>\n",
       "      <td>1</td>\n",
       "      <td>1</td>\n",
       "      <td>Graham, Miss. Margaret Edith</td>\n",
       "      <td>female</td>\n",
       "      <td>19.0</td>\n",
       "      <td>0</td>\n",
       "      <td>0</td>\n",
       "      <td>112053</td>\n",
       "      <td>30.0000</td>\n",
       "      <td>B42</td>\n",
       "      <td>S</td>\n",
       "    </tr>\n",
       "    <tr>\n",
       "      <th>888</th>\n",
       "      <td>889</td>\n",
       "      <td>0</td>\n",
       "      <td>3</td>\n",
       "      <td>Johnston, Miss. Catherine Helen \"Carrie\"</td>\n",
       "      <td>female</td>\n",
       "      <td>NaN</td>\n",
       "      <td>1</td>\n",
       "      <td>2</td>\n",
       "      <td>W./C. 6607</td>\n",
       "      <td>23.4500</td>\n",
       "      <td>NaN</td>\n",
       "      <td>S</td>\n",
       "    </tr>\n",
       "    <tr>\n",
       "      <th>889</th>\n",
       "      <td>890</td>\n",
       "      <td>1</td>\n",
       "      <td>1</td>\n",
       "      <td>Behr, Mr. Karl Howell</td>\n",
       "      <td>male</td>\n",
       "      <td>26.0</td>\n",
       "      <td>0</td>\n",
       "      <td>0</td>\n",
       "      <td>111369</td>\n",
       "      <td>30.0000</td>\n",
       "      <td>C148</td>\n",
       "      <td>C</td>\n",
       "    </tr>\n",
       "    <tr>\n",
       "      <th>890</th>\n",
       "      <td>891</td>\n",
       "      <td>0</td>\n",
       "      <td>3</td>\n",
       "      <td>Dooley, Mr. Patrick</td>\n",
       "      <td>male</td>\n",
       "      <td>32.0</td>\n",
       "      <td>0</td>\n",
       "      <td>0</td>\n",
       "      <td>370376</td>\n",
       "      <td>7.7500</td>\n",
       "      <td>NaN</td>\n",
       "      <td>Q</td>\n",
       "    </tr>\n",
       "  </tbody>\n",
       "</table>\n",
       "<p>891 rows × 12 columns</p>\n",
       "</div>"
      ],
      "text/plain": [
       "     PassengerId  Survived  Pclass  \\\n",
       "0              1         0       3   \n",
       "1              2         1       1   \n",
       "2              3         1       3   \n",
       "3              4         1       1   \n",
       "4              5         0       3   \n",
       "..           ...       ...     ...   \n",
       "886          887         0       2   \n",
       "887          888         1       1   \n",
       "888          889         0       3   \n",
       "889          890         1       1   \n",
       "890          891         0       3   \n",
       "\n",
       "                                                  Name     Sex   Age  SibSp  \\\n",
       "0                              Braund, Mr. Owen Harris    male  22.0      1   \n",
       "1    Cumings, Mrs. John Bradley (Florence Briggs Th...  female  38.0      1   \n",
       "2                               Heikkinen, Miss. Laina  female  26.0      0   \n",
       "3         Futrelle, Mrs. Jacques Heath (Lily May Peel)  female  35.0      1   \n",
       "4                             Allen, Mr. William Henry    male  35.0      0   \n",
       "..                                                 ...     ...   ...    ...   \n",
       "886                              Montvila, Rev. Juozas    male  27.0      0   \n",
       "887                       Graham, Miss. Margaret Edith  female  19.0      0   \n",
       "888           Johnston, Miss. Catherine Helen \"Carrie\"  female   NaN      1   \n",
       "889                              Behr, Mr. Karl Howell    male  26.0      0   \n",
       "890                                Dooley, Mr. Patrick    male  32.0      0   \n",
       "\n",
       "     Parch            Ticket     Fare Cabin Embarked  \n",
       "0        0         A/5 21171   7.2500   NaN        S  \n",
       "1        0          PC 17599  71.2833   C85        C  \n",
       "2        0  STON/O2. 3101282   7.9250   NaN        S  \n",
       "3        0            113803  53.1000  C123        S  \n",
       "4        0            373450   8.0500   NaN        S  \n",
       "..     ...               ...      ...   ...      ...  \n",
       "886      0            211536  13.0000   NaN        S  \n",
       "887      0            112053  30.0000   B42        S  \n",
       "888      2        W./C. 6607  23.4500   NaN        S  \n",
       "889      0            111369  30.0000  C148        C  \n",
       "890      0            370376   7.7500   NaN        Q  \n",
       "\n",
       "[891 rows x 12 columns]"
      ]
     },
     "execution_count": 6,
     "metadata": {},
     "output_type": "execute_result"
    }
   ],
   "source": [
    "df"
   ]
  },
  {
   "cell_type": "code",
   "execution_count": 8,
   "id": "f1f25df3-f018-4809-a7cf-85b5e1e3be96",
   "metadata": {},
   "outputs": [
    {
     "name": "stdout",
     "output_type": "stream",
     "text": [
      "SST: 622.1234567901223\n",
      "SSE: 2.784008463660734e-26\n",
      "SSR: 622.1234567901223\n"
     ]
    }
   ],
   "source": [
    "import pandas as pd\n",
    "import statsmodels.api as sm\n",
    "from statsmodels.formula.api import ols\n",
    "\n",
    "# load data\n",
    "data = pd.read_csv('https://raw.githubusercontent.com/datasciencedojo/datasets/master/titanic.csv')\n",
    "\n",
    "# create dependent variable\n",
    "y = data['Pclass']\n",
    "\n",
    "# fit one-way ANOVA model\n",
    "model = ols('y ~ Pclass', data=data).fit()\n",
    "\n",
    "# calculate SST\n",
    "sst = sm.stats.anova_lm(model, typ=1)['sum_sq'][0]\n",
    "\n",
    "# calculate SSE\n",
    "sse = sm.stats.anova_lm(model, typ=1)['sum_sq'][1]\n",
    "\n",
    "# calculate SSR\n",
    "ssr = sst - sse\n",
    "\n",
    "print('SST:', sst)\n",
    "print('SSE:', sse)\n",
    "print('SSR:', ssr)\n"
   ]
  },
  {
   "cell_type": "markdown",
   "id": "709876da-bff8-480e-8568-78e153e3d7e3",
   "metadata": {},
   "source": [
    "#### Q5. In a two-way ANOVA, how would you calculate the main effects and interaction effects using Python?"
   ]
  },
  {
   "cell_type": "code",
   "execution_count": 19,
   "id": "320482db-c798-4e7b-a531-a5f3f170b48c",
   "metadata": {},
   "outputs": [
    {
     "name": "stdout",
     "output_type": "stream",
     "text": [
      "                              sum_sq   df          F    PR(>F)\n",
      "C(Group)                  179.166667  2.0   6.142857  0.035328\n",
      "C(Factor_1)               408.333333  1.0  28.000000  0.001845\n",
      "C(Factor_2)              1408.333333  1.0  96.571429  0.000064\n",
      "C(Factor_1):C(Factor_2)     8.333333  1.0   0.571429  0.478309\n",
      "Residual                   87.500000  6.0        NaN       NaN\n",
      "Main effects:\n",
      "Intercept        98.333333\n",
      "C(Group)[T.B]    -1.250000\n",
      "C(Group)[T.C]    -8.750000\n",
      "dtype: float64\n",
      "Interaction effect:\n",
      "-9.999999999999986\n"
     ]
    }
   ],
   "source": [
    "import pandas as pd\n",
    "from statsmodels.formula.api import ols\n",
    "from statsmodels.stats.anova import anova_lm\n",
    "\n",
    "# Load the data into a Pandas DataFrame\n",
    "data = pd.DataFrame({\n",
    "    'Group': ['A', 'A', 'A', 'A', 'B', 'B', 'B', 'B', 'C', 'C', 'C', 'C'],\n",
    "    'Factor_1': ['Low', 'High', 'Low', 'High', 'Low', 'High', 'Low', 'High', 'Low', 'High', 'Low', 'High'],\n",
    "    'Factor_2': ['Yes', 'Yes', 'No', 'No', 'Yes', 'Yes', 'No', 'No', 'Yes', 'Yes', 'No', 'No'],\n",
    "    'Score': [70, 80, 85, 95, 60, 75, 90, 100, 55, 70, 80, 90]\n",
    "})\n",
    "\n",
    "# Fit the ANOVA model\n",
    "model = ols('Score ~ C(Group) + C(Factor_1) + C(Factor_2) + C(Factor_1):C(Factor_2)', data).fit()\n",
    "\n",
    "# Print the ANOVA table\n",
    "print(anova_lm(model, typ=2))\n",
    "\n",
    "# Calculate the main effects\n",
    "main_effects = model.params[:3]\n",
    "print('Main effects:')\n",
    "print(main_effects)\n",
    "\n",
    "# Calculate the interaction effect\n",
    "interaction_effect = model.params[3]\n",
    "print('Interaction effect:')\n",
    "print(interaction_effect)\n"
   ]
  },
  {
   "cell_type": "markdown",
   "id": "00ef73e1-d755-44e4-8d05-6b9aa282d677",
   "metadata": {},
   "source": [
    "#### Q6. Suppose you conducted a one-way ANOVA and obtained an F-statistic of 5.23 and a p-value of 0.02. What can you conclude about the differences between the groups, and how would you interpret these results?"
   ]
  },
  {
   "cell_type": "markdown",
   "id": "45d6cdfa-c5b2-46bb-936f-e48b723d4a18",
   "metadata": {},
   "source": [
    "#### Ans:-conducted a one-way ANOVA and obtained an F-statistic of 5.23 and a p-value of 0.02, it means that there is some evidence of differences between the groups.\n",
    "A larger F-value indicates that the differences between the groups are more significant. The p-value is the probability of obtaining the observed F-statistic or more extreme results if the null hypothesis is true. In this case, a p-value of 0.02 means that there is only a 2% chance of obtaining the observed F-statistic or more extreme results if there were no differences between the groups.\n",
    "#### we can conclude that there is evidence to reject the null hypothesis that all the group means are equal, and at least one group mean is different from the others. However, you cannot determine which specific groups are different from one another without further analysis, such as post-hoc tests."
   ]
  },
  {
   "cell_type": "markdown",
   "id": "2b17b0bf-66cc-4182-981f-969c09088b8a",
   "metadata": {},
   "source": [
    "#### Q7. In a repeated measures ANOVA, how would you handle missing data, and what are the potential consequences of using different methods to handle missing data?"
   ]
  },
  {
   "cell_type": "markdown",
   "id": "d93a88eb-7c1a-4d9d-a6b0-b84ac7da46ab",
   "metadata": {},
   "source": [
    "#### Ans:- There are several methods to handle missing data in a repeated measures ANOVA. One common approach is to use imputation methods, where missing values are replaced with estimated values based on observed data. There are different types of imputation methods, including mean imputation, regression imputation, and multiple imputation. Another approach is to exclude participants with missing data from the analysis, although this can lead to reduced sample sizes and potentially biased results.\n",
    "\n",
    "#### Biased estimates: If missing data are not handled correctly, it can lead to biased estimates of group means, variances, and effect sizes.\n",
    "\n",
    "#### Reduced statistical power: Excluding participants with missing data can lead to a reduced sample size, which can reduce statistical power and increase the risk of type II errors.\n",
    "\n",
    "#### Increased type I error rate: Imputing missing data based on observed data can introduce noise into the data, which can increase the risk of type I errors, especially when the proportion of missing data is high.\n",
    "\n",
    "#### Invalid results: If missing data are not handled correctly, it can lead to invalid statistical results, which can have implications for the interpretation of the findings."
   ]
  },
  {
   "cell_type": "markdown",
   "id": "86c28383-cf56-4030-b7cb-d2c3c528095a",
   "metadata": {},
   "source": [
    "#### Q8. What are some common post-hoc tests used after ANOVA, and when would you use each one? Provide an example of a situation where a post-hoc test might be necessary."
   ]
  },
  {
   "cell_type": "markdown",
   "id": "eb59f2da-bd2a-4ff3-8028-5567302ae6b9",
   "metadata": {},
   "source": [
    "#### Ans:-Tukey's Honestly Significant Difference (HSD): Tukey's HSD test is a conservative post-hoc test that controls the familywise error rate. It is commonly used when the number of groups is equal and the group sizes are equal.\n",
    "\n",
    "#### Bonferroni correction: The Bonferroni correction is a conservative post-hoc test that adjusts the significance level for multiple comparisons. It is commonly used when the number of groups is small.\n",
    "\n",
    "#### Scheffe's test: Scheffe's test is a liberal post-hoc test that controls the familywise error rate. It is commonly used when the number of groups is unequal.\n",
    "\n",
    "#### Dunnett's test: Dunnett's test is a post-hoc test that compares all groups to a control group. It is commonly used when there is a control group and multiple treatment groups.\n",
    "An example of a situation where a post-hoc test might be necessary is when a researcher is conducting an experiment to test the effects of three different types of exercise on cardiovascular health. After conducting an ANOVA, the researcher finds that there is a significant difference between the groups. To determine which specific groups are different from one another, the researcher could use a post-hoc test, such as Tukey's HSD test, to compare the mean cardiovascular health scores of each group.\n"
   ]
  },
  {
   "cell_type": "markdown",
   "id": "da20a3d2-53aa-4d03-8c70-40aa53e68e6a",
   "metadata": {},
   "source": [
    "#### Q9. A researcher wants to compare the mean weight loss of three diets: A, B, and C. They collect data from 50 participants who were randomly assigned to one of the diets. Conduct a one-way ANOVA using Python to determine if there are any significant differences between the mean weight loss of the three diets. Report the F-statistic and p-value, and interpret the results."
   ]
  },
  {
   "cell_type": "code",
   "execution_count": 20,
   "id": "f2cbc6e8-0272-44d4-a81f-917347dd688b",
   "metadata": {},
   "outputs": [
    {
     "name": "stdout",
     "output_type": "stream",
     "text": [
      "F-statistic: 45.78264848608969\n",
      "p-value: 3.4969532692130786e-16\n"
     ]
    }
   ],
   "source": [
    "import numpy as np\n",
    "from scipy.stats import f_oneway\n",
    "\n",
    "# Generate random weight loss data for the three diets\n",
    "np.random.seed(123)\n",
    "A = np.random.normal(loc=5, scale=2, size=50)\n",
    "B = np.random.normal(loc=7, scale=2, size=50)\n",
    "C = np.random.normal(loc=9, scale=2, size=50)\n",
    "\n",
    "# Perform one-way ANOVA\n",
    "F, p = f_oneway(A, B, C)\n",
    "\n",
    "# Print results\n",
    "print(\"F-statistic:\", F)\n",
    "print(\"p-value:\", p)\n"
   ]
  },
  {
   "cell_type": "markdown",
   "id": "6c4eca8e-a306-4287-8c09-302b3d7e578c",
   "metadata": {},
   "source": [
    "#### Q10. A company wants to know if there are any significant differences in the average time it takes to complete a task using three different software programs: Program A, Program B, and Program C. They randomly assign 30 employees to one of the programs and record the time it takes each employee to complete the task. Conduct a two-way ANOVA using Python to determine if there are any main effects or interaction effects between the software programs and employee experience level (novice vs. experienced). Report the F-statistics and p-values, and interpret the results."
   ]
  },
  {
   "cell_type": "code",
   "execution_count": null,
   "id": "c24a6083-8802-4b4c-983d-d104c511c355",
   "metadata": {},
   "outputs": [],
   "source": [
    "import pandas as pd\n",
    "from statsmodels.formula.api import ols\n",
    "from statsmodels.stats.anova import anova_lm\n",
    "\n",
    "# Create a random dataset with 30 employees and 3 software programs\n",
    "# where completion time varies based on experience level\n",
    "import numpy as np\n",
    "np.random.seed(123)\n",
    "n = 30\n",
    "employees = ['Employee {}'.format(i) for i in range(1, n+1)]\n",
    "programs = ['Program A', 'Program B', 'Program C']\n",
    "experience = ['Novice', 'Experienced']\n",
    "data = pd.DataFrame({'Employee': np.random.choice(employees, n),\n",
    "                     'Program': np.random.choice(programs, n),\n",
    "                     'Experience': np.random.choice(experience, n),\n",
    "                     'Time': np.random.normal(loc=10, scale=2, size=n)})\n",
    "\n",
    "# Convert categorical variables to categorical data type\n",
    "data['Program'] = data['Program'].astype('category')\n",
    "data['Experience'] = data['Experience'].astype('category')\n",
    "\n",
    "# Fit the ANOVA model with interaction effect\n",
    "model = ols('Time ~ C(Program) * C(Experience)', data=data).fit()\n",
    "\n",
    "# Print the ANOVA table\n",
    "print(anova_lm(model, typ=2))"
   ]
  },
  {
   "cell_type": "markdown",
   "id": "3a27cbc9-b944-49a3-8729-0137fd7f42a5",
   "metadata": {},
   "source": [
    "#### Q11. An educational researcher is interested in whether a new teaching method improves student test scores. They randomly assign 100 students to either the control group (traditional teaching method) or the experimental group (new teaching method) and administer a test at the end of the semester. Conduct atwo-sample t-test using Python to determine if there are any significant differences in test scores between the two groups. If the results are significant, follow up with a post-hoc test to determine which group(s) differ significantly from each other."
   ]
  },
  {
   "cell_type": "code",
   "execution_count": 23,
   "id": "2dedcdee-e742-499b-a7ea-f100747ba2c7",
   "metadata": {},
   "outputs": [
    {
     "name": "stdout",
     "output_type": "stream",
     "text": [
      "Collecting pingouin\n",
      "  Downloading pingouin-0.5.3-py3-none-any.whl (198 kB)\n",
      "\u001b[2K     \u001b[90m━━━━━━━━━━━━━━━━━━━━━━━━━━━━━━━━━━━━━━━\u001b[0m \u001b[32m198.6/198.6 kB\u001b[0m \u001b[31m3.1 MB/s\u001b[0m eta \u001b[36m0:00:00\u001b[0ma \u001b[36m0:00:01\u001b[0m\n",
      "\u001b[?25hCollecting tabulate\n",
      "  Downloading tabulate-0.9.0-py3-none-any.whl (35 kB)\n",
      "Requirement already satisfied: statsmodels>=0.13 in /opt/conda/lib/python3.10/site-packages (from pingouin) (0.13.5)\n",
      "Requirement already satisfied: scipy>=1.7 in /opt/conda/lib/python3.10/site-packages (from pingouin) (1.9.3)\n",
      "Requirement already satisfied: scikit-learn in /opt/conda/lib/python3.10/site-packages (from pingouin) (1.2.0)\n",
      "Requirement already satisfied: matplotlib>=3.0.2 in /opt/conda/lib/python3.10/site-packages (from pingouin) (3.6.2)\n",
      "Requirement already satisfied: seaborn>=0.11 in /opt/conda/lib/python3.10/site-packages (from pingouin) (0.12.1)\n",
      "Requirement already satisfied: numpy>=1.19 in /opt/conda/lib/python3.10/site-packages (from pingouin) (1.23.5)\n",
      "Requirement already satisfied: pandas>=1.0 in /opt/conda/lib/python3.10/site-packages (from pingouin) (1.5.2)\n",
      "Collecting pandas-flavor>=0.2.0\n",
      "  Downloading pandas_flavor-0.5.0-py3-none-any.whl (7.1 kB)\n",
      "Collecting outdated\n",
      "  Downloading outdated-0.2.2-py2.py3-none-any.whl (7.5 kB)\n",
      "Requirement already satisfied: cycler>=0.10 in /opt/conda/lib/python3.10/site-packages (from matplotlib>=3.0.2->pingouin) (0.11.0)\n",
      "Requirement already satisfied: pillow>=6.2.0 in /opt/conda/lib/python3.10/site-packages (from matplotlib>=3.0.2->pingouin) (9.2.0)\n",
      "Requirement already satisfied: python-dateutil>=2.7 in /opt/conda/lib/python3.10/site-packages (from matplotlib>=3.0.2->pingouin) (2.8.2)\n",
      "Requirement already satisfied: pyparsing>=2.2.1 in /opt/conda/lib/python3.10/site-packages (from matplotlib>=3.0.2->pingouin) (3.0.9)\n",
      "Requirement already satisfied: packaging>=20.0 in /opt/conda/lib/python3.10/site-packages (from matplotlib>=3.0.2->pingouin) (22.0)\n",
      "Requirement already satisfied: fonttools>=4.22.0 in /opt/conda/lib/python3.10/site-packages (from matplotlib>=3.0.2->pingouin) (4.38.0)\n",
      "Requirement already satisfied: contourpy>=1.0.1 in /opt/conda/lib/python3.10/site-packages (from matplotlib>=3.0.2->pingouin) (1.0.6)\n",
      "Requirement already satisfied: kiwisolver>=1.0.1 in /opt/conda/lib/python3.10/site-packages (from matplotlib>=3.0.2->pingouin) (1.4.4)\n",
      "Requirement already satisfied: pytz>=2020.1 in /opt/conda/lib/python3.10/site-packages (from pandas>=1.0->pingouin) (2022.6)\n",
      "Collecting lazy-loader>=0.1\n",
      "  Downloading lazy_loader-0.2-py3-none-any.whl (8.6 kB)\n",
      "Collecting xarray\n",
      "  Downloading xarray-2023.3.0-py3-none-any.whl (981 kB)\n",
      "\u001b[2K     \u001b[90m━━━━━━━━━━━━━━━━━━━━━━━━━━━━━━━━━━━━━━\u001b[0m \u001b[32m981.2/981.2 kB\u001b[0m \u001b[31m17.5 MB/s\u001b[0m eta \u001b[36m0:00:00\u001b[0ma \u001b[36m0:00:01\u001b[0m\n",
      "\u001b[?25hRequirement already satisfied: patsy>=0.5.2 in /opt/conda/lib/python3.10/site-packages (from statsmodels>=0.13->pingouin) (0.5.3)\n",
      "Requirement already satisfied: setuptools>=44 in /opt/conda/lib/python3.10/site-packages (from outdated->pingouin) (65.5.1)\n",
      "Requirement already satisfied: requests in /opt/conda/lib/python3.10/site-packages (from outdated->pingouin) (2.28.1)\n",
      "Collecting littleutils\n",
      "  Downloading littleutils-0.2.2.tar.gz (6.6 kB)\n",
      "  Preparing metadata (setup.py) ... \u001b[?25ldone\n",
      "\u001b[?25hRequirement already satisfied: threadpoolctl>=2.0.0 in /opt/conda/lib/python3.10/site-packages (from scikit-learn->pingouin) (3.1.0)\n",
      "Requirement already satisfied: joblib>=1.1.1 in /opt/conda/lib/python3.10/site-packages (from scikit-learn->pingouin) (1.2.0)\n",
      "Requirement already satisfied: six in /opt/conda/lib/python3.10/site-packages (from patsy>=0.5.2->statsmodels>=0.13->pingouin) (1.16.0)\n",
      "Requirement already satisfied: certifi>=2017.4.17 in /opt/conda/lib/python3.10/site-packages (from requests->outdated->pingouin) (2022.12.7)\n",
      "Requirement already satisfied: idna<4,>=2.5 in /opt/conda/lib/python3.10/site-packages (from requests->outdated->pingouin) (3.4)\n",
      "Requirement already satisfied: charset-normalizer<3,>=2 in /opt/conda/lib/python3.10/site-packages (from requests->outdated->pingouin) (2.1.1)\n",
      "Requirement already satisfied: urllib3<1.27,>=1.21.1 in /opt/conda/lib/python3.10/site-packages (from requests->outdated->pingouin) (1.26.13)\n",
      "Building wheels for collected packages: littleutils\n",
      "  Building wheel for littleutils (setup.py) ... \u001b[?25ldone\n",
      "\u001b[?25h  Created wheel for littleutils: filename=littleutils-0.2.2-py3-none-any.whl size=7028 sha256=b3f3cb8e5981825662d0fd99b369a1cc3797e64fe5278d0be4875aa98f8893c2\n",
      "  Stored in directory: /home/jovyan/.cache/pip/wheels/e0/3b/9c/d55ff5bc6cfbe70537c4731a22f2ee2462c2e5010b56ac9726\n",
      "Successfully built littleutils\n",
      "Installing collected packages: littleutils, tabulate, lazy-loader, outdated, xarray, pandas-flavor, pingouin\n",
      "Successfully installed lazy-loader-0.2 littleutils-0.2.2 outdated-0.2.2 pandas-flavor-0.5.0 pingouin-0.5.3 tabulate-0.9.0 xarray-2023.3.0\n",
      "Note: you may need to restart the kernel to use updated packages.\n"
     ]
    }
   ],
   "source": [
    "pip install pingouin"
   ]
  },
  {
   "cell_type": "code",
   "execution_count": 34,
   "id": "9734093e-d2d2-4b75-abc8-8746e54f9e6a",
   "metadata": {},
   "outputs": [
    {
     "name": "stdout",
     "output_type": "stream",
     "text": [
      "t-value: -2.315158728279605\n",
      "p-value: 0.022690065589586535\n"
     ]
    },
    {
     "ename": "TypeError",
     "evalue": "pairwise_tukey() got an unexpected keyword argument 'groups'",
     "output_type": "error",
     "traceback": [
      "\u001b[0;31m---------------------------------------------------------------------------\u001b[0m",
      "\u001b[0;31mTypeError\u001b[0m                                 Traceback (most recent call last)",
      "Cell \u001b[0;32mIn[34], line 20\u001b[0m\n\u001b[1;32m     17\u001b[0m \u001b[38;5;66;03m# Perform post-hoc test if significant differences are found\u001b[39;00m\n\u001b[1;32m     18\u001b[0m \u001b[38;5;28;01mif\u001b[39;00m p \u001b[38;5;241m<\u001b[39m \u001b[38;5;241m0.05\u001b[39m:\n\u001b[1;32m     19\u001b[0m     \u001b[38;5;66;03m# Perform Tukey's HSD test\u001b[39;00m\n\u001b[0;32m---> 20\u001b[0m     posthoc \u001b[38;5;241m=\u001b[39m \u001b[43mpairwise_tukey\u001b[49m\u001b[43m(\u001b[49m\u001b[43mdata\u001b[49m\u001b[38;5;241;43m=\u001b[39;49m\u001b[43mnp\u001b[49m\u001b[38;5;241;43m.\u001b[39;49m\u001b[43mconcatenate\u001b[49m\u001b[43m(\u001b[49m\u001b[43m[\u001b[49m\u001b[43mcontrol_scores\u001b[49m\u001b[43m,\u001b[49m\u001b[43m \u001b[49m\u001b[43mexperimental_scores\u001b[49m\u001b[43m]\u001b[49m\u001b[43m)\u001b[49m\u001b[43m,\u001b[49m\u001b[43m \u001b[49m\n\u001b[1;32m     21\u001b[0m \u001b[43m                             \u001b[49m\u001b[43mgroups\u001b[49m\u001b[38;5;241;43m=\u001b[39;49m\u001b[43mnp\u001b[49m\u001b[38;5;241;43m.\u001b[39;49m\u001b[43mconcatenate\u001b[49m\u001b[43m(\u001b[49m\u001b[43m[\u001b[49m\u001b[43mnp\u001b[49m\u001b[38;5;241;43m.\u001b[39;49m\u001b[43mzeros\u001b[49m\u001b[43m(\u001b[49m\u001b[38;5;241;43m50\u001b[39;49m\u001b[43m)\u001b[49m\u001b[43m,\u001b[49m\u001b[43m \u001b[49m\u001b[43mnp\u001b[49m\u001b[38;5;241;43m.\u001b[39;49m\u001b[43mones\u001b[49m\u001b[43m(\u001b[49m\u001b[38;5;241;43m50\u001b[39;49m\u001b[43m)\u001b[49m\u001b[43m]\u001b[49m\u001b[43m)\u001b[49m\u001b[43m)\u001b[49m\n\u001b[1;32m     22\u001b[0m     \u001b[38;5;28mprint\u001b[39m(\u001b[38;5;124m\"\u001b[39m\u001b[38;5;124mPost-hoc test results:\u001b[39m\u001b[38;5;124m\"\u001b[39m)\n\u001b[1;32m     23\u001b[0m     \u001b[38;5;28mprint\u001b[39m(posthoc)\n",
      "\u001b[0;31mTypeError\u001b[0m: pairwise_tukey() got an unexpected keyword argument 'groups'"
     ]
    }
   ],
   "source": [
    "import numpy as np\n",
    "from scipy.stats import ttest_ind\n",
    "from pingouin import pairwise_tukey\n",
    "\n",
    "# Generate random test score data for the control and experimental groups\n",
    "np.random.seed(123)\n",
    "control_scores = np.random.normal(loc=70, scale=10, size=50)\n",
    "experimental_scores = np.random.normal(loc=75, scale=10, size=50)\n",
    "\n",
    "# Perform two-sample t-test\n",
    "t, p = ttest_ind(control_scores, experimental_scores)\n",
    "\n",
    "# Print results\n",
    "print(\"t-value:\", t)\n",
    "print(\"p-value:\", p)\n",
    "\n",
    "# Perform post-hoc test if significant differences are found\n",
    "if p < 0.05:\n",
    "    # Perform Tukey's HSD test\n",
    "    posthoc = pairwise_tukey(data=np.concatenate([control_scores, experimental_scores]), \n",
    "                             groups=np.concatenate([np.zeros(50), np.ones(50)]))\n",
    "    print(\"Post-hoc test results:\")\n",
    "    print(posthoc)\n"
   ]
  },
  {
   "cell_type": "markdown",
   "id": "b7fcd8c2-6ed0-4bf8-bf31-fd77f40644bb",
   "metadata": {},
   "source": [
    "#### Q12. A researcher wants to know if there are any significant differences in the average daily sales of three retail stores: Store A, Store B, and Store C. They randomly select 30 days and record the sales for each store on those days. Conduct a repeated measures ANOVA using Python to determine if there are any significant differences in sales between the three stores. If the results are significant, follow up with a post- hoc test to determine which store(s) differ significantly from each other."
   ]
  },
  {
   "cell_type": "code",
   "execution_count": null,
   "id": "e9086a15-4420-43f3-b204-04b00665eb04",
   "metadata": {},
   "outputs": [],
   "source": [
    "import pandas as pd\n",
    "import statsmodels.api as sm\n",
    "from statsmodels.formula.api import ols\n",
    "\n",
    "# Create a sample dataset\n",
    "data = pd.DataFrame({\n",
    "    'store': ['A']*30 + ['B']*30 + ['C']*30,\n",
    "    'sales': [10, 12, 15, 11, 13, 16, 14, 16, 18, 12, 13, 15, 11, 14, 16, 15, 17, 20, 11, 12, 14, 16, 18, 20, 17, 19, 21, 15, 18, 20] * 3,\n",
    "    'day': list(range(1, 31)) * 3\n",
    "})\n",
    "\n",
    "# Convert 'store' and 'day' to categorical variables\n",
    "data['store'] = data['store'].astype('category')\n",
    "data['day'] = data['day'].astype('category')\n",
    "\n",
    "# Fit a repeated measures ANOVA model\n",
    "rm_anova = ols('sales ~ C(store) + C(day) + C(store):C(day)', data=data).fit()\n",
    "\n",
    "# Print the ANOVA table\n",
    "print(sm.stats.anova_lm(rm_anova, typ=2))"
   ]
  }
 ],
 "metadata": {
  "kernelspec": {
   "display_name": "Python 3 (ipykernel)",
   "language": "python",
   "name": "python3"
  },
  "language_info": {
   "codemirror_mode": {
    "name": "ipython",
    "version": 3
   },
   "file_extension": ".py",
   "mimetype": "text/x-python",
   "name": "python",
   "nbconvert_exporter": "python",
   "pygments_lexer": "ipython3",
   "version": "3.10.8"
  }
 },
 "nbformat": 4,
 "nbformat_minor": 5
}
