{
 "cells": [
  {
   "cell_type": "markdown",
   "id": "38bedd41-58a5-4192-bdac-a23970fe36d1",
   "metadata": {},
   "source": [
    "#### Q1. What is a database? Differentiate between SQL and NoSQL databases.\n",
    "\n",
    "#### Ans:- A database is an organized collection of data that is stored and managed on a computer system. Databases are used to store and retrieve large amounts of information in a structured and efficient manner, enabling easy access, manipulation, and analysis of the data.\n",
    "\n",
    "SQL and NoSQL are two types of databases that differ in their data model, schema, and structure.\n",
    "\n",
    "#### SQL (Structured Query Language):- SQL databases are relational databases that store data in tables with pre-defined schemas. These tables have rows and columns, and relationships are established between tables by using foreign keys. SQL databases follow ACID (Atomicity, Consistency, Isolation, and Durability) principles, which ensures data consistency, reliability, and transactional integrity. Some examples of SQL databases include MySQL, Oracle, and PostgreSQL.\n",
    "\n",
    " #### NoSQL (Not Only SQL):- NoSQL databases are non-relational databases that store data in documents, key-value pairs, graph, or column-family formats. NoSQL databases have a flexible schema that allows for easy changes to the data structure, making them suitable for handling unstructured and semi-structured data. NoSQL databases do not follow the ACID principles, and instead, use BASE (Basically Available, Soft-state, Eventually Consistent) principles to ensure high scalability and availability. Some examples of NoSQL databases include MongoDB, Cassandra, and DynamoDB.\n",
    "\n",
    " SQL databases are ideal for structured and consistent data that require strict data integrity, while NoSQL databases are suitable for semi-structured and unstructured data that need to be processed quickly and with high scalability.\n",
    "\n",
    "\n",
    "\n",
    "\n"
   ]
  },
  {
   "cell_type": "markdown",
   "id": "58b31181-443b-40f6-8328-a32045f2fb02",
   "metadata": {},
   "source": [
    "#### Q2. What is DDL? Explain why CREATE, DROP, ALTER, and TRUNCATE are used with an example.\n",
    "\n",
    "#### Ans:- DDL stands for Data Definition Language, which is a subset of SQL (Structured Query Language) used to define and manage the database schema. DDL commands are used to create, modify, and delete database objects such as tables, views, indexes, and constraints."
   ]
  },
  {
   "cell_type": "markdown",
   "id": "55b45e17-09af-49c8-9cc1-8ce1c5285168",
   "metadata": {},
   "source": [
    "#### CREATE - This command is used to create new database objects such as tables, views, indexes, and constraints. \n",
    "\n",
    "#### DROP - This command is used to delete existing database objects.\n",
    "\n",
    "#### ALTER - This command is used to modify the structure of an existing database object.\n",
    "\n",
    "#### TRUNCATE - This command is used to delete all the data in a table but keeps the table structure intact.\n",
    "\n",
    "DDL commands are used to define and manage the database schema, and they allow database administrators to create, modify, and delete database objects as needed. The CREATE, DROP, ALTER, and TRUNCATE commands are used for creating, deleting, modifying, and emptying tables, respectively.\n"
   ]
  },
  {
   "cell_type": "markdown",
   "id": "1b3d7450-7361-45ef-8d65-228bca204a71",
   "metadata": {},
   "source": [
    "#### Q3. What is DML? Explain INSERT, UPDATE, and DELETE with an example.\n",
    "\n",
    "#### Ans:-DML stands for Data Manipulation Language, which is a subset of SQL (Structured Query Language) used to manipulate the data within a database. DML commands are used to add, modify, and remove data from database tables.\n",
    "\n",
    "#### INSERT - This command is used to add new data to a table,For example, to insert a new row into the \"employees\" table with the name \"John\", age \"25\", and department \"Sales\", the following SQL statement can be used:\n",
    "INSERT INTO employees (name, age, department) VALUES ('John', 25, 'Sales');\n",
    "\n",
    "#### UPDATE - This command is used to modify existing data in a table. For example, to update the department for the employee with the name \"John\" to \"Marketing\", the following SQL statement can be used:\n",
    "UPDATE employees SET department = 'Marketing' WHERE name = 'John';\n",
    "\n",
    "#### DELETE - This command is used to remove data from a table. or example, to delete all the rows in the \"employees\" table where the age is less than 25, the following SQL statement can be used:\n",
    "\n",
    "DELETE FROM employees WHERE age < 25;\n"
   ]
  },
  {
   "cell_type": "code",
   "execution_count": null,
   "id": "2bab72dd-1d12-44b9-8d2b-71023e367cb4",
   "metadata": {},
   "outputs": [],
   "source": [
    "import mysql.connector\n",
    "INSERT INTO employees (name, age, department) VALUES ('John', 25, 'Sales');\n"
   ]
  },
  {
   "cell_type": "markdown",
   "id": "96fce339-2fcb-48e3-b0b3-33a1e1465618",
   "metadata": {},
   "source": [
    "#### Q4. What is DQL? Explain SELECT with an example.\n",
    "\n",
    "#### Ans:-DQL stands for Data Query Language, which is used to retrieve data from a database. The SELECT statement is one of the most commonly used DQL commands and is used to retrieve data from one or more tables in a database.\n",
    "\n",
    "#### SELECT column1, column2, ... FROM table_name WHERE condition;\n"
   ]
  },
  {
   "cell_type": "code",
   "execution_count": null,
   "id": "d208280b-14f3-44af-b939-e705eaae54f8",
   "metadata": {},
   "outputs": [],
   "source": [
    "import sqlite3\n",
    "\n",
    "# Connect to the database\n",
    "conn = sqlite3.connect('example.db')\n",
    "\n",
    "# Create a cursor object\n",
    "cursor = conn.cursor()\n",
    "\n",
    "# Execute a CREATE TABLE statement\n",
    "cursor.execute('''CREATE TABLE employees\n",
    "                (id INTEGER PRIMARY KEY,\n",
    "                 name TEXT,\n",
    "                 age INTEGER,\n",
    "                 department TEXT)''')\n",
    "\n",
    "# Commit the transaction\n",
    "conn.commit()\n",
    "\n",
    "# Close the connection\n",
    "conn.close()\n"
   ]
  },
  {
   "cell_type": "code",
   "execution_count": 12,
   "id": "3c7c91eb-ba11-4ad1-9eab-e488414e83d9",
   "metadata": {},
   "outputs": [
    {
     "ename": "OperationalError",
     "evalue": "no such table: employees",
     "output_type": "error",
     "traceback": [
      "\u001b[0;31m---------------------------------------------------------------------------\u001b[0m",
      "\u001b[0;31mOperationalError\u001b[0m                          Traceback (most recent call last)",
      "Cell \u001b[0;32mIn[12], line 10\u001b[0m\n\u001b[1;32m      7\u001b[0m cursor \u001b[38;5;241m=\u001b[39m conn\u001b[38;5;241m.\u001b[39mcursor()\n\u001b[1;32m      9\u001b[0m \u001b[38;5;66;03m# Execute a SELECT statement to retrieve data from a table\u001b[39;00m\n\u001b[0;32m---> 10\u001b[0m \u001b[43mcursor\u001b[49m\u001b[38;5;241;43m.\u001b[39;49m\u001b[43mexecute\u001b[49m\u001b[43m(\u001b[49m\u001b[38;5;124;43m\"\u001b[39;49m\u001b[38;5;124;43mSELECT name, age, department FROM employees WHERE age > 25\u001b[39;49m\u001b[38;5;124;43m\"\u001b[39;49m\u001b[43m)\u001b[49m\n\u001b[1;32m     12\u001b[0m \u001b[38;5;66;03m# Fetch the results of the query\u001b[39;00m\n\u001b[1;32m     13\u001b[0m results \u001b[38;5;241m=\u001b[39m cursor\u001b[38;5;241m.\u001b[39mfetchall()\n",
      "\u001b[0;31mOperationalError\u001b[0m: no such table: employees"
     ]
    }
   ],
   "source": [
    "import sqlite3\n",
    "\n",
    "# Open a connection to the database\n",
    "conn = sqlite3.connect('example.db')\n",
    "\n",
    "# Create a cursor object\n",
    "cursor = conn.cursor()\n",
    "\n",
    "# Execute a SELECT statement to retrieve data from a table\n",
    "cursor.execute(\"SELECT name, age, department FROM employees WHERE age > 25\")\n",
    "\n",
    "# Fetch the results of the query\n",
    "results = cursor.fetchall()\n",
    "\n",
    "# Print the results\n",
    "for row in results:\n",
    "    print(f\"Name: {row[0]}, Age: {row[1]}, Department: {row[2]}\")\n",
    "\n",
    "# Close the connection\n",
    "conn.close()\n"
   ]
  },
  {
   "cell_type": "markdown",
   "id": "83ce8ebc-63d2-41b6-9672-df8fbd15b68c",
   "metadata": {},
   "source": [
    "#### Q5. Explain Primary Key and Foreign Key.\n",
    "\n",
    "#### Ans:-In a relational database, a primary key and a foreign key are two important concepts that are used to establish relationships between tables.\n",
    "\n",
    "A primary key is a column or a set of columns in a table that uniquely identifies each row in the table. In other words, a primary key ensures that there are no duplicate rows in the table. The primary key is used as a reference point for other tables that establish a relationship with this table.\n",
    "\n",
    "CREATE TABLE customers (\n",
    "    \n",
    "id INTEGER PRIMARY KEY,\n",
    "   \n",
    "   name TEXT,\n",
    "   \n",
    "   email TEXT\n",
    "\n",
    ");\n"
   ]
  },
  {
   "cell_type": "markdown",
   "id": "5613e112-46c8-4600-80fb-9a3b700d255e",
   "metadata": {},
   "source": [
    "#### Q6. Write a python code to connect MySQL to python. Explain the cursor() and execute() method.\n",
    "\n",
    "#### Ans:-To connect to a MySQL database using Python, you need to use a library called mysql-connector-python. Here's an example of how to connect to a MySQL database and execute a SELECT statement using this library:"
   ]
  },
  {
   "cell_type": "code",
   "execution_count": null,
   "id": "b3a0f0c4-dc8c-4a6b-a6a1-d7cd1f4ff97e",
   "metadata": {},
   "outputs": [],
   "source": [
    "import mysql.connector\n",
    "\n",
    "# Connect to the database\n",
    "cnx = mysql.connector.connect(user='username', password='password', host='localhost', database='database_name')\n",
    "\n",
    "# Create a cursor object\n",
    "cursor = cnx.cursor()\n",
    "\n",
    "# Execute a SELECT statement\n",
    "query = \"SELECT * FROM employees\"\n",
    "cursor.execute(query)\n",
    "\n",
    "# Fetch the results of the query\n",
    "results = cursor.fetchall()\n",
    "\n",
    "# Print the results\n",
    "for row in results:\n",
    "    print(row)\n",
    "\n",
    "# Close the cursor and connection\n",
    "cursor.close()\n",
    "cnx.close()\n"
   ]
  },
  {
   "cell_type": "markdown",
   "id": "dea0688a-a0bc-48ea-a5ab-3f20049a1d71",
   "metadata": {},
   "source": [
    "#### Q7. Give the order of execution of SQL clauses in an SQL query.\n",
    "\n",
    "#### Ans:-he order of execution of SQL clauses in an SQL query is:\n",
    "\n",
    "#### FROM clause: This clause specifies the table or tables from which to retrieve data.\n",
    "\n",
    "#### JOIN clause: If the query involves more than one table, the JOIN clause is used to specify how the tables are related to each other.\n",
    "\n",
    "#### WHERE clause: This clause is used to filter the rows returned by the query based on a specified condition.\n",
    "\n",
    "#### GROUP BY clause: This clause is used to group the rows returned by the query based on one or more columns.\n",
    "\n",
    "#### HAVING clause: This clause is used to filter the groups produced by the GROUP BY clause based on a specified condition.\n",
    "\n",
    "#### SELECT clause: This clause specifies the columns to be returned in the query result.\n",
    "\n",
    "#### ORDER BY clause: This clause is used to sort the rows returned by the query based on one or more columns.\n",
    "\n",
    "#### LIMIT clause: This clause is used to limit the number of rows returned by the query.\n",
    "\n",
    "Note that not all of these clauses are required in every query, and the order in which they are used can vary depending on the specific requirements of the query. However, this is the typical order in which the clauses are used in a complex query involving multiple tables and conditions.\n",
    "\n",
    "\n",
    "\n",
    "\n"
   ]
  },
  {
   "cell_type": "code",
   "execution_count": null,
   "id": "3a22c37c-058f-4514-9b50-203907b894ce",
   "metadata": {},
   "outputs": [],
   "source": []
  }
 ],
 "metadata": {
  "kernelspec": {
   "display_name": "Python 3 (ipykernel)",
   "language": "python",
   "name": "python3"
  },
  "language_info": {
   "codemirror_mode": {
    "name": "ipython",
    "version": 3
   },
   "file_extension": ".py",
   "mimetype": "text/x-python",
   "name": "python",
   "nbconvert_exporter": "python",
   "pygments_lexer": "ipython3",
   "version": "3.10.8"
  }
 },
 "nbformat": 4,
 "nbformat_minor": 5
}
