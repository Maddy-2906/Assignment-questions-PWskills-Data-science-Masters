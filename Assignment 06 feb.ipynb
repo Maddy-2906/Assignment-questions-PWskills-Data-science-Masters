{
 "cells": [
  {
   "cell_type": "markdown",
   "id": "3e6c6e97-4a56-4e79-93d2-74dfe4d77ed7",
   "metadata": {},
   "source": [
    "#Q1. Create a function which will take a list as an argument and return the product of all the numbers\n",
    "after creating a flat list.\n",
    "Use the below-given list as an argument for your function.\n",
    "list1 = [1,2,3,4, [44,55,66, True], False, (34,56,78,89,34), {1,2,3,3,2,1}, {1:34, \"key2\": [55, 67, 78, 89], 4: (45,\n",
    "22, 61, 34)}, [56, 'data science'], 'Machine Learning']\n",
    "Note: you must extract numeric keys and values of the dictionary also."
   ]
  },
  {
   "cell_type": "code",
   "execution_count": 1,
   "id": "3cdcec40-f980-4af7-8794-d35bd58e9ac1",
   "metadata": {},
   "outputs": [],
   "source": [
    "list1 = [1,2,3,4, [44,55,66, True], False, (34,56,78,89,34), {1,2,3,3,2,1}, {1:34, \"key2\": [55, 67, 78, 89], 4: (45,\n",
    "22, 61, 34)}, [56, 'data science'], 'Machine Learning']"
   ]
  },
  {
   "cell_type": "code",
   "execution_count": 29,
   "id": "2f338725-a8de-44ba-b93c-2612d8eb68ae",
   "metadata": {},
   "outputs": [],
   "source": [
    "list1 = [1,2,3,4, [44,55,66, True], False, (34,56,78,89,34), {1,2,3,3,2,1}, {1:34, \"key2\": [55, 67, 78, 89], 4: (45,22, 61, 34)}, [56, 'data science'], 'Machine Learning']"
   ]
  },
  {
   "cell_type": "code",
   "execution_count": 49,
   "id": "fff87789-55ca-433e-8d0c-edf4cd0adfa9",
   "metadata": {},
   "outputs": [
    {
     "name": "stdout",
     "output_type": "stream",
     "text": [
      "689118639831180913138973540352000\n"
     ]
    }
   ],
   "source": [
    "def flatten_and_multiply(lst): #define flatten & multiply list\n",
    "    flat_list = []\n",
    "    def flatten(lst): #define list\n",
    "        for item in lst: #using for loop\n",
    "            if type(item) == list: #for list\n",
    "                flatten(item)\n",
    "            elif type(item) == tuple: #for tuple\n",
    "                flatten(item)\n",
    "            elif type(item) == dict: #for dict\n",
    "                 for key ,value in item.items():\n",
    "                    if type(key) in [int, float]: #for int,flaot\n",
    "                        flat_list.append(key)\n",
    "                    if type(value) in [int, float]:\n",
    "                        flat_list.append(value)\n",
    "                    elif type(value) == list:\n",
    "                        flatten(value)\n",
    "                    elif type(value) == tuple:\n",
    "                        flatten(value)\n",
    "            elif type(item) in [int, float]:\n",
    "                flat_list.append(item)\n",
    "    flatten(lst)\n",
    "    result =1\n",
    "    for item in flat_list:\n",
    "        result *=item\n",
    "    return result\n",
    "\n",
    "list1 = [1,2,3,4, [44,55,66, True], False, (34,56,78,89,34), {1,2,3,3,2,1}, {1:34, \"key2\": [55, 67, 78, 89], 4: (45,22, 61, 34)}, [56, 'data science'], 'Machine Learning']\n",
    "print(flatten_and_multiply(list1))"
   ]
  },
  {
   "cell_type": "markdown",
   "id": "1b48d43a-34b8-4cd5-ac8c-1c98849b263d",
   "metadata": {},
   "source": [
    "#Q2. Write a python program for encrypting a message sent to you by your friend. The logic of encryption\n",
    "should be such that, for a the output should be z. For b, the output should be y. For c, the output should\n",
    "be x respectively. Also, the whitespace should be replaced with a dollar sign. Keep the punctuation\n",
    "marks unchanged.\n",
    "Input Sentence: I want to become a Data Scientist.\n",
    "Encrypt the above input sentence using the program you just created.\n",
    "Note: Convert the given input sentence into lowercase before encrypting. The final output should be\n",
    "lowercase."
   ]
  },
  {
   "cell_type": "code",
   "execution_count": 85,
   "id": "22477ee5-b53e-4fe7-9ace-bf7cbb2b9859",
   "metadata": {},
   "outputs": [
    {
     "name": "stdout",
     "output_type": "stream",
     "text": [
      " r$dzmg$gl$yvxlnv$z$wzgz$hxrvmgrhg\n"
     ]
    }
   ],
   "source": [
    "def encrypted_message(message): #define encrypted message\n",
    "    message  = message.lower()\n",
    "    encrypted_message = \" \"\n",
    "    for char in message:\n",
    "        if char.isalpha():\n",
    "            encrypted_message += chr(122-ord(char) +97)\n",
    "        elif char.isspace():\n",
    "            encrypted_message += \"$\"\n",
    "        else:\n",
    "            encrypted_message += char\n",
    "    return encrypted_message\n",
    "                \n",
    "message = \"I want to become a Data Scientist\"\n",
    "print(encrypted_message(message))\n",
    "    "
   ]
  },
  {
   "cell_type": "code",
   "execution_count": 90,
   "id": "42586b74-82d2-4636-af20-9e970d9bc096",
   "metadata": {},
   "outputs": [
    {
     "name": "stdout",
     "output_type": "stream",
     "text": [
      " WL&BLFI&YVHG,YVGGVI&GRNV&DZRGRMT&ULI&BLF&WLM'G&TREV&FK\n"
     ]
    }
   ],
   "source": [
    "def encrypted_message(message):\n",
    "    message = message.upper()\n",
    "    encrypted_message = \" \"\n",
    "    for char in message:\n",
    "        if char.isalpha():\n",
    "            encrypted_message += chr(90-ord(char) +65)\n",
    "        elif char.isspace():\n",
    "            encrypted_message += \"&\"\n",
    "        else:\n",
    "            encrypted_message += char\n",
    "    return encrypted_message\n",
    "\n",
    "message = \"Do Your Best,Better Time Waiting For You Don't Give Up\"\n",
    "print(encrypted_message(message))\n"
   ]
  },
  {
   "cell_type": "code",
   "execution_count": 94,
   "id": "ace0cec4-f836-40eb-9d73-738367b72304",
   "metadata": {},
   "outputs": [
    {
     "name": "stdin",
     "output_type": "stream",
     "text": [
      "Enter a character:  U\n"
     ]
    },
    {
     "name": "stdout",
     "output_type": "stream",
     "text": [
      "The ASCII code of U is 85\n"
     ]
    }
   ],
   "source": [
    "def get_ascii_code(char):\n",
    "    return ord(char)\n",
    "\n",
    "char = input(\"Enter a character: \")\n",
    "print(\"The ASCII code of\", char, \"is\", get_ascii_code(char))\n",
    "\n",
    "    "
   ]
  },
  {
   "cell_type": "code",
   "execution_count": 100,
   "id": "89bb1d3c-0338-4c6b-a6e0-c53194b09ba0",
   "metadata": {},
   "outputs": [
    {
     "name": "stdin",
     "output_type": "stream",
     "text": [
      "Enter a character:  R\n"
     ]
    },
    {
     "name": "stdout",
     "output_type": "stream",
     "text": [
      "The ASCII code for ' R ' is 82.\n"
     ]
    },
    {
     "name": "stdin",
     "output_type": "stream",
     "text": [
      "Enter a character:  6\n"
     ]
    },
    {
     "name": "stdout",
     "output_type": "stream",
     "text": [
      "The Input Not a Letter\n"
     ]
    },
    {
     "name": "stdin",
     "output_type": "stream",
     "text": [
      "Enter a character:  k\n"
     ]
    },
    {
     "name": "stdout",
     "output_type": "stream",
     "text": [
      "The ASCII code for ' k ' is 107.\n"
     ]
    }
   ],
   "source": [
    "def get_ascii_code(char):\n",
    "    char = input(\"Enter a character: \")\n",
    "    if ord(char) >=97 and ord(char) <=122:\n",
    "        return \"The ASCII code for ' \" + char + \" ' is \" + str(ord(char)) + \".\"\n",
    "    elif ord(char) >=65 and ord(char) <=90:\n",
    "        return \"The ASCII code for ' \" + char + \" ' is \" + str(ord(char)) + \".\"\n",
    "    else:\n",
    "        return \"The Input Not a Letter\"\n",
    "    \n",
    "print(get_ascii_code('a'))\n",
    "print(get_ascii_code('A'))\n",
    "print(get_ascii_code('1'))\n",
    "        "
   ]
  },
  {
   "cell_type": "code",
   "execution_count": 105,
   "id": "fd47a988-4426-4470-a54e-59def1432263",
   "metadata": {},
   "outputs": [
    {
     "name": "stdout",
     "output_type": "stream",
     "text": [
      "ASCII code for character, \u0000:0\n",
      "ASCII code for character, \u0001:1\n",
      "ASCII code for character, \u0002:2\n",
      "ASCII code for character, \u0003:3\n",
      "ASCII code for character, \u0004:4\n",
      "ASCII code for character, \u0005:5\n",
      "ASCII code for character, \u0006:6\n",
      "ASCII code for character, \u0007:7\n",
      "ASCII code for character,:8\n",
      "ASCII code for character, \t:9\n",
      "ASCII code for character, \n",
      ":10\n",
      "ASCII code for character, \u000b",
      ":11\n",
      "ASCII code for character, \f",
      ":12\n",
      ":13II code for character, \n",
      "ASCII code for character, \u000e:14\n",
      "ASCII code for character, \u000f:15\n",
      "ASCII code for character, \u0010:16\n",
      "ASCII code for character, \u0011:17\n",
      "ASCII code for character, \u0012:18\n",
      "ASCII code for character, \u0013:19\n",
      "ASCII code for character, \u0014:20\n",
      "ASCII code for character, \u0015:21\n",
      "ASCII code for character, \u0016:22\n",
      "ASCII code for character, \u0017:23\n",
      "ASCII code for character, \u0018:24\n",
      "ASCII code for character, \u0019:25\n",
      "ASCII code for character, \u001a:26\n",
      "ASCII code for character, \u001b:27\n",
      "ASCII code for character, \u001c",
      ":28\n",
      "ASCII code for character, \u001d",
      ":29\n",
      "ASCII code for character, \u001e",
      ":30\n",
      "ASCII code for character, \u001f:31\n",
      "ASCII code for character,  :32\n",
      "ASCII code for character, !:33\n",
      "ASCII code for character, \":34\n",
      "ASCII code for character, #:35\n",
      "ASCII code for character, $:36\n",
      "ASCII code for character, %:37\n",
      "ASCII code for character, &:38\n",
      "ASCII code for character, ':39\n",
      "ASCII code for character, (:40\n",
      "ASCII code for character, ):41\n",
      "ASCII code for character, *:42\n",
      "ASCII code for character, +:43\n",
      "ASCII code for character, ,:44\n",
      "ASCII code for character, -:45\n",
      "ASCII code for character, .:46\n",
      "ASCII code for character, /:47\n",
      "ASCII code for character, 0:48\n",
      "ASCII code for character, 1:49\n",
      "ASCII code for character, 2:50\n",
      "ASCII code for character, 3:51\n",
      "ASCII code for character, 4:52\n",
      "ASCII code for character, 5:53\n",
      "ASCII code for character, 6:54\n",
      "ASCII code for character, 7:55\n",
      "ASCII code for character, 8:56\n",
      "ASCII code for character, 9:57\n",
      "ASCII code for character, ::58\n",
      "ASCII code for character, ;:59\n",
      "ASCII code for character, <:60\n",
      "ASCII code for character, =:61\n",
      "ASCII code for character, >:62\n",
      "ASCII code for character, ?:63\n",
      "ASCII code for character, @:64\n",
      "ASCII code for character, A:65\n",
      "ASCII code for character, B:66\n",
      "ASCII code for character, C:67\n",
      "ASCII code for character, D:68\n",
      "ASCII code for character, E:69\n",
      "ASCII code for character, F:70\n",
      "ASCII code for character, G:71\n",
      "ASCII code for character, H:72\n",
      "ASCII code for character, I:73\n",
      "ASCII code for character, J:74\n",
      "ASCII code for character, K:75\n",
      "ASCII code for character, L:76\n",
      "ASCII code for character, M:77\n",
      "ASCII code for character, N:78\n",
      "ASCII code for character, O:79\n",
      "ASCII code for character, P:80\n",
      "ASCII code for character, Q:81\n",
      "ASCII code for character, R:82\n",
      "ASCII code for character, S:83\n",
      "ASCII code for character, T:84\n",
      "ASCII code for character, U:85\n",
      "ASCII code for character, V:86\n",
      "ASCII code for character, W:87\n",
      "ASCII code for character, X:88\n",
      "ASCII code for character, Y:89\n",
      "ASCII code for character, Z:90\n",
      "ASCII code for character, [:91\n",
      "ASCII code for character, \\:92\n",
      "ASCII code for character, ]:93\n",
      "ASCII code for character, ^:94\n",
      "ASCII code for character, _:95\n",
      "ASCII code for character, `:96\n",
      "ASCII code for character, a:97\n",
      "ASCII code for character, b:98\n",
      "ASCII code for character, c:99\n",
      "ASCII code for character, d:100\n",
      "ASCII code for character, e:101\n",
      "ASCII code for character, f:102\n",
      "ASCII code for character, g:103\n",
      "ASCII code for character, h:104\n",
      "ASCII code for character, i:105\n",
      "ASCII code for character, j:106\n",
      "ASCII code for character, k:107\n",
      "ASCII code for character, l:108\n",
      "ASCII code for character, m:109\n",
      "ASCII code for character, n:110\n",
      "ASCII code for character, o:111\n",
      "ASCII code for character, p:112\n",
      "ASCII code for character, q:113\n",
      "ASCII code for character, r:114\n",
      "ASCII code for character, s:115\n",
      "ASCII code for character, t:116\n",
      "ASCII code for character, u:117\n",
      "ASCII code for character, v:118\n",
      "ASCII code for character, w:119\n",
      "ASCII code for character, x:120\n",
      "ASCII code for character, y:121\n",
      "ASCII code for character, z:122\n",
      "ASCII code for character, {:123\n",
      "ASCII code for character, |:124\n",
      "ASCII code for character, }:125\n",
      "ASCII code for character, ~:126\n",
      "ASCII code for character, :127\n"
     ]
    }
   ],
   "source": [
    "for i in range(128):\n",
    "    print(f\"ASCII code for character, {chr(i)}:{i}\")"
   ]
  },
  {
   "cell_type": "code",
   "execution_count": 106,
   "id": "8828d224-4a8a-4793-a0c5-dabcb136a569",
   "metadata": {},
   "outputs": [
    {
     "name": "stdout",
     "output_type": "stream",
     "text": [
      "ASCII code for character, a:97\n",
      "ASCII code for character, b:98\n",
      "ASCII code for character, c:99\n",
      "ASCII code for character, d:100\n",
      "ASCII code for character, e:101\n",
      "ASCII code for character, f:102\n",
      "ASCII code for character, g:103\n",
      "ASCII code for character, h:104\n",
      "ASCII code for character, i:105\n",
      "ASCII code for character, j:106\n",
      "ASCII code for character, k:107\n",
      "ASCII code for character, l:108\n",
      "ASCII code for character, m:109\n",
      "ASCII code for character, n:110\n",
      "ASCII code for character, o:111\n",
      "ASCII code for character, p:112\n",
      "ASCII code for character, q:113\n",
      "ASCII code for character, r:114\n",
      "ASCII code for character, s:115\n",
      "ASCII code for character, t:116\n",
      "ASCII code for character, u:117\n",
      "ASCII code for character, v:118\n",
      "ASCII code for character, w:119\n",
      "ASCII code for character, x:120\n",
      "ASCII code for character, y:121\n"
     ]
    }
   ],
   "source": [
    "for i in range(97,122):\n",
    "    print(f\"ASCII code for character, {chr(i)}:{i}\")"
   ]
  },
  {
   "cell_type": "code",
   "execution_count": null,
   "id": "accf08e9-963b-4cb3-94ce-07c2e56829ce",
   "metadata": {},
   "outputs": [],
   "source": []
  }
 ],
 "metadata": {
  "kernelspec": {
   "display_name": "Python 3 (ipykernel)",
   "language": "python",
   "name": "python3"
  },
  "language_info": {
   "codemirror_mode": {
    "name": "ipython",
    "version": 3
   },
   "file_extension": ".py",
   "mimetype": "text/x-python",
   "name": "python",
   "nbconvert_exporter": "python",
   "pygments_lexer": "ipython3",
   "version": "3.10.8"
  }
 },
 "nbformat": 4,
 "nbformat_minor": 5
}
