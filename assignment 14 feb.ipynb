{
 "cells": [
  {
   "cell_type": "markdown",
   "id": "6d7e8571-cda2-4575-93c7-feffdf02ba66",
   "metadata": {},
   "source": [
    "#### Q1). what is multithreading in python? hy is it used? Name the module used to handle threads in python\n",
    "\n",
    "\n",
    "Ans:-Multithreading is a technique of running multiple threads in a single process in parallel. In Python, multithreading refers to the concurrent execution of two or more parts of a program. Multithreading is used to improve the performance of a program by running multiple threads in parallel to achieve more throughput, faster response time, and better resource utilization.\n",
    "\n",
    "In Python, multithreading is used to perform multiple tasks simultaneously by breaking them down into smaller sub-tasks and executing them in parallel. Python threads share the same memory space, so they can access the same data and resources.\n",
    "\n",
    "Python provides a built-in threading module that can be used to create and manage threads in a program. The threading module provides various functions and classes to create and manage threads in a program. Some of the commonly used functions and classes in the threading module are:\n",
    "\n",
    "Thread(): This class is used to create a new thread in a program.\n",
    "\n",
    "start(): This method is used to start a thread.\n",
    "\n",
    "run(): This method is the entry point of a thread.\n",
    "\n",
    "join(): This method is used to wait for a thread to complete.\n",
    "\n",
    "is_alive(): This method is used to check if a thread is still running.\n",
    "\n",
    "Multithreading is used in various scenarios such as:\n",
    "\n",
    "Parallel processing: Multithreading is used to perform multiple tasks in parallel to achieve more throughput and faster response time.\n",
    "\n",
    "Event handling: Multithreading is used to handle events and callbacks in a program.\n",
    "\n",
    "GUI programming: Multithreading is used in GUI programming to keep the user interface responsive while performing other tasks in the background.\n",
    "\n",
    "Networking: Multithreading is used in networking applications to handle multiple connections simultaneously.\n",
    "\n",
    "Overall, multithreading is an important technique in Python for achieving better performance and resource utilization in a program."
   ]
  },
  {
   "cell_type": "markdown",
   "id": "973b5185-f6bc-425e-a43f-16bc041cc386",
   "metadata": {},
   "source": [
    "####Q.2 why threading module used? rite the use of the following functions\n",
    " \n",
    " (activeCount\n",
    " \n",
    " currentThread\n",
    " \n",
    " enumerate)\n",
    " \n",
    " Ans:-The threading module is used in Python to create and manage threads in a program. The threading module provides various functions and classes to create and manage threads in a program."
   ]
  },
  {
   "cell_type": "code",
   "execution_count": 1,
   "id": "17be29da-2b44-4efb-acc4-57962567ccb2",
   "metadata": {},
   "outputs": [
    {
     "name": "stdout",
     "output_type": "stream",
     "text": [
      "Number of active threads: 8\n"
     ]
    },
    {
     "name": "stderr",
     "output_type": "stream",
     "text": [
      "/tmp/ipykernel_5626/2582453862.py:13: DeprecationWarning: activeCount() is deprecated, use active_count() instead\n",
      "  num_threads = threading.activeCount()\n"
     ]
    }
   ],
   "source": [
    "#1.activeCount(): This function returns the number of currently active threads in a program.\n",
    "import threading\n",
    "\n",
    "# Create 2 threads\n",
    "t1 = threading.Thread()\n",
    "t2 = threading.Thread()\n",
    "\n",
    "# Start the threads\n",
    "t1.start()\n",
    "t2.start()\n",
    "\n",
    "# Get the number of active threads\n",
    "num_threads = threading.activeCount()\n",
    "\n",
    "# Print the number of active threads\n",
    "print(\"Number of active threads:\", num_threads)\n"
   ]
  },
  {
   "cell_type": "code",
   "execution_count": 2,
   "id": "f03d148a-1590-4630-bfbf-feed5bfd36b4",
   "metadata": {},
   "outputs": [
    {
     "name": "stdout",
     "output_type": "stream",
     "text": [
      "Current thread name: MainThread\n"
     ]
    },
    {
     "name": "stderr",
     "output_type": "stream",
     "text": [
      "/tmp/ipykernel_5626/2282003024.py:5: DeprecationWarning: currentThread() is deprecated, use current_thread() instead\n",
      "  current_thread = threading.currentThread()\n",
      "/tmp/ipykernel_5626/2282003024.py:8: DeprecationWarning: getName() is deprecated, get the name attribute instead\n",
      "  print(\"Current thread name:\", current_thread.getName())\n"
     ]
    }
   ],
   "source": [
    "#2.currentThread(): This function returns the current thread object.\n",
    "import threading\n",
    "\n",
    "# Get the current thread object\n",
    "current_thread = threading.currentThread()\n",
    "\n",
    "# Print the current thread name\n",
    "print(\"Current thread name:\", current_thread.getName())\n"
   ]
  },
  {
   "cell_type": "code",
   "execution_count": 3,
   "id": "1a2d1ea0-71ed-415c-b31a-631f375792b1",
   "metadata": {},
   "outputs": [
    {
     "name": "stdout",
     "output_type": "stream",
     "text": [
      "Thread name: MainThread\n",
      "Thread name: IOPub\n",
      "Thread name: Heartbeat\n",
      "Thread name: Thread-3 (_watch_pipe_fd)\n",
      "Thread name: Thread-4 (_watch_pipe_fd)\n",
      "Thread name: Control\n",
      "Thread name: IPythonHistorySavingThread\n",
      "Thread name: Thread-2\n"
     ]
    },
    {
     "name": "stderr",
     "output_type": "stream",
     "text": [
      "/tmp/ipykernel_5626/3391034060.py:17: DeprecationWarning: getName() is deprecated, get the name attribute instead\n",
      "  print(\"Thread name:\", thread.getName())\n"
     ]
    }
   ],
   "source": [
    "#3.enumerate(): This function returns a list of all active Thread objects in a program.\n",
    "import threading\n",
    "\n",
    "# Create 2 threads\n",
    "t1 = threading.Thread()\n",
    "t2 = threading.Thread()\n",
    "\n",
    "# Start the threads\n",
    "t1.start()\n",
    "t2.start()\n",
    "\n",
    "# Get a list of all active threads\n",
    "threads = threading.enumerate()\n",
    "\n",
    "# Print the names of all active threads\n",
    "for thread in threads:\n",
    "    print(\"Thread name:\", thread.getName())\n"
   ]
  },
  {
   "cell_type": "markdown",
   "id": "21082951-3a89-41da-b4de-6ac568ab0578",
   "metadata": {},
   "source": [
    "#### Q3. Explain the following functions\n",
    "( run\n",
    " start\n",
    " join\n",
    "' isAlive)\n",
    "\n",
    "Ans:-run(): The run() method is the entry point of a thread. It is called when a thread is started using the start() method. The run() method contains the code that will be executed in the thread. You can override the run() method in your own class that inherits from the Thread class."
   ]
  },
  {
   "cell_type": "code",
   "execution_count": 4,
   "id": "4f7ea4e5-29bb-47cb-a5ce-fb11031f9cb0",
   "metadata": {},
   "outputs": [
    {
     "name": "stdout",
     "output_type": "stream",
     "text": [
      "Thread: Thread-9 Count: 0\n",
      "Thread: Thread-9 Count: 1\n",
      "Thread: Thread-9 Count: 2\n",
      "Thread: Thread-9 Count: 3\n",
      "Thread: Thread-9 Count: 4\n",
      "Thread: Thread-10 Count: 0\n",
      "Thread: Thread-10 Count: 1\n",
      "Thread: Thread-10 Count: 2\n",
      "Thread: Thread-10 Count: 3\n",
      "Thread: Thread-10 Count: 4\n"
     ]
    },
    {
     "name": "stderr",
     "output_type": "stream",
     "text": [
      "/tmp/ipykernel_5626/1930408515.py:7: DeprecationWarning: getName() is deprecated, get the name attribute instead\n",
      "  print(\"Thread:\", self.getName(), \"Count:\", i)\n"
     ]
    }
   ],
   "source": [
    "#run(): The run() method is the entry point of a thread\n",
    "import threading\n",
    "\n",
    "class MyThread(threading.Thread):\n",
    "    def run(self):\n",
    "        for i in range(5):\n",
    "            print(\"Thread:\", self.getName(), \"Count:\", i)\n",
    "\n",
    "# Create two threads\n",
    "t1 = MyThread()\n",
    "t2 = MyThread()\n",
    "\n",
    "# Start the threads\n",
    "t1.start()\n",
    "t2.start()\n"
   ]
  },
  {
   "cell_type": "code",
   "execution_count": 5,
   "id": "4e271784-b581-40a4-87b7-5ba1213b48b2",
   "metadata": {},
   "outputs": [
    {
     "name": "stdout",
     "output_type": "stream",
     "text": [
      "Thread started: Thread-11\n"
     ]
    },
    {
     "name": "stderr",
     "output_type": "stream",
     "text": [
      "/tmp/ipykernel_5626/3685343331.py:6: DeprecationWarning: getName() is deprecated, get the name attribute instead\n",
      "  print(\"Thread started:\", self.getName())\n"
     ]
    }
   ],
   "source": [
    "#start(): The start() method is used to start a thread. It creates a new thread and calls the run() method to start executing the thread.\n",
    "import threading\n",
    "\n",
    "class MyThread(threading.Thread):\n",
    "    def run(self):\n",
    "        print(\"Thread started:\", self.getName())\n",
    "\n",
    "# Create a thread\n",
    "t = MyThread()\n",
    "\n",
    "# Start the thread\n",
    "t.start()\n"
   ]
  },
  {
   "cell_type": "code",
   "execution_count": 6,
   "id": "18ea6294-dcb1-4ad1-981a-f8cdfcc42293",
   "metadata": {},
   "outputs": [
    {
     "name": "stdout",
     "output_type": "stream",
     "text": [
      "Thread started: Thread-12\n",
      "Thread: Thread-12 Count: 0\n",
      "Thread: Thread-12 Count: 1\n",
      "Thread: Thread-12 Count: 2\n",
      "Thread: Thread-12 Count: 3\n",
      "Thread: Thread-12 Count: 4\n",
      "Thread completed: Thread-12\n"
     ]
    },
    {
     "name": "stderr",
     "output_type": "stream",
     "text": [
      "/tmp/ipykernel_5626/1857245716.py:6: DeprecationWarning: getName() is deprecated, get the name attribute instead\n",
      "  print(\"Thread started:\", self.getName())\n",
      "/tmp/ipykernel_5626/1857245716.py:8: DeprecationWarning: getName() is deprecated, get the name attribute instead\n",
      "  print(\"Thread:\", self.getName(), \"Count:\", i)\n",
      "/tmp/ipykernel_5626/1857245716.py:19: DeprecationWarning: getName() is deprecated, get the name attribute instead\n",
      "  print(\"Thread completed:\", t.getName())\n"
     ]
    }
   ],
   "source": [
    "#join(): The join() method is used to wait for a thread to complete. It blocks the calling thread until the thread it is called on has completed its task\n",
    "import threading\n",
    "\n",
    "class MyThread(threading.Thread):\n",
    "    def run(self):\n",
    "        print(\"Thread started:\", self.getName())\n",
    "        for i in range(5):\n",
    "            print(\"Thread:\", self.getName(), \"Count:\", i)\n",
    "\n",
    "# Create a thread\n",
    "t = MyThread()\n",
    "\n",
    "# Start the thread\n",
    "t.start()\n",
    "\n",
    "# Wait for the thread to complete\n",
    "t.join()\n",
    "\n",
    "print(\"Thread completed:\", t.getName())\n"
   ]
  },
  {
   "cell_type": "code",
   "execution_count": 12,
   "id": "c69603c7-98d5-4e8d-9fea-292698d41dc1",
   "metadata": {},
   "outputs": [
    {
     "name": "stdout",
     "output_type": "stream",
     "text": [
      "Thread started: Thread-18\n"
     ]
    },
    {
     "name": "stderr",
     "output_type": "stream",
     "text": [
      "/tmp/ipykernel_5626/936852010.py:7: DeprecationWarning: getName() is deprecated, get the name attribute instead\n",
      "  print(\"Thread started:\", self.getName())\n",
      "/tmp/ipykernel_5626/936852010.py:18: DeprecationWarning: getName() is deprecated, get the name attribute instead\n",
      "  print(\"Is thread\", t.getName(), \"running?\", t.isAlive())\n"
     ]
    },
    {
     "ename": "AttributeError",
     "evalue": "'MyThread' object has no attribute 'isAlive'",
     "output_type": "error",
     "traceback": [
      "\u001b[0;31m---------------------------------------------------------------------------\u001b[0m",
      "\u001b[0;31mAttributeError\u001b[0m                            Traceback (most recent call last)",
      "Cell \u001b[0;32mIn[12], line 18\u001b[0m\n\u001b[1;32m     15\u001b[0m t\u001b[38;5;241m.\u001b[39mstart()\n\u001b[1;32m     17\u001b[0m \u001b[38;5;66;03m# Check if the thread is still running\u001b[39;00m\n\u001b[0;32m---> 18\u001b[0m \u001b[38;5;28mprint\u001b[39m(\u001b[38;5;124m\"\u001b[39m\u001b[38;5;124mIs thread\u001b[39m\u001b[38;5;124m\"\u001b[39m, t\u001b[38;5;241m.\u001b[39mgetName(), \u001b[38;5;124m\"\u001b[39m\u001b[38;5;124mrunning?\u001b[39m\u001b[38;5;124m\"\u001b[39m, \u001b[43mt\u001b[49m\u001b[38;5;241;43m.\u001b[39;49m\u001b[43misAlive\u001b[49m())\n\u001b[1;32m     20\u001b[0m \u001b[38;5;66;03m# Wait for the thread to complete\u001b[39;00m\n\u001b[1;32m     21\u001b[0m t\u001b[38;5;241m.\u001b[39mjoin()\n",
      "\u001b[0;31mAttributeError\u001b[0m: 'MyThread' object has no attribute 'isAlive'"
     ]
    },
    {
     "name": "stderr",
     "output_type": "stream",
     "text": [
      "/tmp/ipykernel_5626/936852010.py:9: DeprecationWarning: getName() is deprecated, get the name attribute instead\n",
      "  print(\"Thread ended:\", self.getName())\n"
     ]
    },
    {
     "name": "stdout",
     "output_type": "stream",
     "text": [
      "Thread ended: Thread-18\n"
     ]
    }
   ],
   "source": [
    "#isAlive(): The isAlive() method is used to check if a thread is still running. It returns True if the thread is still running, otherwise False.\n",
    "import threading\n",
    "import time\n",
    "\n",
    "class MyThread(threading.Thread):\n",
    "    def run(self):\n",
    "        print(\"Thread started:\", self.getName())\n",
    "        time.sleep(2)\n",
    "        print(\"Thread ended:\", self.getName())\n",
    "\n",
    "# Create a thread\n",
    "t = MyThread()\n",
    "\n",
    "# Start the thread\n",
    "t.start()\n",
    "\n",
    "# Check if the thread is still running\n",
    "print(\"Is thread\", t.getName(), \"running?\", t.isAlive())\n",
    "\n",
    "# Wait for the thread to complete\n",
    "t.join()\n",
    "\n",
    "# Check if the thread is still running\n",
    "print(\"Is thread\", t.getName(), \"running?\", t.isAlive())\n"
   ]
  },
  {
   "cell_type": "markdown",
   "id": "dc0e6c71-2bbd-484b-af9c-3bdee98d7c91",
   "metadata": {},
   "source": [
    "#### 4. write a python program to create two threads. Thread one must print the list of squares and thread\n",
    "two must print the list of cubes"
   ]
  },
  {
   "cell_type": "code",
   "execution_count": 13,
   "id": "ca545b10-7666-4cf6-8fe1-29d75a197bb2",
   "metadata": {},
   "outputs": [
    {
     "name": "stdout",
     "output_type": "stream",
     "text": [
      "Square of 1 is 1\n",
      "Square of 2 is 4\n",
      "Square of 3 is 9\n",
      "Square of 4 is 16\n",
      "Square of 5 is 25\n",
      "Square of 6 is 36\n",
      "Square of 7 is 49\n",
      "Square of 8 is 64\n",
      "Square of 9 is 81\n",
      "Square of 10 is 100\n",
      "Cube of 1 is 1\n",
      "Cube of 2 is 8\n",
      "Cube of 3 is 27\n",
      "Cube of 4 is 64\n",
      "Cube of 5 is 125\n",
      "Cube of 6 is 216\n",
      "Cube of 7 is 343\n",
      "Cube of 8 is 512\n",
      "Cube of 9 is 729\n",
      "Cube of 10 is 1000\n",
      "Done!\n"
     ]
    }
   ],
   "source": [
    "import threading\n",
    "\n",
    "def print_squares():\n",
    "    for i in range(1, 11):\n",
    "        print(\"Square of\", i, \"is\", i*i)\n",
    "\n",
    "def print_cubes():\n",
    "    for i in range(1, 11):\n",
    "        print(\"Cube of\", i, \"is\", i*i*i)\n",
    "\n",
    "# Create threads\n",
    "t1 = threading.Thread(target=print_squares)\n",
    "t2 = threading.Thread(target=print_cubes)\n",
    "\n",
    "# Start threads\n",
    "t1.start()\n",
    "t2.start()\n",
    "\n",
    "# Wait for threads to finish\n",
    "t1.join()\n",
    "t2.join()\n",
    "\n",
    "print(\"Done!\")\n"
   ]
  },
  {
   "cell_type": "markdown",
   "id": "9e2f3faa-0aa2-4f5f-9f28-bb923e5abe6e",
   "metadata": {},
   "source": [
    "#### 5. State advantages and disadvantages of multithreading\n",
    "\n",
    "Ans:-Advantages of multithreading:\n",
    "\n",
    "## 1.Increased efficiency: Multithreading allows multiple threads to execute concurrently, thereby increasing the overall efficiency of the program.\n",
    "\n",
    "## 2.Faster response time: Multithreading allows the program to be more responsive, as the program can continue to respond to user inputs even while performing long-running tasks in the background.\n",
    "\n",
    "## 3.Resource sharing: Multithreading allows multiple threads to share resources like memory and files, thereby reducing the need for copying data between processes.\n",
    "\n",
    "## 4.Simplified program structure: Multithreading can simplify the program structure by dividing complex tasks into smaller, more manageable threads.\n",
    "\n",
    "Disadvantages of multithreading:\n",
    "\n",
    "## 1.Increased complexity: Multithreading increases the complexity of the program, as the programmer must ensure that the threads do not interfere with each other or access shared resources in an unsafe way.\n",
    "\n",
    "## 2.Race conditions: Race conditions can occur when multiple threads access shared resources at the same time, leading to unpredictable behavior and difficult-to-debug errors.\n",
    "\n",
    "## 3.Deadlocks: Deadlocks can occur when two or more threads are waiting for each other to release resources, causing the program to hang.\n",
    "\n",
    "## 4.Overhead: Multithreading can incur overhead in terms of memory and processor usage, as the system must allocate resources for each thread and switch between them.\n",
    "\n",
    "Overall, multithreading is a powerful technique for improving program performance and responsiveness, but it requires careful design and implementation to avoid potential problems like race conditions and deadlocks."
   ]
  },
  {
   "cell_type": "markdown",
   "id": "13d8966e-4d66-4380-b27f-604b1ce61bf6",
   "metadata": {},
   "source": [
    "#### 6. Explain deadlocks and race conditions.\n",
    "\n",
    "Ans:-Two basic problems commonly occur in multi-threaded programs:\n",
    "#### 1.deadlock. Two threads hold locks on different resources, each waiting indefinitely for the other to release its lock. \n",
    "#### 2.race condition. Two (or more) threads alter the state of a shared resource concurrently, leaving it in an unpredictable state."
   ]
  },
  {
   "cell_type": "code",
   "execution_count": null,
   "id": "ce485d70-b120-4cda-ba93-1e52532d739a",
   "metadata": {},
   "outputs": [],
   "source": []
  }
 ],
 "metadata": {
  "kernelspec": {
   "display_name": "Python 3 (ipykernel)",
   "language": "python",
   "name": "python3"
  },
  "language_info": {
   "codemirror_mode": {
    "name": "ipython",
    "version": 3
   },
   "file_extension": ".py",
   "mimetype": "text/x-python",
   "name": "python",
   "nbconvert_exporter": "python",
   "pygments_lexer": "ipython3",
   "version": "3.10.8"
  }
 },
 "nbformat": 4,
 "nbformat_minor": 5
}
