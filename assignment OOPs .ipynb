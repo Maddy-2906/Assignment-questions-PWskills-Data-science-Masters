{
 "cells": [
  {
   "cell_type": "markdown",
   "id": "25ae0748-251b-4228-8f5e-361103c162a6",
   "metadata": {},
   "source": [
    "#Q1. Explain Class and Object with respect to Object-Oriented Programming. Give a suitable example.\n",
    "\n",
    "Ans.In Object-Oriented Programming (OOP), a class is a blueprint for creating objects (a particular data structure), providing initial values for state (member variables or attributes), and implementations of behavior (member functions or methods). Objects are instances of a class and they contain data and behavior."
   ]
  },
  {
   "cell_type": "code",
   "execution_count": 7,
   "id": "6ebbeb5f-f85f-4a4a-a9a1-0b4612afaedd",
   "metadata": {},
   "outputs": [],
   "source": [
    "class Person:\n",
    "    def __init__(self, name, age,email_id,employee_id):\n",
    "        self.name = name\n",
    "        self.age = age\n",
    "        self.email_id = email_id\n",
    "        self.employee_id =employee_id\n",
    "\n",
    "    def greet(self):\n",
    "        print(\"Hello, my name is\", self.name, self.age,self.email_id,self.employee_id)\n",
    "\n"
   ]
  },
  {
   "cell_type": "code",
   "execution_count": 8,
   "id": "31eb02f0-c684-4f41-8edb-84186480094a",
   "metadata": {},
   "outputs": [],
   "source": [
    "p1 = Person(\"John\", 30,\"john.cena02@gmail.com\",1101)\n",
    "p2 = Person(\"Jane\", 25,\"janelia.disouza012@gamil.com\",1102)"
   ]
  },
  {
   "cell_type": "code",
   "execution_count": 9,
   "id": "cddf2595-094d-408a-b5a1-cbcf2672bc28",
   "metadata": {},
   "outputs": [
    {
     "name": "stdout",
     "output_type": "stream",
     "text": [
      "Hello, my name is John 30 john.cena02@gmail.com 1101\n"
     ]
    }
   ],
   "source": [
    "p1.greet()"
   ]
  },
  {
   "cell_type": "code",
   "execution_count": 10,
   "id": "6bfa9079-5309-4188-b1f9-c28e8c877b4f",
   "metadata": {},
   "outputs": [
    {
     "name": "stdout",
     "output_type": "stream",
     "text": [
      "Hello, my name is Jane 25 janelia.disouza012@gamil.com 1102\n"
     ]
    }
   ],
   "source": [
    "p2.greet()"
   ]
  },
  {
   "cell_type": "code",
   "execution_count": 11,
   "id": "e1611fa3-560f-47bd-a5fe-af2b4d542df6",
   "metadata": {},
   "outputs": [
    {
     "name": "stdout",
     "output_type": "stream",
     "text": [
      "Hello, my name is John 30 john.cena02@gmail.com 1101\n"
     ]
    }
   ],
   "source": [
    "p1.greet()"
   ]
  },
  {
   "cell_type": "code",
   "execution_count": 12,
   "id": "2430c650-04d0-430a-8f75-616d2e5b16cb",
   "metadata": {},
   "outputs": [
    {
     "data": {
      "text/plain": [
       "'John'"
      ]
     },
     "execution_count": 12,
     "metadata": {},
     "output_type": "execute_result"
    }
   ],
   "source": [
    "p1.name"
   ]
  },
  {
   "cell_type": "markdown",
   "id": "a5757c0a-8de7-429e-9f5f-926944b94391",
   "metadata": {},
   "source": [
    "#Q2. Name the four pillars of OOPs.\n",
    "\n",
    "Ans:-The four pillars of Object-Oriented Programming (OOP) are:\n",
    "\n",
    "Encapsulation: Encapsulation is the mechanism of wrapping the data and code acting on the data within a single unit or object. This is to hide the implementation details from the users.\n",
    "\n",
    "Abstraction: Abstraction is the process of hiding complex implementation details and showing only essential features to the users. It helps to reduce complexity and increase efficiency.\n",
    "\n",
    "Inheritance: Inheritance is the mechanism by which a new class is derived from an existing class. The derived class inherits the attributes and behaviors of the base class, allowing for code reuse and improved organization of the code.\n",
    "\n",
    "Polymorphism: Polymorphism is the ability of a single entity to have multiple forms. It allows objects of different classes to be treated as objects of the same class, thus providing a unified interface to the users."
   ]
  },
  {
   "cell_type": "markdown",
   "id": "7c1b4144-7bab-40fd-9dd7-8381f8034e9b",
   "metadata": {},
   "source": [
    "#Q3. Explain why the __init__() function is used. Give a suitable example.\n",
    "\n",
    "Ans:-he __init__ method, also known as the constructor method, is a special method in Python that is automatically called when an object of a class is created. Its primary purpose is to initialize the attributes of an object with default or specified values when it is created. The __init__ method is called once per object, and it's the first method that's called after an object is created."
   ]
  },
  {
   "cell_type": "code",
   "execution_count": 17,
   "id": "e33cde59-350a-4822-ab09-b2f937e3a8ac",
   "metadata": {},
   "outputs": [
    {
     "name": "stdout",
     "output_type": "stream",
     "text": [
      "TVS\n",
      "Raider\n",
      "2022\n"
     ]
    }
   ],
   "source": [
    "class bike:\n",
    "     def __init__(self,make,model,year):\n",
    "        self.make=make\n",
    "        self.model=model\n",
    "        self.year=year\n",
    "    \n",
    "my_bike=bike(\"TVS\",\"Raider\",2022)\n",
    "print(my_bike.make)\n",
    "print(my_bike.model)\n",
    "print(my_bike.year)\n",
    "    "
   ]
  },
  {
   "cell_type": "code",
   "execution_count": 12,
   "id": "c7d0125d-a84a-46a5-acb3-c39535bf4f0c",
   "metadata": {},
   "outputs": [
    {
     "name": "stdout",
     "output_type": "stream",
     "text": [
      "Toyota\n",
      "Camry\n",
      "2020\n"
     ]
    }
   ],
   "source": [
    "class Car:\n",
    "    def __init__(self, make, model, year):\n",
    "        self.make = make\n",
    "        self.model = model\n",
    "        self.year = year\n",
    "\n",
    "my_car = Car(\"Toyota\", \"Camry\", 2020)\n",
    "print(my_car.make) # Output: Toyota\n",
    "print(my_car.model) # Output: Camry\n",
    "print(my_car.year) # Output: 2020\n"
   ]
  },
  {
   "cell_type": "markdown",
   "id": "bcdbad8c-03d1-4986-92d4-343b24e328b3",
   "metadata": {},
   "source": [
    "#Q4. Why self is used in OOPs?\n",
    "\n",
    "Ans:-In object-oriented programming, the self keyword is used to refer to the instance of an object. In other words, self refers to the current object that is being processed within a class method.\n",
    "\n",
    "Using self in a class method allows you to access the attributes and methods of the current object, and to modify its state. For example, consider the following Python class definition:"
   ]
  },
  {
   "cell_type": "code",
   "execution_count": 1,
   "id": "dd9df920-8090-4fc3-b756-9bea5997c107",
   "metadata": {},
   "outputs": [],
   "source": [
    "class Myclass:\n",
    "    def __init__(self,value):\n",
    "        self.value=value\n",
    "        \n",
    "    def __set_value(self,value):\n",
    "        self.value=value\n",
    "        \n",
    "    def __get_value(self):\n",
    "        return self.value"
   ]
  },
  {
   "cell_type": "code",
   "execution_count": 2,
   "id": "64d4b86a-3f7a-4fd5-bb6d-13e74489b390",
   "metadata": {},
   "outputs": [],
   "source": [
    "class MyClass:\n",
    "    def __init__(self, value):\n",
    "        self.value = value\n",
    "\n",
    "    def set_value(self, value):\n",
    "        self.value = value\n",
    "\n",
    "    def get_value(self):\n",
    "        return self.value\n"
   ]
  },
  {
   "cell_type": "code",
   "execution_count": 3,
   "id": "cf48a77d-5695-44d2-92db-41236c23ec05",
   "metadata": {},
   "outputs": [],
   "source": [
    "maddy=( \"amddy\",99)"
   ]
  },
  {
   "cell_type": "code",
   "execution_count": 6,
   "id": "66bcee07-081c-4da2-8c06-85a6e55ce34e",
   "metadata": {},
   "outputs": [
    {
     "data": {
      "text/plain": [
       "<function tuple.count(value, /)>"
      ]
     },
     "execution_count": 6,
     "metadata": {},
     "output_type": "execute_result"
    }
   ],
   "source": [
    "maddy.count"
   ]
  },
  {
   "cell_type": "markdown",
   "id": "11706f88-83c7-48a4-aa72-e338eb835cea",
   "metadata": {},
   "source": [
    "#Q5. What is inheritance? Give an example for each type of inheritance.\n",
    "\n",
    "Ans:-Inheritance is a mechanism in object-oriented programming that allows a class to inherit properties and behavior from a parent class. This allows you to create new classes that are based on existing classes, and to reuse and extend the code in the parent class.\n",
    "\n",
    "There are several types of inheritance in object-oriented programming:\n",
    "\n",
    "Single Inheritance: In single inheritance, a class inherits from a single parent class. This is the simplest form of inheritance. For example:"
   ]
  },
  {
   "cell_type": "code",
   "execution_count": 7,
   "id": "279c9c35-9863-458c-a7e5-3779668b1526",
   "metadata": {},
   "outputs": [],
   "source": [
    "class Animals:\n",
    "    def __init__(self,name,species):\n",
    "        self.name=name\n",
    "        self.species=species\n",
    "        \n",
    "    def __show_species(self):\n",
    "            print(f\"{self.name} is a {self.species}\")"
   ]
  },
  {
   "cell_type": "code",
   "execution_count": 8,
   "id": "256b3ea1-0776-42e6-997f-c2b7e8b5f784",
   "metadata": {},
   "outputs": [],
   "source": [
    "class Animal:\n",
    "    def __init__(self, name, species):\n",
    "        self.name = name\n",
    "        self.species = species\n",
    "    def show_species(self):\n",
    "        print(f\"{self.name} is a {self.species}\")\n",
    "\n",
    "class Dog(Animal):\n",
    "    def __init__(self, name, breed):\n",
    "        Animal.__init__(self, name, species=\"Dog\")\n",
    "        self.breed = breed\n",
    "    def show_breed(self):\n",
    "        print(f\"{self.name} is a {self.breed}\")\n"
   ]
  },
  {
   "cell_type": "code",
   "execution_count": 9,
   "id": "48202447-e30c-4c20-9b84-e03a2810893b",
   "metadata": {},
   "outputs": [],
   "source": [
    "animal=(\"dog\",\"lebra\")"
   ]
  },
  {
   "cell_type": "code",
   "execution_count": 11,
   "id": "72e4ef35-9a9b-483e-b0e2-7f7e5f0ab883",
   "metadata": {},
   "outputs": [
    {
     "data": {
      "text/plain": [
       "<function tuple.count(value, /)>"
      ]
     },
     "execution_count": 11,
     "metadata": {},
     "output_type": "execute_result"
    }
   ],
   "source": [
    "animal.count"
   ]
  },
  {
   "cell_type": "markdown",
   "id": "92a37a4d-ba39-4234-bff8-5e5c3a2cac90",
   "metadata": {},
   "source": [
    "#Multi-level Inheritance: In multi-level inheritance, a class inherits from a parent class, which in turn inherits from a grandparent class. "
   ]
  },
  {
   "cell_type": "code",
   "execution_count": 12,
   "id": "d566f384-833a-43a3-89a7-96c58fae41a1",
   "metadata": {},
   "outputs": [],
   "source": [
    "class GrandParent:\n",
    "    def __init__(self, name, age):\n",
    "        self.name = name\n",
    "        self.age = age\n",
    "    def show_age(self):\n",
    "        print(f\"{self.name} is {self.age} years old\")\n",
    "\n",
    "class Parent(GrandParent):\n",
    "    def __init__(self, name, age, occupation):\n",
    "        GrandParent.__init__(self, name, age)\n",
    "        self.occupation = occupation\n",
    "    def show_occupation(self):\n",
    "        print(f\"{self.name} is a {self.occupation}\")\n",
    "\n",
    "class Child(Parent):\n",
    "    def __init__(self, name, age, school):\n",
    "        Parent.__init__(self, name, age, occupation=\"Student\")\n",
    "        self.school = school\n",
    "    def show_school(self):\n",
    "        print(f\"{self.name} goes to {self.school}\")\n"
   ]
  },
  {
   "cell_type": "markdown",
   "id": "f3f1d0d4-b9f4-4374-9ddc-ea7ee827ff42",
   "metadata": {},
   "source": [
    "#Multiple Inheritance: In multiple inheritance, a class inherits from multiple parent classes. For example:"
   ]
  },
  {
   "cell_type": "code",
   "execution_count": 35,
   "id": "84921148-cc7c-431b-bdac-4dc45ca467f0",
   "metadata": {},
   "outputs": [],
   "source": [
    "class Mother:\n",
    "    def __init__(self, name, occupation,email_id,age):\n",
    "        self.name = name\n",
    "        self.occupation = occupation\n",
    "        self.email_id = email_id\n",
    "        self.age = age\n",
    "    def show_mother_details(self):\n",
    "        print(f\"{self.name} is a {self.occupation} her {self.email_id} she is {self.age}\")\n",
    "\n",
    "class Father:\n",
    "    def __init__(self, name, hobby):\n",
    "        self.name = name\n",
    "        self.hobby = hobby\n",
    "    def show_hobby(self):\n",
    "        print(f\"{self.name} likes {self.hobby}\")\n",
    "\n",
    "class Child:\n",
    "    def __init__(self,name,age):\n",
    "        self.name=name\n",
    "        self.age=age\n",
    "        def show_age(self):\n",
    "            print(f\"{self.name} age is a {self.age}\")"
   ]
  },
  {
   "cell_type": "code",
   "execution_count": 16,
   "id": "7b8e4dfd-4cb7-47ec-878a-f24372346545",
   "metadata": {},
   "outputs": [],
   "source": [
    "father= (\"Ram\",\"swimming\")"
   ]
  },
  {
   "cell_type": "code",
   "execution_count": 20,
   "id": "8b30f5bc-5867-4c41-b5aa-64867bfe4a85",
   "metadata": {},
   "outputs": [
    {
     "data": {
      "text/plain": [
       "<function __main__.Father.show_hobby(self)>"
      ]
     },
     "execution_count": 20,
     "metadata": {},
     "output_type": "execute_result"
    }
   ],
   "source": [
    "Father.show_hobby"
   ]
  },
  {
   "cell_type": "code",
   "execution_count": 21,
   "id": "96a0bed3-6740-4b7a-be1a-aa69c0a4d3d0",
   "metadata": {},
   "outputs": [
    {
     "data": {
      "text/plain": [
       "[__main__.Father, object]"
      ]
     },
     "execution_count": 21,
     "metadata": {},
     "output_type": "execute_result"
    }
   ],
   "source": [
    "Father.mro()"
   ]
  },
  {
   "cell_type": "code",
   "execution_count": 32,
   "id": "6f67e392-17ca-4ce0-a466-e19f74587467",
   "metadata": {},
   "outputs": [],
   "source": [
    "Radha=Mother(\"Radha\",\"Teacher\",\"radha123@gmail.com\",42)"
   ]
  },
  {
   "cell_type": "code",
   "execution_count": 23,
   "id": "4a1fd640-339d-4597-9180-ee4909fe3a3d",
   "metadata": {},
   "outputs": [],
   "source": [
    "sohan=Father(\"sohan\",\"driving\")"
   ]
  },
  {
   "cell_type": "code",
   "execution_count": 24,
   "id": "8349dde5-d92e-4039-8288-9be75e7cbd4a",
   "metadata": {},
   "outputs": [],
   "source": [
    "Gravit=Child(\"Gravit\",12)"
   ]
  },
  {
   "cell_type": "code",
   "execution_count": 26,
   "id": "10b2d0fc-eba6-48ad-9263-ebeaa8df7186",
   "metadata": {},
   "outputs": [
    {
     "name": "stdout",
     "output_type": "stream",
     "text": [
      "Radha is a Teacher\n"
     ]
    }
   ],
   "source": [
    "Radha.show_occupation()"
   ]
  },
  {
   "cell_type": "code",
   "execution_count": 34,
   "id": "fb576a47-98e5-4c47-b3b7-76926486faaa",
   "metadata": {},
   "outputs": [
    {
     "data": {
      "text/plain": [
       "'radha123@gmail.com'"
      ]
     },
     "execution_count": 34,
     "metadata": {},
     "output_type": "execute_result"
    }
   ],
   "source": [
    "Radha.email_id"
   ]
  },
  {
   "cell_type": "code",
   "execution_count": 36,
   "id": "97430856-49f6-405a-bb3b-03b979651327",
   "metadata": {},
   "outputs": [
    {
     "name": "stdout",
     "output_type": "stream",
     "text": [
      "Radha is a Teacher her radha123@gmail.com she is 42\n"
     ]
    }
   ],
   "source": [
    "Radha.show_occupation()"
   ]
  },
  {
   "cell_type": "code",
   "execution_count": 14,
   "id": "fc93cfb0-06db-4724-b244-c37b1be60e0f",
   "metadata": {},
   "outputs": [
    {
     "name": "stdout",
     "output_type": "stream",
     "text": [
      "Fibonacci sequence:\n",
      "0\n",
      "1\n",
      "1\n",
      "2\n",
      "3\n",
      "5\n",
      "8\n",
      "13\n",
      "21\n",
      "34\n"
     ]
    }
   ],
   "source": [
    "def fibonacci(n):\n",
    "    if n<=0:\n",
    "        print(\"Incorrect input\")\n",
    "    elif n==1:\n",
    "        return 0\n",
    "    elif n==2:\n",
    "        return 1\n",
    "    else:\n",
    "        return fibonacci(n-1)+fibonacci(n-2)\n",
    "\n",
    "print(\"Fibonacci sequence:\")\n",
    "for i in range(1,11):\n",
    "    print(fibonacci(i))"
   ]
  },
  {
   "cell_type": "code",
   "execution_count": null,
   "id": "81ae5a0b-8273-4621-943f-f7df69198a25",
   "metadata": {},
   "outputs": [],
   "source": [
    "def fibonnaci(n):\n",
    "    if n<=0:\n",
    "        print(\"wrong number\")\n",
    "    elif n==1:\n",
    "        return 0\n",
    "    elif n==2:\n",
    "        return 1\n",
    "    else:\n",
    "       return fibonnaci (n-1)+fibonnaci(n-2)\n",
    "print(\"fibonnaci_sequence\")\n",
    "for i in range(1,21):\n",
    "    print(fibonnaci(i))"
   ]
  },
  {
   "cell_type": "code",
   "execution_count": 30,
   "id": "05b9c319-3be1-4abf-b572-48dc6bb54052",
   "metadata": {},
   "outputs": [
    {
     "name": "stdout",
     "output_type": "stream",
     "text": [
      "fibonnaci_sequence\n",
      "0\n",
      "1\n",
      "1\n",
      "2\n",
      "3\n",
      "5\n",
      "8\n",
      "13\n",
      "21\n",
      "34\n"
     ]
    }
   ],
   "source": [
    "fib=(lambda x : x if x>=1 else fib(n-1)+fib(n-2))\n",
    "print(\"fibonnaci_sequence\")\n",
    "for i in range(1,11):\n",
    "    print(fibonnaci(i))"
   ]
  },
  {
   "cell_type": "code",
   "execution_count": 47,
   "id": "56deb991-fed8-4a74-8673-74919e1fac1d",
   "metadata": {},
   "outputs": [
    {
     "name": "stdout",
     "output_type": "stream",
     "text": [
      "25\n"
     ]
    }
   ],
   "source": [
    "def square(x):\n",
    "    return x * x\n",
    "    \n",
    "print(square(5))"
   ]
  },
  {
   "cell_type": "code",
   "execution_count": 48,
   "id": "ab31158f-ab12-47e8-b3e1-9b5bd6d74b46",
   "metadata": {},
   "outputs": [
    {
     "name": "stdout",
     "output_type": "stream",
     "text": [
      "216\n"
     ]
    }
   ],
   "source": [
    "def cube(x):\n",
    "    return x* x * x\n",
    "\n",
    "print(cube(6))"
   ]
  },
  {
   "cell_type": "code",
   "execution_count": 50,
   "id": "de2bbc37-3d61-42f0-80f2-35cfacf756e5",
   "metadata": {},
   "outputs": [
    {
     "name": "stdout",
     "output_type": "stream",
     "text": [
      "36\n"
     ]
    }
   ],
   "source": [
    "def area_of_square(x):\n",
    "    return x * x\n",
    "\n",
    "print(area_of_square(6))"
   ]
  },
  {
   "cell_type": "code",
   "execution_count": null,
   "id": "e21d4690-f77c-46ee-b52d-e9e63bc48b2e",
   "metadata": {},
   "outputs": [],
   "source": [
    "def"
   ]
  }
 ],
 "metadata": {
  "kernelspec": {
   "display_name": "Python 3 (ipykernel)",
   "language": "python",
   "name": "python3"
  },
  "language_info": {
   "codemirror_mode": {
    "name": "ipython",
    "version": 3
   },
   "file_extension": ".py",
   "mimetype": "text/x-python",
   "name": "python",
   "nbconvert_exporter": "python",
   "pygments_lexer": "ipython3",
   "version": "3.10.8"
  }
 },
 "nbformat": 4,
 "nbformat_minor": 5
}
