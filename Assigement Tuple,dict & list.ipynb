{
 "cells": [
  {
   "cell_type": "markdown",
   "id": "aabe8ce4-d994-433f-a54e-86853f0b5bba",
   "metadata": {},
   "source": [
    "#### Q1.What are the characteristics of the tuples? Is tuple immutable?"
   ]
  },
  {
   "cell_type": "markdown",
   "id": "0f35f2d3-6df3-4b8e-804d-c12762b89fa9",
   "metadata": {},
   "source": [
    "Ans:-tuples are ordered, immutable, heterogeneous, indexed and lightweight data structure\n",
    "tuple is immutable"
   ]
  },
  {
   "cell_type": "markdown",
   "id": "3533471b-f7ba-45ca-b90e-99a3f49256b8",
   "metadata": {},
   "source": [
    "#### Q2. What are the two tuple methods in python? Give an example of each method. Give a reason why\n",
    "tuples have only two in-built methods as compared to Lists.\n",
    "\n",
    "\n",
    "ans:Tuples have only two in-built methods as compared to lists because tuples are meant to be simple and efficient data structures for holding a small amount of data that does not need to be modified. Count and index are the two most commonly used operations on tuples, and these methods provide the basic functionality required for working with tuples. Having more methods would make tuples more complex and slower to use."
   ]
  },
  {
   "cell_type": "code",
   "execution_count": 1,
   "id": "2e9e941b-9c0f-4405-9156-ff66524ff26b",
   "metadata": {},
   "outputs": [
    {
     "name": "stdout",
     "output_type": "stream",
     "text": [
      "2\n"
     ]
    }
   ],
   "source": [
    "#Ans:-count(): This method is used to count the number of occurrences of a particular element in a tuple\n",
    "t = (1, 2, 3, 4, 2, 1)\n",
    "count = t.count(2)\n",
    "print(count)\n"
   ]
  },
  {
   "cell_type": "code",
   "execution_count": 4,
   "id": "56f0399c-a8b6-4dcd-a166-70e7da667cce",
   "metadata": {},
   "outputs": [
    {
     "name": "stdout",
     "output_type": "stream",
     "text": [
      "1\n"
     ]
    }
   ],
   "source": [
    "#ndex(): This method is used to find the index of the first occurrence of a particular element in a tuple.\n",
    "t = (1, 2, 3, 4, 2, 1)\n",
    "index = t.index(2)\n",
    "print(index)\n",
    "\n",
    "#"
   ]
  },
  {
   "cell_type": "markdown",
   "id": "e841e1c7-50f6-4861-89f0-eb75684d3187",
   "metadata": {},
   "source": [
    "#Which collection datatypes in python do not allow duplicate items? Write a code using a set to remove\n",
    "duplicates from the given list.\n",
    "List = [1, 1, 1, 2, 1, 3, 1, 4, 2, 1, 2, 2, 2, 3, 2, 4, 3, 1, 3, 2, 3, 3, 3, 4, 4, 1, 4, 2, 4, 3, 4, 4]"
   ]
  },
  {
   "cell_type": "code",
   "execution_count": 5,
   "id": "99d7623e-b46c-48fd-b5d3-c1d07086615b",
   "metadata": {},
   "outputs": [],
   "source": [
    "List = [1, 1, 1, 2, 1, 3, 1, 4, 2, 1, 2, 2, 2, 3, 2, 4, 3, 1, 3, 2, 3, 3, 3, 4, 4, 1, 4, 2, 4, 3, 4, 4]"
   ]
  },
  {
   "cell_type": "code",
   "execution_count": 7,
   "id": "51fb1f93-e51a-4f71-84f1-a1982df117e8",
   "metadata": {},
   "outputs": [
    {
     "name": "stdout",
     "output_type": "stream",
     "text": [
      "[1, 2, 3, 4]\n"
     ]
    }
   ],
   "source": [
    "List = [1, 1, 1, 2, 1, 3, 1, 4, 2, 1, 2, 2, 2, 3, 2, 4, 3, 1, 3, 2, 3, 3, 3, 4, 4, 1, 4, 2, 4, 3, 4, 4]\n",
    "\n",
    "unique_list = list(set(List))\n",
    "\n",
    "print(unique_list)\n"
   ]
  },
  {
   "cell_type": "markdown",
   "id": "5148e212-aa7f-41a1-966e-7706e3957195",
   "metadata": {},
   "source": [
    "#### Q4 Explain the difference between the union() and update() methods for a set. Give an example of\n",
    "each method.\n",
    "\n",
    "Ans:union(): The union() method returns a set that contains all the elements from both sets, without any duplicates. The original sets are not modified. For example:\n",
    "\n",
    "Ans:-update(): The update() method updates the original set with the elements from another set. The original set is modified in-place. For example:"
   ]
  },
  {
   "cell_type": "code",
   "execution_count": 15,
   "id": "f59744a8-eb0f-40d7-8cd0-4dfc1341facd",
   "metadata": {},
   "outputs": [
    {
     "name": "stdout",
     "output_type": "stream",
     "text": [
      "{1, 2, 3, 4, 5}\n"
     ]
    }
   ],
   "source": [
    " #the union() and update() methods are used to combine two sets.\n",
    "set1 = {1, 2, 3}\n",
    "set2 = {3, 4, 5}\n",
    "\n",
    "result =set1.union(set2)\n",
    "print(result)\n"
   ]
  },
  {
   "cell_type": "code",
   "execution_count": 13,
   "id": "ae27cfa1-c83b-4308-8def-e75d1122e748",
   "metadata": {},
   "outputs": [
    {
     "name": "stdout",
     "output_type": "stream",
     "text": [
      "{1, 2, 3, 4, 5}\n"
     ]
    }
   ],
   "source": [
    "set1 = {1, 2, 3}\n",
    "set2 = {3, 4, 5}\n",
    "\n",
    "set1.update(set2)\n",
    "print(set1)\n"
   ]
  },
  {
   "cell_type": "markdown",
   "id": "bdb4b432-e30d-4631-9d3c-b5a5554b6d7d",
   "metadata": {},
   "source": [
    "#### Q5. What is a dictionary? Give an example. Also, state whether a dictionary is ordered or unordered.\n",
    "\n",
    "\n",
    "ans:-a collection of key-value pairs, where each key is unique and maps to a specific value. Dictionaries are mutable, meaning that you can change their contents by adding, modifying, or deleting elements."
   ]
  },
  {
   "cell_type": "code",
   "execution_count": 18,
   "id": "a5b41cd8-f371-4613-9536-457d839bf001",
   "metadata": {},
   "outputs": [
    {
     "name": "stdout",
     "output_type": "stream",
     "text": [
      "['maddy', 'age', 'Data Science', 28, 'krish Naik', 'sudhanshu']\n"
     ]
    }
   ],
   "source": [
    "dict=[\"maddy\",\"age\",\"Data Science\",28,\"krish Naik\",\"sudhanshu\"]\n",
    "print(dict)"
   ]
  },
  {
   "cell_type": "markdown",
   "id": "2b7de949-d5d3-4c11-adaf-1fc35fe3f48d",
   "metadata": {},
   "source": [
    "#### Q6. Can we create a nested dictionary? If so, please give an example by creating a simple one-level\n",
    " #### nested dictionary.\n",
    " \n",
    " Ans:-yes, we can create a nested dictionary in Python. A nested dictionary is a dictionary that contains one or more dictionaries as its values."
   ]
  },
  {
   "cell_type": "code",
   "execution_count": 19,
   "id": "0aa87e7b-8c82-41fe-9c11-533f8a64da37",
   "metadata": {},
   "outputs": [
    {
     "name": "stdout",
     "output_type": "stream",
     "text": [
      "{'personal_info': {'name': 'Maddy', 'age': 28, 'country': 'India'}, 'professional_info': {'designation': 'Engineer', 'company': 'oppo'}}\n"
     ]
    }
   ],
   "source": [
    "person = {'personal_info': {'name': 'Maddy', 'age': 28, 'country': 'India'}, \n",
    "          'professional_info': {'designation': 'Engineer', 'company': 'oppo'}}\n",
    "\n",
    "print(person)\n"
   ]
  },
  {
   "cell_type": "code",
   "execution_count": 20,
   "id": "bcf9c450-bf97-49c0-9ce4-1b47f0a9061b",
   "metadata": {},
   "outputs": [
    {
     "name": "stdout",
     "output_type": "stream",
     "text": [
      "Maddy\n"
     ]
    }
   ],
   "source": [
    "print(person['personal_info']['name'])\n"
   ]
  },
  {
   "cell_type": "markdown",
   "id": "d92e3f4c-8fd1-4dac-90c3-5bbcf050835a",
   "metadata": {},
   "source": [
    "#### Q7. Using setdefault() method, create key named topics in the given dictionary and also add the value of\n",
    "the key as this list ['Python', 'Machine Learning', 'Deep Learning']\n",
    "dict] = {'language': 'Python', 'course': 'Data Science Masters'}"
   ]
  },
  {
   "cell_type": "code",
   "execution_count": 22,
   "id": "234890cc-5a46-4d40-89d4-32ee60cf8a04",
   "metadata": {},
   "outputs": [],
   "source": [
    "list=['Python', 'Machine Learning', 'Deep Learning'] \n",
    "dict = {'language': 'Python', 'course': 'Data Science Masters'}"
   ]
  },
  {
   "cell_type": "code",
   "execution_count": 23,
   "id": "1083d917-f684-4add-9df1-e310a3bbefec",
   "metadata": {},
   "outputs": [
    {
     "data": {
      "text/plain": [
       "['Python', 'Machine Learning', 'Deep Learning']"
      ]
     },
     "execution_count": 23,
     "metadata": {},
     "output_type": "execute_result"
    }
   ],
   "source": [
    "list"
   ]
  },
  {
   "cell_type": "code",
   "execution_count": 24,
   "id": "595ae0d9-a9ba-4152-b709-9a785e2ab430",
   "metadata": {},
   "outputs": [
    {
     "data": {
      "text/plain": [
       "{'language': 'Python', 'course': 'Data Science Masters'}"
      ]
     },
     "execution_count": 24,
     "metadata": {},
     "output_type": "execute_result"
    }
   ],
   "source": [
    "dict"
   ]
  },
  {
   "cell_type": "code",
   "execution_count": 25,
   "id": "eff34822-4d5e-4688-8112-bc62dcf1adf2",
   "metadata": {},
   "outputs": [
    {
     "name": "stdout",
     "output_type": "stream",
     "text": [
      "{'language': 'Python', 'course': 'Data Science Masters', 'topics': ['Python', 'Machine Learning', 'Deep Learning']}\n"
     ]
    }
   ],
   "source": [
    "info = {'language': 'Python', 'course': 'Data Science Masters'}\n",
    "\n",
    "info.setdefault('topics', ['Python', 'Machine Learning', 'Deep Learning'])\n",
    "\n",
    "print(info)\n"
   ]
  },
  {
   "cell_type": "markdown",
   "id": "657488ee-9837-4f37-a7d7-c253802819bf",
   "metadata": {},
   "source": [
    "#### Q8. What are the three view objects in dictionaries? Use the three in-built methods in python to display\n",
    "these three view objects for the given dictionary.\n",
    "dict] = {'Sport': 'Cricket', 'Teams': ['India', 'Australia', 'England', 'South Africa', 'Sri Lanka', 'New Zealand']}"
   ]
  },
  {
   "cell_type": "code",
   "execution_count": 26,
   "id": "205949d5-7fdb-4fe2-bf1f-203becefa471",
   "metadata": {},
   "outputs": [],
   "source": [
    "dict = {'Sport': 'Cricket', 'Teams': ['India', 'Australia', 'England', 'South Africa', 'Sri Lanka', 'New Zealand']}"
   ]
  },
  {
   "cell_type": "code",
   "execution_count": 27,
   "id": "0f1d06e4-01da-476f-850b-c480a8329b99",
   "metadata": {},
   "outputs": [
    {
     "name": "stdout",
     "output_type": "stream",
     "text": [
      "dict_keys(['Sport', 'Teams'])\n",
      "dict_values(['Cricket', ['India', 'Australia', 'England', 'South Africa', 'Sri Lanka', 'New Zealand']])\n",
      "dict_items([('Sport', 'Cricket'), ('Teams', ['India', 'Australia', 'England', 'South Africa', 'Sri Lanka', 'New Zealand'])])\n"
     ]
    }
   ],
   "source": [
    "info = {'Sport': 'Cricket', 'Teams': ['India', 'Australia', 'England', 'South Africa', 'Sri Lanka', 'New Zealand']}\n",
    "\n",
    "print(info.keys())\n",
    "print(info.values())\n",
    "print(info.items())\n"
   ]
  },
  {
   "cell_type": "code",
   "execution_count": null,
   "id": "8f29e27d-ca33-457e-bd70-5cb4defac29c",
   "metadata": {},
   "outputs": [],
   "source": []
  }
 ],
 "metadata": {
  "kernelspec": {
   "display_name": "Python 3 (ipykernel)",
   "language": "python",
   "name": "python3"
  },
  "language_info": {
   "codemirror_mode": {
    "name": "ipython",
    "version": 3
   },
   "file_extension": ".py",
   "mimetype": "text/x-python",
   "name": "python",
   "nbconvert_exporter": "python",
   "pygments_lexer": "ipython3",
   "version": "3.10.8"
  }
 },
 "nbformat": 4,
 "nbformat_minor": 5
}
