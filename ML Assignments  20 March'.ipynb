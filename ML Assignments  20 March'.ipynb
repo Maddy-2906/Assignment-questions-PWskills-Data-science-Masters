{
 "cells": [
  {
   "cell_type": "markdown",
   "id": "b9981438-7893-4469-ac93-c8cea8012b35",
   "metadata": {},
   "source": [
    "#### Q1. What is data encoding? How is it useful in data science?"
   ]
  },
  {
   "cell_type": "markdown",
   "id": "713ae69e-7bd5-46f3-9c27-51630356b28c",
   "metadata": {},
   "source": [
    "#### Ans:-Data encoding is the process of converting data from one form to another, typically from a human-readable form to a machine-readable form.\n",
    "#### Data encoding is useful in data science for several reasons, including improving data processing speed, reducing storage requirements, and enabling easier analysis.\n",
    "#### There are many different types of data encoding, including character encoding, numeric encoding, and binary encoding.\n",
    "#### Common examples of data encoding techniques include ASCII, Unicode, one-hot encoding, label encoding, and binary encoding.\n",
    "#### The choice of data encoding technique depends on the type of data and the specific needs of the project."
   ]
  },
  {
   "cell_type": "markdown",
   "id": "cc306448-cf56-4cfa-a402-b9dcecef5ca0",
   "metadata": {},
   "source": [
    "#### Q2. What is nominal encoding? Provide an example of how you would use it in a real-world scenario."
   ]
  },
  {
   "cell_type": "markdown",
   "id": "38004cb0-2510-4980-be7d-07542649cfa6",
   "metadata": {},
   "source": [
    "#### Ans:-Nominal encoding is a type of categorical encoding technique where the categories are assigned unique numerical codes or integers. It is used when the categories do not have an inherent order or rank. Nominal encoding can be performed using one-hot encoding or label encoding.\n",
    "\n",
    "Suppose there is a survey of customer feedback for a clothing store. One of the questions asked is about the preferred color of clothes. The possible answers to the question are \"red,\" \"blue,\" \"green,\" \"yellow,\" and \"black.\" Nominal encoding can be used to represent these categories as numerical values, such as 0 for \"red,\" 1 for \"blue,\" 2 for \"green,\" 3 for \"yellow,\" and 4 for \"black.\" This encoding enables the machine learning model to process the categorical variable as numerical data, which is required for most machine learning algorithms."
   ]
  },
  {
   "cell_type": "markdown",
   "id": "c631b6c5-d25b-4062-bb3c-8a2c874c1ce3",
   "metadata": {},
   "source": [
    "#### Q3. In what situations is nominal encoding preferred over one-hot encoding? Provide a practical example."
   ]
  },
  {
   "cell_type": "markdown",
   "id": "2594a5b5-8b31-4735-9e13-4e6c40ac9768",
   "metadata": {},
   "source": [
    "#### Ans:-Nominal encoding is preferred over one-hot encoding in situations where the number of unique categories in a categorical feature is very high. One-hot encoding creates a new column for each unique category, which can lead to the curse of dimensionality and increase the computational complexity of the model. Nominal encoding maps each category to a numerical value, which reduces the number of features and computational complexity of the model.\n",
    "\n",
    "a customer reviews for a restaurant, and one of the features is the type of cuisine (Italian, Mexican, Chinese, etc.). You may choose to use nominal encoding to represent this feature as integers, such as 0 for Italian, 1 for Mexican, and 2 for Chinese.\n",
    "\n",
    "One-hot encoding would create a separate binary feature for each cuisine type, which may not be necessary if the number of cuisine types is small and the goal is simply to represent them numerically. In this case, nominal encoding would be a more compact and efficient way to encode the feature."
   ]
  },
  {
   "cell_type": "markdown",
   "id": "cf4f5d5e-62ef-449c-bc93-37501cb91ae9",
   "metadata": {},
   "source": [
    "#### Q4. Suppose you have a dataset containing categorical data with 5 unique values. Which encoding technique would you use to transform this data into a format suitable for machine learning algorithms? Explain why you made this choice."
   ]
  },
  {
   "cell_type": "markdown",
   "id": "7fdf83c2-05b4-4406-bdaf-163ba2a9762f",
   "metadata": {},
   "source": [
    "#### Ans:-One-hot encoding creates a binary vector for each unique value in the categorical feature. Each vector has the same length as the number of unique values, and only one element of the vector is \"hot\" (set to 1), while all other elements are \"cold\" (set to 0). This technique is useful for machine learning algorithms that assume no order or ranking among the categories, such as decision trees or logistic regression.\n",
    "\n",
    "the choice of encoding technique depends on the nature of the categorical data and the machine learning algorithm being used. If the categorical data is nominal and the algorithm assumes no order or ranking, one-hot encoding may be preferred. Otherwise, ordinal encoding or other techniques may be more appropriate."
   ]
  },
  {
   "cell_type": "markdown",
   "id": "31b20ed7-4538-4150-a6a1-9b3bb421eca6",
   "metadata": {},
   "source": [
    "#### Q5. In a machine learning project, you have a dataset with 1000 rows and 5 columns. Two of the columns are categorical, and the remaining three columns are numerical. If you were to use nominal encoding to transform the categorical data, how many new columns would be created? Show your calculations."
   ]
  },
  {
   "cell_type": "markdown",
   "id": "812b0414-1556-4718-9515-21873262bd43",
   "metadata": {},
   "source": [
    "#### Ans:-f we use nominal encoding to transform the two categorical columns, a new column would be created for each unique value in the original categorical column.\n",
    "\n",
    "Let's assume the first categorical column has 4 unique values, and the second categorical column has 3 unique values. Therefore, after nominal encoding, we would have:\n",
    "\n",
    "#### The first categorical column would be transformed into 4 new columns\n",
    "#### The second categorical column would be transformed into 3 new columns\n",
    "#### a total of 4 + 3 = 7 new columns would be created."
   ]
  },
  {
   "cell_type": "markdown",
   "id": "8e1c2ba8-a1d0-4720-bf39-6bb21e3cf284",
   "metadata": {},
   "source": [
    "#### Q6. You are working with a dataset containing information about different types of animals, including their species, habitat, and diet. Which encoding technique would you use to transform the categorical data into a format suitable for machine learning algorithms? Justify your answer."
   ]
  },
  {
   "cell_type": "markdown",
   "id": "acda182a-b0d9-46ae-a07e-84bb89c62306",
   "metadata": {},
   "source": [
    "#### Ans:-The choice of encoding technique to transform categorical data into a format suitable for machine learning algorithms depends on the specific characteristics of the dataset and the machine learning algorithm being used. In the case of animal species, habitat, and diet information, I would recommend using one-hot encoding.\n",
    "One-hot encoding is a technique that converts categorical data into a binary vector representation, where each unique value in the category is represented by a column in the dataset. The column corresponding to the value of each category is assigned a value of 1, while all other columns are assigned a value of 0. This technique is useful in situations where there is no inherent ordering to the categories, and each category is equally important.\n",
    "#### for example a dataset containing information on different types of animals, we might have a categorical feature for habitat that includes values like \"forest,\" \"desert,\" and \"ocean.\" There is no inherent ordering to these values, and each is equally important in determining the characteristics of the animal. In this case, we could use one-hot encoding to transform the categorical data into a binary vector representation, which would be suitable for use in machine learning algorithms."
   ]
  },
  {
   "cell_type": "markdown",
   "id": "68cb92fe-90fe-4c95-9c29-4fa671d53248",
   "metadata": {},
   "source": [
    "#### Q7.You are working on a project that involves predicting customer churn for a telecommunications company. You have a dataset with 5 features, including the customer's gender, age, contract type,monthly charges, and tenure. Which encoding technique(s) would you use to transform the categorical data into numerical data? Provide a step-by-step explanation of how you would implement the encoding."
   ]
  },
  {
   "cell_type": "markdown",
   "id": "36afb8a1-4cc2-468e-bd78-b4753bc66a0c",
   "metadata": {},
   "source": [
    "#### Ans:-Label Encoding: We give a unique number to each label. For example, if we have labels like \"male\" and \"female\", we can give them numbers like 0 and 1.\n",
    "\n",
    "#### One-Hot Encoding: We create a new column for each label and put a 1 in the column that corresponds to the label, and 0s in all other columns. For example, if we have labels like \"one year\", \"two year\", and \"three year\", we can create three new columns and put a 1 in the column that corresponds to the label and 0s in all other columns.\n",
    "\n",
    "By doing this, we convert the labels into numbers, which we can use for machine learning. In our case, we are trying to predict customer churn for a telecommunications company using data like gender, age, contract type, monthly charges, and tenure. We can use Label Encoding for gender and contract type (since they have only two and multiple categories, respectively), and One-Hot Encoding for contract type to convert them into numbers that we can use for machine learning."
   ]
  },
  {
   "cell_type": "code",
   "execution_count": null,
   "id": "1cdf79a9-e2a4-474c-b5fa-3c2243ec5f65",
   "metadata": {},
   "outputs": [],
   "source": []
  }
 ],
 "metadata": {
  "kernelspec": {
   "display_name": "Python 3 (ipykernel)",
   "language": "python",
   "name": "python3"
  },
  "language_info": {
   "codemirror_mode": {
    "name": "ipython",
    "version": 3
   },
   "file_extension": ".py",
   "mimetype": "text/x-python",
   "name": "python",
   "nbconvert_exporter": "python",
   "pygments_lexer": "ipython3",
   "version": "3.10.8"
  }
 },
 "nbformat": 4,
 "nbformat_minor": 5
}
