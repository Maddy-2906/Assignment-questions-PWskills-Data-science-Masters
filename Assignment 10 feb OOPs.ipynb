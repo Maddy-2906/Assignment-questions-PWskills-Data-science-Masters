{
 "cells": [
  {
   "cell_type": "markdown",
   "id": "60854c34-fe99-4b90-983b-02b68fb04b6a",
   "metadata": {},
   "source": [
    "#Q1. Which function is used to open a file? What are the different modes of opening a file? Explain each mode\n",
    "of file opening.\n",
    "\n",
    "#Ans:-The open function is used to open a file in Python. The different modes of opening a file in Python are:\n",
    "\n",
    "1.'r' (read-only mode): This is the default mode in which a file is opened. In this mode, the file is opened in read-only mode and any attempt to write to the file will raise an error.\n",
    "\n",
    "2.'w' (write mode): In this mode, the file is opened in write mode and any existing data in the file will be truncated (deleted). If the file does not exist, a new file with the given name is created.\n",
    "\n",
    "3.'a' (append mode): In this mode, the file is opened in append mode and data is appended to the end of the file. If the file does not exist, a new file with the given name is created.\n",
    "\n",
    "4.'x' (exclusive creation mode): In this mode, the file is opened in write mode and a new file is created. If the file already exists, an error is raised.\n",
    "\n",
    "5.'b' (binary mode): This mode is used to open a binary file such as an image or a video file. The file is opened in binary mode and any data written to the file is in binary format.\n",
    "\n",
    "6.'t' (text mode): This mode is used to open a text file. The file is opened in text mode and any data written to the file is in text format. This is the default mode for opening text files."
   ]
  },
  {
   "cell_type": "markdown",
   "id": "73e7950a-6289-4b92-92b0-dc532079d7f9",
   "metadata": {},
   "source": [
    "#Q2. Why close() function is used? Why is it important to close a file?\n",
    "\n",
    "Ans:-The close function is used to close a file in Python after it has been opened. It is important to close a file because:\n",
    "\n",
    "Releasing system resources: When a file is opened, the operating system allocates resources to that file. If the file is not closed, these resources will not be freed, which can lead to a shortage of resources and slow down the system. Closing the file frees up these resources and makes them available for other processes.\n",
    "\n",
    "Ensuring data integrity: When a file is opened for writing, any data written to the file is stored in a buffer in the operating system. The data is not written to the actual file on the disk until the file is closed or the buffer is flushed. If the file is not closed, the data may not be written to the disk, leading to data loss.\n",
    "\n",
    "Avoiding file corruption: If a file is not closed properly, it can become corrupted, leading to errors when attempting to read the file. Closing the file ensures that the file is properly closed and any data written to the file is committed to disk.\n",
    "\n",
    "For these reasons, it is important to always close a file after it has been opened. In Python, you can use the with statement to automatically close a file when it is no longer needed. This ensures that the file is closed even if an exception occur"
   ]
  },
  {
   "cell_type": "code",
   "execution_count": 14,
   "id": "2cb0321d-6bf5-43f7-bdc1-440b712a70ea",
   "metadata": {},
   "outputs": [
    {
     "name": "stdout",
     "output_type": "stream",
     "text": [
      "i will do it just focus on it\n"
     ]
    }
   ],
   "source": [
    "with open(\"example.txt\", \"w\") as file:\n",
    "    file.write(\"i will do it just focus on it\")\n",
    "    \n",
    "with open(\"example.txt\", \"r\") as file:\n",
    "    content = file.read()\n",
    "    print(content)"
   ]
  },
  {
   "cell_type": "code",
   "execution_count": null,
   "id": "b0989355-903c-4239-ae90-21e018fe4627",
   "metadata": {},
   "outputs": [],
   "source": []
  },
  {
   "cell_type": "markdown",
   "id": "533c0667-70e8-4e4a-be33-5aba65b8a0f7",
   "metadata": {},
   "source": [
    "#Q3. Write a python program to create a text file. Write ‘I want to become a Data Scientist’ in that file. Then\n",
    "close the file. Open this file and read the content of the file.\n"
   ]
  },
  {
   "cell_type": "code",
   "execution_count": 6,
   "id": "8954ab34-38fb-4307-a7be-809596abb129",
   "metadata": {},
   "outputs": [
    {
     "name": "stdout",
     "output_type": "stream",
     "text": [
      "I want to become a Data Scientist\n"
     ]
    }
   ],
   "source": [
    "# create the file and write to it\n",
    "with open(\"example.txt\", \"w\") as file:\n",
    "    file.write(\"I want to become a Data Scientist\")\n",
    "\n",
    "# read the contents of the file\n",
    "with open(\"example.txt\", \"r\") as file:\n",
    "    content = file.read()\n",
    "    print(content)\n"
   ]
  },
  {
   "cell_type": "markdown",
   "id": "d633ec39-16ae-4c2f-90d6-0bd0782051fc",
   "metadata": {},
   "source": [
    "#Q4. Explain the following with python code: read(), readline() and readlines().\n",
    "\n",
    "\n",
    "ans:-It is important to note that the read method reads the entire contents of a file into memory, which can be slow for large files. The readline and readlines methods are more memory-efficient, but they still require the entire file to be read into memory. If you need to process very large files, you may want to consider using a different method, such as reading the file line by line.\n"
   ]
  },
  {
   "cell_type": "code",
   "execution_count": 18,
   "id": "95075ad1-ae81-4847-9f5b-0db8ccf05233",
   "metadata": {},
   "outputs": [
    {
     "name": "stdout",
     "output_type": "stream",
     "text": [
      "i will do it just focus on it\n"
     ]
    }
   ],
   "source": [
    "#read(): The read method reads the entire contents of a file and returns it as a single string. Here is an example:\n",
    "with open(\"example.txt\", \"r\") as file:\n",
    "    content = file.read()\n",
    "    print(content)\n"
   ]
  },
  {
   "cell_type": "code",
   "execution_count": 19,
   "id": "8feadbac-5e2a-4d97-95e5-5dc0027c87af",
   "metadata": {},
   "outputs": [
    {
     "name": "stdout",
     "output_type": "stream",
     "text": [
      "i will do it just focus on it\n"
     ]
    }
   ],
   "source": [
    "#readline(): The readline method reads a single line of the file and returns it as a string. You can call the readline method repeatedly to read all the lines of the file. Here is an example:\n",
    "with open(\"example.txt\", \"r\") as file:\n",
    "    line = file.readline()\n",
    "    while line:\n",
    "        print(line)\n",
    "        line = file.readline()\n"
   ]
  },
  {
   "cell_type": "code",
   "execution_count": 20,
   "id": "c7c5b78e-60ff-41fa-99de-4f8e23a26f4b",
   "metadata": {},
   "outputs": [
    {
     "name": "stdout",
     "output_type": "stream",
     "text": [
      "i will do it just focus on it\n"
     ]
    }
   ],
   "source": [
    "#readlines(): The readlines method reads all the lines of a file and returns them as a list of strings. Here is an example\n",
    "with open(\"example.txt\", \"r\") as file:\n",
    "    lines = file.readlines()\n",
    "    for line in lines:\n",
    "        print(line)\n"
   ]
  },
  {
   "cell_type": "markdown",
   "id": "395cbbfa-b83d-45c9-bb3e-0dd64cb993da",
   "metadata": {},
   "source": [
    "#Q5. Explain why with statement is used with open(). What is the advantage of using with statement and\n",
    "open() together?\n",
    "\n",
    "Ans:-The with statement is used with the open function in Python to ensure that the file is closed properly, even if an exception occurs. The advantage of using with and open together is that it makes the code more concise and less error-prone.\n",
    "\n",
    "When you use the with statement, Python automatically takes care of closing the file when the with block is exited, even if an exception occurs. This means that you don't need to remember to manually close the file, which can be easy to forget, especially if the code is complex.\n",
    "\n",
    "The with statement version is much simpler and easier to read, and it ensures that the file will be closed even if an exception occurs.\n",
    "\n",
    "In summary, the advantage of using with and open together is that it makes the code more concise and less error-prone, by automatically ensuring that the file is closed even if an exception occurs."
   ]
  },
  {
   "cell_type": "code",
   "execution_count": 27,
   "id": "d6efd86f-39a7-45d5-a21f-d75158c55dd9",
   "metadata": {},
   "outputs": [
    {
     "name": "stdout",
     "output_type": "stream",
     "text": [
      "i will do it just focus on it\n"
     ]
    }
   ],
   "source": [
    "with open(\"example.txt\", \"r\") as file:\n",
    "    content=file.read()\n",
    "    print(content)\n"
   ]
  },
  {
   "cell_type": "markdown",
   "id": "58606d73-63d4-4cf5-9f88-2e9f23cc81d1",
   "metadata": {},
   "source": [
    "#Q6. Explain the write() and writelines() functions. Give a suitable example."
   ]
  },
  {
   "cell_type": "code",
   "execution_count": 58,
   "id": "a63f008a-ddbc-4481-b8a1-7e6b97b0249f",
   "metadata": {},
   "outputs": [],
   "source": [
    "with open(\"example.txt\", \"w\") as file:\n",
    "    file.write(\"I want to become a Data Scientist\")"
   ]
  },
  {
   "cell_type": "code",
   "execution_count": 53,
   "id": "61e7ba3b-24aa-4c2b-95ae-0e18e0dc253d",
   "metadata": {},
   "outputs": [],
   "source": [
    "with open(\"example.txt\", \"w\") as file:\n",
    "    lines = [\"I want to become a Data Scientist\", \"Data Science is my passion\"]\n",
    "    file.writelines(lines)\n"
   ]
  },
  {
   "cell_type": "code",
   "execution_count": 54,
   "id": "2b2d88a3-d218-4a9d-a86d-ba7578abd88e",
   "metadata": {},
   "outputs": [],
   "source": [
    "with open(\"example.txt\", \"w\") as file:\n",
    "    lines = [\"I want to become a Data Scientist\\n\", \"Data Science is my passion\\n\"]\n",
    "    file.writelines(lines)\n"
   ]
  },
  {
   "cell_type": "code",
   "execution_count": null,
   "id": "dc33c9c1-0013-435b-b536-bf3a8e34ef78",
   "metadata": {},
   "outputs": [],
   "source": []
  }
 ],
 "metadata": {
  "kernelspec": {
   "display_name": "Python 3 (ipykernel)",
   "language": "python",
   "name": "python3"
  },
  "language_info": {
   "codemirror_mode": {
    "name": "ipython",
    "version": 3
   },
   "file_extension": ".py",
   "mimetype": "text/x-python",
   "name": "python",
   "nbconvert_exporter": "python",
   "pygments_lexer": "ipython3",
   "version": "3.10.8"
  }
 },
 "nbformat": 4,
 "nbformat_minor": 5
}
