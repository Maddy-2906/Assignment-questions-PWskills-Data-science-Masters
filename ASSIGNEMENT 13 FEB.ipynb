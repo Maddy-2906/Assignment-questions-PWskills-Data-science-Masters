{
 "cells": [
  {
   "cell_type": "markdown",
   "id": "dae9e2af-2a51-4799-97a4-c9b1f62dc7aa",
   "metadata": {},
   "source": [
    "#### Q1. Explain why we have to use the Exception class while creating a Custom Exception.\n",
    "\n",
    "Ans:-In Python, we use the Exception class while creating a Custom Exception because it is the base class for all built-in exceptions in Python. It provides a standard structure and methods that all exceptions should have, such as a message that describes the exception, and methods to access that message.\n",
    "\n",
    "Creating a custom exception that inherits from the Exception class allows us to define an exception that has the same properties and functionality as built-in exceptions. This means that the code that handles exceptions can treat our custom exception in the same way as built-in exceptions, making it easier to integrate and maintain.\n",
    "\n",
    "In addition, using the Exception class allows us to capture and handle our custom exception along with other built-in exceptions in a single try-except block, which simplifies the exception-handling logic in our code.\n",
    "\n",
    "#### Overall, by using the Exception class as the base class for our custom exception, we ensure that it follows the standard conventions for exception handling in Python, making it more maintainable and easier to work with in our codebase."
   ]
  },
  {
   "cell_type": "markdown",
   "id": "50a8d062-1c88-4826-a8a1-5d68c69459c9",
   "metadata": {},
   "source": [
    "#### Q2. Write a python program to print Python Exception Hierarchy."
   ]
  },
  {
   "cell_type": "code",
   "execution_count": 4,
   "id": "6dafdde1-a2fa-4a37-975b-46e13e46415f",
   "metadata": {},
   "outputs": [],
   "source": [
    "import sys"
   ]
  },
  {
   "cell_type": "code",
   "execution_count": 6,
   "id": "6ab2f7d7-2715-4dc5-8900-05e776a9efa3",
   "metadata": {},
   "outputs": [
    {
     "name": "stdout",
     "output_type": "stream",
     "text": [
      " Exception\n",
      "     BaseException\n",
      "         object\n"
     ]
    }
   ],
   "source": [
    "import sys\n",
    "\n",
    "# Define a recursive function to print the exception hierarchy\n",
    "def print_exception_hierarchy(exception_class, indent=0):\n",
    "    print(\" \" * indent, exception_class.__name__)\n",
    "    if exception_class.__bases__:\n",
    "        for base_class in exception_class.__bases__:\n",
    "            print_exception_hierarchy(base_class, indent + 4)\n",
    "\n",
    "# Call the recursive function on the base Exception class\n",
    "print_exception_hierarchy(Exception)\n"
   ]
  },
  {
   "cell_type": "markdown",
   "id": "cee9ffba-8942-457c-a909-43e2ef1b56b5",
   "metadata": {},
   "source": [
    "#### Q3. What errors are defined in the ArithmeticError class? Explain any two with an example.\n",
    "\n",
    "\n",
    "Ans:-the ArithmeticError class is a built-in exception that is raised when an arithmetic operation fails to execute properly. It is the base class for all the arithmetic-related errors.\n",
    "\n",
    "The following are some of the errors that are defined in the ArithmeticError class:"
   ]
  },
  {
   "cell_type": "code",
   "execution_count": 7,
   "id": "3aeb9033-e7be-484b-8023-730e7b5cffc1",
   "metadata": {},
   "outputs": [
    {
     "ename": "ZeroDivisionError",
     "evalue": "division by zero",
     "output_type": "error",
     "traceback": [
      "\u001b[0;31m---------------------------------------------------------------------------\u001b[0m",
      "\u001b[0;31mZeroDivisionError\u001b[0m                         Traceback (most recent call last)",
      "Cell \u001b[0;32mIn[7], line 4\u001b[0m\n\u001b[1;32m      2\u001b[0m a \u001b[38;5;241m=\u001b[39m \u001b[38;5;241m10\u001b[39m\n\u001b[1;32m      3\u001b[0m b \u001b[38;5;241m=\u001b[39m \u001b[38;5;241m0\u001b[39m\n\u001b[0;32m----> 4\u001b[0m c \u001b[38;5;241m=\u001b[39m \u001b[43ma\u001b[49m\u001b[38;5;241;43m/\u001b[39;49m\u001b[43mb\u001b[49m\n",
      "\u001b[0;31mZeroDivisionError\u001b[0m: division by zero"
     ]
    }
   ],
   "source": [
    "#ZeroDivisionError: This error occurs when a number is divided by zero.\n",
    "a = 10\n",
    "b = 0\n",
    "c = a/b"
   ]
  },
  {
   "cell_type": "code",
   "execution_count": 8,
   "id": "1e138c07-91b9-41f6-8de9-d3f49b69de8a",
   "metadata": {},
   "outputs": [],
   "source": [
    "#OverflowError: This error occurs when the result of an arithmetic operation exceeds the limit of the data type.\n",
    "a = 99999999999999999999999999999\n",
    "b = 99999999999999999999999999999\n",
    "c = a*b"
   ]
  },
  {
   "cell_type": "markdown",
   "id": "7e8fefa2-1367-471c-9318-717aa5867557",
   "metadata": {},
   "source": [
    "#### Q4. Why LookupError class is used? Explain with an example KeyError and IndexError.\n",
    "\n",
    "Ans:-the LookupError class is a built-in exception that is raised when a lookup or index operation fails. It is the base class for all the lookup-related errors.\n",
    "\n",
    "The LookupError is used when we try to access an element that does not exist in a sequence, dictionary, or any other data structure. This class has two subclasses - KeyError and IndexError."
   ]
  },
  {
   "cell_type": "code",
   "execution_count": 11,
   "id": "24bf2fe9-f53f-4081-b775-90473453d589",
   "metadata": {},
   "outputs": [
    {
     "ename": "KeyError",
     "evalue": "'d'",
     "output_type": "error",
     "traceback": [
      "\u001b[0;31m---------------------------------------------------------------------------\u001b[0m",
      "\u001b[0;31mKeyError\u001b[0m                                  Traceback (most recent call last)",
      "Cell \u001b[0;32mIn[11], line 3\u001b[0m\n\u001b[1;32m      1\u001b[0m \u001b[38;5;66;03m#KeyError: This error occurs when we try to access a non-existent key in a dictionary.\u001b[39;00m\n\u001b[1;32m      2\u001b[0m \u001b[38;5;28mdict\u001b[39m \u001b[38;5;241m=\u001b[39m {\u001b[38;5;124m'\u001b[39m\u001b[38;5;124ma\u001b[39m\u001b[38;5;124m'\u001b[39m: \u001b[38;5;241m1\u001b[39m, \u001b[38;5;124m'\u001b[39m\u001b[38;5;124mb\u001b[39m\u001b[38;5;124m'\u001b[39m: \u001b[38;5;241m2\u001b[39m, \u001b[38;5;124m'\u001b[39m\u001b[38;5;124mc\u001b[39m\u001b[38;5;124m'\u001b[39m: \u001b[38;5;241m3\u001b[39m}\n\u001b[0;32m----> 3\u001b[0m \u001b[38;5;28mprint\u001b[39m(\u001b[38;5;28;43mdict\u001b[39;49m\u001b[43m[\u001b[49m\u001b[38;5;124;43m'\u001b[39;49m\u001b[38;5;124;43md\u001b[39;49m\u001b[38;5;124;43m'\u001b[39;49m\u001b[43m]\u001b[49m)\n",
      "\u001b[0;31mKeyError\u001b[0m: 'd'"
     ]
    }
   ],
   "source": [
    "#KeyError: This error occurs when we try to access a non-existent key in a dictionary.\n",
    "dict = {'a': 1, 'b': 2, 'c': 3}\n",
    "print(dict['d'])"
   ]
  },
  {
   "cell_type": "code",
   "execution_count": 12,
   "id": "2ce73228-859e-4049-a0d2-6bf71d6ab377",
   "metadata": {},
   "outputs": [
    {
     "ename": "IndexError",
     "evalue": "list index out of range",
     "output_type": "error",
     "traceback": [
      "\u001b[0;31m---------------------------------------------------------------------------\u001b[0m",
      "\u001b[0;31mIndexError\u001b[0m                                Traceback (most recent call last)",
      "Cell \u001b[0;32mIn[12], line 3\u001b[0m\n\u001b[1;32m      1\u001b[0m \u001b[38;5;66;03m#IndexError: This error occurs when we try to access an index that is out of range in a sequence or list.\u001b[39;00m\n\u001b[1;32m      2\u001b[0m \u001b[38;5;28mlist\u001b[39m\u001b[38;5;241m=\u001b[39m[\u001b[38;5;241m1\u001b[39m,\u001b[38;5;241m2\u001b[39m,\u001b[38;5;241m3\u001b[39m,\u001b[38;5;241m4\u001b[39m,\u001b[38;5;241m5\u001b[39m,\u001b[38;5;241m6\u001b[39m]\n\u001b[0;32m----> 3\u001b[0m \u001b[38;5;28mprint\u001b[39m(\u001b[38;5;28;43mlist\u001b[39;49m\u001b[43m[\u001b[49m\u001b[38;5;241;43m7\u001b[39;49m\u001b[43m]\u001b[49m)\n",
      "\u001b[0;31mIndexError\u001b[0m: list index out of range"
     ]
    }
   ],
   "source": [
    "#IndexError: This error occurs when we try to access an index that is out of range in a sequence or list.\n",
    "list=[1,2,3,4,5,6]\n",
    "print(list[7])"
   ]
  },
  {
   "cell_type": "markdown",
   "id": "24343e49-5c58-4f51-9599-2c2c659521f6",
   "metadata": {},
   "source": [
    "#### Q5. Explain ImportError. What is ModuleNotFoundError?\\\n",
    "\n",
    "Ans:-ImportError is a built-in exception that is raised when a module or package cannot be imported. This error occurs when the interpreter cannot locate the module or package you are trying to import. It can occur due to several reasons, such as incorrect module name, missing dependencies, or invalid file paths.\n",
    "\n",
    "ModuleNotFoundError is a subclass of ImportError that is specifically used when the imported module or package is not found. This error was introduced in Python 3.6, and it provides a more specific error message than the general ImportError.\n",
    "\n",
    "In the given example, the interpreter was not able to locate the module 'my_module'. This error can occur when the module is not installed or is installed in a different location that is not in the Python path.\n",
    "\n",
    "Overall, both ImportError and ModuleNotFoundError are used to handle errors related to module import failures. By handling these errors, we can ensure that our programs work as expected and display relevant error messages to the users."
   ]
  },
  {
   "cell_type": "code",
   "execution_count": 15,
   "id": "25dc7c72-b243-4ff0-911b-cc6aed2ba06d",
   "metadata": {},
   "outputs": [
    {
     "ename": "ModuleNotFoundError",
     "evalue": "No module named 'Maddy'",
     "output_type": "error",
     "traceback": [
      "\u001b[0;31m---------------------------------------------------------------------------\u001b[0m",
      "\u001b[0;31mModuleNotFoundError\u001b[0m                       Traceback (most recent call last)",
      "Cell \u001b[0;32mIn[15], line 2\u001b[0m\n\u001b[1;32m      1\u001b[0m \u001b[38;5;66;03m#Trying to import a non-existent module:\u001b[39;00m\n\u001b[0;32m----> 2\u001b[0m \u001b[38;5;28;01mimport\u001b[39;00m \u001b[38;5;21;01mMaddy\u001b[39;00m\n",
      "\u001b[0;31mModuleNotFoundError\u001b[0m: No module named 'Maddy'"
     ]
    }
   ],
   "source": [
    "#Trying to import a non-existent module:\n",
    "import Maddy\n"
   ]
  },
  {
   "cell_type": "code",
   "execution_count": 16,
   "id": "f7093df5-8783-4cd6-924b-ecefabb0da30",
   "metadata": {},
   "outputs": [
    {
     "ename": "ModuleNotFoundError",
     "evalue": "No module named 'my_module'",
     "output_type": "error",
     "traceback": [
      "\u001b[0;31m---------------------------------------------------------------------------\u001b[0m",
      "\u001b[0;31mModuleNotFoundError\u001b[0m                       Traceback (most recent call last)",
      "Cell \u001b[0;32mIn[16], line 2\u001b[0m\n\u001b[1;32m      1\u001b[0m \u001b[38;5;66;03m#Trying to import a module that exists in a different location:\u001b[39;00m\n\u001b[0;32m----> 2\u001b[0m \u001b[38;5;28;01mfrom\u001b[39;00m \u001b[38;5;21;01mmy_module\u001b[39;00m \u001b[38;5;28;01mimport\u001b[39;00m my_function\n",
      "\u001b[0;31mModuleNotFoundError\u001b[0m: No module named 'my_module'"
     ]
    }
   ],
   "source": [
    "#Trying to import a module that exists in a different location:\n",
    "from my_module import my_function\n"
   ]
  },
  {
   "cell_type": "markdown",
   "id": "48e47f25-e506-46d2-a8ac-e25ecbbcd7a7",
   "metadata": {},
   "source": [
    "#### Q6. List down some best practices for exception handling in python.\n",
    "\n",
    "Ans:-Exception handling is an important aspect of programming in Python. Here are some best practices for exception handling in Python:\n",
    "\n",
    "1.Be specific with your exception handling: Instead of using a general try-except block, try to be specific and catch only the exceptions that you are expecting. This helps in identifying the root cause of the issue.\n",
    "\n",
    "2.Use multiple except blocks: Use multiple except blocks to handle different types of exceptions separately. This helps in handling each exception in a different way.\n",
    "\n",
    "3.Provide informative error messages: Always provide informative error messages that explain what went wrong and why. This helps in debugging and fixing the issues quickly.\n",
    "\n",
    "4.Use finally block: Use the finally block to handle any clean-up operations that need to be performed after the try-except block has executed. For example, closing files or releasing resources.\n",
    "\n",
    "5.Don't catch all exceptions: Avoid catching all exceptions with a single except block as it can make debugging difficult. It is better to catch specific exceptions that are expected.\n",
    "\n",
    "6.Handle exceptions close to the source: Handle exceptions as close to the source as possible. This helps in maintaining the flow of the program and identifying the root cause of the issue quickly.\n",
    "\n",
    "7.Use context managers: Use context managers such as \"with\" statement to automatically close files or release resources after use. This ensures that the resources are properly managed and the program doesn't run out of resources.\n",
    "\n",
    "8.Log the exceptions: Always log the exceptions in a file or database. This helps in identifying the frequency of the exceptions and finding patterns that can help in resolving the issue.\n",
    "\n"
   ]
  },
  {
   "cell_type": "code",
   "execution_count": null,
   "id": "70b53907-457e-46bf-9ccc-3ebc18609257",
   "metadata": {},
   "outputs": [],
   "source": []
  }
 ],
 "metadata": {
  "kernelspec": {
   "display_name": "Python 3 (ipykernel)",
   "language": "python",
   "name": "python3"
  },
  "language_info": {
   "codemirror_mode": {
    "name": "ipython",
    "version": 3
   },
   "file_extension": ".py",
   "mimetype": "text/x-python",
   "name": "python",
   "nbconvert_exporter": "python",
   "pygments_lexer": "ipython3",
   "version": "3.10.8"
  }
 },
 "nbformat": 4,
 "nbformat_minor": 5
}
