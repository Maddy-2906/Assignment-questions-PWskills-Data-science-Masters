{
 "cells": [
  {
   "cell_type": "markdown",
   "id": "39fc3f0a",
   "metadata": {},
   "source": [
    "#### Q1. Write a Python function that takes in two arrays of data and calculates the F-value for a variance ratiotest. The function should return the F-value and the corresponding p-value for the test."
   ]
  },
  {
   "cell_type": "code",
   "execution_count": 5,
   "id": "211795d5",
   "metadata": {},
   "outputs": [
    {
     "name": "stdout",
     "output_type": "stream",
     "text": [
      "F-value:  1.0262888536679733\n",
      "p-value:  0.4487704319000711\n"
     ]
    }
   ],
   "source": [
    "import numpy as np\n",
    "from scipy.stats import f\n",
    "\n",
    "def variance_ratio_test(x, y):\n",
    "    \"\"\"\n",
    "    Performs a variance ratio test on two arrays of data using the F-test.\n",
    "    \n",
    "    Args:\n",
    "    x (array-like): First array of data\n",
    "    y (array-like): Second array of data\n",
    "    \n",
    "    Returns:\n",
    "    f_value (float): F-value for the variance ratio test\n",
    "    p_value (float): Corresponding p-value for the test\n",
    "    \"\"\"\n",
    "    # Calculate the variances of the two arrays\n",
    "    var_x = np.var(x)\n",
    "    var_y = np.var(y)\n",
    "    \n",
    "    # Ensure that var_x is greater than or equal to var_y\n",
    "    if var_x < var_y:\n",
    "        var_x, var_y = var_y, var_x\n",
    "        x, y = y, x\n",
    "    \n",
    "    # Calculate the F-value and p-value for the variance ratio test\n",
    "    f_value = var_x / var_y\n",
    "    df1 = len(x) - 1\n",
    "    df2 = len(y) - 1\n",
    "    p_value = f.sf(f_value, df1, df2)\n",
    "    \n",
    "    return f_value, p_value\n",
    "# Generate two arrays of data\n",
    "x = np.random.normal(loc=10, scale=2, size=100)\n",
    "y = np.random.normal(loc=12, scale=2, size=100)\n",
    "\n",
    "# Perform the variance ratio test\n",
    "f_value, p_value = variance_ratio_test(x, y)\n",
    "\n",
    "# Print the results\n",
    "print(\"F-value: \", f_value)\n",
    "print(\"p-value: \", p_value)\n",
    "\n"
   ]
  },
  {
   "cell_type": "markdown",
   "id": "2063cdf7",
   "metadata": {},
   "source": [
    "#### Q2. Given a significance level of 0.05 and the degrees of freedom for the numerator and denominator of an F-distribution, write a Python function that returns the critical F-value for a two-tailed test."
   ]
  },
  {
   "cell_type": "code",
   "execution_count": 9,
   "id": "558a39bf",
   "metadata": {},
   "outputs": [
    {
     "name": "stdout",
     "output_type": "stream",
     "text": [
      "The critical F-value is 4.2421\n"
     ]
    }
   ],
   "source": [
    "from scipy.stats import f\n",
    "\n",
    "def critical_f(num_df, denom_df, alpha=0.05):\n",
    "    \"\"\"\n",
    "    Returns the critical F-value for a two-tailed test at a given\n",
    "    significance level, with specified degrees of freedom for the\n",
    "    numerator and denominator.\n",
    "    \n",
    "    Parameters:\n",
    "    - num_df: degrees of freedom for the numerator\n",
    "    - denom_df: degrees of freedom for the denominator\n",
    "    - alpha: significance level (default is 0.05)\n",
    "    \n",
    "    Returns:\n",
    "    - critical F-value\n",
    "    \"\"\"\n",
    "    # Calculate the lower and upper percentiles based on the significance level\n",
    "    alpha_2 = alpha / 2\n",
    "    lower_percentile = alpha_2\n",
    "    upper_percentile = 1 - alpha_2\n",
    "    \n",
    "    # Use the f.ppf() function to calculate the critical F-value\n",
    "    critical_value = f.ppf([lower_percentile, upper_percentile], num_df, denom_df)\n",
    "    \n",
    "    # Return the second value (upper percentile) for a two-tailed test\n",
    "    return critical_value[1]\n",
    "\n",
    "# Example usage\n",
    "num_df = 2\n",
    "denom_df = 27\n",
    "alpha = 0.05\n",
    "\n",
    "critical_value = critical_f(num_df, denom_df, alpha)\n",
    "print(f\"The critical F-value is {critical_value:.4f}\")\n"
   ]
  },
  {
   "cell_type": "markdown",
   "id": "89316669",
   "metadata": {},
   "source": [
    "#### Q3. Write a Python program that generates random samples from two normal distributions with known variances and uses an F-test to determine if the variances are equal. The program should output the F- value, degrees of freedom, and p-value for the test."
   ]
  },
  {
   "cell_type": "code",
   "execution_count": 10,
   "id": "d821be60",
   "metadata": {},
   "outputs": [
    {
     "name": "stdout",
     "output_type": "stream",
     "text": [
      "F-statistic: 0.5841\n",
      "Degrees of freedom: (49, 59)\n",
      "p-value: 1.9454\n"
     ]
    }
   ],
   "source": [
    "import numpy as np\n",
    "from scipy.stats import f\n",
    "\n",
    "# Set the seed for reproducibility\n",
    "np.random.seed(123)\n",
    "\n",
    "# Generate random samples from two normal distributions\n",
    "n1 = 50\n",
    "n2 = 60\n",
    "mu1 = 10\n",
    "mu2 = 12\n",
    "sigma1 = 5\n",
    "sigma2 = 7\n",
    "sample1 = np.random.normal(mu1, sigma1, n1)\n",
    "sample2 = np.random.normal(mu2, sigma2, n2)\n",
    "\n",
    "# Calculate the F-statistic and p-value\n",
    "F_stat = np.var(sample1, ddof=1) / np.var(sample2, ddof=1)\n",
    "dfn = n1 - 1\n",
    "dfd = n2 - 1\n",
    "p_value = f.sf(F_stat, dfn, dfd) * 2\n",
    "\n",
    "# Print the results\n",
    "print(\"F-statistic: {:.4f}\".format(F_stat))\n",
    "print(\"Degrees of freedom: ({}, {})\".format(dfn, dfd))\n",
    "print(\"p-value: {:.4f}\".format(p_value))\n"
   ]
  },
  {
   "cell_type": "markdown",
   "id": "22c69ff4",
   "metadata": {},
   "source": [
    "#### Q4.The variances of two populations are known to be 10 and 15. A sample of 12 observations is taken from each population. Conduct an F-test at the 5% significance level to determine if the variances are significantly different.\n",
    "\n",
    "#### Ans:- Null hypothesis: The variances of the two populations are equal.\n",
    "Alternative hypothesis: The variances of the two populations are not equal.\n",
    "We will use a significance level of 0.05 for this test.\n",
    "\n",
    "The F-statistic is calculated as the ratio of the larger variance to the smaller variance, so we have:\n",
    "\n",
    "F = 15/10 = 1.5"
   ]
  },
  {
   "cell_type": "code",
   "execution_count": 16,
   "id": "d3554dae",
   "metadata": {},
   "outputs": [
    {
     "name": "stdout",
     "output_type": "stream",
     "text": [
      "F-value: 1.5\n",
      "p-value: 0.5123897987357995\n",
      "Critical F-value: 0.28787755798459863\n",
      "Reject null hypothesis: Variances are significantly different\n"
     ]
    }
   ],
   "source": [
    "from scipy.stats import f\n",
    "\n",
    "# Calculate F-statistic\n",
    "F = 15/10\n",
    "\n",
    "# Calculate p-value\n",
    "p_value = 2 * (1 - f.cdf(F, 11, 11))\n",
    "\n",
    "# Calculate critical F-value\n",
    "alpha = 0.05\n",
    "f_crit = f.ppf(alpha/2, 11, 11)\n",
    "\n",
    "# Print results\n",
    "print(\"F-value:\", F)\n",
    "print(\"p-value:\", p_value)\n",
    "print(\"Critical F-value:\", f_crit)\n",
    "\n",
    "if F > f_crit:\n",
    "    print(\"Reject null hypothesis: Variances are significantly different\")\n",
    "else:\n",
    "    print(\"Fail to reject null hypothesis: Variances are not significantly different\")\n",
    "\n"
   ]
  },
  {
   "cell_type": "markdown",
   "id": "3fd02be3",
   "metadata": {},
   "source": [
    "\n",
    "#### Q5. A manufacturer claims that the variance of the diameter of a certain product is 0.005. A sample of 25products is taken, and the sample variance is found to be 0.006. Conduct an F-test at the 1% significance level to determine if the claim is justified"
   ]
  },
  {
   "cell_type": "code",
   "execution_count": null,
   "id": "859415ac",
   "metadata": {},
   "outputs": [],
   "source": []
  },
  {
   "cell_type": "markdown",
   "id": "034bf4c2",
   "metadata": {},
   "source": [
    "#### Ans:- The null hypothesis is that the population variance is equal to the claimed variance, i.e.,\n",
    "#### H0: σ2 = 0.005\n",
    "\n",
    "#### The alternative hypothesis is that the population variance is greater than the claimed variance, i.e.,\n",
    "#### H1: σ2 > 0.005\n",
    "\n",
    "The F-statistic is calculated as:\n",
    "\n",
    "F = (s^2) / σ^2\n",
    " F-test at the 1% significance level, we need to find the critical value of F that corresponds to a right-tailed test with 24 and infinite degrees of freedom and an alpha level of 0.01.\n",
    "\n",
    "F-statistic is greater than the critical value of F, we reject the null hypothesis and conclude that the sample variance is significantly greater than the claimed population variance"
   ]
  },
  {
   "cell_type": "code",
   "execution_count": 17,
   "id": "d2d4c247",
   "metadata": {},
   "outputs": [
    {
     "name": "stdout",
     "output_type": "stream",
     "text": [
      "F-statistic: 1.2\n",
      "Critical value of F: 0.006917727317029589\n",
      "Reject null hypothesis: Population variance is greater than claimed variance\n"
     ]
    }
   ],
   "source": [
    "import scipy.stats as stats\n",
    "\n",
    "# Define the sample variance, sample size, and claimed population variance\n",
    "s_squared = 0.006\n",
    "n = 25\n",
    "sigma_squared = 0.005\n",
    "\n",
    "# Calculate the F-statistic\n",
    "F = s_squared / sigma_squared\n",
    "\n",
    "# Find the critical value of F\n",
    "alpha = 0.01\n",
    "dfn = n - 1\n",
    "dfd = stats.t.sf(1 - alpha, dfn)\n",
    "f_crit = dfd / dfn\n",
    "\n",
    "# Print the results\n",
    "print(\"F-statistic:\", F)\n",
    "print(\"Critical value of F:\", f_crit)\n",
    "\n",
    "if F > f_crit:\n",
    "    print(\"Reject null hypothesis: Population variance is greater than claimed variance\")\n",
    "else:\n",
    "    print(\"Fail to reject null hypothesis: Population variance is not significantly greater than claimed variance\")\n"
   ]
  },
  {
   "cell_type": "markdown",
   "id": "fff5fa86",
   "metadata": {},
   "source": [
    "#### Q6. Write a Python function that takes in the degrees of freedom for the numerator and denominator of an F-distribution and calculates the mean and variance of the distribution. The function should return the mean and variance as a tuple."
   ]
  },
  {
   "cell_type": "code",
   "execution_count": 18,
   "id": "25ce9d65",
   "metadata": {},
   "outputs": [
    {
     "name": "stdout",
     "output_type": "stream",
     "text": [
      "Mean: 1.25\n",
      "Variance: 1.3541666666666667\n"
     ]
    }
   ],
   "source": [
    "import numpy as np\n",
    "from scipy.special import gamma\n",
    "\n",
    "def f_distribution_mean_variance(df1, df2):\n",
    "    mean = df2 / (df2 - 2)\n",
    "    variance = (2 * df2**2 * (df1 + df2 - 2)) / (df1 * (df2 - 2)**2 * (df2 - 4))\n",
    "    return (mean, variance)\n",
    "mean, variance = f_distribution_mean_variance(5, 10)\n",
    "print(\"Mean:\", mean)\n",
    "print(\"Variance:\", variance)\n"
   ]
  },
  {
   "cell_type": "markdown",
   "id": "ea299437",
   "metadata": {},
   "source": [
    "#### Q7. A random sample of 10 measurements is taken from a normal population with unknown variance. The sample variance is found to be 25. Another random sample of 15 measurements is taken from another normal population with unknown variance, and the sample variance is found to be 20. Conduct\n",
    "\n",
    "#### Ans:- 1. Test for the population variance of the first sample:\n",
    "#### Null hypothesis: The population variance is equal to 25.\n",
    "\n",
    "#### Alternative hypothesis: The population variance is not equal to 25.\n",
    "#### chi_square = (n-1)*S^2/sigma^2\n",
    "\n",
    "#### 2. Test for the difference in population means between the two samples:\n",
    "#### Null hypothesis: The population means of the two populations are equal.\n",
    "\n",
    "#### Alternative hypothesis: The population means of the two populations are not equal.\n",
    "#### t = (x̄1 - x̄2) / sqrt(S1^2/n1 + S2^2/n2)\n"
   ]
  },
  {
   "cell_type": "code",
   "execution_count": 19,
   "id": "caadfb03",
   "metadata": {},
   "outputs": [
    {
     "name": "stdout",
     "output_type": "stream",
     "text": [
      "Reject the null hypothesis\n"
     ]
    }
   ],
   "source": [
    "import numpy as np\n",
    "from scipy.stats import chi2\n",
    "\n",
    "n = 10\n",
    "S_squared = 25\n",
    "df = n - 1\n",
    "alpha = 0.05\n",
    "\n",
    "# Find the critical values\n",
    "critical_value_1 = chi2.ppf(alpha/2, df)\n",
    "critical_value_2 = chi2.ppf(1-alpha/2, df)\n",
    "\n",
    "# Find the test statistic\n",
    "test_statistic = (df*S_squared)/sigma_squared\n",
    "\n",
    "# Compare the test statistic to the critical values\n",
    "if test_statistic < critical_value_1 or test_statistic > critical_value_2:\n",
    "    print(\"Reject the null hypothesis\")\n",
    "else:\n",
    "    print(\"Fail to reject the null hypothesis\")\n"
   ]
  },
  {
   "cell_type": "code",
   "execution_count": 20,
   "id": "79209da8",
   "metadata": {},
   "outputs": [
    {
     "name": "stdout",
     "output_type": "stream",
     "text": [
      "Fail to reject the null hypothesis\n"
     ]
    }
   ],
   "source": [
    "# Calculate the test statistic assuming the population variance is 25\n",
    "sigma_squared = 25\n",
    "test_statistic = 225/sigma_squared\n",
    "\n",
    "if test_statistic < critical_value_1 or test_statistic > critical_value_2:\n",
    "    print(\"Reject the null hypothesis\")\n",
    "else:\n",
    "    print(\"Fail to reject the null hypothesis\")\n"
   ]
  },
  {
   "cell_type": "markdown",
   "id": "02280f00",
   "metadata": {},
   "source": [
    "#### Q8. The following data represent the waiting times in minutes at two different restaurants on a Saturday night: Restaurant A: 24, 25, 28, 23, 22, 20, 27; Restaurant B: 31, 33, 35, 30, 32, 36. Conduct an F-test at the 5% significance level to determine if the variances are significantly different.\n",
    "\n",
    "#### Ans:- Null hypothesis: The variances of the waiting times at the two restaurants are equal.\n",
    "\n",
    "#### Alternative hypothesis: The variances of the waiting times at the two restaurants are not equal.\n",
    "\n",
    "#### 2.calculate the F-statistic \n",
    "#### F = S1^2 / S2^2\n"
   ]
  },
  {
   "cell_type": "code",
   "execution_count": 21,
   "id": "386b8383",
   "metadata": {},
   "outputs": [
    {
     "name": "stdout",
     "output_type": "stream",
     "text": [
      "Sample variance of Restaurant A: 7.80952380952381\n",
      "Sample variance of Restaurant B: 5.366666666666667\n"
     ]
    }
   ],
   "source": [
    "import numpy as np\n",
    "from scipy.stats import f\n",
    "\n",
    "a = np.array([24, 25, 28, 23, 22, 20, 27])\n",
    "b = np.array([31, 33, 35, 30, 32, 36])\n",
    "\n",
    "s_a_squared = np.var(a, ddof=1)\n",
    "s_b_squared = np.var(b, ddof=1)\n",
    "\n",
    "print(\"Sample variance of Restaurant A:\", s_a_squared)\n",
    "print(\"Sample variance of Restaurant B:\", s_b_squared)\n"
   ]
  },
  {
   "cell_type": "code",
   "execution_count": 22,
   "id": "f3dcf46d",
   "metadata": {},
   "outputs": [
    {
     "name": "stdout",
     "output_type": "stream",
     "text": [
      "F-statistic: 1.4551907719609583\n"
     ]
    }
   ],
   "source": [
    "F = s_a_squared / s_b_squared\n",
    "print(\"F-statistic:\", F)\n"
   ]
  },
  {
   "cell_type": "code",
   "execution_count": 23,
   "id": "d24f8297",
   "metadata": {},
   "outputs": [
    {
     "name": "stdout",
     "output_type": "stream",
     "text": [
      "Critical value for F-distribution: 4.950288068694318\n"
     ]
    }
   ],
   "source": [
    "df1 = len(a) - 1\n",
    "df2 = len(b) - 1\n",
    "alpha = 0.05\n",
    "\n",
    "critical_value = f.ppf(1-alpha, df1, df2)\n",
    "print(\"Critical value for F-distribution:\", critical_value)\n"
   ]
  },
  {
   "cell_type": "code",
   "execution_count": 24,
   "id": "8432e62e",
   "metadata": {},
   "outputs": [
    {
     "name": "stdout",
     "output_type": "stream",
     "text": [
      "Fail to reject the null hypothesis: the variances are not significantly different.\n"
     ]
    }
   ],
   "source": [
    "if F > critical_value:\n",
    "    print(\"Reject the null hypothesis: the variances are significantly different.\")\n",
    "else:\n",
    "    print(\"Fail to reject the null hypothesis: the variances are not significantly different.\")\n"
   ]
  },
  {
   "cell_type": "markdown",
   "id": "326f8ad5",
   "metadata": {},
   "source": [
    "#### Q9. The following data represent the test scores of two groups of students: Group A: 80, 85, 90, 92, 87, 83; Group B: 75, 78, 82, 79, 81, 84. Conduct an F-test at the 1% significance level to determine if the variances are significantly different."
   ]
  },
  {
   "cell_type": "markdown",
   "id": "f1a0c904",
   "metadata": {},
   "source": [
    "#### Ans:-Step 1: State the null hypothesis and the alternative hypothesis.\n",
    "\n",
    "#### Null hypothesis: The variances of the two groups are equal.\n",
    "#### Alternative hypothesis: The variances of the two groups are not equal.\n",
    "\n",
    "#### Step 2: Determine the level of significance.\n",
    "\n",
    "#### The level of significance is given as 1%.\n",
    "\n",
    "#### Step 3: Compute the test statistic.\n",
    "\n",
    "#### F = s1^2 / s2^2\n",
    "\n",
    "#### s1^2 = [(80-86)^2 + (85-86)^2 + (90-86)^2 + (92-86)^2 + (87-86)^2 + (83-86)^2] / 5 = 20.8\n",
    "\n",
    "#### s2^2 = [(75-80)^2 + (78-80)^2 + (82-80)^2 + (79-80)^2 + (81-80)^2 + (84-80)^2] / 5 = 8.8\n",
    "\n",
    "#### F = s1^2 / s2^2 = 20.8 / 8.8 = 2.3636\n",
    "\n",
    "#### step 4: Determine the critical value.\n",
    "\n",
    "####  F-distribution table with degrees of freedom \n",
    " #### df1 = n1-1 = 5-1 = 4 \n",
    " #### df2 = n2-1 = 5-1 = 4, \n",
    " (where n1 and n2 are the sample sizes of Group A and Group B, respectively.)\n",
    "\n",
    "#### the 1% significance level and df1 = 4 and df2 = 4, the critical value is 7.71.\n",
    "\n",
    "#### Step 5: Make a decision.\n",
    "\n",
    "Since the computed F-value (2.3636) is less than the critical value (7.71), we fail to reject the null hypothesis. Therefore, we can conclude that there is not enough evidence to suggest that the variances of the two groups are significantly different at the 1% significance level.\n",
    "\n",
    "\n",
    "\n",
    "\n"
   ]
  },
  {
   "cell_type": "code",
   "execution_count": null,
   "id": "9524c6ca",
   "metadata": {},
   "outputs": [],
   "source": []
  }
 ],
 "metadata": {
  "kernelspec": {
   "display_name": "Python 3 (ipykernel)",
   "language": "python",
   "name": "python3"
  },
  "language_info": {
   "codemirror_mode": {
    "name": "ipython",
    "version": 3
   },
   "file_extension": ".py",
   "mimetype": "text/x-python",
   "name": "python",
   "nbconvert_exporter": "python",
   "pygments_lexer": "ipython3",
   "version": "3.9.13"
  }
 },
 "nbformat": 4,
 "nbformat_minor": 5
}
