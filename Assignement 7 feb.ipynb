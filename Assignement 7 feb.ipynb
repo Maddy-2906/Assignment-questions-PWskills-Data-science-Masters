{
 "cells": [
  {
   "cell_type": "markdown",
   "id": "b5bcc5a3-d58d-4cec-ac05-5f74fff335c8",
   "metadata": {},
   "source": [
    "#Q1. You are writing code for a company. The requirement of the company is that you create a python\n",
    "function that will check whether the password entered by the user is correct or not. The function should\n",
    "take the password as input and return the string “Valid Password” if the entered password follows the\n",
    "below-given password guidelines else it should return “Invalid Password”.\n",
    "Note: 1. The Password should contain at least two uppercase letters and at least two lowercase letters.\n",
    "2. The Password should contain at least a number and three special characters.\n",
    "3. The length of the password should be 10 characters long.\n"
   ]
  },
  {
   "cell_type": "code",
   "execution_count": 8,
   "id": "82ac4142-c98b-414f-ada9-77a2acef1c73",
   "metadata": {},
   "outputs": [],
   "source": [
    "def check_password(password):\n",
    "    if len(password) !=10:\n",
    "        return \"Invalid Password\"\n",
    "    \n",
    "    uppercase_count = sum(1 for c in password if c.isupper())\n",
    "    lowercase_coumt = sum(1 for c in password if c.islower())\n",
    "    if uppercase_count < 2 or lowercase_count<2:\n",
    "         return \"Invalid password\"\n",
    "        \n",
    "    digit_count = sum(1 for c in password if c.isdigit()) \n",
    "    special_count =sum(1 for c in password if not c.isalnum())\n",
    "    if digit_count <1 or special_count <3:\n",
    "        return \"Ivalid password\"\n",
    "    \n",
    "    \n",
    "    return \"Valid Password\"\n"
   ]
  },
  {
   "cell_type": "code",
   "execution_count": 9,
   "id": "659cf01c-1b98-4bb9-a59b-fec4c01bc426",
   "metadata": {},
   "outputs": [],
   "source": [
    "def check_password(password):\n",
    "    # Check if the length of the password is 10 characters long\n",
    "    if len(password) != 10:\n",
    "        return \"Invalid Password\"\n",
    "\n",
    "    # Check if the password contains at least two uppercase letters and two lowercase letters\n",
    "    uppercase_count = sum(1 for c in password if c.isupper())\n",
    "    lowercase_count = sum(1 for c in password if c.islower())\n",
    "    if uppercase_count < 2 or lowercase_count < 2:\n",
    "        return \"Invalid Password\"\n",
    "\n",
    "    # Check if the password contains at least a number and three special characters\n",
    "    digit_count = sum(1 for c in password if c.isdigit())\n",
    "    special_count = sum(1 for c in password if not c.isalnum())\n",
    "    if digit_count < 1 or special_count < 3:\n",
    "        return \"Invalid Password\"\n",
    "\n",
    "    return \"Valid Password\"\n"
   ]
  },
  {
   "cell_type": "code",
   "execution_count": 42,
   "id": "6f04042c-8051-4365-a4ca-77307e30cb5f",
   "metadata": {},
   "outputs": [],
   "source": [
    "def check_password(password):\n",
    "    import re\n",
    "    \n",
    "    # Check length of password\n",
    "    if len(password) != 10:\n",
    "        return \"Invalid Password\"\n",
    "    \n",
    "    # Check for two uppercase letters\n",
    "    if not re.search(r'[A-Z]{2,}', password):\n",
    "        return \"Invalid Password\"\n",
    "    \n",
    "    # Check for two lowercase letters\n",
    "    if not re.search(r'[a-z]{2,}', password):\n",
    "        return \"Invalid Password\"\n",
    "    \n",
    "    # Check for a number\n",
    "    if not re.search(r'\\d', password):\n",
    "        return \"Invalid Password\"\n",
    "    \n",
    "    # Check for three special characters\n",
    "    if not re.search(r'[!@#$%^&*(),.?\":{}|<>]{3,}', password):\n",
    "        return \"Invalid Password\"\n",
    "    \n",
    "    return \"Valid Password\"\n"
   ]
  },
  {
   "cell_type": "code",
   "execution_count": 43,
   "id": "24f35b82-51d4-4b10-9548-ec258e81f2a0",
   "metadata": {},
   "outputs": [],
   "source": [
    "#lambdan function\n",
    "import re\n",
    "check_password = lambda password: \"Valid Password\" if (len(password) == 10 and re.search(r'[A-Z]{2,}', password) and re.search(r'[a-z]{2,}', password) and re.search(r'\\d', password) and re.search(r'[!@#$%^&*(),.?\":{}|<>]{3,}', password)) else \"Invalid Password\"\n"
   ]
  },
  {
   "cell_type": "code",
   "execution_count": 36,
   "id": "01b98308-6274-4993-9de6-ad850feb43c3",
   "metadata": {},
   "outputs": [
    {
     "name": "stdout",
     "output_type": "stream",
     "text": [
      "[4, 16, 36, 64, 100]\n"
     ]
    }
   ],
   "source": [
    "numbers = [1, 2, 3, 4, 5, 6, 7, 8, 9, 10]\n",
    "squared_even_numbers = [x**2 for x in numbers if x % 2 == 0]\n",
    "print(squared_even_numbers)\n",
    "\n",
    "# Output: [4, 16, 36, 64, 100]\n"
   ]
  },
  {
   "cell_type": "markdown",
   "id": "d106a4d2-476c-4092-ad2c-df05174a854d",
   "metadata": {},
   "source": [
    "#Q2. Solve the below-given questions using at least one of the following:\n",
    "1. Lambda functioJ\n",
    "2. Filter functioJ\n",
    "3. Zap functioJ\n",
    "4. List ComprehensioI\n",
    "B Check if the string starts with a particular letterY\n",
    "B Check if the string is numericY\n",
    "B Sort a list of tuples having fruit names and their quantity. [(\"mango\",99),(\"orange\",80), (\"grapes\", 1000)-\n",
    "B Find the squares of numbers from 1 to 10Y\n",
    "B Find the cube root of numbers from 1 to 10Y\n",
    "B Check if a given number is evenY\n",
    "B Filter odd numbers from the given list.\n",
    "[1,2,3,4,5,6,7,8,9,10-\n",
    "B Sort a list of integers into positive and negative integers lists.\n",
    "[1,2,3,4,5,6,-1,-2,-3,-4,-5,0]"
   ]
  },
  {
   "cell_type": "code",
   "execution_count": 28,
   "id": "00a51ea9-7d47-40de-8ecf-208ee486f707",
   "metadata": {},
   "outputs": [],
   "source": [
    "lst=[1,2,3,4,5,6,7,8,9,10]"
   ]
  },
  {
   "cell_type": "code",
   "execution_count": 29,
   "id": "37985185-d66a-4b01-a9ca-8fd5144cbb14",
   "metadata": {},
   "outputs": [],
   "source": [
    "starts_with = lambda x, letter: True if x.startswith(letter) else False\n"
   ]
  },
  {
   "cell_type": "code",
   "execution_count": 30,
   "id": "c8f0a4f6-1a3c-473e-ad4e-4f6fc3b9365f",
   "metadata": {},
   "outputs": [],
   "source": [
    "is_numeric = lambda x: x.isdigit()\n"
   ]
  },
  {
   "cell_type": "code",
   "execution_count": 31,
   "id": "7b8b2136-2e32-42d4-bd30-43bd0a716f60",
   "metadata": {},
   "outputs": [],
   "source": [
    "fruits = [(\"mango\", 99), (\"orange\", 80), (\"grapes\", 1000)]\n",
    "sorted_fruits = sorted(fruits, key=lambda x: x[1])\n"
   ]
  },
  {
   "cell_type": "code",
   "execution_count": 32,
   "id": "5a5fad26-c80d-4fb4-b04b-edfd2cad768d",
   "metadata": {},
   "outputs": [],
   "source": [
    "numbers = [1, 2, 3, 4, 5, 6, 7, 8, 9, 10]\n",
    "squared_numbers = [x**2 for x in numbers]\n"
   ]
  },
  {
   "cell_type": "code",
   "execution_count": 7,
   "id": "7c6d6b28-219c-4dfa-a6b6-19acc6c36720",
   "metadata": {},
   "outputs": [],
   "source": [
    "import math\n",
    "numbers = [1, 2, 3, 4, 5, 6, 7, 8, 9, 10]\n",
    "cuberoot_numbers = [math.pow(x, 1/3) for x in numbers]"
   ]
  },
  {
   "cell_type": "code",
   "execution_count": 6,
   "id": "26064b17-7ac2-470c-8614-7c01c5408431",
   "metadata": {},
   "outputs": [],
   "source": [
    "is_even = (lambda x: True if x % 2 == 0 else False)"
   ]
  },
  {
   "cell_type": "code",
   "execution_count": 4,
   "id": "ea6149c1-e3e7-4807-9044-003fb43da3ae",
   "metadata": {},
   "outputs": [],
   "source": [
    "numbers = [1, 2, 3, 4, 5, 6, 7, 8, 9, 10]\n",
    "odd_numbers = list(filter(lambda x: x % 2 != 0, numbers))"
   ]
  },
  {
   "cell_type": "code",
   "execution_count": 45,
   "id": "a66a04bc-3ca1-47df-87b4-8db8faff45a6",
   "metadata": {},
   "outputs": [],
   "source": [
    "numbers = [1, 2, 3, 4, 5, 6, -1, -2, -3, -4, -5, 0]\n",
    "positive_numbers = list(filter(lambda x: x > 0, numbers))\n",
    "negative_numbers = list(filter(lambda x: x < 0, numbers))"
   ]
  },
  {
   "cell_type": "code",
   "execution_count": 46,
   "id": "769a3807-0b47-47e9-a088-bc39bb890bb6",
   "metadata": {},
   "outputs": [],
   "source": [
    "numbers = [1, 2, 3, 4, 5, 6, -1, -2, -3, -4, -5, 0]"
   ]
  },
  {
   "cell_type": "code",
   "execution_count": 3,
   "id": "65c4cbb0-3fbf-435d-a977-c0b7279cd2f0",
   "metadata": {},
   "outputs": [],
   "source": [
    "numbers = [1, 2, 3, 4, 5, 6, -1, -2, -3, -4, -5, 0]\n",
    "positive_numbers = list(filter(lambda x: x > 0, numbers))\n",
    "negative_numbers = list(filter(lambda x: x < 0, numbers))"
   ]
  },
  {
   "cell_type": "code",
   "execution_count": null,
   "id": "9276b98a-9b4b-450d-9a0b-929b4d90ef66",
   "metadata": {},
   "outputs": [],
   "source": []
  }
 ],
 "metadata": {
  "kernelspec": {
   "display_name": "Python 3 (ipykernel)",
   "language": "python",
   "name": "python3"
  },
  "language_info": {
   "codemirror_mode": {
    "name": "ipython",
    "version": 3
   },
   "file_extension": ".py",
   "mimetype": "text/x-python",
   "name": "python",
   "nbconvert_exporter": "python",
   "pygments_lexer": "ipython3",
   "version": "3.10.8"
  }
 },
 "nbformat": 4,
 "nbformat_minor": 5
}
