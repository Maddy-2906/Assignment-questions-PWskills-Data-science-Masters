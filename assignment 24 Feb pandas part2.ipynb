{
 "cells": [
  {
   "cell_type": "markdown",
   "id": "b88a2e27-42a7-45fc-adfd-433e2f350704",
   "metadata": {},
   "source": [
    "#### Q1. List any five functions of the pandas library with execution."
   ]
  },
  {
   "cell_type": "markdown",
   "id": "dc8e2b26-4272-4a71-ad0c-ed5563eb890e",
   "metadata": {},
   "source": [
    "#### read_csv(): This function is used to read a CSV (comma-separated values) file and return a pandas DataFrame object."
   ]
  },
  {
   "cell_type": "code",
   "execution_count": 2,
   "id": "25f8f54c-8442-47e9-a132-d215cc276366",
   "metadata": {},
   "outputs": [
    {
     "name": "stdout",
     "output_type": "stream",
     "text": [
      "   id  location_id  program_id accepted_payments alternate_name  \\\n",
      "0   1            1         NaN               NaN            NaN   \n",
      "1   2            2         NaN               NaN            NaN   \n",
      "2   3            3         NaN               NaN            NaN   \n",
      "3   4            4         NaN               NaN            NaN   \n",
      "4   5            5         NaN               NaN            NaN   \n",
      "\n",
      "                           application_process  \\\n",
      "0                   Walk in or apply by phone.   \n",
      "1           Apply by phone for an appointment.   \n",
      "2  Phone for information (403-4300 Ext. 4322).   \n",
      "3                              Apply by phone.   \n",
      "4                       Phone for information.   \n",
      "\n",
      "                                            audience  \\\n",
      "0  Older adults age 55 or over, ethnic minorities...   \n",
      "1       Residents of San Mateo County age 55 or over   \n",
      "2  Older adults age 55 or over who can benefit fr...   \n",
      "3  Parents, children, families with problems of c...   \n",
      "4  Low-income working families with children tran...   \n",
      "\n",
      "                                         description  \\\n",
      "0  A walk-in center for older adults that provide...   \n",
      "1  Provides training and job placement to eligibl...   \n",
      "2  Offers supportive counseling services to San M...   \n",
      "3  Provides supervised visitation services and a ...   \n",
      "4  Provides fixed 8% short term loans to eligible...   \n",
      "\n",
      "                                         eligibility email  ...  \\\n",
      "0  Age 55 or over for most programs, age 60 or ov...   NaN  ...   \n",
      "1  Age 55 or over, county resident and willing an...   NaN  ...   \n",
      "2        Resident of San Mateo County age 55 or over   NaN  ...   \n",
      "3                                               None   NaN  ...   \n",
      "4  Eligibility: Low-income family with legal cust...   NaN  ...   \n",
      "\n",
      "  interpretation_services                                           keywords  \\\n",
      "0                     NaN  ADULT PROTECTION AND CARE SERVICES, Meal Sites...   \n",
      "1                     NaN  EMPLOYMENT/TRAINING SERVICES, Job Development,...   \n",
      "2                     NaN  Geriatric Counseling, Older Adults, Gay, Lesbi...   \n",
      "3                     NaN  INDIVIDUAL AND FAMILY DEVELOPMENT SERVICES, Gr...   \n",
      "4                     NaN     COMMUNITY SERVICES, Speakers, Automobile Loans   \n",
      "\n",
      "  languages                               name required_documents  \\\n",
      "0       NaN    Fair Oaks Adult Activity Center                NaN   \n",
      "1       NaN   Second Career Employment Program                NaN   \n",
      "2       NaN             Senior Peer Counseling                NaN   \n",
      "3       NaN           Family Visitation Center                NaN   \n",
      "4       NaN  Economic Self-Sufficiency Program                NaN   \n",
      "\n",
      "      service_areas  status wait_time website taxonomy_ids  \n",
      "0             Colma  active  No wait.     NaN          NaN  \n",
      "1  San Mateo County  active   Varies.     NaN          NaN  \n",
      "2  San Mateo County  active   Varies.     NaN          NaN  \n",
      "3  San Mateo County  active  No wait.     NaN          NaN  \n",
      "4  San Mateo County  active       NaN     NaN          NaN  \n",
      "\n",
      "[5 rows x 22 columns]\n"
     ]
    }
   ],
   "source": [
    "import pandas as pd\n",
    "\n",
    "# read a CSV file into a DataFrame object\n",
    "df = pd.read_csv('services.csv')\n",
    "\n",
    "# print the first 5 rows of the DataFrame\n",
    "print(df.head())\n"
   ]
  },
  {
   "cell_type": "markdown",
   "id": "ee9155e0-78e7-452d-b0f7-fede60f77ca0",
   "metadata": {},
   "source": [
    "#### groupby(): This function is used to group the rows of a DataFrame based on the values in one or more columns."
   ]
  },
  {
   "cell_type": "code",
   "execution_count": 3,
   "id": "a2012654-eddc-488e-9586-4bc7b1b4e1ca",
   "metadata": {},
   "outputs": [
    {
     "name": "stdout",
     "output_type": "stream",
     "text": [
      "          age  score\n",
      "name                \n",
      "Alice    32.5   87.5\n",
      "Bob      37.5   90.0\n",
      "Charlie  42.5   82.5\n"
     ]
    }
   ],
   "source": [
    "import pandas as pd\n",
    "\n",
    "# create a DataFrame object\n",
    "data = {\n",
    "    'name': ['Alice', 'Bob', 'Charlie', 'Alice', 'Bob', 'Charlie'],\n",
    "    'age': [25, 30, 35, 40, 45, 50],\n",
    "    'score': [80, 90, 85, 95, 90, 80]\n",
    "}\n",
    "df = pd.DataFrame(data)\n",
    "\n",
    "# group the DataFrame by the 'name' column and calculate the mean of each group\n",
    "grouped = df.groupby('name').mean()\n",
    "\n",
    "# print the resulting DataFrame\n",
    "print(grouped)\n"
   ]
  },
  {
   "cell_type": "markdown",
   "id": "b7918af5-0c0a-47b2-9ab5-e3ad2fd478ef",
   "metadata": {},
   "source": [
    "#### concat(): This function is used to concatenate two or more DataFrames vertically or horizontally."
   ]
  },
  {
   "cell_type": "code",
   "execution_count": 4,
   "id": "9d8d70b5-7d46-4a11-80df-f7be5ee2a1ac",
   "metadata": {},
   "outputs": [
    {
     "name": "stdout",
     "output_type": "stream",
     "text": [
      "   A  B\n",
      "0  1  4\n",
      "1  2  5\n",
      "2  3  6\n",
      "0  4  7\n",
      "1  5  8\n",
      "2  6  9\n"
     ]
    }
   ],
   "source": [
    "import pandas as pd\n",
    "\n",
    "# create two DataFrame objects\n",
    "df1 = pd.DataFrame({'A': [1, 2, 3], 'B': [4, 5, 6]})\n",
    "df2 = pd.DataFrame({'A': [4, 5, 6], 'B': [7, 8, 9]})\n",
    "\n",
    "# concatenate the two DataFrames vertically\n",
    "result = pd.concat([df1, df2])\n",
    "\n",
    "# print the resulting DataFrame\n",
    "print(result)\n"
   ]
  },
  {
   "cell_type": "markdown",
   "id": "a4f7913c-0992-458f-a4cd-1fedb305a7d3",
   "metadata": {},
   "source": [
    "#### drop(): This function is used to remove one or more rows or columns from a DataFrame."
   ]
  },
  {
   "cell_type": "code",
   "execution_count": 5,
   "id": "ede05441-14bf-411a-bdf4-131e2f9be269",
   "metadata": {},
   "outputs": [
    {
     "name": "stdout",
     "output_type": "stream",
     "text": [
      "      name  age\n",
      "0    Alice   25\n",
      "1      Bob   30\n",
      "2  Charlie   35\n"
     ]
    }
   ],
   "source": [
    "import pandas as pd\n",
    "\n",
    "# create a DataFrame object\n",
    "data = {\n",
    "    'name': ['Alice', 'Bob', 'Charlie'],\n",
    "    'age': [25, 30, 35],\n",
    "    'score': [80, 90, 85]\n",
    "}\n",
    "df = pd.DataFrame(data)\n",
    "\n",
    "# drop the 'score' column from the DataFrame\n",
    "df = df.drop('score', axis=1)\n",
    "\n",
    "# print the resulting DataFrame\n",
    "print(df)\n"
   ]
  },
  {
   "cell_type": "markdown",
   "id": "f799d591-54d1-4635-901c-dd7cd3c4b8d8",
   "metadata": {},
   "source": [
    "#### fillna(): This function is used to fill missing values in a DataFrame with a specified value or method."
   ]
  },
  {
   "cell_type": "code",
   "execution_count": 6,
   "id": "9808d1fa-67f3-46ba-b860-a41055704bc3",
   "metadata": {},
   "outputs": [
    {
     "name": "stdout",
     "output_type": "stream",
     "text": [
      "     A    B  C\n",
      "0  1.0  4.0  7\n",
      "1  2.0  4.0  8\n",
      "2  0.0  4.0  9\n"
     ]
    }
   ],
   "source": [
    "import pandas as pd\n",
    "import numpy as np\n",
    "\n",
    "# create a DataFrame object with missing values\n",
    "data = {\n",
    "    'A': [1, 2, np.nan],\n",
    "    'B': [4, np.nan, np.nan],\n",
    "    'C': [7, 8, 9]\n",
    "}\n",
    "df = pd.DataFrame(data)\n",
    "\n",
    "# fill the missing values in column 'A' with 0\n",
    "df['A'] = df['A'].fillna(0)\n",
    "\n",
    "# fill the missing values in column 'B' with the mean of column 'B'\n",
    "df['B'] = df['B'].fillna(df['B'].mean())\n",
    "\n",
    "# print the resulting DataFrame\n",
    "print(df)\n"
   ]
  },
  {
   "cell_type": "markdown",
   "id": "2e632c21-1bfb-4339-9f0b-c8ca4fd2afe7",
   "metadata": {},
   "source": [
    "#### Q2. Given a Pandas DataFrame df with columns 'A', 'B', and 'C', write a Python function to re-index the DataFrame with a new index that starts from 1 and increments by 2 for each row."
   ]
  },
  {
   "cell_type": "code",
   "execution_count": 19,
   "id": "85ca8cda-c040-4a95-b6d6-b44171a4f7ad",
   "metadata": {},
   "outputs": [
    {
     "name": "stdout",
     "output_type": "stream",
     "text": [
      "   A  B  C\n",
      "1  1  4  7\n",
      "3  2  5  8\n",
      "5  3  6  9\n"
     ]
    }
   ],
   "source": [
    "import pandas as pd\n",
    "\n",
    "def reindex_df(df):\n",
    "    \"\"\"\n",
    "    Re-indexes a Pandas DataFrame with a new index that starts from 1\n",
    "    and increments by 2 for each row.\n",
    "    \"\"\"\n",
    "    # get the number of rows in the DataFrame\n",
    "    num_rows = df.shape[0]\n",
    "    \n",
    "    # create a new index using the range function and multiply by 2\n",
    "    new_index = range(1, num_rows * 2, 2)\n",
    "    \n",
    "    # set the new index on the DataFrame\n",
    "    df.index = new_index\n",
    "    \n",
    "    # return the updated DataFrame\n",
    "    return df\n",
    "# create a sample DataFrame\n",
    "df = pd.DataFrame({'A': [1, 2, 3], 'B': [4, 5, 6], 'C': [7, 8, 9]})\n",
    "\n",
    "# call the reindex_df function\n",
    "df = reindex_df(df)\n",
    "\n",
    "# print the updated DataFrame\n",
    "print(df)\n"
   ]
  },
  {
   "cell_type": "code",
   "execution_count": 8,
   "id": "ce9677e9-119f-4634-a0cf-13a297826a0f",
   "metadata": {},
   "outputs": [
    {
     "name": "stdout",
     "output_type": "stream",
     "text": [
      "   A  B  C\n",
      "1  1  4  7\n",
      "3  2  5  8\n",
      "5  3  6  9\n"
     ]
    }
   ],
   "source": [
    "# create a sample DataFrame\n",
    "df = pd.DataFrame({'A': [1, 2, 3], 'B': [4, 5, 6], 'C': [7, 8, 9]})\n",
    "\n",
    "# call the reindex_df function\n",
    "df = reindex_df(df)\n",
    "\n",
    "# print the updated DataFrame\n",
    "print(df)\n"
   ]
  },
  {
   "cell_type": "markdown",
   "id": "268d63a3-8352-4841-b805-beb066cb38ef",
   "metadata": {},
   "source": [
    "#### Q3. You have a Pandas DataFrame df with a column named 'Values'. Write a Python function that iterates over the DataFrame and calculates the sum of the first three values in the 'Values' column. Thefunction should print the sum to the console.For example, if the 'Values' column of df contains the values [10, 20, 30, 40, 50], your function shouldcalculate and print the sum of the first three values, which is 60."
   ]
  },
  {
   "cell_type": "code",
   "execution_count": 21,
   "id": "5d4f469b-0020-4e7b-8b57-7bf6d0f2f6aa",
   "metadata": {},
   "outputs": [
    {
     "name": "stdout",
     "output_type": "stream",
     "text": [
      "The sum of the first three values in the \"Values\" column is: 60\n"
     ]
    }
   ],
   "source": [
    "import pandas as pd\n",
    "\n",
    "def sum_first_three(df):\n",
    "    \"\"\"\n",
    "    Iterates over a Pandas DataFrame and calculates the sum of the first three\n",
    "    values in the 'Values' column. Prints the sum to the console.\n",
    "    \"\"\"\n",
    "    # initialize a variable to hold the sum\n",
    "    total = 0\n",
    "    \n",
    "    # iterate over the first three rows of the DataFrame\n",
    "    for i in range(3):\n",
    "        # add the value in the 'Values' column to the total\n",
    "        total += df.loc[i, 'Values']\n",
    "    \n",
    "    # print the total to the console\n",
    "    print('The sum of the first three values in the \"Values\" column is:', total)\n",
    "    # create a sample DataFrame\n",
    "df = pd.DataFrame({'Values': [10, 20, 30, 40, 50]})\n",
    "\n",
    "# call the sum_first_three function\n",
    "sum_first_three(df)\n",
    "\n",
    "\n",
    "    "
   ]
  },
  {
   "cell_type": "code",
   "execution_count": 20,
   "id": "ca0515aa-8192-4377-96b4-fa505a212b66",
   "metadata": {},
   "outputs": [
    {
     "name": "stdout",
     "output_type": "stream",
     "text": [
      "The sum of the first three values in the \"Values\" column is: 60\n"
     ]
    }
   ],
   "source": [
    "# create a sample DataFrame\n",
    "df = pd.DataFrame({'Values': [10, 20, 30, 40, 50]})\n",
    "\n",
    "# call the sum_first_three function\n",
    "sum_first_three(df)\n"
   ]
  },
  {
   "cell_type": "markdown",
   "id": "1f165867-6860-40d7-8933-c648f9d29e2c",
   "metadata": {},
   "source": [
    "#### Q4. Given a Pandas DataFrame df with a column 'Text', write a Python function to create a new column'Word_Count' that contains the number of words in each row of the 'Text' column."
   ]
  },
  {
   "cell_type": "code",
   "execution_count": 26,
   "id": "95afd2c6-d32e-40c1-a5fb-020d2b4ba0c8",
   "metadata": {},
   "outputs": [
    {
     "name": "stdout",
     "output_type": "stream",
     "text": [
      "              Text  Word_Count\n",
      "0    Hello, world!           2\n",
      "1  This is a test.           4\n",
      "2   I like pandas.           3\n"
     ]
    }
   ],
   "source": [
    "import pandas as pd\n",
    "\n",
    "def add_word_count(df):\n",
    "    \"\"\"\n",
    "    Creates a new column in a Pandas DataFrame named 'Word_Count', containing the\n",
    "    number of words in each row of the 'Text' column.\n",
    "    \"\"\"\n",
    "    # use the apply method to create a new column containing the word count for each row\n",
    "    df['Word_Count'] = df['Text'].apply(lambda x: len(str(x).split()))\n",
    "    \n",
    "    # return the updated DataFrame\n",
    "    return df\n",
    "\n",
    "# create a sample DataFrame\n",
    "df = pd.DataFrame({'Text': ['Hello, world!', 'This is a test.', 'I like pandas.']})\n",
    "\n",
    "# call the add_word_count function\n",
    "df = add_word_count(df)\n",
    "\n",
    "# print the updated DataFrame\n",
    "print(df)\n",
    "\n"
   ]
  },
  {
   "cell_type": "code",
   "execution_count": 25,
   "id": "c50114e7-cdd3-41d9-a414-ddf06eba83e7",
   "metadata": {},
   "outputs": [
    {
     "name": "stdout",
     "output_type": "stream",
     "text": [
      "              Text  Word_Count\n",
      "0    Hello, world!           2\n",
      "1  This is a test.           4\n",
      "2   I like pandas.           3\n"
     ]
    }
   ],
   "source": [
    "# create a sample DataFrame\n",
    "df = pd.DataFrame({'Text': ['Hello, world!', 'This is a test.', 'I like pandas.']})\n",
    "\n",
    "# call the add_word_count function\n",
    "df = add_word_count(df)\n",
    "\n",
    "# print the updated DataFrame\n",
    "print(df)\n"
   ]
  },
  {
   "cell_type": "markdown",
   "id": "babdc986-e8e9-49cc-8c27-c3c9b1202f39",
   "metadata": {},
   "source": [
    "#### Q5. How are DataFrame.size() and DataFrame.shape() different?\n",
    "\n",
    "#### Ans:-DataFrame.size() and DataFrame.shape() are both methods of Pandas DataFrame, but they return different values:\n",
    "\n",
    "#### DataFrame.size(): This method returns the total number of elements in the DataFrame, which is equal to the number of rows multiplied by the number of columns. In other words, it returns the total number of cells in the DataFrame. The return value of DataFrame.size() is an integer.\n",
    "\n",
    "#### DataFrame.shape(): This method returns a tuple containing the number of rows and columns in the DataFrame, in that order. In other words, it returns the dimensions of the DataFrame. The return value of DataFrame.shape() is a tuple of integers."
   ]
  },
  {
   "cell_type": "code",
   "execution_count": 27,
   "id": "4b91ae4b-7509-4a83-87e5-a56314294221",
   "metadata": {},
   "outputs": [
    {
     "name": "stdout",
     "output_type": "stream",
     "text": [
      "Size of DataFrame: 9\n",
      "Shape of DataFrame: (3, 3)\n"
     ]
    }
   ],
   "source": [
    "#difference between DataFrame.size() and DataFrame.shape():\n",
    "import pandas as pd\n",
    "\n",
    "# create a sample DataFrame\n",
    "df = pd.DataFrame({'A': [1, 2, 3], 'B': [4, 5, 6], 'C': [7, 8, 9]})\n",
    "\n",
    "# print the size of the DataFrame\n",
    "print('Size of DataFrame:', df.size)\n",
    "\n",
    "# print the shape of the DataFrame\n",
    "print('Shape of DataFrame:', df.shape)\n"
   ]
  },
  {
   "cell_type": "markdown",
   "id": "f5d5aee0-48a7-42c3-bb65-1a824791956f",
   "metadata": {},
   "source": [
    "#### Q6. Which function of pandas do we use to read an excel file?\n",
    "\n",
    "#### Ans:-read an Excel file into a Pandas DataFrame, we use the read_excel() function provided by Pandas."
   ]
  },
  {
   "cell_type": "code",
   "execution_count": 28,
   "id": "7d6cd84a-a3b3-4c55-b25b-4465336aded7",
   "metadata": {},
   "outputs": [
    {
     "name": "stdout",
     "output_type": "stream",
     "text": [
      "    Part Code                                   Part Description  INUK024  \\\n",
      "0     4816133  Packaged VOOC Cable DL129 White VOOC Cable USB...     21.0   \n",
      "1     4907039            Screen OPPO F19/OPPO A74 for Aftersales      1.0   \n",
      "2     4130179  Screen OPPO Reno7/OPPO F21 Pro (CPH2363) OLED ...      9.0   \n",
      "3     4908343                    Screen OPPO F19s for Aftersales      9.0   \n",
      "4     4908793  Screen OPPO Reno5 F/F19 Pro/Reno5 Lite/A94(5% ...      9.0   \n",
      "5     4902859                                     Touch With LCD      3.0   \n",
      "6     5473745  The power adapter @DC9V2A OP92CAIN USB socket ...      2.0   \n",
      "7     4905499   Screen F17/A73(CPH2095/CPH2099) for Aftersales-1     15.0   \n",
      "8     4903313                                     Touch With LCD      3.0   \n",
      "9     4905106                                Screen OPPO A53 16M      1.0   \n",
      "10    4130256  Screen OPPO Reno8 5G(PGBM10/CPH2359) OLED SDC ...     10.0   \n",
      "11    4906115  Screen A5s Red/Blue/Gold/Black General purpose...      NaN   \n",
      "12    4130040  Screen OPPO Reno7 5G/OPPO Find X5 Lite (CPH237...      3.0   \n",
      "13    4904079       Touch With LCD A12 Blue/Black for aftersales      1.0   \n",
      "14    4904027                                  ScreenFA142 Black      NaN   \n",
      "15    4907272  Screen OPPO A15&A15s(CPH2185&CPH2179) for afte...      5.0   \n",
      "16    4908581            Screen OPPO A55(CPH2325) for Aftersales      4.0   \n",
      "17    2181180  Micro cable 1m USB male/Micro DL125 white OPP ...     26.0   \n",
      "18    4903328              Touch With LCD A91/F15 for Aftersales     14.0   \n",
      "19    4908719  Screen OPPO A94 5G/Reno5 Z/F19 Pro+(5% glue am...      5.0   \n",
      "20    4907749  Screen OPPO Reno6 5G Black/Stellar Black for A...      1.0   \n",
      "21    4130240  Cover as-screen OPPO A57/A77(CPH2387/CPH2385) ...      3.0   \n",
      "22    4907222                           Screen OPPO A54(CPH2239)      3.0   \n",
      "23    4130358  Cover as-screen OPPO A17/A17k (CPH2471/CPH2477...      1.0   \n",
      "24    4130316  Screen OPPO F21s Pro 5G/OPPO Reno8 Z 5G（CPH245...      2.0   \n",
      "25    4130059  Screen OPPO A96&OPPO K10 (CPH2333/CPH2373) Gla...      NaN   \n",
      "26    5474225  Mobile phone adapter @DC11V 7.3A VCB8GAIH USB3...      NaN   \n",
      "27    4908943        Screen OPPO A16k(CPH2349/51) for Aftersales      1.0   \n",
      "28    4909108  Screen OPPO Reno7 Pro 5G(PFDM00/CPH2293) Start...      NaN   \n",
      "29    4130264  Screen OPPO Reno8 Pro+/21301 (PFZM10/CPH2357) ...      1.0   \n",
      "30    5473234  The power adapter @DC5V 2A OP52CBIN USB Female...      1.0   \n",
      "31    5474224  Mobile phone adapter @DC10V 6.5A VCA7GCIH USB3...      4.0   \n",
      "32    5473904  The power adapter @DC5V 6A VC56CAIN USB3.0 whi...      2.0   \n",
      "33    8550445                                           Earphone      6.0   \n",
      "34    4904988                                     Screen F17 Pro      8.0   \n",
      "35    4907752   Screen OPPO Reno6 5G Green/Aurora for Aftersales      3.0   \n",
      "36    4110009  Screen OPPO A36 (PESM10) Glass BOE/Helitai Bal...      1.0   \n",
      "37    4130035  Screen OPPO F21 Pro 5G/OPPO Reno7 Z 5G/OPPO Re...      1.0   \n",
      "38    5474053  The power adapter @DC11V 3A VCB3GAIN USB3.0 wh...      1.0   \n",
      "39    5473404                                      Power adapter      3.0   \n",
      "40    4807578  packed earphone MH135  typeCplug single line w...      6.0   \n",
      "41    4816132      Packaged  Cable DL143 White USB-A to USB-C IN      NaN   \n",
      "\n",
      "    INUK025  stk  PO  actual PO  \n",
      "0      10.0    6  -4         10  \n",
      "1       3.0    0  -3          2  \n",
      "2       4.0    1  -3          2  \n",
      "3       2.0    0  -2          2  \n",
      "4       2.0    0  -2          2  \n",
      "5       2.0    0  -2          1  \n",
      "6       2.0    0  -2          4  \n",
      "7       3.0    2  -1          4  \n",
      "8       2.0    1  -1          1  \n",
      "9       1.0    0  -1          1  \n",
      "10      1.0    0  -1          2  \n",
      "11      1.0    0  -1          1  \n",
      "12      1.0    0  -1          2  \n",
      "13      1.0    0  -1          1  \n",
      "14      1.0    0  -1          1  \n",
      "15      2.0    1  -1          1  \n",
      "16      1.0    0  -1          1  \n",
      "17      6.0    5  -1          5  \n",
      "18      2.0    2   0          3  \n",
      "19      1.0    1   0          2  \n",
      "20      NaN    0   0          1  \n",
      "21      1.0    1   0          1  \n",
      "22      NaN    0   0          1  \n",
      "23      NaN    0   0          1  \n",
      "24      NaN    0   0          1  \n",
      "25      NaN    0   0          1  \n",
      "26      NaN    0   0          2  \n",
      "27      NaN    0   0          1  \n",
      "28      NaN    0   0          1  \n",
      "29      NaN    0   0          1  \n",
      "30      NaN    0   0          4  \n",
      "31      1.0    1   0          2  \n",
      "32      NaN    0   0          5  \n",
      "33      5.0    5   0          5  \n",
      "34      1.0    2   1          2  \n",
      "35      NaN    1   1          1  \n",
      "36      NaN    1   1          1  \n",
      "37      1.0    2   1          1  \n",
      "38      NaN    2   2          3  \n",
      "39      NaN    2   2          2  \n",
      "40      NaN    2   2          5  \n",
      "41      1.0    4   3         10  \n"
     ]
    }
   ],
   "source": [
    "import pandas as pd\n",
    "\n",
    "# read the Excel file into a DataFrame\n",
    "df = pd.read_excel('MSL PO RISHIKESH.xlsx')\n",
    "\n",
    "# print the DataFrame\n",
    "print(df)\n"
   ]
  },
  {
   "cell_type": "markdown",
   "id": "d2ae8db3-e58c-45a0-b914-3fcae37bc86b",
   "metadata": {},
   "source": [
    "#### Q7. You have a Pandas DataFrame df that contains a column named 'Email' that contains email addresses in the format 'username@domain.com'. Write a Python function that creates a new column'Username' in df that contains only the username part of each email address.The username is the part of the email address that appears before the '@' symbol. For example, if theemail address is 'john.doe@example.com', the 'Username' column should contain 'john.doe'. Your function should extract the username from each email address and store it in the new 'Username'column."
   ]
  },
  {
   "cell_type": "code",
   "execution_count": 29,
   "id": "a660bad2-b04c-4636-bb40-0d714fc29418",
   "metadata": {},
   "outputs": [
    {
     "name": "stdout",
     "output_type": "stream",
     "text": [
      "                      Email        Username\n",
      "0  mandeepnegikdw@gmail.com  mandeepnegikdw\n",
      "1    maddtnegiktd@gmail.com    maddtnegiktd\n",
      "2     anoymous.o6@gmail.com     anoymous.o6\n"
     ]
    }
   ],
   "source": [
    "import pandas as pd\n",
    "\n",
    "def extract_username(df):\n",
    "    # create a new column 'Username' by applying a lambda function to the 'Email' column\n",
    "    df['Username'] = df['Email'].apply(lambda x: x.split('@')[0])\n",
    "    \n",
    "    return df\n",
    "# create a sample DataFrame\n",
    "df = pd.DataFrame({'Email': ['mandeepnegikdw@gmail.com', 'maddtnegiktd@gmail.com', 'anoymous.o6@gmail.com']})\n",
    "\n",
    "# call the extract_username() function to extract the usernames and create a new column\n",
    "df = extract_username(df)\n",
    "\n",
    "# print the modified DataFrame\n",
    "print(df)\n"
   ]
  },
  {
   "cell_type": "code",
   "execution_count": 33,
   "id": "43068184-cccd-4cb2-8162-99f9504af0d5",
   "metadata": {},
   "outputs": [
    {
     "name": "stdout",
     "output_type": "stream",
     "text": [
      "                       Email       username\n",
      "0       john.doe@example.com       john.doe\n",
      "1        jon.doe@example.com        jon.doe\n",
      "2  john_cena.doe@example.com  john_cena.doe\n"
     ]
    }
   ],
   "source": [
    "import pandas as pd\n",
    "def extract_username(df):\n",
    "    df['username'] = df['Email'].apply (lambda x : x.split('@')[0])\n",
    "    return df\n",
    "df = pd.DataFrame({'Email':['john.doe@example.com','jon.doe@example.com','john_cena.doe@example.com']}) \n",
    "df = extract_username(df)\n",
    "print(df)"
   ]
  },
  {
   "cell_type": "markdown",
   "id": "49d984aa-6548-4dfe-a36a-ec3bf29877a1",
   "metadata": {},
   "source": [
    "#### Q8. You have a Pandas DataFrame df with columns 'A', 'B', and 'C'. Write a Python function that selectsall rows where the value in column 'A' is greater than 5 and the value in column 'B' is less than 10. Thefunction should return a new DataFrame that contains only the selected rows.For example, if df contains the following values\n",
    "* A B C\n",
    "* 0 3 5 1\n",
    "* 1 8 2 7\n",
    "* 2 6 9 4\n",
    "* 3 2 3 5\n",
    "* 4 9 1 2 \n",
    "#### Your function should select the following rows: \n",
    "* A B C\n",
    "* 1 8 2 7\n",
    "* 4 9 1 2\n",
    "#### The function should return a new DataFrame that contains only the selected rows."
   ]
  },
  {
   "cell_type": "code",
   "execution_count": 35,
   "id": "475614dc-029c-4ac9-8db5-41008269ad1a",
   "metadata": {},
   "outputs": [
    {
     "name": "stdout",
     "output_type": "stream",
     "text": [
      "   A  B  C\n",
      "1  8  2  7\n",
      "2  6  9  4\n",
      "4  9  1  2\n"
     ]
    }
   ],
   "source": [
    "import pandas as pd\n",
    "\n",
    "def select_rows(df):\n",
    "    # use boolean indexing to select rows where 'A' > 5 and 'B' < 10\n",
    "    selected_rows = df.loc[(df['A'] > 5) & (df['B'] < 10)]\n",
    "    \n",
    "    return selected_rows\n",
    "# create a sample DataFrame\n",
    "df = pd.DataFrame({'A': [3, 8, 6, 2, 9], 'B': [5, 2, 9, 3, 1], 'C': [1, 7, 4, 5, 2]})\n",
    "\n",
    "# call the select_rows() function to select the desired rows\n",
    "selected_rows = select_rows(df)\n",
    "\n",
    "# print the selected rows\n",
    "print(selected_rows)\n"
   ]
  },
  {
   "cell_type": "markdown",
   "id": "e366b538-9955-48e6-a95e-2012e9d0ff00",
   "metadata": {},
   "source": [
    "#### Q9. Given a Pandas DataFrame df with a column 'Values', write a Python function to calculate the mean,median, and standard deviation of the values in the 'Values' column."
   ]
  },
  {
   "cell_type": "code",
   "execution_count": 55,
   "id": "1dbb5131-c832-47fc-90b2-c478ca55aee6",
   "metadata": {},
   "outputs": [
    {
     "name": "stdout",
     "output_type": "stream",
     "text": [
      "Mean: 2.5\n",
      "Median: 2.5\n",
      "Standard deviation: 1.2909944487358056\n"
     ]
    }
   ],
   "source": [
    "import pandas as pd\n",
    "\n",
    "def calculate_stats(df):\n",
    "    mean = df['a'].mean()\n",
    "    median = df['a'].median()\n",
    "    std_dev = df['a'].std()\n",
    "    return mean, median, std_dev\n",
    "data = {\"a\":[1,2,3,4],\n",
    "       \"b\":[4,5,6,7],\n",
    "       \"c\":[\"sudh\" , \"krish\",\"hitesh\",\"navin\"]}\n",
    "df = pd.DataFrame(data,index = ['a','b','c','d'])\n",
    "\n",
    "mean, median, std_dev = calculate_stats(df)\n",
    "print('Mean:', mean)\n",
    "print('Median:', median)\n",
    "print('Standard deviation:', std_dev)"
   ]
  },
  {
   "cell_type": "code",
   "execution_count": 54,
   "id": "a3556212-d01a-4e85-bea6-643c1a876e57",
   "metadata": {},
   "outputs": [
    {
     "name": "stdout",
     "output_type": "stream",
     "text": [
      "Mean: 2.5\n",
      "Median: 2.5\n",
      "Standard deviation: 1.2909944487358056\n"
     ]
    }
   ],
   "source": [
    "import pandas as pd\n",
    "\n",
    "def calculate_stats(df):\n",
    "    mean = df['a'].mean()\n",
    "    median = df['a'].median()\n",
    "    std_dev = df['a'].std()\n",
    "    return mean, median, std_dev\n",
    "\n",
    "# create a sample DataFrame\n",
    "data = {\"a\": [1, 2, 3, 4],\n",
    "        \"b\": [4, 5, 6, 7],\n",
    "        \"c\": [\"sudh\", \"krish\", \"hitesh\", \"navin\"]}\n",
    "df = pd.DataFrame(data, index=['a', 'b', 'c','d'])\n",
    "\n",
    "# calculate statistics and print the results\n",
    "mean, median, std_dev = calculate_stats(df)\n",
    "print('Mean:', mean)\n",
    "print('Median:', median)\n",
    "print('Standard deviation:', std_dev)\n"
   ]
  },
  {
   "cell_type": "markdown",
   "id": "6768e2a2-101a-4ae9-9665-3db877b62b2d",
   "metadata": {},
   "source": [
    "#### Q10. Given a Pandas DataFrame df with a column 'Sales' and a column 'Date', write a Python function to create a new column 'MovingAverage' that contains the moving average of the sales for the past 7 days for each row in the DataFrame. The moving average should be calculated using a window of size 7 and should include the current day."
   ]
  },
  {
   "cell_type": "code",
   "execution_count": 58,
   "id": "b61ef897-fa26-452b-a065-225083e3459c",
   "metadata": {},
   "outputs": [
    {
     "name": "stdout",
     "output_type": "stream",
     "text": [
      "         Date  Sales  MovingAverage\n",
      "0  2022-02-01     10      10.000000\n",
      "1  2022-02-02     12      11.000000\n",
      "2  2022-02-03      8      10.000000\n",
      "3  2022-02-04     15      11.250000\n",
      "4  2022-02-05     20      13.000000\n",
      "5  2022-02-06     17      13.666667\n",
      "6  2022-02-07     22      14.857143\n",
      "7  2022-02-08     18      16.000000\n",
      "8  2022-02-09     13      16.142857\n",
      "9  2022-02-10     15      17.142857\n"
     ]
    }
   ],
   "source": [
    "import pandas as pd\n",
    "\n",
    "def moving_average(df):\n",
    "    window_size = 7\n",
    "    df['MovingAverage'] = df['Sales'].rolling(window=window_size, min_periods=1).mean()\n",
    "    return df\n",
    "df = pd.DataFrame({'Date': ['2022-02-01', '2022-02-02', '2022-02-03', '2022-02-04', '2022-02-05', '2022-02-06', '2022-02-07', '2022-02-08', '2022-02-09', '2022-02-10'], \n",
    "                   'Sales': [10, 12, 8, 15, 20, 17, 22, 18, 13, 15]})\n",
    "\n",
    "df = moving_average(df)\n",
    "\n",
    "print(df)\n"
   ]
  },
  {
   "cell_type": "markdown",
   "id": "b4a5e438-399e-45ed-9aa4-1b166af5920b",
   "metadata": {},
   "source": [
    "#### Q11. You have a Pandas DataFrame df with a column 'Date'. Write a Python function that creates a new\n",
    "column 'Weekday' in the DataFrame. The 'Weekday' column should contain the weekday name (e.g.\n",
    "Monday, Tuesday) corresponding to each date in the 'Date' column.\n",
    "For example, if df contains the following values:\n",
    "Date\n",
    "* 0 2023-01-01\n",
    "* 1 2023-01-02\n",
    "* 2 2023-01-03\n",
    "* 3 2023-01-04\n",
    "* 4 2023-01-05\n",
    "* Your function should create the following DataFrame:\n",
    "\n",
    "Date Weekday\n",
    "* 0 2023-01-01 Sunday\n",
    "* 1 2023-01-02 Monday\n",
    "* 2 2023-01-03 Tuesday\n",
    "* 3 2023-01-04 Wednesday\n",
    "* 4 2023-01-05 Thursday\n",
    "* The function should return the modified DataFrame."
   ]
  },
  {
   "cell_type": "code",
   "execution_count": 62,
   "id": "7aad07a9-c8b4-471b-b383-3d9ac37f5320",
   "metadata": {},
   "outputs": [
    {
     "name": "stdout",
     "output_type": "stream",
     "text": [
      "        Date  Weekday\n",
      "0 2023-01-01        6\n",
      "1 2023-01-02        0\n",
      "2 2023-01-03        1\n",
      "3 2023-01-04        2\n",
      "4 2023-01-05        3\n"
     ]
    }
   ],
   "source": [
    "import pandas as pd\n",
    "\n",
    "def add_weekday_column(df):\n",
    "    # Convert the 'Date' column to a datetime format\n",
    "    df['Date'] = pd.to_datetime(df['Date'])\n",
    "    # Create a new column 'Weekday' using the weekday_name attribute\n",
    "    df['Weekday'] = df['Date'].dt.weekday\n",
    "    return df\n",
    "\n",
    "# Create a sample DataFrame\n",
    "df = pd.DataFrame({'Date': ['2023-01-01', '2023-01-02', '2023-01-03', '2023-01-04', '2023-01-05']})\n",
    "\n",
    "# Add the 'Weekday' column using the add_weekday_column function\n",
    "df = add_weekday_column(df)\n",
    "\n",
    "# Print the modified DataFrame\n",
    "print(df)\n"
   ]
  },
  {
   "cell_type": "code",
   "execution_count": 65,
   "id": "17426a36-80ab-42bf-ac69-f5c15c076a1c",
   "metadata": {},
   "outputs": [
    {
     "data": {
      "text/html": [
       "<div>\n",
       "<style scoped>\n",
       "    .dataframe tbody tr th:only-of-type {\n",
       "        vertical-align: middle;\n",
       "    }\n",
       "\n",
       "    .dataframe tbody tr th {\n",
       "        vertical-align: top;\n",
       "    }\n",
       "\n",
       "    .dataframe thead th {\n",
       "        text-align: right;\n",
       "    }\n",
       "</style>\n",
       "<table border=\"1\" class=\"dataframe\">\n",
       "  <thead>\n",
       "    <tr style=\"text-align: right;\">\n",
       "      <th></th>\n",
       "      <th>Date</th>\n",
       "      <th>Weekday</th>\n",
       "    </tr>\n",
       "  </thead>\n",
       "  <tbody>\n",
       "    <tr>\n",
       "      <th>0</th>\n",
       "      <td>2023-01-01</td>\n",
       "      <td>6</td>\n",
       "    </tr>\n",
       "    <tr>\n",
       "      <th>1</th>\n",
       "      <td>2023-01-02</td>\n",
       "      <td>0</td>\n",
       "    </tr>\n",
       "    <tr>\n",
       "      <th>2</th>\n",
       "      <td>2023-01-03</td>\n",
       "      <td>1</td>\n",
       "    </tr>\n",
       "    <tr>\n",
       "      <th>3</th>\n",
       "      <td>2023-01-04</td>\n",
       "      <td>2</td>\n",
       "    </tr>\n",
       "    <tr>\n",
       "      <th>4</th>\n",
       "      <td>2023-01-05</td>\n",
       "      <td>3</td>\n",
       "    </tr>\n",
       "  </tbody>\n",
       "</table>\n",
       "</div>"
      ],
      "text/plain": [
       "        Date  Weekday\n",
       "0 2023-01-01        6\n",
       "1 2023-01-02        0\n",
       "2 2023-01-03        1\n",
       "3 2023-01-04        2\n",
       "4 2023-01-05        3"
      ]
     },
     "execution_count": 65,
     "metadata": {},
     "output_type": "execute_result"
    }
   ],
   "source": [
    "df"
   ]
  },
  {
   "cell_type": "markdown",
   "id": "113d4b3d-b779-4a3f-b80c-b550ccb3d673",
   "metadata": {},
   "source": [
    "#### Q12. Given a Pandas DataFrame df with a column 'Date' that contains timestamps, write a Python function to select all rows where the date is between '2023-01-01' and '2023-01-31'."
   ]
  },
  {
   "cell_type": "code",
   "execution_count": null,
   "id": "6953cc43-ad64-40ce-adba-4fbdbeaa300e",
   "metadata": {},
   "outputs": [],
   "source": []
  },
  {
   "cell_type": "code",
   "execution_count": 63,
   "id": "dd3f3209-283b-48d2-8ce9-293f75b4ccd8",
   "metadata": {},
   "outputs": [],
   "source": [
    "import pandas as pd\n",
    "\n",
    "def select_rows_between_dates(df):\n",
    "    start_date = '2023-01-01'\n",
    "    end_date = '2023-01-31'\n",
    "    mask = (df['Date'] >= start_date) & (df['Date'] <= end_date)\n",
    "    selected_rows = df.loc[mask]\n",
    "    return selected_rows\n"
   ]
  },
  {
   "cell_type": "code",
   "execution_count": 71,
   "id": "762c7fd5-7674-4969-95c5-817ecfde9ed1",
   "metadata": {},
   "outputs": [],
   "source": [
    "jan_2023 = pd.date_range(start = '2023-01-01',end ='2023-01-31')"
   ]
  },
  {
   "cell_type": "code",
   "execution_count": 72,
   "id": "fea11537-850a-4435-bc7e-45e0f660b7f0",
   "metadata": {},
   "outputs": [
    {
     "data": {
      "text/plain": [
       "DatetimeIndex(['2023-01-01', '2023-01-02', '2023-01-03', '2023-01-04',\n",
       "               '2023-01-05', '2023-01-06', '2023-01-07', '2023-01-08',\n",
       "               '2023-01-09', '2023-01-10', '2023-01-11', '2023-01-12',\n",
       "               '2023-01-13', '2023-01-14', '2023-01-15', '2023-01-16',\n",
       "               '2023-01-17', '2023-01-18', '2023-01-19', '2023-01-20',\n",
       "               '2023-01-21', '2023-01-22', '2023-01-23', '2023-01-24',\n",
       "               '2023-01-25', '2023-01-26', '2023-01-27', '2023-01-28',\n",
       "               '2023-01-29', '2023-01-30', '2023-01-31'],\n",
       "              dtype='datetime64[ns]', freq='D')"
      ]
     },
     "execution_count": 72,
     "metadata": {},
     "output_type": "execute_result"
    }
   ],
   "source": [
    "jan_2023"
   ]
  },
  {
   "cell_type": "markdown",
   "id": "ee7ce982-f26f-41d4-9b73-95fbd3f8d2d1",
   "metadata": {},
   "source": [
    "#### Q13. To use the basic functions of pandas, what is the first and foremost necessary library that needs to be imported?"
   ]
  },
  {
   "cell_type": "code",
   "execution_count": null,
   "id": "498f049b-0a1b-4b85-953d-9682f1b9b5c8",
   "metadata": {},
   "outputs": [],
   "source": []
  }
 ],
 "metadata": {
  "kernelspec": {
   "display_name": "Python 3 (ipykernel)",
   "language": "python",
   "name": "python3"
  },
  "language_info": {
   "codemirror_mode": {
    "name": "ipython",
    "version": 3
   },
   "file_extension": ".py",
   "mimetype": "text/x-python",
   "name": "python",
   "nbconvert_exporter": "python",
   "pygments_lexer": "ipython3",
   "version": "3.10.8"
  }
 },
 "nbformat": 4,
 "nbformat_minor": 5
}
